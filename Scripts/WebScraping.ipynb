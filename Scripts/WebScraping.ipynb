{
 "cells": [
  {
   "cell_type": "markdown",
   "metadata": {},
   "source": [
    "# Tripadvisor Hotel"
   ]
  },
  {
   "cell_type": "markdown",
   "metadata": {},
   "source": [
    "## Prerequisites"
   ]
  },
  {
   "cell_type": "code",
   "execution_count": null,
   "metadata": {},
   "outputs": [],
   "source": [
    "#%pip install helium\n",
    "#%pip install bs4\n",
    "#%pip install pandas\n",
    "#%pip install requests"
   ]
  },
  {
   "cell_type": "markdown",
   "metadata": {},
   "source": [
    "## Web scraping"
   ]
  },
  {
   "cell_type": "markdown",
   "metadata": {},
   "source": [
    "### Import"
   ]
  },
  {
   "cell_type": "code",
   "execution_count": null,
   "metadata": {},
   "outputs": [],
   "source": [
    "from multiprocessing import Pool\n",
    "from time import sleep\n",
    "from helium import *\n",
    "from bs4 import BeautifulSoup\n",
    "import pandas as pd\n",
    "import multiprocessing as mp\n",
    "import requests\n",
    "import shutil\n",
    "import os\n",
    "import csv"
   ]
  },
  {
   "cell_type": "markdown",
   "metadata": {},
   "source": [
    "### Constants"
   ]
  },
  {
   "cell_type": "code",
   "execution_count": null,
   "metadata": {},
   "outputs": [],
   "source": [
    "COLUMNS_NAME = ['HOTEL_NAME', 'HOTEL_RATING', 'HOTEL_PRICE', 'HOTEL_LOCATION', 'HOTEL_REVIEW_LINK', 'REVIEW_RATING', 'REVIEW_DATE', 'REVIEW_TEXT']\n",
    "ROOT_URL = 'https://www.tripadvisor.com/'\n",
    "MAX_HOTEL_PAGES = 1\n",
    "MAX_REVIEW_PAGES = 200"
   ]
  },
  {
   "cell_type": "code",
   "execution_count": null,
   "metadata": {},
   "outputs": [],
   "source": [
    "try:\n",
    "    writer = csv.DictWriter(open('tripadvisor_hotels_data.csv', 'w', encoding='UTF8'), fieldnames=COLUMNS_NAME)\n",
    "    writer.writeheader()\n",
    "except IOError:\n",
    "    print(\"I/O error\")"
   ]
  },
  {
   "cell_type": "markdown",
   "metadata": {},
   "source": [
    "### Methods"
   ]
  },
  {
   "cell_type": "code",
   "execution_count": null,
   "metadata": {},
   "outputs": [],
   "source": [
    "def get_reviews_info(reviews, row, page):\n",
    "    # Expand the review\n",
    "    scroll_down(4500)\n",
    "    wait_until(S(\"//span[text()='Read more']\").exists)\n",
    "    sleep(7)\n",
    "    \n",
    "    try:\n",
    "        click('Read more')\n",
    "        for x in range(len(reviews)):\n",
    "            review = reviews[x]\n",
    "            # REVIEW_RATING\n",
    "            row[COLUMNS_NAME[5]] = review.find('div', class_='Hlmiy F1').find_all('span')[0].get('class')[1]\n",
    "            # REVIEW_DATE\n",
    "            row[COLUMNS_NAME[6]] = review.find('span', class_='teHYY _R Me S4 H3').text\n",
    "            # REVIEW_TEXT\n",
    "            row[COLUMNS_NAME[7]] = review.find('div', class_='fIrGe _T').text\n",
    "            try:\n",
    "                print('Hotel: ' + row[COLUMNS_NAME[0]] + ' - ' + 'Review: ' + str(x+1) + ' - Page: ' + str(page))\n",
    "                writer.writerow(row)\n",
    "            except IOError:\n",
    "                print(\"I/O error\")\n",
    "    except:\n",
    "        print('ERROR: ' + 'Hotel: ' + row[COLUMNS_NAME[0]] + ' - ' + 'Review: ' + str(x+1) + ' - Page: ' + str(page+1))\n"
   ]
  },
  {
   "cell_type": "code",
   "execution_count": null,
   "metadata": {},
   "outputs": [],
   "source": [
    "def get_hotels_info(hotels, max_review_pages):\n",
    "    for x in range(len(hotels)):\n",
    "        hotel = hotels[x]\n",
    "        row = {}\n",
    "\n",
    "        # HOTEL_NAME\n",
    "        row[COLUMNS_NAME[0]] = hotel.find('a', class_='property_title prominent').text\n",
    "        # HOTEL_RATING\n",
    "        row[COLUMNS_NAME[1]] = hotel.find('div', class_='prw_rup prw_common_rating_and_review_count_with_popup linespace is-shown-at-mobile').find_all('a')[0].get('alt')\n",
    "        # HOTEL_PRICE\n",
    "        row[COLUMNS_NAME[2]] = hotel.find('div', class_='price __resizeWatch').text\n",
    "        # HOTEL_REVIEW_LINK\n",
    "        row[COLUMNS_NAME[4]] = ROOT_URL + hotel.find('a', class_='review_count').get('href')\n",
    "        \n",
    "        # Goes to the hotel's reviews\n",
    "        browser = start_firefox(url=row[COLUMNS_NAME[4]], headless=True)\n",
    "        wait_until(S(\"//div[@class='jvqAy']\").exists)\n",
    "        sleep(10)\n",
    "        reviews_soup = BeautifulSoup(browser.page_source, 'html.parser')\n",
    "\n",
    "        # HOTEL_LOCATION\n",
    "        row[COLUMNS_NAME[3]] = reviews_soup.find('span', class_='fHvkI PTrfg').text\n",
    "        \n",
    "        for y in range(max_review_pages):\n",
    "            reviews_soup = BeautifulSoup(browser.page_source, 'html.parser')\n",
    "            get_reviews_info(reviews_soup.find_all('div', class_='YibKl MC R2 Gi z Z BB pBbQr'), row, y)\n",
    "            # Goes to the next reviews page\n",
    "            go_to(ROOT_URL + reviews_soup.find('a', class_='ui_button nav next primary').get('href'))\n",
    "            \n",
    "        kill_browser()\n",
    "        "
   ]
  },
  {
   "cell_type": "code",
   "execution_count": null,
   "metadata": {},
   "outputs": [],
   "source": [
    "def get_data(threadNumber, URL, max_hotel_pages):\n",
    "    errors = 0\n",
    "    browser = start_firefox(url=URL, headless=True)\n",
    "    # Press \"See all\" button to show the navigation menu\n",
    "    wait_until(S(\"//span[text()='Check In']\").exists)\n",
    "    sleep(3)\n",
    "    press(END)\n",
    "    scroll_up(600)\n",
    "    wait_until(Button('See all').exists)\n",
    "    sleep(2)\n",
    "    click('See all')\n",
    "    sleep(15)\n",
    "\n",
    "    for x in range(max_hotel_pages):\n",
    "        soup = BeautifulSoup(browser.page_source, 'html.parser')\n",
    "        get_hotels_info(soup.find_all('div', class_='ui_column is-8 main_col allowEllipsis'), MAX_REVIEW_PAGES)\n",
    "        set_driver(browser)\n",
    "        press(END)\n",
    "        click('Next')\n",
    "        wait_until(S(\"//span[text()='Check In']\").exists)\n",
    "        sleep(3)\n",
    "        \n",
    "    kill_browser()"
   ]
  },
  {
   "cell_type": "markdown",
   "metadata": {},
   "source": [
    "### Getting the data"
   ]
  },
  {
   "cell_type": "code",
   "execution_count": null,
   "metadata": {},
   "outputs": [],
   "source": [
    "get_data(4, 'https://www.tripadvisor.com/Hotels-g4-Europe-Hotels.html', MAX_HOTEL_PAGES)"
   ]
  }
 ],
 "metadata": {
  "kernelspec": {
   "display_name": "Python 3.10.7 64-bit",
   "language": "python",
   "name": "python3"
  },
  "language_info": {
   "codemirror_mode": {
    "name": "ipython",
    "version": 3
   },
   "file_extension": ".py",
   "mimetype": "text/x-python",
   "name": "python",
   "nbconvert_exporter": "python",
   "pygments_lexer": "ipython3",
   "version": "3.10.7"
  },
  "orig_nbformat": 4,
  "vscode": {
   "interpreter": {
    "hash": "d61fbcc3117b0ac5d1a9b011a6e6e6d6b00ccf7a03e181c5c6debb2edc6bab6a"
   }
  }
 },
 "nbformat": 4,
 "nbformat_minor": 2
}
