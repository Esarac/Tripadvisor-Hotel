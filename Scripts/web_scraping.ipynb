{
 "cells": [
  {
   "cell_type": "markdown",
   "metadata": {},
   "source": [
    "# Tripadvisor Hotel"
   ]
  },
  {
   "cell_type": "markdown",
   "metadata": {},
   "source": [
    "## Prerequisites"
   ]
  },
  {
   "cell_type": "markdown",
   "metadata": {},
   "source": [
    "Firefox browser needs to be installed!"
   ]
  },
  {
   "cell_type": "code",
   "execution_count": 43,
   "metadata": {},
   "outputs": [],
   "source": [
    "# %pip install helium\n",
    "# %pip install bs4\n",
    "# %pip install pandas\n",
    "# %pip install requests"
   ]
  },
  {
   "cell_type": "markdown",
   "metadata": {},
   "source": [
    "## Web scraping"
   ]
  },
  {
   "cell_type": "markdown",
   "metadata": {},
   "source": [
    "### Import"
   ]
  },
  {
   "cell_type": "code",
   "execution_count": 44,
   "metadata": {},
   "outputs": [],
   "source": [
    "from helium import *\n",
    "from bs4 import BeautifulSoup\n",
    "import pandas as pd\n",
    "from time import sleep\n",
    "from selenium import webdriver\n",
    "from selenium.webdriver.common.keys import Keys\n",
    "from selenium.webdriver.common.desired_capabilities import DesiredCapabilities\n",
    "from selenium.webdriver.firefox.options import Options as FirefoxOptions\n",
    "import csv"
   ]
  },
  {
   "cell_type": "markdown",
   "metadata": {},
   "source": [
    "### Constants"
   ]
  },
  {
   "cell_type": "code",
   "execution_count": 45,
   "metadata": {},
   "outputs": [],
   "source": [
    "COLUMNS_NAME = ['HOTEL_NAME', 'HOTEL_RATING', 'HOTEL_PRICE', 'HOTEL_LOCATION', 'HOTEL_REVIEW_URL', 'REVIEW_RATING', 'REVIEW_DATE', 'REVIEW_HELPFUL_VOTES', 'REVIEW_TEXT'] # The columns header of the output CSV files.\n",
    "ROOT_URL = 'https://www.tripadvisor.com/'\n",
    "\n",
    "INPUT_FOLDER_PATH = '../data/web_scraping/inputs/'\n",
    "BYLIST_HOTELS_INPUT_FILE_NAME = 'tripadvisor_hotels.csv'\n",
    "\n",
    "OUTPUT_FOLDER_PATH = '../data/web_scraping/outputs/'\n",
    "# OUTPUT_FILE_NAME = 'tripadvisor_best_hotels_data.csv' #Best hotels data output file\n",
    "# OUTPUT_FILE_NAME = 'tripadvisor_worst_hotels_data.csv' #Worst hotels data output file\n",
    "OUTPUT_FILE_NAME = 'tripadvisor_hotels_by_list.csv' #Hotels by list data output file\n",
    "\n",
    "MAX_HOTEL_PAGES = 1 # The maximum number of hotel pages that the script will scrapes. (used in get_hotels_data_by_location() method)\n",
    "MAX_REVIEW_PAGES = 2 # The maximum  number of review pages that the script will scrapes for each hotel. (used in get_hotels_data_by_location(), get_hotels_data_by_search(), and get_hotels_by_list())\n",
    "URL_COLUMN_NAME = 'Tripadvisor' # The name of the column containing the URL of the hotels in the CSV input file. (used in get_hotels_by_list() method)"
   ]
  },
  {
   "cell_type": "markdown",
   "metadata": {},
   "source": [
    "### CSV Output files"
   ]
  },
  {
   "cell_type": "code",
   "execution_count": 46,
   "metadata": {},
   "outputs": [],
   "source": [
    "try:\n",
    "    writer = csv.DictWriter(open(OUTPUT_FOLDER_PATH+OUTPUT_FILE_NAME, 'w', encoding='UTF8', newline=''), fieldnames=COLUMNS_NAME, delimiter=',', lineterminator='\\r')\n",
    "    writer.writeheader()\n",
    "except IOError:\n",
    "    print(\"I/O error\")"
   ]
  },
  {
   "cell_type": "markdown",
   "metadata": {},
   "source": [
    "### Methods"
   ]
  },
  {
   "cell_type": "code",
   "execution_count": 47,
   "metadata": {},
   "outputs": [],
   "source": [
    "# aux method\n",
    "def start_browser(URL=None):\n",
    "    # Setting browser settings\n",
    "    Config.implicit_wait_secs = 30\n",
    "    options = webdriver.FirefoxOptions()\n",
    "    options.preferences[\"permissions.default.geo\"] = 1\n",
    "    if(URL != None):\n",
    "        return start_firefox(url=URL, options=options, headless=True)\n",
    "    else:\n",
    "        return start_firefox(options=options, headless=True)"
   ]
  },
  {
   "cell_type": "code",
   "execution_count": 48,
   "metadata": {},
   "outputs": [],
   "source": [
    "# aux method\n",
    "def get_reviews_info(reviews, row, page):\n",
    "    scroll_down(4500)\n",
    "    wait_until(S(\"//span[text()='Read more']\").exists, 60)\n",
    "    \n",
    "    try:\n",
    "        # Expand the review\n",
    "        click('Read more')\n",
    "        # Get review's info\n",
    "        for x in range(len(reviews)):\n",
    "            review = reviews[x]\n",
    "            # REVIEW_RATING\n",
    "            row[COLUMNS_NAME[5]] = review.find('div', class_='Hlmiy F1').find_all('span')[0].get('class')[1]\n",
    "            # REVIEW_DATE\n",
    "            row[COLUMNS_NAME[6]] = review.find('span', class_='teHYY _R Me S4 H3').text\n",
    "            # REVIEW_HELPFUL_VOTES\n",
    "            if(review.find('span', class_='hVSKz S2 H2 Ch sJlxi') != None):\n",
    "                row[COLUMNS_NAME[7]] = review.find('span', class_='hVSKz S2 H2 Ch sJlxi').text\n",
    "            # REVIEW_TEXT\n",
    "            row[COLUMNS_NAME[8]] = review.find('div', class_='fIrGe _T').text\n",
    "            try:\n",
    "                print('Hotel: ' + row[COLUMNS_NAME[0]] + ' - ' + 'Review: ' + str(x+1) + ' - Page: ' + str(page+1))\n",
    "                writer.writerow(row)\n",
    "            except IOError:\n",
    "                print(\"I/O error\")\n",
    "    except:\n",
    "        print('Error review info')\n"
   ]
  },
  {
   "cell_type": "code",
   "execution_count": 49,
   "metadata": {},
   "outputs": [],
   "source": [
    "# aux method\n",
    "def get_hotels_info(hotels, max_review_pages):\n",
    "    for x in range(len(hotels)):\n",
    "        hotel = hotels[x]\n",
    "        row = {}\n",
    "\n",
    "        # HOTEL_NAME\n",
    "        row[COLUMNS_NAME[0]] = hotel.find('a', class_='property_title prominent').text\n",
    "        # HOTEL_RATING\n",
    "        row[COLUMNS_NAME[1]] = hotel.find('div', class_='prw_rup prw_common_rating_and_review_count_with_popup linespace is-shown-at-mobile').find_all('a')[0].get('alt')\n",
    "        # HOTEL_PRICE\n",
    "        row[COLUMNS_NAME[2]] = hotel.find('div', class_='price __resizeWatch').text\n",
    "        # HOTEL_REVIEW_LINK\n",
    "        row[COLUMNS_NAME[4]] = ROOT_URL + hotel.find('a', class_='review_count').get('href')\n",
    "        \n",
    "        # Goes to the hotel's reviews\n",
    "        browser = start_firefox(url=row[COLUMNS_NAME[4]], headless=True)\n",
    "        wait_until(S(\"//div[@class='jvqAy']\").exists, 30)\n",
    "        sleep(10)\n",
    "        reviews_soup = BeautifulSoup(browser.page_source, 'html.parser')\n",
    "\n",
    "        # HOTEL_LOCATION\n",
    "        row[COLUMNS_NAME[3]] = reviews_soup.find('span', class_='fHvkI PTrfg').text\n",
    "        \n",
    "        for y in range(max_review_pages):\n",
    "            reviews_soup = BeautifulSoup(browser.page_source, 'html.parser')\n",
    "            get_reviews_info(reviews_soup.find_all('div', class_='YibKl MC R2 Gi z Z BB pBbQr'), row, y)\n",
    "            # Goes to the next reviews page\n",
    "            try:\n",
    "                go_to(ROOT_URL + reviews_soup.find('a', class_='ui_button nav next primary').get('href'))\n",
    "                reviews_soup = BeautifulSoup(browser.page_source, 'html.parser')\n",
    "            except:\n",
    "                print('Max review page')\n",
    "                break \n",
    "        kill_browser()\n",
    "        "
   ]
  },
  {
   "cell_type": "code",
   "execution_count": 50,
   "metadata": {},
   "outputs": [],
   "source": [
    "#\n",
    "def get_hotels_data_by_location(URL, max_hotel_pages):\n",
    "    # Start the browser\n",
    "    browser = start_browser(URL)\n",
    "    # Press \"See all\" button to show the navigation menu\n",
    "    wait_until(S(\"//span[text()='Check In']\").exists, 60)\n",
    "    wait_until(lambda: len(browser.page_source) > 0, 60)\n",
    "    sleep(3)\n",
    "    press(END)\n",
    "    scroll_up(600)\n",
    "    wait_until(Button('See all').exists, 60)\n",
    "    sleep(2)\n",
    "    click('See all')\n",
    "    sleep(15)\n",
    "\n",
    "    for x in range(max_hotel_pages):\n",
    "        soup = BeautifulSoup(browser.page_source, 'html.parser')\n",
    "        get_hotels_info(soup.find_all('div', class_='ui_column is-8 main_col allowEllipsis'), MAX_REVIEW_PAGES)\n",
    "        set_driver(browser)\n",
    "        press(END)\n",
    "        click('Next')\n",
    "        wait_until(S(\"//span[text()='Check In']\").exists, 60)\n",
    "        sleep(3)\n",
    "    kill_browser()"
   ]
  },
  {
   "cell_type": "code",
   "execution_count": 51,
   "metadata": {},
   "outputs": [],
   "source": [
    "#\n",
    "def get_hotels_data_by_search(URL):\n",
    "    # Start the browser\n",
    "    browser = start_browser(URL)\n",
    "    wait_until(S(\"//span[@class='title-match']\").exists, 60)\n",
    "    # Get html source code of the website\n",
    "    soup = BeautifulSoup(browser.page_source, 'html.parser')\n",
    "    hotels = soup.find_all('div', class_='ui_columns is-mobile result-content-columns')\n",
    "    \n",
    "    for x in range(len(hotels)):\n",
    "        hotel = hotels[x]\n",
    "        row = {}\n",
    "\n",
    "        # HOTEL_RATING\n",
    "        row[COLUMNS_NAME[1]] = hotel.find('div', class_='prw_rup prw_common_responsive_rating_and_review_count').find('span').get('alt')\n",
    "        # HOTEL_REVIEW_LINK\n",
    "        row[COLUMNS_NAME[4]] = ROOT_URL + hotel.find('a', class_='review_count').get('href')\n",
    "\n",
    "        # Goes to the hotel's reviews\n",
    "        go_to(url=row[COLUMNS_NAME[4]])\n",
    "        wait_until(lambda: S(\"//div[@class='WXMFC b autoResize']\").exists or S(\"//div[@class='WXMFC b']\").exists or S(\"//div[@class='JPNOn b Wi']\").exists, 60)\n",
    "        wait_until(lambda: len(browser.page_source) > 0, 60)\n",
    "        print(len(browser.page_source))\n",
    "        reviews_soup = BeautifulSoup(browser.page_source, 'html.parser')\n",
    "        \n",
    "        # HOTEL_NAME\n",
    "        row[COLUMNS_NAME[0]] = reviews_soup.find('h1', class_='QdLfr b d Pn').text\n",
    "        # HOTEL_LOCATION\n",
    "        row[COLUMNS_NAME[3]] = reviews_soup.find('span', class_='fHvkI PTrfg').text\n",
    "        # HOTEL_PRICE\n",
    "        if(reviews_soup.find('div', class_='WXMFC b') != None):\n",
    "            row[COLUMNS_NAME[2]] = reviews_soup.find('div', class_='WXMFC b').text\n",
    "        elif(reviews_soup.find('div', class_='JPNOn b Wi') != None):\n",
    "            row[COLUMNS_NAME[2]] = reviews_soup.find('div', class_='JPNOn b Wi').text\n",
    "        elif(reviews_soup.find('div', class_='WXMFC b autoResize') != None):\n",
    "            row[COLUMNS_NAME[2]] = reviews_soup.find('div', class_='WXMFC b autoResize').text\n",
    "\n",
    "        for y in range(MAX_REVIEW_PAGES):\n",
    "            reviews_soup = BeautifulSoup(browser.page_source, 'html.parser')\n",
    "            get_reviews_info(reviews_soup.find_all('div', class_='YibKl MC R2 Gi z Z BB pBbQr'), row, y)\n",
    "            # Goes to the next reviews page\n",
    "            try:\n",
    "                go_to(ROOT_URL + reviews_soup.find('a', class_='ui_button nav next primary').get('href'))\n",
    "            except:\n",
    "                print('Max review page')\n",
    "                break\n",
    "    kill_browser()"
   ]
  },
  {
   "cell_type": "code",
   "execution_count": 52,
   "metadata": {},
   "outputs": [],
   "source": [
    "#\n",
    "def get_hotels_by_list(csv_path, column_name, max_review_pages):\n",
    "    hotels_df = pd.read_csv(csv_path)\n",
    "    hotels = hotels_df[column_name].to_list()\n",
    "    browser = start_browser()\n",
    "\n",
    "    for x in range(len(hotels)):\n",
    "        try:\n",
    "            row = {}\n",
    "            go_to(hotels[x])\n",
    "            wait_until(lambda: S(\"//div[@class='WXMFC b autoResize']\").exists or S(\"//div[@class='WXMFC b']\").exists or S(\"//div[@class='JPNOn b Wi']\").exists, 60)\n",
    "            wait_until(lambda: len(browser.page_source) > 0, 60)\n",
    "            reviews_soup = BeautifulSoup(browser.page_source, 'html.parser')\n",
    "\n",
    "            # Check if the hotel is unclaimed\n",
    "            if(reviews_soup.find('div', class_='XAnbq _S ZUJme') == None):\n",
    "                # HOTEL_NAME\n",
    "                row[COLUMNS_NAME[0]] = reviews_soup.find('h1', class_='QdLfr b d Pn').text\n",
    "                # HOTEL_RATING\n",
    "                row[COLUMNS_NAME[1]] = reviews_soup.find('a', class_='BNPpl q wfOFe _T Gi').find('span').get('class')[1]\n",
    "                # HOTEL_PRICE\n",
    "                if(reviews_soup.find('div', class_='WXMFC b') != None):\n",
    "                    row[COLUMNS_NAME[2]] = reviews_soup.find('div', class_='WXMFC b').text\n",
    "                elif(reviews_soup.find('div', class_='JPNOn b Wi') != None):\n",
    "                    row[COLUMNS_NAME[2]] = reviews_soup.find('div', class_='JPNOn b Wi').text\n",
    "                elif(reviews_soup.find('div', class_='WXMFC b autoResize') != None):\n",
    "                    row[COLUMNS_NAME[2]] = reviews_soup.find('div', class_='WXMFC b autoResize').text\n",
    "                # HOTEL_LOCATION\n",
    "                row[COLUMNS_NAME[3]] = reviews_soup.find('span', class_='fHvkI PTrfg').text\n",
    "                # HOTEL_REVIEW_LINK\n",
    "                row[COLUMNS_NAME[4]] = hotels[x]\n",
    "\n",
    "                for y in range(max_review_pages):\n",
    "                    reviews_soup = BeautifulSoup(browser.page_source, 'html.parser')\n",
    "                    get_reviews_info(reviews_soup.find_all('div', class_='YibKl MC R2 Gi z Z BB pBbQr'), row, y)\n",
    "                    # Goes to the next reviews page\n",
    "                    try:\n",
    "                        go_to(ROOT_URL + reviews_soup.find('a', class_='ui_button nav next primary').get('href'))\n",
    "                        wait_until(lambda: len(browser.page_source) > 0, 60)\n",
    "                    except:\n",
    "                        print('Max review page')\n",
    "                        break\n",
    "        except:\n",
    "            print('Hotel info error')\n",
    "    kill_browser()"
   ]
  },
  {
   "cell_type": "markdown",
   "metadata": {},
   "source": [
    "### Getting the data"
   ]
  },
  {
   "cell_type": "code",
   "execution_count": 53,
   "metadata": {},
   "outputs": [
    {
     "ename": "SessionNotCreatedException",
     "evalue": "Message: Unable to find a matching set of capabilities\n",
     "output_type": "error",
     "traceback": [
      "\u001b[1;31m---------------------------------------------------------------------------\u001b[0m",
      "\u001b[1;31mFileNotFoundError\u001b[0m                         Traceback (most recent call last)",
      "File \u001b[1;32m~\\AppData\\Local\\Packages\\PythonSoftwareFoundation.Python.3.10_qbz5n2kfra8p0\\LocalCache\\local-packages\\Python310\\site-packages\\selenium\\webdriver\\common\\service.py:72\u001b[0m, in \u001b[0;36mService.start\u001b[1;34m(self)\u001b[0m\n\u001b[0;32m     71\u001b[0m     cmd\u001b[39m.\u001b[39mextend(\u001b[39mself\u001b[39m\u001b[39m.\u001b[39mcommand_line_args())\n\u001b[1;32m---> 72\u001b[0m     \u001b[39mself\u001b[39m\u001b[39m.\u001b[39mprocess \u001b[39m=\u001b[39m subprocess\u001b[39m.\u001b[39;49mPopen(cmd, env\u001b[39m=\u001b[39;49m\u001b[39mself\u001b[39;49m\u001b[39m.\u001b[39;49menv,\n\u001b[0;32m     73\u001b[0m                                     close_fds\u001b[39m=\u001b[39;49mplatform\u001b[39m.\u001b[39;49msystem() \u001b[39m!=\u001b[39;49m \u001b[39m'\u001b[39;49m\u001b[39mWindows\u001b[39;49m\u001b[39m'\u001b[39;49m,\n\u001b[0;32m     74\u001b[0m                                     stdout\u001b[39m=\u001b[39;49m\u001b[39mself\u001b[39;49m\u001b[39m.\u001b[39;49mlog_file,\n\u001b[0;32m     75\u001b[0m                                     stderr\u001b[39m=\u001b[39;49m\u001b[39mself\u001b[39;49m\u001b[39m.\u001b[39;49mlog_file,\n\u001b[0;32m     76\u001b[0m                                     stdin\u001b[39m=\u001b[39;49mPIPE)\n\u001b[0;32m     77\u001b[0m \u001b[39mexcept\u001b[39;00m \u001b[39mTypeError\u001b[39;00m:\n",
      "File \u001b[1;32mC:\\Program Files\\WindowsApps\\PythonSoftwareFoundation.Python.3.10_3.10.1776.0_x64__qbz5n2kfra8p0\\lib\\subprocess.py:969\u001b[0m, in \u001b[0;36mPopen.__init__\u001b[1;34m(self, args, bufsize, executable, stdin, stdout, stderr, preexec_fn, close_fds, shell, cwd, env, universal_newlines, startupinfo, creationflags, restore_signals, start_new_session, pass_fds, user, group, extra_groups, encoding, errors, text, umask, pipesize)\u001b[0m\n\u001b[0;32m    966\u001b[0m             \u001b[39mself\u001b[39m\u001b[39m.\u001b[39mstderr \u001b[39m=\u001b[39m io\u001b[39m.\u001b[39mTextIOWrapper(\u001b[39mself\u001b[39m\u001b[39m.\u001b[39mstderr,\n\u001b[0;32m    967\u001b[0m                     encoding\u001b[39m=\u001b[39mencoding, errors\u001b[39m=\u001b[39merrors)\n\u001b[1;32m--> 969\u001b[0m     \u001b[39mself\u001b[39;49m\u001b[39m.\u001b[39;49m_execute_child(args, executable, preexec_fn, close_fds,\n\u001b[0;32m    970\u001b[0m                         pass_fds, cwd, env,\n\u001b[0;32m    971\u001b[0m                         startupinfo, creationflags, shell,\n\u001b[0;32m    972\u001b[0m                         p2cread, p2cwrite,\n\u001b[0;32m    973\u001b[0m                         c2pread, c2pwrite,\n\u001b[0;32m    974\u001b[0m                         errread, errwrite,\n\u001b[0;32m    975\u001b[0m                         restore_signals,\n\u001b[0;32m    976\u001b[0m                         gid, gids, uid, umask,\n\u001b[0;32m    977\u001b[0m                         start_new_session)\n\u001b[0;32m    978\u001b[0m \u001b[39mexcept\u001b[39;00m:\n\u001b[0;32m    979\u001b[0m     \u001b[39m# Cleanup if the child failed starting.\u001b[39;00m\n",
      "File \u001b[1;32mC:\\Program Files\\WindowsApps\\PythonSoftwareFoundation.Python.3.10_3.10.1776.0_x64__qbz5n2kfra8p0\\lib\\subprocess.py:1438\u001b[0m, in \u001b[0;36mPopen._execute_child\u001b[1;34m(self, args, executable, preexec_fn, close_fds, pass_fds, cwd, env, startupinfo, creationflags, shell, p2cread, p2cwrite, c2pread, c2pwrite, errread, errwrite, unused_restore_signals, unused_gid, unused_gids, unused_uid, unused_umask, unused_start_new_session)\u001b[0m\n\u001b[0;32m   1437\u001b[0m \u001b[39mtry\u001b[39;00m:\n\u001b[1;32m-> 1438\u001b[0m     hp, ht, pid, tid \u001b[39m=\u001b[39m _winapi\u001b[39m.\u001b[39;49mCreateProcess(executable, args,\n\u001b[0;32m   1439\u001b[0m                              \u001b[39m# no special security\u001b[39;49;00m\n\u001b[0;32m   1440\u001b[0m                              \u001b[39mNone\u001b[39;49;00m, \u001b[39mNone\u001b[39;49;00m,\n\u001b[0;32m   1441\u001b[0m                              \u001b[39mint\u001b[39;49m(\u001b[39mnot\u001b[39;49;00m close_fds),\n\u001b[0;32m   1442\u001b[0m                              creationflags,\n\u001b[0;32m   1443\u001b[0m                              env,\n\u001b[0;32m   1444\u001b[0m                              cwd,\n\u001b[0;32m   1445\u001b[0m                              startupinfo)\n\u001b[0;32m   1446\u001b[0m \u001b[39mfinally\u001b[39;00m:\n\u001b[0;32m   1447\u001b[0m     \u001b[39m# Child is launched. Close the parent's copy of those pipe\u001b[39;00m\n\u001b[0;32m   1448\u001b[0m     \u001b[39m# handles that only the child should have open.  You need\u001b[39;00m\n\u001b[1;32m   (...)\u001b[0m\n\u001b[0;32m   1451\u001b[0m     \u001b[39m# pipe will not close when the child process exits and the\u001b[39;00m\n\u001b[0;32m   1452\u001b[0m     \u001b[39m# ReadFile will hang.\u001b[39;00m\n",
      "\u001b[1;31mFileNotFoundError\u001b[0m: [WinError 2] The system cannot find the file specified",
      "\nDuring handling of the above exception, another exception occurred:\n",
      "\u001b[1;31mWebDriverException\u001b[0m                        Traceback (most recent call last)",
      "File \u001b[1;32m~\\AppData\\Local\\Packages\\PythonSoftwareFoundation.Python.3.10_qbz5n2kfra8p0\\LocalCache\\local-packages\\Python310\\site-packages\\helium\\_impl\\__init__.py:89\u001b[0m, in \u001b[0;36mAPIImpl._start_firefox_driver\u001b[1;34m(self, headless, options)\u001b[0m\n\u001b[0;32m     88\u001b[0m \u001b[39mtry\u001b[39;00m:\n\u001b[1;32m---> 89\u001b[0m \tresult \u001b[39m=\u001b[39m Firefox(\u001b[39m*\u001b[39m\u001b[39m*\u001b[39mkwargs)\n\u001b[0;32m     90\u001b[0m \u001b[39mexcept\u001b[39;00m WebDriverException:\n\u001b[0;32m     91\u001b[0m \t\u001b[39m# This usually happens when geckodriver is not on the PATH.\u001b[39;00m\n",
      "File \u001b[1;32m~\\AppData\\Local\\Packages\\PythonSoftwareFoundation.Python.3.10_qbz5n2kfra8p0\\LocalCache\\local-packages\\Python310\\site-packages\\selenium\\webdriver\\firefox\\webdriver.py:164\u001b[0m, in \u001b[0;36mWebDriver.__init__\u001b[1;34m(self, firefox_profile, firefox_binary, timeout, capabilities, proxy, executable_path, options, service_log_path, firefox_options, service_args, desired_capabilities, log_path, keep_alive)\u001b[0m\n\u001b[0;32m    160\u001b[0m \u001b[39mself\u001b[39m\u001b[39m.\u001b[39mservice \u001b[39m=\u001b[39m Service(\n\u001b[0;32m    161\u001b[0m     executable_path,\n\u001b[0;32m    162\u001b[0m     service_args\u001b[39m=\u001b[39mservice_args,\n\u001b[0;32m    163\u001b[0m     log_path\u001b[39m=\u001b[39mservice_log_path)\n\u001b[1;32m--> 164\u001b[0m \u001b[39mself\u001b[39;49m\u001b[39m.\u001b[39;49mservice\u001b[39m.\u001b[39;49mstart()\n\u001b[0;32m    166\u001b[0m capabilities\u001b[39m.\u001b[39mupdate(options\u001b[39m.\u001b[39mto_capabilities())\n",
      "File \u001b[1;32m~\\AppData\\Local\\Packages\\PythonSoftwareFoundation.Python.3.10_qbz5n2kfra8p0\\LocalCache\\local-packages\\Python310\\site-packages\\selenium\\webdriver\\common\\service.py:81\u001b[0m, in \u001b[0;36mService.start\u001b[1;34m(self)\u001b[0m\n\u001b[0;32m     80\u001b[0m \u001b[39mif\u001b[39;00m err\u001b[39m.\u001b[39merrno \u001b[39m==\u001b[39m errno\u001b[39m.\u001b[39mENOENT:\n\u001b[1;32m---> 81\u001b[0m     \u001b[39mraise\u001b[39;00m WebDriverException(\n\u001b[0;32m     82\u001b[0m         \u001b[39m\"\u001b[39m\u001b[39m'\u001b[39m\u001b[39m%s\u001b[39;00m\u001b[39m'\u001b[39m\u001b[39m executable needs to be in PATH. \u001b[39m\u001b[39m%s\u001b[39;00m\u001b[39m\"\u001b[39m \u001b[39m%\u001b[39m (\n\u001b[0;32m     83\u001b[0m             os\u001b[39m.\u001b[39mpath\u001b[39m.\u001b[39mbasename(\u001b[39mself\u001b[39m\u001b[39m.\u001b[39mpath), \u001b[39mself\u001b[39m\u001b[39m.\u001b[39mstart_error_message)\n\u001b[0;32m     84\u001b[0m     )\n\u001b[0;32m     85\u001b[0m \u001b[39melif\u001b[39;00m err\u001b[39m.\u001b[39merrno \u001b[39m==\u001b[39m errno\u001b[39m.\u001b[39mEACCES:\n",
      "\u001b[1;31mWebDriverException\u001b[0m: Message: 'geckodriver' executable needs to be in PATH. \n",
      "\nDuring handling of the above exception, another exception occurred:\n",
      "\u001b[1;31mSessionNotCreatedException\u001b[0m                Traceback (most recent call last)",
      "Cell \u001b[1;32mIn [53], line 3\u001b[0m\n\u001b[0;32m      1\u001b[0m \u001b[38;5;66;03m#get_hotels_data_by_location('https://www.tripadvisor.com/Hotels-g4-Europe-Hotels.html', MAX_HOTEL_PAGES)\u001b[39;00m\n\u001b[0;32m      2\u001b[0m \u001b[38;5;66;03m#get_hotels_data_by_search('https://www.tripadvisor.com/Search?q=worst%20hotel&searchSessionId=CFC88E23E91B7FA8D0D751E5DEE9F5D31663450804735ssid&sid=9D518B65B4454EF1A82B6656FCF7E39F1663452594116&blockRedirect=true&ssrc=h&isSingleSearch=true&geo=1&rf=3')\u001b[39;00m\n\u001b[1;32m----> 3\u001b[0m get_hotels_by_list(INPUT_FOLDER_PATH\u001b[38;5;241m+\u001b[39mBYLIST_HOTELS_INPUT_FILE_NAME, URL_COLUMN_NAME, MAX_REVIEW_PAGES)\n",
      "Cell \u001b[1;32mIn [52], line 5\u001b[0m, in \u001b[0;36mget_hotels_by_list\u001b[1;34m(csv_path, column_name, max_review_pages)\u001b[0m\n\u001b[0;32m      3\u001b[0m hotels_df \u001b[38;5;241m=\u001b[39m pd\u001b[38;5;241m.\u001b[39mread_csv(csv_path)\n\u001b[0;32m      4\u001b[0m hotels \u001b[38;5;241m=\u001b[39m hotels_df[column_name]\u001b[38;5;241m.\u001b[39mto_list()\n\u001b[1;32m----> 5\u001b[0m browser \u001b[38;5;241m=\u001b[39m \u001b[43mstart_browser\u001b[49m\u001b[43m(\u001b[49m\u001b[43m)\u001b[49m\n\u001b[0;32m      7\u001b[0m \u001b[38;5;28;01mfor\u001b[39;00m x \u001b[38;5;129;01min\u001b[39;00m \u001b[38;5;28mrange\u001b[39m(\u001b[38;5;28mlen\u001b[39m(hotels)):\n\u001b[0;32m      8\u001b[0m     \u001b[38;5;28;01mtry\u001b[39;00m:\n",
      "Cell \u001b[1;32mIn [47], line 10\u001b[0m, in \u001b[0;36mstart_browser\u001b[1;34m(URL)\u001b[0m\n\u001b[0;32m      8\u001b[0m     \u001b[38;5;28;01mreturn\u001b[39;00m start_firefox(url\u001b[38;5;241m=\u001b[39mURL, options\u001b[38;5;241m=\u001b[39moptions, headless\u001b[38;5;241m=\u001b[39m\u001b[38;5;28;01mTrue\u001b[39;00m)\n\u001b[0;32m      9\u001b[0m \u001b[38;5;28;01melse\u001b[39;00m:\n\u001b[1;32m---> 10\u001b[0m     \u001b[38;5;28;01mreturn\u001b[39;00m \u001b[43mstart_firefox\u001b[49m\u001b[43m(\u001b[49m\u001b[43moptions\u001b[49m\u001b[38;5;241;43m=\u001b[39;49m\u001b[43moptions\u001b[49m\u001b[43m,\u001b[49m\u001b[43m \u001b[49m\u001b[43mheadless\u001b[49m\u001b[38;5;241;43m=\u001b[39;49m\u001b[38;5;28;43;01mTrue\u001b[39;49;00m\u001b[43m)\u001b[49m\n",
      "File \u001b[1;32m~\\AppData\\Local\\Packages\\PythonSoftwareFoundation.Python.3.10_qbz5n2kfra8p0\\LocalCache\\local-packages\\Python310\\site-packages\\helium\\__init__.py:122\u001b[0m, in \u001b[0;36mstart_firefox\u001b[1;34m(url, headless, options)\u001b[0m\n\u001b[0;32m     80\u001b[0m \u001b[39mdef\u001b[39;00m \u001b[39mstart_firefox\u001b[39m(url\u001b[39m=\u001b[39m\u001b[39mNone\u001b[39;00m, headless\u001b[39m=\u001b[39m\u001b[39mFalse\u001b[39;00m, options\u001b[39m=\u001b[39m\u001b[39mNone\u001b[39;00m):\n\u001b[0;32m     81\u001b[0m \t\u001b[39m\"\"\"\u001b[39;00m\n\u001b[0;32m     82\u001b[0m \u001b[39m\t:param url: URL to open.\u001b[39;00m\n\u001b[0;32m     83\u001b[0m \u001b[39m\t:type url: str\u001b[39;00m\n\u001b[1;32m   (...)\u001b[0m\n\u001b[0;32m    120\u001b[0m \u001b[39m\t\tkill_browser()\u001b[39;00m\n\u001b[0;32m    121\u001b[0m \u001b[39m\t\"\"\"\u001b[39;00m\n\u001b[1;32m--> 122\u001b[0m \t\u001b[39mreturn\u001b[39;00m _get_api_impl()\u001b[39m.\u001b[39;49mstart_firefox_impl(url, headless, options)\n",
      "File \u001b[1;32m~\\AppData\\Local\\Packages\\PythonSoftwareFoundation.Python.3.10_qbz5n2kfra8p0\\LocalCache\\local-packages\\Python310\\site-packages\\helium\\_impl\\__init__.py:78\u001b[0m, in \u001b[0;36mAPIImpl.start_firefox_impl\u001b[1;34m(self, url, headless, options)\u001b[0m\n\u001b[0;32m     77\u001b[0m \u001b[39mdef\u001b[39;00m \u001b[39mstart_firefox_impl\u001b[39m(\u001b[39mself\u001b[39m, url\u001b[39m=\u001b[39m\u001b[39mNone\u001b[39;00m, headless\u001b[39m=\u001b[39m\u001b[39mFalse\u001b[39;00m, options\u001b[39m=\u001b[39m\u001b[39mNone\u001b[39;00m):\n\u001b[1;32m---> 78\u001b[0m \tfirefox_driver \u001b[39m=\u001b[39m \u001b[39mself\u001b[39;49m\u001b[39m.\u001b[39;49m_start_firefox_driver(headless, options)\n\u001b[0;32m     79\u001b[0m \t\u001b[39mreturn\u001b[39;00m \u001b[39mself\u001b[39m\u001b[39m.\u001b[39m_start(firefox_driver, url)\n",
      "File \u001b[1;32m~\\AppData\\Local\\Packages\\PythonSoftwareFoundation.Python.3.10_qbz5n2kfra8p0\\LocalCache\\local-packages\\Python310\\site-packages\\helium\\_impl\\__init__.py:93\u001b[0m, in \u001b[0;36mAPIImpl._start_firefox_driver\u001b[1;34m(self, headless, options)\u001b[0m\n\u001b[0;32m     90\u001b[0m \u001b[39mexcept\u001b[39;00m WebDriverException:\n\u001b[0;32m     91\u001b[0m \t\u001b[39m# This usually happens when geckodriver is not on the PATH.\u001b[39;00m\n\u001b[0;32m     92\u001b[0m \tdriver_path \u001b[39m=\u001b[39m \u001b[39mself\u001b[39m\u001b[39m.\u001b[39m_use_included_web_driver(\u001b[39m'\u001b[39m\u001b[39mgeckodriver\u001b[39m\u001b[39m'\u001b[39m)\n\u001b[1;32m---> 93\u001b[0m \tresult \u001b[39m=\u001b[39m Firefox(executable_path\u001b[39m=\u001b[39mdriver_path, \u001b[39m*\u001b[39m\u001b[39m*\u001b[39mkwargs)\n\u001b[0;32m     94\u001b[0m atexit\u001b[39m.\u001b[39mregister(\u001b[39mself\u001b[39m\u001b[39m.\u001b[39m_kill_service, result\u001b[39m.\u001b[39mservice)\n\u001b[0;32m     95\u001b[0m \u001b[39mreturn\u001b[39;00m result\n",
      "File \u001b[1;32m~\\AppData\\Local\\Packages\\PythonSoftwareFoundation.Python.3.10_qbz5n2kfra8p0\\LocalCache\\local-packages\\Python310\\site-packages\\selenium\\webdriver\\firefox\\webdriver.py:170\u001b[0m, in \u001b[0;36mWebDriver.__init__\u001b[1;34m(self, firefox_profile, firefox_binary, timeout, capabilities, proxy, executable_path, options, service_log_path, firefox_options, service_args, desired_capabilities, log_path, keep_alive)\u001b[0m\n\u001b[0;32m    166\u001b[0m     capabilities\u001b[39m.\u001b[39mupdate(options\u001b[39m.\u001b[39mto_capabilities())\n\u001b[0;32m    168\u001b[0m     executor \u001b[39m=\u001b[39m FirefoxRemoteConnection(\n\u001b[0;32m    169\u001b[0m         remote_server_addr\u001b[39m=\u001b[39m\u001b[39mself\u001b[39m\u001b[39m.\u001b[39mservice\u001b[39m.\u001b[39mservice_url)\n\u001b[1;32m--> 170\u001b[0m     RemoteWebDriver\u001b[39m.\u001b[39;49m\u001b[39m__init__\u001b[39;49m(\n\u001b[0;32m    171\u001b[0m         \u001b[39mself\u001b[39;49m,\n\u001b[0;32m    172\u001b[0m         command_executor\u001b[39m=\u001b[39;49mexecutor,\n\u001b[0;32m    173\u001b[0m         desired_capabilities\u001b[39m=\u001b[39;49mcapabilities,\n\u001b[0;32m    174\u001b[0m         keep_alive\u001b[39m=\u001b[39;49m\u001b[39mTrue\u001b[39;49;00m)\n\u001b[0;32m    176\u001b[0m \u001b[39m# Selenium remote\u001b[39;00m\n\u001b[0;32m    177\u001b[0m \u001b[39melse\u001b[39;00m:\n\u001b[0;32m    178\u001b[0m     \u001b[39mif\u001b[39;00m \u001b[39mself\u001b[39m\u001b[39m.\u001b[39mbinary \u001b[39mis\u001b[39;00m \u001b[39mNone\u001b[39;00m:\n",
      "File \u001b[1;32m~\\AppData\\Local\\Packages\\PythonSoftwareFoundation.Python.3.10_qbz5n2kfra8p0\\LocalCache\\local-packages\\Python310\\site-packages\\selenium\\webdriver\\remote\\webdriver.py:157\u001b[0m, in \u001b[0;36mWebDriver.__init__\u001b[1;34m(self, command_executor, desired_capabilities, browser_profile, proxy, keep_alive, file_detector, options)\u001b[0m\n\u001b[0;32m    154\u001b[0m \u001b[39mif\u001b[39;00m browser_profile \u001b[39mis\u001b[39;00m \u001b[39mnot\u001b[39;00m \u001b[39mNone\u001b[39;00m:\n\u001b[0;32m    155\u001b[0m     warnings\u001b[39m.\u001b[39mwarn(\u001b[39m\"\u001b[39m\u001b[39mPlease use FirefoxOptions to set browser profile\u001b[39m\u001b[39m\"\u001b[39m,\n\u001b[0;32m    156\u001b[0m                   \u001b[39mDeprecationWarning\u001b[39;00m, stacklevel\u001b[39m=\u001b[39m\u001b[39m2\u001b[39m)\n\u001b[1;32m--> 157\u001b[0m \u001b[39mself\u001b[39;49m\u001b[39m.\u001b[39;49mstart_session(capabilities, browser_profile)\n\u001b[0;32m    158\u001b[0m \u001b[39mself\u001b[39m\u001b[39m.\u001b[39m_switch_to \u001b[39m=\u001b[39m SwitchTo(\u001b[39mself\u001b[39m)\n\u001b[0;32m    159\u001b[0m \u001b[39mself\u001b[39m\u001b[39m.\u001b[39m_mobile \u001b[39m=\u001b[39m Mobile(\u001b[39mself\u001b[39m)\n",
      "File \u001b[1;32m~\\AppData\\Local\\Packages\\PythonSoftwareFoundation.Python.3.10_qbz5n2kfra8p0\\LocalCache\\local-packages\\Python310\\site-packages\\selenium\\webdriver\\remote\\webdriver.py:252\u001b[0m, in \u001b[0;36mWebDriver.start_session\u001b[1;34m(self, capabilities, browser_profile)\u001b[0m\n\u001b[0;32m    249\u001b[0m w3c_caps \u001b[39m=\u001b[39m _make_w3c_caps(capabilities)\n\u001b[0;32m    250\u001b[0m parameters \u001b[39m=\u001b[39m {\u001b[39m\"\u001b[39m\u001b[39mcapabilities\u001b[39m\u001b[39m\"\u001b[39m: w3c_caps,\n\u001b[0;32m    251\u001b[0m               \u001b[39m\"\u001b[39m\u001b[39mdesiredCapabilities\u001b[39m\u001b[39m\"\u001b[39m: capabilities}\n\u001b[1;32m--> 252\u001b[0m response \u001b[39m=\u001b[39m \u001b[39mself\u001b[39;49m\u001b[39m.\u001b[39;49mexecute(Command\u001b[39m.\u001b[39;49mNEW_SESSION, parameters)\n\u001b[0;32m    253\u001b[0m \u001b[39mif\u001b[39;00m \u001b[39m'\u001b[39m\u001b[39msessionId\u001b[39m\u001b[39m'\u001b[39m \u001b[39mnot\u001b[39;00m \u001b[39min\u001b[39;00m response:\n\u001b[0;32m    254\u001b[0m     response \u001b[39m=\u001b[39m response[\u001b[39m'\u001b[39m\u001b[39mvalue\u001b[39m\u001b[39m'\u001b[39m]\n",
      "File \u001b[1;32m~\\AppData\\Local\\Packages\\PythonSoftwareFoundation.Python.3.10_qbz5n2kfra8p0\\LocalCache\\local-packages\\Python310\\site-packages\\selenium\\webdriver\\remote\\webdriver.py:321\u001b[0m, in \u001b[0;36mWebDriver.execute\u001b[1;34m(self, driver_command, params)\u001b[0m\n\u001b[0;32m    319\u001b[0m response \u001b[39m=\u001b[39m \u001b[39mself\u001b[39m\u001b[39m.\u001b[39mcommand_executor\u001b[39m.\u001b[39mexecute(driver_command, params)\n\u001b[0;32m    320\u001b[0m \u001b[39mif\u001b[39;00m response:\n\u001b[1;32m--> 321\u001b[0m     \u001b[39mself\u001b[39;49m\u001b[39m.\u001b[39;49merror_handler\u001b[39m.\u001b[39;49mcheck_response(response)\n\u001b[0;32m    322\u001b[0m     response[\u001b[39m'\u001b[39m\u001b[39mvalue\u001b[39m\u001b[39m'\u001b[39m] \u001b[39m=\u001b[39m \u001b[39mself\u001b[39m\u001b[39m.\u001b[39m_unwrap_value(\n\u001b[0;32m    323\u001b[0m         response\u001b[39m.\u001b[39mget(\u001b[39m'\u001b[39m\u001b[39mvalue\u001b[39m\u001b[39m'\u001b[39m, \u001b[39mNone\u001b[39;00m))\n\u001b[0;32m    324\u001b[0m     \u001b[39mreturn\u001b[39;00m response\n",
      "File \u001b[1;32m~\\AppData\\Local\\Packages\\PythonSoftwareFoundation.Python.3.10_qbz5n2kfra8p0\\LocalCache\\local-packages\\Python310\\site-packages\\selenium\\webdriver\\remote\\errorhandler.py:242\u001b[0m, in \u001b[0;36mErrorHandler.check_response\u001b[1;34m(self, response)\u001b[0m\n\u001b[0;32m    240\u001b[0m         alert_text \u001b[39m=\u001b[39m value[\u001b[39m'\u001b[39m\u001b[39malert\u001b[39m\u001b[39m'\u001b[39m]\u001b[39m.\u001b[39mget(\u001b[39m'\u001b[39m\u001b[39mtext\u001b[39m\u001b[39m'\u001b[39m)\n\u001b[0;32m    241\u001b[0m     \u001b[39mraise\u001b[39;00m exception_class(message, screen, stacktrace, alert_text)\n\u001b[1;32m--> 242\u001b[0m \u001b[39mraise\u001b[39;00m exception_class(message, screen, stacktrace)\n",
      "\u001b[1;31mSessionNotCreatedException\u001b[0m: Message: Unable to find a matching set of capabilities\n"
     ]
    }
   ],
   "source": [
    "#get_hotels_data_by_location('https://www.tripadvisor.com/Hotels-g4-Europe-Hotels.html', MAX_HOTEL_PAGES)\n",
    "#get_hotels_data_by_search('https://www.tripadvisor.com/Search?q=worst%20hotel&searchSessionId=CFC88E23E91B7FA8D0D751E5DEE9F5D31663450804735ssid&sid=9D518B65B4454EF1A82B6656FCF7E39F1663452594116&blockRedirect=true&ssrc=h&isSingleSearch=true&geo=1&rf=3')\n",
    "get_hotels_by_list(INPUT_FOLDER_PATH+BYLIST_HOTELS_INPUT_FILE_NAME, URL_COLUMN_NAME, MAX_REVIEW_PAGES)"
   ]
  }
 ],
 "metadata": {
  "kernelspec": {
   "display_name": "Python 3.10.6 64-bit (microsoft store)",
   "language": "python",
   "name": "python3"
  },
  "language_info": {
   "codemirror_mode": {
    "name": "ipython",
    "version": 3
   },
   "file_extension": ".py",
   "mimetype": "text/x-python",
   "name": "python",
   "nbconvert_exporter": "python",
   "pygments_lexer": "ipython3",
   "version": "3.10.6"
  },
  "orig_nbformat": 4,
  "vscode": {
   "interpreter": {
    "hash": "70a16c710311c14a1ac47412f8ec8409f002c3179d7436e9742cc0453968c589"
   }
  }
 },
 "nbformat": 4,
 "nbformat_minor": 2
}
