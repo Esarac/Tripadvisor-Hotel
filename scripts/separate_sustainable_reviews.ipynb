{
 "cells": [
  {
   "cell_type": "code",
   "execution_count": 1,
   "metadata": {},
   "outputs": [],
   "source": [
    "import pandas as pd"
   ]
  },
  {
   "cell_type": "code",
   "execution_count": 2,
   "metadata": {},
   "outputs": [
    {
     "data": {
      "text/html": [
       "<div>\n",
       "<style scoped>\n",
       "    .dataframe tbody tr th:only-of-type {\n",
       "        vertical-align: middle;\n",
       "    }\n",
       "\n",
       "    .dataframe tbody tr th {\n",
       "        vertical-align: top;\n",
       "    }\n",
       "\n",
       "    .dataframe thead th {\n",
       "        text-align: right;\n",
       "    }\n",
       "</style>\n",
       "<table border=\"1\" class=\"dataframe\">\n",
       "  <thead>\n",
       "    <tr style=\"text-align: right;\">\n",
       "      <th></th>\n",
       "      <th>HOTEL_NAME</th>\n",
       "      <th>HOTEL_RATING</th>\n",
       "      <th>HOTEL_PRICE</th>\n",
       "      <th>HOTEL_LOCATION</th>\n",
       "      <th>HOTEL_REVIEW_URL</th>\n",
       "      <th>REVIEW_RATING</th>\n",
       "      <th>REVIEW_DATE</th>\n",
       "      <th>REVIEW_HELPFUL_VOTES</th>\n",
       "      <th>REVIEW_TEXT</th>\n",
       "    </tr>\n",
       "  </thead>\n",
       "  <tbody>\n",
       "    <tr>\n",
       "      <th>0</th>\n",
       "      <td>Hotel Restaurant VILLINO</td>\n",
       "      <td>bubble_50</td>\n",
       "      <td>COP 1,137,470</td>\n",
       "      <td>Mittenbuch 6, 88131, Lindau, Bavaria Germany</td>\n",
       "      <td>https://www.tripadvisor.com/Hotel_Review-g1986...</td>\n",
       "      <td>bubble_50</td>\n",
       "      <td>Date of stay: September 2022</td>\n",
       "      <td>NaN</td>\n",
       "      <td>Stayed here 5 nights. Immaculate rooms, beauti...</td>\n",
       "    </tr>\n",
       "    <tr>\n",
       "      <th>1</th>\n",
       "      <td>Hotel Restaurant VILLINO</td>\n",
       "      <td>bubble_50</td>\n",
       "      <td>COP 1,137,470</td>\n",
       "      <td>Mittenbuch 6, 88131, Lindau, Bavaria Germany</td>\n",
       "      <td>https://www.tripadvisor.com/Hotel_Review-g1986...</td>\n",
       "      <td>bubble_50</td>\n",
       "      <td>Date of stay: July 2022</td>\n",
       "      <td>NaN</td>\n",
       "      <td>The stay in this hotel was magnificent. It has...</td>\n",
       "    </tr>\n",
       "    <tr>\n",
       "      <th>2</th>\n",
       "      <td>Hotel Restaurant VILLINO</td>\n",
       "      <td>bubble_50</td>\n",
       "      <td>COP 1,137,470</td>\n",
       "      <td>Mittenbuch 6, 88131, Lindau, Bavaria Germany</td>\n",
       "      <td>https://www.tripadvisor.com/Hotel_Review-g1986...</td>\n",
       "      <td>bubble_50</td>\n",
       "      <td>Date of stay: July 2020</td>\n",
       "      <td>2 Helpful votes</td>\n",
       "      <td>Wow, what a find! We stayed in this beautiful ...</td>\n",
       "    </tr>\n",
       "    <tr>\n",
       "      <th>3</th>\n",
       "      <td>Hotel Restaurant VILLINO</td>\n",
       "      <td>bubble_50</td>\n",
       "      <td>COP 1,137,470</td>\n",
       "      <td>Mittenbuch 6, 88131, Lindau, Bavaria Germany</td>\n",
       "      <td>https://www.tripadvisor.com/Hotel_Review-g1986...</td>\n",
       "      <td>bubble_50</td>\n",
       "      <td>Date of stay: February 2020</td>\n",
       "      <td>2 Helpful votes</td>\n",
       "      <td>we had only 1 night as a weekend break. Arrivi...</td>\n",
       "    </tr>\n",
       "    <tr>\n",
       "      <th>4</th>\n",
       "      <td>Hotel Restaurant VILLINO</td>\n",
       "      <td>bubble_50</td>\n",
       "      <td>COP 1,137,470</td>\n",
       "      <td>Mittenbuch 6, 88131, Lindau, Bavaria Germany</td>\n",
       "      <td>https://www.tripadvisor.com/Hotel_Review-g1986...</td>\n",
       "      <td>bubble_50</td>\n",
       "      <td>Date of stay: December 2019</td>\n",
       "      <td>1 Helpful vote</td>\n",
       "      <td>We stayed in the Hotel Villino for three night...</td>\n",
       "    </tr>\n",
       "  </tbody>\n",
       "</table>\n",
       "</div>"
      ],
      "text/plain": [
       "                 HOTEL_NAME HOTEL_RATING    HOTEL_PRICE  \\\n",
       "0  Hotel Restaurant VILLINO    bubble_50  COP 1,137,470   \n",
       "1  Hotel Restaurant VILLINO    bubble_50  COP 1,137,470   \n",
       "2  Hotel Restaurant VILLINO    bubble_50  COP 1,137,470   \n",
       "3  Hotel Restaurant VILLINO    bubble_50  COP 1,137,470   \n",
       "4  Hotel Restaurant VILLINO    bubble_50  COP 1,137,470   \n",
       "\n",
       "                                 HOTEL_LOCATION  \\\n",
       "0  Mittenbuch 6, 88131, Lindau, Bavaria Germany   \n",
       "1  Mittenbuch 6, 88131, Lindau, Bavaria Germany   \n",
       "2  Mittenbuch 6, 88131, Lindau, Bavaria Germany   \n",
       "3  Mittenbuch 6, 88131, Lindau, Bavaria Germany   \n",
       "4  Mittenbuch 6, 88131, Lindau, Bavaria Germany   \n",
       "\n",
       "                                    HOTEL_REVIEW_URL REVIEW_RATING  \\\n",
       "0  https://www.tripadvisor.com/Hotel_Review-g1986...     bubble_50   \n",
       "1  https://www.tripadvisor.com/Hotel_Review-g1986...     bubble_50   \n",
       "2  https://www.tripadvisor.com/Hotel_Review-g1986...     bubble_50   \n",
       "3  https://www.tripadvisor.com/Hotel_Review-g1986...     bubble_50   \n",
       "4  https://www.tripadvisor.com/Hotel_Review-g1986...     bubble_50   \n",
       "\n",
       "                    REVIEW_DATE REVIEW_HELPFUL_VOTES  \\\n",
       "0  Date of stay: September 2022                  NaN   \n",
       "1       Date of stay: July 2022                  NaN   \n",
       "2       Date of stay: July 2020      2 Helpful votes   \n",
       "3   Date of stay: February 2020      2 Helpful votes   \n",
       "4   Date of stay: December 2019       1 Helpful vote   \n",
       "\n",
       "                                         REVIEW_TEXT  \n",
       "0  Stayed here 5 nights. Immaculate rooms, beauti...  \n",
       "1  The stay in this hotel was magnificent. It has...  \n",
       "2  Wow, what a find! We stayed in this beautiful ...  \n",
       "3  we had only 1 night as a weekend break. Arrivi...  \n",
       "4  We stayed in the Hotel Villino for three night...  "
      ]
     },
     "execution_count": 2,
     "metadata": {},
     "output_type": "execute_result"
    }
   ],
   "source": [
    "df = pd.read_csv(\"../data/tripadvisor_hotels_all_reviews.csv\")\n",
    "df.head()"
   ]
  },
  {
   "cell_type": "code",
   "execution_count": 8,
   "metadata": {},
   "outputs": [
    {
     "data": {
      "text/plain": [
       "['https://www.tripadvisor.com/Hotel_Review-g187331-d194643-Reviews-Fairmont_Hotel_Vier_Jahreszeiten-Hamburg.html',\n",
       " 'https://www.tripadvisor.com/Hotel_Review-g187331-d11809998-Reviews-The_Fontenay_Hamburg-Hamburg.html',\n",
       " 'https://www.tripadvisor.com/Restaurant_Review-g227876-d21271742-Reviews-Oschberghof_Esszimmer-Donaueschingen_Baden_Wurttemberg.html',\n",
       " 'https://www.tripadvisor.com/Hotel_Review-g187373-d1026208-Reviews-Breidenbacher_Hof_Dusseldorf-Dusseldorf_North_Rhine_Westphalia.html',\n",
       " 'https://www.tripadvisor.com/Hotel_Review-g187371-d201491-Reviews-Excelsior_Hotel_Ernst-Cologne_North_Rhine_Westphalia.html',\n",
       " 'https://www.tripadvisor.com/Hotel_Review-g187286-d201302-Reviews-Hotel_Europaischer_Hof_Heidelberg-Heidelberg_Baden_Wurttemberg.html',\n",
       " 'https://www.tripadvisor.com/Hotel_Review-g187278-d191091-Reviews-Brenners_Park_Hotel_Spa-Baden_Baden_Baden_Wurttemberg.html',\n",
       " 'https://www.tripadvisor.com/Hotel_Review-g1587189-d1234387-Reviews-Der_Birkenhof_Spa_Genuss_Resort-Neunburg_vorm_Wald_Upper_Palatinate_Bavaria.html',\n",
       " nan,\n",
       " 'https://www.tripadvisor.com/Hotel_Review-g187147-d23775936-Reviews-Bulgari_Hotel_Paris-Paris_Ile_de_France.html',\n",
       " 'https://www.tripadvisor.com/Hotel_Review-g562723-d320815-Reviews-Domaine_des_Etangs-Massignac_Charente_Nouvelle_Aquitaine.html',\n",
       " 'https://www.tripadvisor.com/Hotel_Review-g187147-d188729-Reviews-Le_Bristol_Paris-Paris_Ile_de_France.html',\n",
       " nan,\n",
       " 'https://www.tripadvisor.com/Hotel_Review-g608933-d17651436-Reviews-Lefay_Resort_SPA_Dolomiti-Pinzolo_Province_of_Trento_Trentino_Alto_Adige.html',\n",
       " nan,\n",
       " 'https://www.tripadvisor.com/Hotel_Review-g2018267-d2354351-Reviews-Hotel_Abadia_Retuerta_LeDomaine-Sardon_de_Duero_Province_of_Valladolid_Castile_and_Le.html',\n",
       " 'https://www.tripadvisor.com/Hotel_Review-g187463-d12865070-Reviews-Summum_Prime_Boutique_Hotel-Palma_de_Mallorca_Majorca_Balearic_Islands.html',\n",
       " 'https://www.tripadvisor.com/Hotel_Review-g2440068-d5608304-Reviews-Arantza_Hotela-Arantza_Navarra.html',\n",
       " nan,\n",
       " 'https://www.tripadvisor.com/Hotel_Review-g3665713-d11885227-Reviews-Culinair_Landgoed_Parc_Broekhuizen-Leersum.html',\n",
       " 'https://www.tripadvisor.com/Hotel_Review-g188590-d189389-Reviews-Sofitel_Legend_The_Grand_Amsterdam-Amsterdam_North_Holland_Province.html',\n",
       " 'https://www.tripadvisor.com/Hotel_Review-g188590-d232492-Reviews-De_L_Europe_Amsterdam-Amsterdam_North_Holland_Province.html',\n",
       " 'https://www.tripadvisor.com/Hotel_Review-g227899-d249143-Reviews-Grand_Hotel_Huis_Ter_Duin-Noordwijk_South_Holland_Province.html',\n",
       " 'https://www.tripadvisor.com/Hotel_Review-g1733768-d12640315-Reviews-Largo_Waterrijk_Oesterdam-Tholen_Zeeland_Province.html',\n",
       " nan,\n",
       " 'https://www.tripadvisor.com/Hotel_Review-g274772-d15518079-Reviews-Balthazar_Design_Hotel-Krakow_Lesser_Poland_Province_Southern_Poland.html',\n",
       " 'https://www.tripadvisor.com/Hotel_Review-g274772-d12393367-Reviews-Hotel_Unicus_Palace-Krakow_Lesser_Poland_Province_Southern_Poland.html',\n",
       " 'https://www.tripadvisor.com/Hotel_Review-g274856-d275056-Reviews-Hotel_Bristol_a_Luxury_Collection_Hotel_Warsaw-Warsaw_Mazovia_Province_Central_Poland.html',\n",
       " 'https://www.tripadvisor.com/Hotel_Review-g274735-d11910536-Reviews-Hotel_Testa-Sopot_Pomerania_Province_Northern_Poland.html',\n",
       " nan,\n",
       " 'https://www.tripadvisor.com/Hotel_Review-g635770-d626771-Reviews-Chateau_Mcely-Mcely_Central_Bohemian_Region_Bohemia.html',\n",
       " nan,\n",
       " 'https://www.tripadvisor.com/Hotel_Review-g190454-d3346123-Reviews-Hotel_Sans_Souci_Wien-Vienna.html',\n",
       " 'https://www.tripadvisor.com/Hotel_Review-g319732-d291520-Reviews-ASTORIA_RESORT-Seefeld_in_Tirol_Tirol_Austrian_Alps.html',\n",
       " nan,\n",
       " 'https://www.tripadvisor.com/Hotel_Review-g294454-d3372267-Reviews-DoubleTree_by_Hilton_Zagreb-Zagreb_Central_Croatia.html',\n",
       " nan,\n",
       " 'https://www.tripadvisor.com/Hotel_Review-g9745745-d10171320-Reviews-Avalon_Resort_Spa-Miskolctapolca_Borsod_Abauj_Zemplen_County_Northern_Hungary.html',\n",
       " nan,\n",
       " 'https://www.tripadvisor.com/Hotel_Review-g2294810-d648997-Reviews-Six_Senses_Douro_Valley-Samodaes_Viseu_District_Northern_Portugal.html',\n",
       " 'https://www.tripadvisor.com/Hotel_Review-g189158-d12659702-Reviews-Corpo_Santo_Lisbon_Historical_Hotel-Lisbon_Lisbon_District_Central_Portugal.html',\n",
       " 'https://www.tripadvisor.com/Hotel_Review-g445038-d9584359-Reviews-Sao_Lourenco_do_Barrocal-Monsaraz_Evora_District_Alentejo.html',\n",
       " 'https://www.tripadvisor.com/Hotel_Review-g580268-d1488228-Reviews-The_Yeatman-Vila_Nova_de_Gaia_Porto_District_Northern_Portugal.html']"
      ]
     },
     "execution_count": 8,
     "metadata": {},
     "output_type": "execute_result"
    }
   ],
   "source": [
    "df_sustainable = pd.read_csv(\"../data/tripadvisor_hotels_sostenibles.csv\")\n",
    "df_sustainable.head()\n",
    "tripadvisor_urls = df_sustainable['Tripadvisor'].tolist()\n",
    "tripadvisor_urls"
   ]
  },
  {
   "cell_type": "code",
   "execution_count": 9,
   "metadata": {},
   "outputs": [],
   "source": [
    "not_sustainable_reviews = df.query('HOTEL_REVIEW_URL not in @tripadvisor_urls')\n",
    "sustainable_reviews = df.query('HOTEL_REVIEW_URL in @tripadvisor_urls')"
   ]
  },
  {
   "cell_type": "code",
   "execution_count": 13,
   "metadata": {},
   "outputs": [],
   "source": [
    "not_sustainable_reviews.to_csv('../data/tripadvisor_hotels_not_sustainable_reviews.csv', index=False)\n",
    "sustainable_reviews.to_csv('../data/tripadvisor_hotels_sustainable_reviews.csv', index=False)"
   ]
  }
 ],
 "metadata": {
  "kernelspec": {
   "display_name": "Python 3.10.1 64-bit",
   "language": "python",
   "name": "python3"
  },
  "language_info": {
   "codemirror_mode": {
    "name": "ipython",
    "version": 3
   },
   "file_extension": ".py",
   "mimetype": "text/x-python",
   "name": "python",
   "nbconvert_exporter": "python",
   "pygments_lexer": "ipython3",
   "version": "3.10.1"
  },
  "orig_nbformat": 4,
  "vscode": {
   "interpreter": {
    "hash": "369f2c481f4da34e4445cda3fffd2e751bd1c4d706f27375911949ba6bb62e1c"
   }
  }
 },
 "nbformat": 4,
 "nbformat_minor": 2
}
