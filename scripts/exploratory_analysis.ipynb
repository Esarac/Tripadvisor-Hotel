{
 "cells": [
  {
   "cell_type": "markdown",
   "metadata": {
    "id": "8D80YP0nyuBI"
   },
   "source": [
    "# EXPLORATORY ANALYSIS\n",
    "## TRIPADVISOR: HOTELS\n",
    "\n",
    "*   Esteban Ariza\n",
    "*   Johan Giraldo\n",
    "*   Mateo Valdes"
   ]
  },
  {
   "cell_type": "markdown",
   "metadata": {
    "id": "e4THIMsUS7oc"
   },
   "source": [
    "## Prerequisites"
   ]
  },
  {
   "cell_type": "markdown",
   "metadata": {
    "id": "6wtMtt9WWBg6"
   },
   "source": [
    "### Install python libraries"
   ]
  },
  {
   "cell_type": "code",
   "execution_count": 1,
   "metadata": {
    "executionInfo": {
     "elapsed": 4,
     "status": "ok",
     "timestamp": 1664771165917,
     "user": {
      "displayName": "Esteban Ariza Acosta",
      "userId": "06368682392842702757"
     },
     "user_tz": 300
    },
    "id": "nRwog-WBSMu6"
   },
   "outputs": [],
   "source": [
    "# %pip install pandas\n",
    "# %pip install seaborn\n",
    "# %pip install numpy\n",
    "# %pip install regex\n",
    "# %pip install matplotlib\n",
    "# %pip install scipy\n",
    "# %pip install PyEnchant"
   ]
  },
  {
   "cell_type": "markdown",
   "metadata": {
    "id": "cRoEtJq1EXoI"
   },
   "source": [
    "### Install exporter"
   ]
  },
  {
   "cell_type": "code",
   "execution_count": 2,
   "metadata": {
    "executionInfo": {
     "elapsed": 359,
     "status": "ok",
     "timestamp": 1664771166273,
     "user": {
      "displayName": "Esteban Ariza Acosta",
      "userId": "06368682392842702757"
     },
     "user_tz": 300
    },
    "id": "BotQ0RVDEnbp"
   },
   "outputs": [],
   "source": [
    "# Windows\n",
    "# !choco install pandoc\n",
    "# !choco install miktex.install\n",
    "\n",
    "#Linux\n",
    "# %sudo apt-get install pandoc\n",
    "# %sudo apt-get install texlive-xetex texlive-fonts-recommended texlive-plain-generic\n",
    "\n",
    "# !pip3 install --upgrade pip\n",
    "# !pip3 install jupyter\n",
    "# %pip install nbconvert[webpdf]\n",
    "# %export PATH=/Library/TeX/texbin:$PATH"
   ]
  },
  {
   "cell_type": "markdown",
   "metadata": {
    "id": "IeLhMpwWTLyP"
   },
   "source": [
    "### Import python libraries"
   ]
  },
  {
   "cell_type": "code",
   "execution_count": 3,
   "metadata": {
    "executionInfo": {
     "elapsed": 4,
     "status": "ok",
     "timestamp": 1664771166273,
     "user": {
      "displayName": "Esteban Ariza Acosta",
      "userId": "06368682392842702757"
     },
     "user_tz": 300
    },
    "id": "nCmRF3N1TKs5"
   },
   "outputs": [],
   "source": [
    "import pandas as pd\n",
    "import seaborn as sns\n",
    "import numpy as np\n",
    "import re\n",
    "import matplotlib.pyplot as plt\n",
    "from scipy import stats\n",
    "import datetime"
   ]
  },
  {
   "cell_type": "markdown",
   "metadata": {
    "id": "tcWjA_M2WaN6"
   },
   "source": [
    "### Import data (CSV)"
   ]
  },
  {
   "cell_type": "markdown",
   "metadata": {},
   "source": [
    "#### From Google Drive"
   ]
  },
  {
   "cell_type": "code",
   "execution_count": 4,
   "metadata": {
    "colab": {
     "base_uri": "https://localhost:8080/"
    },
    "executionInfo": {
     "elapsed": 1516,
     "status": "ok",
     "timestamp": 1664771167786,
     "user": {
      "displayName": "Esteban Ariza Acosta",
      "userId": "06368682392842702757"
     },
     "user_tz": 300
    },
    "id": "4d8lX6uIUUvo",
    "outputId": "2622966f-d846-4994-b243-0d5339cf9a28"
   },
   "outputs": [],
   "source": [
    "# from google.colab import drive\n",
    "# drive.mount('/content/drive')\n",
    "# HOTEL_DATA_PATH = '/content/drive/MyDrive/Estudio/9 Semestre/Inteligencia Artificial II/TripAdvisor/data.csv'\n",
    "# HOTEL_DATA = pd.read_csv(HOTEL_DATA_PATH)"
   ]
  },
  {
   "cell_type": "markdown",
   "metadata": {},
   "source": [
    "#### Local\n"
   ]
  },
  {
   "cell_type": "code",
   "execution_count": 5,
   "metadata": {},
   "outputs": [],
   "source": [
    "HOTEL_DATA_PATH_1 = '../data/web_scraping/outputs/tripadvisor_hotels_nonsustainables_v2.csv'\n",
    "HOTEL_DATA_1 = pd.read_csv(HOTEL_DATA_PATH_1)\n",
    "HOTEL_DATA_1['HOTEL_SUSTAINABLE'] = \"NO\"\n",
    "\n",
    "HOTEL_DATA_PATH_2 = '../data/web_scraping/outputs/tripadvisor_hotels_sustainables_v2.csv'\n",
    "HOTEL_DATA_2 = pd.read_csv(HOTEL_DATA_PATH_2)\n",
    "HOTEL_DATA_2['HOTEL_SUSTAINABLE'] = \"YES\"\n",
    "\n",
    "HOTEL_DATA = pd.concat([HOTEL_DATA_1, HOTEL_DATA_2])"
   ]
  },
  {
   "cell_type": "markdown",
   "metadata": {
    "id": "l6KVvh2CW9CP"
   },
   "source": [
    "## Data Review"
   ]
  },
  {
   "cell_type": "code",
   "execution_count": 6,
   "metadata": {
    "colab": {
     "base_uri": "https://localhost:8080/",
     "height": 0
    },
    "executionInfo": {
     "elapsed": 11,
     "status": "ok",
     "timestamp": 1664771167787,
     "user": {
      "displayName": "Esteban Ariza Acosta",
      "userId": "06368682392842702757"
     },
     "user_tz": 300
    },
    "id": "_6EPIOxpXGee",
    "outputId": "b273c515-4eda-4d80-f82e-c423c06ae3c4"
   },
   "outputs": [
    {
     "data": {
      "text/html": [
       "<div>\n",
       "<style scoped>\n",
       "    .dataframe tbody tr th:only-of-type {\n",
       "        vertical-align: middle;\n",
       "    }\n",
       "\n",
       "    .dataframe tbody tr th {\n",
       "        vertical-align: top;\n",
       "    }\n",
       "\n",
       "    .dataframe thead th {\n",
       "        text-align: right;\n",
       "    }\n",
       "</style>\n",
       "<table border=\"1\" class=\"dataframe\">\n",
       "  <thead>\n",
       "    <tr style=\"text-align: right;\">\n",
       "      <th></th>\n",
       "      <th>HOTEL_NAME</th>\n",
       "      <th>HOTEL_RATING</th>\n",
       "      <th>HOTEL_PRICE</th>\n",
       "      <th>HOTEL_LOCATION</th>\n",
       "      <th>HOTEL_REVIEW_URL</th>\n",
       "      <th>REVIEW_RATING</th>\n",
       "      <th>REVIEW_DATE</th>\n",
       "      <th>REVIEW_HELPFUL_VOTES</th>\n",
       "      <th>REVIEW_TEXT</th>\n",
       "      <th>HOTEL_SUSTAINABLE</th>\n",
       "    </tr>\n",
       "  </thead>\n",
       "  <tbody>\n",
       "    <tr>\n",
       "      <th>0</th>\n",
       "      <td>Hotel Restaurant VILLINO</td>\n",
       "      <td>bubble_50</td>\n",
       "      <td>NaN</td>\n",
       "      <td>Mittenbuch 6, 88131, Lindau, Bavaria Germany</td>\n",
       "      <td>https://www.tripadvisor.com/Hotel_Review-g1986...</td>\n",
       "      <td>bubble_50</td>\n",
       "      <td>Date of stay: September 2022</td>\n",
       "      <td>NaN</td>\n",
       "      <td>Stayed here 5 nights. Immaculate rooms, beauti...</td>\n",
       "      <td>NO</td>\n",
       "    </tr>\n",
       "    <tr>\n",
       "      <th>1</th>\n",
       "      <td>Hotel Restaurant VILLINO</td>\n",
       "      <td>bubble_50</td>\n",
       "      <td>NaN</td>\n",
       "      <td>Mittenbuch 6, 88131, Lindau, Bavaria Germany</td>\n",
       "      <td>https://www.tripadvisor.com/Hotel_Review-g1986...</td>\n",
       "      <td>bubble_50</td>\n",
       "      <td>Date of stay: July 2022</td>\n",
       "      <td>NaN</td>\n",
       "      <td>The stay in this hotel was magnificent. It has...</td>\n",
       "      <td>NO</td>\n",
       "    </tr>\n",
       "    <tr>\n",
       "      <th>2</th>\n",
       "      <td>Hotel Restaurant VILLINO</td>\n",
       "      <td>bubble_50</td>\n",
       "      <td>NaN</td>\n",
       "      <td>Mittenbuch 6, 88131, Lindau, Bavaria Germany</td>\n",
       "      <td>https://www.tripadvisor.com/Hotel_Review-g1986...</td>\n",
       "      <td>bubble_50</td>\n",
       "      <td>Date of stay: July 2020</td>\n",
       "      <td>2 Helpful votes</td>\n",
       "      <td>Wow, what a find! We stayed in this beautiful ...</td>\n",
       "      <td>NO</td>\n",
       "    </tr>\n",
       "    <tr>\n",
       "      <th>3</th>\n",
       "      <td>Hotel Restaurant VILLINO</td>\n",
       "      <td>bubble_50</td>\n",
       "      <td>NaN</td>\n",
       "      <td>Mittenbuch 6, 88131, Lindau, Bavaria Germany</td>\n",
       "      <td>https://www.tripadvisor.com/Hotel_Review-g1986...</td>\n",
       "      <td>bubble_50</td>\n",
       "      <td>Date of stay: February 2020</td>\n",
       "      <td>2 Helpful votes</td>\n",
       "      <td>we had only 1 night as a weekend break. Arrivi...</td>\n",
       "      <td>NO</td>\n",
       "    </tr>\n",
       "    <tr>\n",
       "      <th>4</th>\n",
       "      <td>Hotel Restaurant VILLINO</td>\n",
       "      <td>bubble_50</td>\n",
       "      <td>NaN</td>\n",
       "      <td>Mittenbuch 6, 88131, Lindau, Bavaria Germany</td>\n",
       "      <td>https://www.tripadvisor.com/Hotel_Review-g1986...</td>\n",
       "      <td>bubble_50</td>\n",
       "      <td>Date of stay: December 2019</td>\n",
       "      <td>1 Helpful vote</td>\n",
       "      <td>We stayed in the Hotel Villino for three night...</td>\n",
       "      <td>NO</td>\n",
       "    </tr>\n",
       "    <tr>\n",
       "      <th>...</th>\n",
       "      <td>...</td>\n",
       "      <td>...</td>\n",
       "      <td>...</td>\n",
       "      <td>...</td>\n",
       "      <td>...</td>\n",
       "      <td>...</td>\n",
       "      <td>...</td>\n",
       "      <td>...</td>\n",
       "      <td>...</td>\n",
       "      <td>...</td>\n",
       "    </tr>\n",
       "    <tr>\n",
       "      <th>16898</th>\n",
       "      <td>The Yeatman</td>\n",
       "      <td>bubble_45</td>\n",
       "      <td>€390</td>\n",
       "      <td>Rua de Choupelo, Vila Nova de Gaia 4400-088 Po...</td>\n",
       "      <td>https://www.tripadvisor.com/Hotel_Review-g5802...</td>\n",
       "      <td>bubble_50</td>\n",
       "      <td>Date of stay: May 2017</td>\n",
       "      <td>1 Helpful vote</td>\n",
       "      <td>This is one of my favourite hotels- very beaut...</td>\n",
       "      <td>YES</td>\n",
       "    </tr>\n",
       "    <tr>\n",
       "      <th>16899</th>\n",
       "      <td>The Yeatman</td>\n",
       "      <td>bubble_45</td>\n",
       "      <td>€390</td>\n",
       "      <td>Rua de Choupelo, Vila Nova de Gaia 4400-088 Po...</td>\n",
       "      <td>https://www.tripadvisor.com/Hotel_Review-g5802...</td>\n",
       "      <td>bubble_50</td>\n",
       "      <td>Date of stay: April 2017</td>\n",
       "      <td>1 Helpful vote</td>\n",
       "      <td>Our party really enjoyed the fabulous setting ...</td>\n",
       "      <td>YES</td>\n",
       "    </tr>\n",
       "    <tr>\n",
       "      <th>16900</th>\n",
       "      <td>The Yeatman</td>\n",
       "      <td>bubble_45</td>\n",
       "      <td>€390</td>\n",
       "      <td>Rua de Choupelo, Vila Nova de Gaia 4400-088 Po...</td>\n",
       "      <td>https://www.tripadvisor.com/Hotel_Review-g5802...</td>\n",
       "      <td>bubble_50</td>\n",
       "      <td>Date of stay: April 2017</td>\n",
       "      <td>3 Helpful votes</td>\n",
       "      <td>We had a Superior room. Very nice and spacious...</td>\n",
       "      <td>YES</td>\n",
       "    </tr>\n",
       "    <tr>\n",
       "      <th>16901</th>\n",
       "      <td>The Yeatman</td>\n",
       "      <td>bubble_45</td>\n",
       "      <td>€390</td>\n",
       "      <td>Rua de Choupelo, Vila Nova de Gaia 4400-088 Po...</td>\n",
       "      <td>https://www.tripadvisor.com/Hotel_Review-g5802...</td>\n",
       "      <td>bubble_50</td>\n",
       "      <td>Date of stay: May 2017</td>\n",
       "      <td>3 Helpful votes</td>\n",
       "      <td>Great welcome, a chair to sit down during the ...</td>\n",
       "      <td>YES</td>\n",
       "    </tr>\n",
       "    <tr>\n",
       "      <th>16902</th>\n",
       "      <td>The Yeatman</td>\n",
       "      <td>bubble_45</td>\n",
       "      <td>€390</td>\n",
       "      <td>Rua de Choupelo, Vila Nova de Gaia 4400-088 Po...</td>\n",
       "      <td>https://www.tripadvisor.com/Hotel_Review-g5802...</td>\n",
       "      <td>bubble_50</td>\n",
       "      <td>Date of stay: April 2017</td>\n",
       "      <td>3 Helpful votes</td>\n",
       "      <td>Imagine yourself getting lost in the old part ...</td>\n",
       "      <td>YES</td>\n",
       "    </tr>\n",
       "  </tbody>\n",
       "</table>\n",
       "<p>85112 rows × 10 columns</p>\n",
       "</div>"
      ],
      "text/plain": [
       "                     HOTEL_NAME HOTEL_RATING HOTEL_PRICE  \\\n",
       "0      Hotel Restaurant VILLINO    bubble_50         NaN   \n",
       "1      Hotel Restaurant VILLINO    bubble_50         NaN   \n",
       "2      Hotel Restaurant VILLINO    bubble_50         NaN   \n",
       "3      Hotel Restaurant VILLINO    bubble_50         NaN   \n",
       "4      Hotel Restaurant VILLINO    bubble_50         NaN   \n",
       "...                         ...          ...         ...   \n",
       "16898               The Yeatman    bubble_45        €390   \n",
       "16899               The Yeatman    bubble_45        €390   \n",
       "16900               The Yeatman    bubble_45        €390   \n",
       "16901               The Yeatman    bubble_45        €390   \n",
       "16902               The Yeatman    bubble_45        €390   \n",
       "\n",
       "                                          HOTEL_LOCATION  \\\n",
       "0           Mittenbuch 6, 88131, Lindau, Bavaria Germany   \n",
       "1           Mittenbuch 6, 88131, Lindau, Bavaria Germany   \n",
       "2           Mittenbuch 6, 88131, Lindau, Bavaria Germany   \n",
       "3           Mittenbuch 6, 88131, Lindau, Bavaria Germany   \n",
       "4           Mittenbuch 6, 88131, Lindau, Bavaria Germany   \n",
       "...                                                  ...   \n",
       "16898  Rua de Choupelo, Vila Nova de Gaia 4400-088 Po...   \n",
       "16899  Rua de Choupelo, Vila Nova de Gaia 4400-088 Po...   \n",
       "16900  Rua de Choupelo, Vila Nova de Gaia 4400-088 Po...   \n",
       "16901  Rua de Choupelo, Vila Nova de Gaia 4400-088 Po...   \n",
       "16902  Rua de Choupelo, Vila Nova de Gaia 4400-088 Po...   \n",
       "\n",
       "                                        HOTEL_REVIEW_URL REVIEW_RATING  \\\n",
       "0      https://www.tripadvisor.com/Hotel_Review-g1986...     bubble_50   \n",
       "1      https://www.tripadvisor.com/Hotel_Review-g1986...     bubble_50   \n",
       "2      https://www.tripadvisor.com/Hotel_Review-g1986...     bubble_50   \n",
       "3      https://www.tripadvisor.com/Hotel_Review-g1986...     bubble_50   \n",
       "4      https://www.tripadvisor.com/Hotel_Review-g1986...     bubble_50   \n",
       "...                                                  ...           ...   \n",
       "16898  https://www.tripadvisor.com/Hotel_Review-g5802...     bubble_50   \n",
       "16899  https://www.tripadvisor.com/Hotel_Review-g5802...     bubble_50   \n",
       "16900  https://www.tripadvisor.com/Hotel_Review-g5802...     bubble_50   \n",
       "16901  https://www.tripadvisor.com/Hotel_Review-g5802...     bubble_50   \n",
       "16902  https://www.tripadvisor.com/Hotel_Review-g5802...     bubble_50   \n",
       "\n",
       "                        REVIEW_DATE REVIEW_HELPFUL_VOTES  \\\n",
       "0      Date of stay: September 2022                  NaN   \n",
       "1           Date of stay: July 2022                  NaN   \n",
       "2           Date of stay: July 2020      2 Helpful votes   \n",
       "3       Date of stay: February 2020      2 Helpful votes   \n",
       "4       Date of stay: December 2019       1 Helpful vote   \n",
       "...                             ...                  ...   \n",
       "16898        Date of stay: May 2017       1 Helpful vote   \n",
       "16899      Date of stay: April 2017       1 Helpful vote   \n",
       "16900      Date of stay: April 2017      3 Helpful votes   \n",
       "16901        Date of stay: May 2017      3 Helpful votes   \n",
       "16902      Date of stay: April 2017      3 Helpful votes   \n",
       "\n",
       "                                             REVIEW_TEXT HOTEL_SUSTAINABLE  \n",
       "0      Stayed here 5 nights. Immaculate rooms, beauti...                NO  \n",
       "1      The stay in this hotel was magnificent. It has...                NO  \n",
       "2      Wow, what a find! We stayed in this beautiful ...                NO  \n",
       "3      we had only 1 night as a weekend break. Arrivi...                NO  \n",
       "4      We stayed in the Hotel Villino for three night...                NO  \n",
       "...                                                  ...               ...  \n",
       "16898  This is one of my favourite hotels- very beaut...               YES  \n",
       "16899  Our party really enjoyed the fabulous setting ...               YES  \n",
       "16900  We had a Superior room. Very nice and spacious...               YES  \n",
       "16901  Great welcome, a chair to sit down during the ...               YES  \n",
       "16902  Imagine yourself getting lost in the old part ...               YES  \n",
       "\n",
       "[85112 rows x 10 columns]"
      ]
     },
     "execution_count": 6,
     "metadata": {},
     "output_type": "execute_result"
    }
   ],
   "source": [
    "HOTEL_DATA"
   ]
  },
  {
   "cell_type": "code",
   "execution_count": 7,
   "metadata": {
    "colab": {
     "base_uri": "https://localhost:8080/"
    },
    "executionInfo": {
     "elapsed": 9,
     "status": "ok",
     "timestamp": 1664771167788,
     "user": {
      "displayName": "Esteban Ariza Acosta",
      "userId": "06368682392842702757"
     },
     "user_tz": 300
    },
    "id": "pQSMBX9MXMPM",
    "outputId": "93b48443-fabc-414b-cd2a-38dba9d06cef"
   },
   "outputs": [
    {
     "name": "stdout",
     "output_type": "stream",
     "text": [
      "<class 'pandas.core.frame.DataFrame'>\n",
      "Int64Index: 85112 entries, 0 to 16902\n",
      "Data columns (total 10 columns):\n",
      " #   Column                Non-Null Count  Dtype \n",
      "---  ------                --------------  ----- \n",
      " 0   HOTEL_NAME            85112 non-null  object\n",
      " 1   HOTEL_RATING          85112 non-null  object\n",
      " 2   HOTEL_PRICE           74541 non-null  object\n",
      " 3   HOTEL_LOCATION        85112 non-null  object\n",
      " 4   HOTEL_REVIEW_URL      85112 non-null  object\n",
      " 5   REVIEW_RATING         85112 non-null  object\n",
      " 6   REVIEW_DATE           85102 non-null  object\n",
      " 7   REVIEW_HELPFUL_VOTES  83501 non-null  object\n",
      " 8   REVIEW_TEXT           85112 non-null  object\n",
      " 9   HOTEL_SUSTAINABLE     85112 non-null  object\n",
      "dtypes: object(10)\n",
      "memory usage: 7.1+ MB\n"
     ]
    }
   ],
   "source": [
    "HOTEL_DATA.info()"
   ]
  },
  {
   "cell_type": "markdown",
   "metadata": {
    "id": "G-cG1mB9Xc9E"
   },
   "source": [
    "The csv have 8 columns and only 2 of them contain null values. There are some adjustments we should do to each column:\n",
    "* **HOTEL_NAME:** The first number should be eliminated from the name.\n",
    "* **HOTEL_RATING:** The rating must be a integer number from 1 to 5.\n",
    "* **HOTEL_PRICE:** The currency must be removed and the price should be numeric. Also, there are some rows that contain NaN values, so we are going to transform those into 0.\n",
    "* **REVIEW_RATING:** The same as the \"HOTEL_RATING\"\n",
    "* **REVIEW_DATE:** The phrase \"Date of stay:\" should be removed.\n",
    "* **REVIEW_HELPFUL_VOTES** We should remove the phrase \"helpful vote(s)\". Also, there are some rows that contain NaN values, so we are going to transform those into 0.\n",
    "\n"
   ]
  },
  {
   "cell_type": "markdown",
   "metadata": {
    "id": "y3gqLk5oaXNc"
   },
   "source": [
    "## Data Cleaning\n",
    "\n"
   ]
  },
  {
   "cell_type": "markdown",
   "metadata": {
    "id": "kkdt_5yXajUe"
   },
   "source": [
    "### Cleaning functions"
   ]
  },
  {
   "cell_type": "code",
   "execution_count": 8,
   "metadata": {
    "executionInfo": {
     "elapsed": 5,
     "status": "ok",
     "timestamp": 1664771167974,
     "user": {
      "displayName": "Esteban Ariza Acosta",
      "userId": "06368682392842702757"
     },
     "user_tz": 300
    },
    "id": "O1qKPQ4PiHAZ"
   },
   "outputs": [],
   "source": [
    "def clean_int(column, pattern):\n",
    "    return column.replace(pattern, '', regex = True).astype(np.int64)\n",
    "\n",
    "def clean_string(column, pattern):\n",
    "    return column.replace(pattern, '', regex = True)"
   ]
  },
  {
   "cell_type": "markdown",
   "metadata": {
    "id": "ixoRMwxTazdq"
   },
   "source": [
    "#### HOTEL_NAME"
   ]
  },
  {
   "cell_type": "code",
   "execution_count": 9,
   "metadata": {
    "executionInfo": {
     "elapsed": 180,
     "status": "ok",
     "timestamp": 1664771168150,
     "user": {
      "displayName": "Esteban Ariza Acosta",
      "userId": "06368682392842702757"
     },
     "user_tz": 300
    },
    "id": "qYXAQ7_2Yg2k"
   },
   "outputs": [],
   "source": [
    "def clean_hotel_name_map(value):\n",
    "  vals = value.split('.')\n",
    "  try:\n",
    "    int(vals[0]) #the first one must be a number\n",
    "    value = '.'.join(vals[1:])\n",
    "  finally:\n",
    "    return value\n",
    "\n",
    "def clean_hotel_name(column):\n",
    "  return column.map(clean_hotel_name_map)"
   ]
  },
  {
   "cell_type": "markdown",
   "metadata": {
    "id": "W3HY5X2vfbcJ"
   },
   "source": [
    "#### HOTEL_RATING"
   ]
  },
  {
   "cell_type": "code",
   "execution_count": 10,
   "metadata": {
    "executionInfo": {
     "elapsed": 3,
     "status": "ok",
     "timestamp": 1664771168151,
     "user": {
      "displayName": "Esteban Ariza Acosta",
      "userId": "06368682392842702757"
     },
     "user_tz": 300
    },
    "id": "OPJfn5hmfhde"
   },
   "outputs": [],
   "source": [
    "def clean_hotel_rating_map(value):\n",
    "  return value.split('_')[1]\n",
    "\n",
    "def clean_hotel_rating(column):\n",
    "  return column.map(clean_hotel_rating_map).astype(np.int64)"
   ]
  },
  {
   "cell_type": "markdown",
   "metadata": {
    "id": "TlJaHN7KgHMp"
   },
   "source": [
    "#### HOTEL_PRICE"
   ]
  },
  {
   "cell_type": "code",
   "execution_count": 11,
   "metadata": {
    "executionInfo": {
     "elapsed": 270,
     "status": "ok",
     "timestamp": 1664771168419,
     "user": {
      "displayName": "Esteban Ariza Acosta",
      "userId": "06368682392842702757"
     },
     "user_tz": 300
    },
    "id": "s5jKvcxJgNXv"
   },
   "outputs": [],
   "source": [
    "CURRENCY = '€'\n",
    "\n",
    "def clean_hotel_price_map(value):\n",
    "  if pd.isnull(value):\n",
    "    return 0;\n",
    "\n",
    "  value = value.replace(CURRENCY, '')\n",
    "  value = value.replace(',','')\n",
    "  try:\n",
    "    value = float(value)\n",
    "  except:\n",
    "    value = 0;\n",
    "  finally:\n",
    "    return value\n",
    "\n",
    "def clean_hotel_price(column):\n",
    "  return column.map(clean_hotel_price_map)"
   ]
  },
  {
   "cell_type": "markdown",
   "metadata": {
    "id": "XRafpqyQjyOY"
   },
   "source": [
    "#### REVIEW_RATING"
   ]
  },
  {
   "cell_type": "code",
   "execution_count": 12,
   "metadata": {
    "executionInfo": {
     "elapsed": 306,
     "status": "ok",
     "timestamp": 1664771168723,
     "user": {
      "displayName": "Esteban Ariza Acosta",
      "userId": "06368682392842702757"
     },
     "user_tz": 300
    },
    "id": "Yp_wajBSj3_w"
   },
   "outputs": [],
   "source": [
    "def clean_review_rating(column):\n",
    "  return (clean_int(column,'[bubble_.]') / 10).astype(np.int64)"
   ]
  },
  {
   "cell_type": "markdown",
   "metadata": {
    "id": "XTRfptp3k-qH"
   },
   "source": [
    "#### REVIEW_DATE"
   ]
  },
  {
   "cell_type": "code",
   "execution_count": 13,
   "metadata": {
    "executionInfo": {
     "elapsed": 2356,
     "status": "ok",
     "timestamp": 1664771171078,
     "user": {
      "displayName": "Esteban Ariza Acosta",
      "userId": "06368682392842702757"
     },
     "user_tz": 300
    },
    "id": "y8BIzctNlCxC"
   },
   "outputs": [],
   "source": [
    "def parseDate(strDate):\n",
    "  strMonth, strYear = strDate.split(' ')\n",
    "  strYear = int(strYear)\n",
    "  strMonth = datetime.datetime.strptime(strMonth[0:3],'%b').month\n",
    "  date = pd.Timestamp(year=strYear, month=strMonth, day=1)\n",
    "  return date\n",
    "\n",
    "def clean_review_date(column):\n",
    "  column = column.str[14:]\n",
    "  column = column.map(parseDate)\n",
    "  return column\n",
    "\n",
    "def dropnan_review_date(df):\n",
    "  return df.dropna(subset=['REVIEW_DATE'])"
   ]
  },
  {
   "cell_type": "markdown",
   "metadata": {},
   "source": [
    "#### REVIEW_HELPFUL_VOTES"
   ]
  },
  {
   "cell_type": "code",
   "execution_count": 14,
   "metadata": {},
   "outputs": [],
   "source": [
    "def clean_review_helpful_votes_map(value):\n",
    "    if pd.isnull(value):\n",
    "        return 0;\n",
    "    \n",
    "    return value.split(\" \")[0]\n",
    "\n",
    "def clean_review_helpful_votes(column):\n",
    "    return column.map(clean_review_helpful_votes_map).astype(np.int64)"
   ]
  },
  {
   "cell_type": "markdown",
   "metadata": {},
   "source": [
    "### Cleaning"
   ]
  },
  {
   "cell_type": "code",
   "execution_count": 15,
   "metadata": {},
   "outputs": [
    {
     "data": {
      "text/html": [
       "<div>\n",
       "<style scoped>\n",
       "    .dataframe tbody tr th:only-of-type {\n",
       "        vertical-align: middle;\n",
       "    }\n",
       "\n",
       "    .dataframe tbody tr th {\n",
       "        vertical-align: top;\n",
       "    }\n",
       "\n",
       "    .dataframe thead th {\n",
       "        text-align: right;\n",
       "    }\n",
       "</style>\n",
       "<table border=\"1\" class=\"dataframe\">\n",
       "  <thead>\n",
       "    <tr style=\"text-align: right;\">\n",
       "      <th></th>\n",
       "      <th>HOTEL_NAME</th>\n",
       "      <th>HOTEL_RATING</th>\n",
       "      <th>HOTEL_PRICE</th>\n",
       "      <th>HOTEL_LOCATION</th>\n",
       "      <th>HOTEL_REVIEW_URL</th>\n",
       "      <th>REVIEW_RATING</th>\n",
       "      <th>REVIEW_DATE</th>\n",
       "      <th>REVIEW_HELPFUL_VOTES</th>\n",
       "      <th>REVIEW_TEXT</th>\n",
       "      <th>HOTEL_SUSTAINABLE</th>\n",
       "    </tr>\n",
       "  </thead>\n",
       "  <tbody>\n",
       "    <tr>\n",
       "      <th>0</th>\n",
       "      <td>Hotel Restaurant VILLINO</td>\n",
       "      <td>50</td>\n",
       "      <td>0.0</td>\n",
       "      <td>Mittenbuch 6, 88131, Lindau, Bavaria Germany</td>\n",
       "      <td>https://www.tripadvisor.com/Hotel_Review-g1986...</td>\n",
       "      <td>5</td>\n",
       "      <td>2022-09-01</td>\n",
       "      <td>0</td>\n",
       "      <td>Stayed here 5 nights. Immaculate rooms, beauti...</td>\n",
       "      <td>NO</td>\n",
       "    </tr>\n",
       "    <tr>\n",
       "      <th>1</th>\n",
       "      <td>Hotel Restaurant VILLINO</td>\n",
       "      <td>50</td>\n",
       "      <td>0.0</td>\n",
       "      <td>Mittenbuch 6, 88131, Lindau, Bavaria Germany</td>\n",
       "      <td>https://www.tripadvisor.com/Hotel_Review-g1986...</td>\n",
       "      <td>5</td>\n",
       "      <td>2022-07-01</td>\n",
       "      <td>0</td>\n",
       "      <td>The stay in this hotel was magnificent. It has...</td>\n",
       "      <td>NO</td>\n",
       "    </tr>\n",
       "    <tr>\n",
       "      <th>2</th>\n",
       "      <td>Hotel Restaurant VILLINO</td>\n",
       "      <td>50</td>\n",
       "      <td>0.0</td>\n",
       "      <td>Mittenbuch 6, 88131, Lindau, Bavaria Germany</td>\n",
       "      <td>https://www.tripadvisor.com/Hotel_Review-g1986...</td>\n",
       "      <td>5</td>\n",
       "      <td>2020-07-01</td>\n",
       "      <td>2</td>\n",
       "      <td>Wow, what a find! We stayed in this beautiful ...</td>\n",
       "      <td>NO</td>\n",
       "    </tr>\n",
       "    <tr>\n",
       "      <th>3</th>\n",
       "      <td>Hotel Restaurant VILLINO</td>\n",
       "      <td>50</td>\n",
       "      <td>0.0</td>\n",
       "      <td>Mittenbuch 6, 88131, Lindau, Bavaria Germany</td>\n",
       "      <td>https://www.tripadvisor.com/Hotel_Review-g1986...</td>\n",
       "      <td>5</td>\n",
       "      <td>2020-02-01</td>\n",
       "      <td>2</td>\n",
       "      <td>we had only 1 night as a weekend break. Arrivi...</td>\n",
       "      <td>NO</td>\n",
       "    </tr>\n",
       "    <tr>\n",
       "      <th>4</th>\n",
       "      <td>Hotel Restaurant VILLINO</td>\n",
       "      <td>50</td>\n",
       "      <td>0.0</td>\n",
       "      <td>Mittenbuch 6, 88131, Lindau, Bavaria Germany</td>\n",
       "      <td>https://www.tripadvisor.com/Hotel_Review-g1986...</td>\n",
       "      <td>5</td>\n",
       "      <td>2019-12-01</td>\n",
       "      <td>1</td>\n",
       "      <td>We stayed in the Hotel Villino for three night...</td>\n",
       "      <td>NO</td>\n",
       "    </tr>\n",
       "    <tr>\n",
       "      <th>...</th>\n",
       "      <td>...</td>\n",
       "      <td>...</td>\n",
       "      <td>...</td>\n",
       "      <td>...</td>\n",
       "      <td>...</td>\n",
       "      <td>...</td>\n",
       "      <td>...</td>\n",
       "      <td>...</td>\n",
       "      <td>...</td>\n",
       "      <td>...</td>\n",
       "    </tr>\n",
       "    <tr>\n",
       "      <th>16898</th>\n",
       "      <td>The Yeatman</td>\n",
       "      <td>45</td>\n",
       "      <td>390.0</td>\n",
       "      <td>Rua de Choupelo, Vila Nova de Gaia 4400-088 Po...</td>\n",
       "      <td>https://www.tripadvisor.com/Hotel_Review-g5802...</td>\n",
       "      <td>5</td>\n",
       "      <td>2017-05-01</td>\n",
       "      <td>1</td>\n",
       "      <td>This is one of my favourite hotels- very beaut...</td>\n",
       "      <td>YES</td>\n",
       "    </tr>\n",
       "    <tr>\n",
       "      <th>16899</th>\n",
       "      <td>The Yeatman</td>\n",
       "      <td>45</td>\n",
       "      <td>390.0</td>\n",
       "      <td>Rua de Choupelo, Vila Nova de Gaia 4400-088 Po...</td>\n",
       "      <td>https://www.tripadvisor.com/Hotel_Review-g5802...</td>\n",
       "      <td>5</td>\n",
       "      <td>2017-04-01</td>\n",
       "      <td>1</td>\n",
       "      <td>Our party really enjoyed the fabulous setting ...</td>\n",
       "      <td>YES</td>\n",
       "    </tr>\n",
       "    <tr>\n",
       "      <th>16900</th>\n",
       "      <td>The Yeatman</td>\n",
       "      <td>45</td>\n",
       "      <td>390.0</td>\n",
       "      <td>Rua de Choupelo, Vila Nova de Gaia 4400-088 Po...</td>\n",
       "      <td>https://www.tripadvisor.com/Hotel_Review-g5802...</td>\n",
       "      <td>5</td>\n",
       "      <td>2017-04-01</td>\n",
       "      <td>3</td>\n",
       "      <td>We had a Superior room. Very nice and spacious...</td>\n",
       "      <td>YES</td>\n",
       "    </tr>\n",
       "    <tr>\n",
       "      <th>16901</th>\n",
       "      <td>The Yeatman</td>\n",
       "      <td>45</td>\n",
       "      <td>390.0</td>\n",
       "      <td>Rua de Choupelo, Vila Nova de Gaia 4400-088 Po...</td>\n",
       "      <td>https://www.tripadvisor.com/Hotel_Review-g5802...</td>\n",
       "      <td>5</td>\n",
       "      <td>2017-05-01</td>\n",
       "      <td>3</td>\n",
       "      <td>Great welcome, a chair to sit down during the ...</td>\n",
       "      <td>YES</td>\n",
       "    </tr>\n",
       "    <tr>\n",
       "      <th>16902</th>\n",
       "      <td>The Yeatman</td>\n",
       "      <td>45</td>\n",
       "      <td>390.0</td>\n",
       "      <td>Rua de Choupelo, Vila Nova de Gaia 4400-088 Po...</td>\n",
       "      <td>https://www.tripadvisor.com/Hotel_Review-g5802...</td>\n",
       "      <td>5</td>\n",
       "      <td>2017-04-01</td>\n",
       "      <td>3</td>\n",
       "      <td>Imagine yourself getting lost in the old part ...</td>\n",
       "      <td>YES</td>\n",
       "    </tr>\n",
       "  </tbody>\n",
       "</table>\n",
       "<p>85102 rows × 10 columns</p>\n",
       "</div>"
      ],
      "text/plain": [
       "                     HOTEL_NAME  HOTEL_RATING  HOTEL_PRICE  \\\n",
       "0      Hotel Restaurant VILLINO            50          0.0   \n",
       "1      Hotel Restaurant VILLINO            50          0.0   \n",
       "2      Hotel Restaurant VILLINO            50          0.0   \n",
       "3      Hotel Restaurant VILLINO            50          0.0   \n",
       "4      Hotel Restaurant VILLINO            50          0.0   \n",
       "...                         ...           ...          ...   \n",
       "16898               The Yeatman            45        390.0   \n",
       "16899               The Yeatman            45        390.0   \n",
       "16900               The Yeatman            45        390.0   \n",
       "16901               The Yeatman            45        390.0   \n",
       "16902               The Yeatman            45        390.0   \n",
       "\n",
       "                                          HOTEL_LOCATION  \\\n",
       "0           Mittenbuch 6, 88131, Lindau, Bavaria Germany   \n",
       "1           Mittenbuch 6, 88131, Lindau, Bavaria Germany   \n",
       "2           Mittenbuch 6, 88131, Lindau, Bavaria Germany   \n",
       "3           Mittenbuch 6, 88131, Lindau, Bavaria Germany   \n",
       "4           Mittenbuch 6, 88131, Lindau, Bavaria Germany   \n",
       "...                                                  ...   \n",
       "16898  Rua de Choupelo, Vila Nova de Gaia 4400-088 Po...   \n",
       "16899  Rua de Choupelo, Vila Nova de Gaia 4400-088 Po...   \n",
       "16900  Rua de Choupelo, Vila Nova de Gaia 4400-088 Po...   \n",
       "16901  Rua de Choupelo, Vila Nova de Gaia 4400-088 Po...   \n",
       "16902  Rua de Choupelo, Vila Nova de Gaia 4400-088 Po...   \n",
       "\n",
       "                                        HOTEL_REVIEW_URL  REVIEW_RATING  \\\n",
       "0      https://www.tripadvisor.com/Hotel_Review-g1986...              5   \n",
       "1      https://www.tripadvisor.com/Hotel_Review-g1986...              5   \n",
       "2      https://www.tripadvisor.com/Hotel_Review-g1986...              5   \n",
       "3      https://www.tripadvisor.com/Hotel_Review-g1986...              5   \n",
       "4      https://www.tripadvisor.com/Hotel_Review-g1986...              5   \n",
       "...                                                  ...            ...   \n",
       "16898  https://www.tripadvisor.com/Hotel_Review-g5802...              5   \n",
       "16899  https://www.tripadvisor.com/Hotel_Review-g5802...              5   \n",
       "16900  https://www.tripadvisor.com/Hotel_Review-g5802...              5   \n",
       "16901  https://www.tripadvisor.com/Hotel_Review-g5802...              5   \n",
       "16902  https://www.tripadvisor.com/Hotel_Review-g5802...              5   \n",
       "\n",
       "      REVIEW_DATE  REVIEW_HELPFUL_VOTES  \\\n",
       "0      2022-09-01                     0   \n",
       "1      2022-07-01                     0   \n",
       "2      2020-07-01                     2   \n",
       "3      2020-02-01                     2   \n",
       "4      2019-12-01                     1   \n",
       "...           ...                   ...   \n",
       "16898  2017-05-01                     1   \n",
       "16899  2017-04-01                     1   \n",
       "16900  2017-04-01                     3   \n",
       "16901  2017-05-01                     3   \n",
       "16902  2017-04-01                     3   \n",
       "\n",
       "                                             REVIEW_TEXT HOTEL_SUSTAINABLE  \n",
       "0      Stayed here 5 nights. Immaculate rooms, beauti...                NO  \n",
       "1      The stay in this hotel was magnificent. It has...                NO  \n",
       "2      Wow, what a find! We stayed in this beautiful ...                NO  \n",
       "3      we had only 1 night as a weekend break. Arrivi...                NO  \n",
       "4      We stayed in the Hotel Villino for three night...                NO  \n",
       "...                                                  ...               ...  \n",
       "16898  This is one of my favourite hotels- very beaut...               YES  \n",
       "16899  Our party really enjoyed the fabulous setting ...               YES  \n",
       "16900  We had a Superior room. Very nice and spacious...               YES  \n",
       "16901  Great welcome, a chair to sit down during the ...               YES  \n",
       "16902  Imagine yourself getting lost in the old part ...               YES  \n",
       "\n",
       "[85102 rows x 10 columns]"
      ]
     },
     "execution_count": 15,
     "metadata": {},
     "output_type": "execute_result"
    }
   ],
   "source": [
    "pd.options.mode.chained_assignment = None\n",
    "\n",
    "HOTEL_DATA['HOTEL_NAME'] = clean_hotel_name(HOTEL_DATA['HOTEL_NAME'])\n",
    "HOTEL_DATA['HOTEL_RATING'] = clean_hotel_rating(HOTEL_DATA['HOTEL_RATING'])\n",
    "HOTEL_DATA['HOTEL_PRICE'] = clean_hotel_price(HOTEL_DATA['HOTEL_PRICE'])\n",
    "HOTEL_DATA['REVIEW_RATING'] =  clean_review_rating(HOTEL_DATA['REVIEW_RATING'])\n",
    "HOTEL_DATA['REVIEW_HELPFUL_VOTES'] = clean_review_helpful_votes(HOTEL_DATA['REVIEW_HELPFUL_VOTES'])\n",
    "\n",
    "HOTEL_DATA = dropnan_review_date(HOTEL_DATA)\n",
    "HOTEL_DATA['REVIEW_DATE'] = clean_review_date(HOTEL_DATA['REVIEW_DATE'])\n",
    "\n",
    "HOTEL_DATA"
   ]
  },
  {
   "cell_type": "markdown",
   "metadata": {
    "id": "dpK5aFgHmm5-"
   },
   "source": [
    "## Data Analysis"
   ]
  },
  {
   "cell_type": "markdown",
   "metadata": {
    "id": "ksKRiElRo4wK"
   },
   "source": [
    "### GENERAL"
   ]
  },
  {
   "cell_type": "code",
   "execution_count": 16,
   "metadata": {
    "colab": {
     "base_uri": "https://localhost:8080/"
    },
    "executionInfo": {
     "elapsed": 16,
     "status": "ok",
     "timestamp": 1664771171079,
     "user": {
      "displayName": "Esteban Ariza Acosta",
      "userId": "06368682392842702757"
     },
     "user_tz": 300
    },
    "id": "qeUj1Tmxmqtr",
    "outputId": "198ae438-1cbc-4dbe-c04a-7d4356f447fc"
   },
   "outputs": [
    {
     "name": "stdout",
     "output_type": "stream",
     "text": [
      "<class 'pandas.core.frame.DataFrame'>\n",
      "Int64Index: 85102 entries, 0 to 16902\n",
      "Data columns (total 10 columns):\n",
      " #   Column                Non-Null Count  Dtype         \n",
      "---  ------                --------------  -----         \n",
      " 0   HOTEL_NAME            85102 non-null  object        \n",
      " 1   HOTEL_RATING          85102 non-null  int64         \n",
      " 2   HOTEL_PRICE           85102 non-null  float64       \n",
      " 3   HOTEL_LOCATION        85102 non-null  object        \n",
      " 4   HOTEL_REVIEW_URL      85102 non-null  object        \n",
      " 5   REVIEW_RATING         85102 non-null  int64         \n",
      " 6   REVIEW_DATE           85102 non-null  datetime64[ns]\n",
      " 7   REVIEW_HELPFUL_VOTES  85102 non-null  int64         \n",
      " 8   REVIEW_TEXT           85102 non-null  object        \n",
      " 9   HOTEL_SUSTAINABLE     85102 non-null  object        \n",
      "dtypes: datetime64[ns](1), float64(1), int64(3), object(5)\n",
      "memory usage: 7.1+ MB\n"
     ]
    }
   ],
   "source": [
    "HOTEL_DATA.info()"
   ]
  },
  {
   "cell_type": "code",
   "execution_count": 17,
   "metadata": {
    "colab": {
     "base_uri": "https://localhost:8080/",
     "height": 0
    },
    "executionInfo": {
     "elapsed": 15,
     "status": "ok",
     "timestamp": 1664771171079,
     "user": {
      "displayName": "Esteban Ariza Acosta",
      "userId": "06368682392842702757"
     },
     "user_tz": 300
    },
    "id": "8PI5ngTkmzuP",
    "outputId": "b80fb218-786e-4596-8e06-e450d0caaa23"
   },
   "outputs": [
    {
     "data": {
      "text/html": [
       "<div>\n",
       "<style scoped>\n",
       "    .dataframe tbody tr th:only-of-type {\n",
       "        vertical-align: middle;\n",
       "    }\n",
       "\n",
       "    .dataframe tbody tr th {\n",
       "        vertical-align: top;\n",
       "    }\n",
       "\n",
       "    .dataframe thead th {\n",
       "        text-align: right;\n",
       "    }\n",
       "</style>\n",
       "<table border=\"1\" class=\"dataframe\">\n",
       "  <thead>\n",
       "    <tr style=\"text-align: right;\">\n",
       "      <th></th>\n",
       "      <th>HOTEL_RATING</th>\n",
       "      <th>HOTEL_PRICE</th>\n",
       "      <th>REVIEW_RATING</th>\n",
       "      <th>REVIEW_HELPFUL_VOTES</th>\n",
       "    </tr>\n",
       "  </thead>\n",
       "  <tbody>\n",
       "    <tr>\n",
       "      <th>count</th>\n",
       "      <td>85102.000000</td>\n",
       "      <td>85102.000000</td>\n",
       "      <td>85102.000000</td>\n",
       "      <td>85102.000000</td>\n",
       "    </tr>\n",
       "    <tr>\n",
       "      <th>mean</th>\n",
       "      <td>46.223473</td>\n",
       "      <td>355.249606</td>\n",
       "      <td>4.637999</td>\n",
       "      <td>1.410519</td>\n",
       "    </tr>\n",
       "    <tr>\n",
       "      <th>std</th>\n",
       "      <td>2.969000</td>\n",
       "      <td>377.259437</td>\n",
       "      <td>0.802392</td>\n",
       "      <td>1.919522</td>\n",
       "    </tr>\n",
       "    <tr>\n",
       "      <th>min</th>\n",
       "      <td>35.000000</td>\n",
       "      <td>0.000000</td>\n",
       "      <td>1.000000</td>\n",
       "      <td>0.000000</td>\n",
       "    </tr>\n",
       "    <tr>\n",
       "      <th>25%</th>\n",
       "      <td>45.000000</td>\n",
       "      <td>148.000000</td>\n",
       "      <td>5.000000</td>\n",
       "      <td>1.000000</td>\n",
       "    </tr>\n",
       "    <tr>\n",
       "      <th>50%</th>\n",
       "      <td>45.000000</td>\n",
       "      <td>237.000000</td>\n",
       "      <td>5.000000</td>\n",
       "      <td>1.000000</td>\n",
       "    </tr>\n",
       "    <tr>\n",
       "      <th>75%</th>\n",
       "      <td>50.000000</td>\n",
       "      <td>463.000000</td>\n",
       "      <td>5.000000</td>\n",
       "      <td>2.000000</td>\n",
       "    </tr>\n",
       "    <tr>\n",
       "      <th>max</th>\n",
       "      <td>50.000000</td>\n",
       "      <td>3001.000000</td>\n",
       "      <td>5.000000</td>\n",
       "      <td>209.000000</td>\n",
       "    </tr>\n",
       "  </tbody>\n",
       "</table>\n",
       "</div>"
      ],
      "text/plain": [
       "       HOTEL_RATING   HOTEL_PRICE  REVIEW_RATING  REVIEW_HELPFUL_VOTES\n",
       "count  85102.000000  85102.000000   85102.000000          85102.000000\n",
       "mean      46.223473    355.249606       4.637999              1.410519\n",
       "std        2.969000    377.259437       0.802392              1.919522\n",
       "min       35.000000      0.000000       1.000000              0.000000\n",
       "25%       45.000000    148.000000       5.000000              1.000000\n",
       "50%       45.000000    237.000000       5.000000              1.000000\n",
       "75%       50.000000    463.000000       5.000000              2.000000\n",
       "max       50.000000   3001.000000       5.000000            209.000000"
      ]
     },
     "execution_count": 17,
     "metadata": {},
     "output_type": "execute_result"
    }
   ],
   "source": [
    "HOTEL_DATA.describe()"
   ]
  },
  {
   "cell_type": "markdown",
   "metadata": {
    "id": "xHMHTvGZ-yDz"
   },
   "source": [
    "### REVIEWS"
   ]
  },
  {
   "cell_type": "code",
   "execution_count": 18,
   "metadata": {
    "executionInfo": {
     "elapsed": 15,
     "status": "ok",
     "timestamp": 1664771171079,
     "user": {
      "displayName": "Esteban Ariza Acosta",
      "userId": "06368682392842702757"
     },
     "user_tz": 300
    },
    "id": "d1fPZk3mw4Yt"
   },
   "outputs": [],
   "source": [
    "# DF - REVIEW LENGTH (Add new col REVIEW TEXT LENGTH)\n",
    "REVIEW_LENGTH_HOTEL_DATA = HOTEL_DATA.copy()\n",
    "REVIEW_LENGTH_HOTEL_DATA[\"REVIEW_TEXT_LENGTH\"] = REVIEW_LENGTH_HOTEL_DATA[\"REVIEW_TEXT\"].map(len)"
   ]
  },
  {
   "cell_type": "markdown",
   "metadata": {
    "id": "yp15T6u0n40x"
   },
   "source": [
    "#### REVIEW_RATING"
   ]
  },
  {
   "cell_type": "code",
   "execution_count": 19,
   "metadata": {
    "colab": {
     "base_uri": "https://localhost:8080/",
     "height": 0
    },
    "executionInfo": {
     "elapsed": 15,
     "status": "ok",
     "timestamp": 1664771171080,
     "user": {
      "displayName": "Esteban Ariza Acosta",
      "userId": "06368682392842702757"
     },
     "user_tz": 300
    },
    "id": "X8R_X2WFnioQ",
    "outputId": "879adaa7-44d5-471c-9181-d10ac326b1d4"
   },
   "outputs": [
    {
     "data": {
      "text/html": [
       "<div>\n",
       "<style scoped>\n",
       "    .dataframe tbody tr th:only-of-type {\n",
       "        vertical-align: middle;\n",
       "    }\n",
       "\n",
       "    .dataframe tbody tr th {\n",
       "        vertical-align: top;\n",
       "    }\n",
       "\n",
       "    .dataframe thead th {\n",
       "        text-align: right;\n",
       "    }\n",
       "</style>\n",
       "<table border=\"1\" class=\"dataframe\">\n",
       "  <thead>\n",
       "    <tr style=\"text-align: right;\">\n",
       "      <th></th>\n",
       "      <th>HOTEL_NAME</th>\n",
       "      <th>HOTEL_RATING</th>\n",
       "      <th>HOTEL_PRICE</th>\n",
       "      <th>HOTEL_LOCATION</th>\n",
       "      <th>HOTEL_REVIEW_URL</th>\n",
       "      <th>REVIEW_RATING</th>\n",
       "      <th>REVIEW_DATE</th>\n",
       "      <th>REVIEW_HELPFUL_VOTES</th>\n",
       "      <th>REVIEW_TEXT</th>\n",
       "      <th>HOTEL_SUSTAINABLE</th>\n",
       "      <th>REVIEW_TEXT_LENGTH</th>\n",
       "    </tr>\n",
       "  </thead>\n",
       "  <tbody>\n",
       "    <tr>\n",
       "      <th>0</th>\n",
       "      <td>Hotel Restaurant VILLINO</td>\n",
       "      <td>50</td>\n",
       "      <td>0.0</td>\n",
       "      <td>Mittenbuch 6, 88131, Lindau, Bavaria Germany</td>\n",
       "      <td>https://www.tripadvisor.com/Hotel_Review-g1986...</td>\n",
       "      <td>5</td>\n",
       "      <td>2022-09-01</td>\n",
       "      <td>0</td>\n",
       "      <td>Stayed here 5 nights. Immaculate rooms, beauti...</td>\n",
       "      <td>NO</td>\n",
       "      <td>432</td>\n",
       "    </tr>\n",
       "    <tr>\n",
       "      <th>53342</th>\n",
       "      <td>The Pucic Palace</td>\n",
       "      <td>45</td>\n",
       "      <td>267.0</td>\n",
       "      <td>Ulica Od Puca 1, Dubrovnik 20000 Croatia</td>\n",
       "      <td>https://www.tripadvisor.com/Hotel_Review-g2953...</td>\n",
       "      <td>5</td>\n",
       "      <td>2015-07-01</td>\n",
       "      <td>1</td>\n",
       "      <td>It's not the cheapest hotel but if you want to...</td>\n",
       "      <td>NO</td>\n",
       "      <td>663</td>\n",
       "    </tr>\n",
       "    <tr>\n",
       "      <th>53349</th>\n",
       "      <td>The Pucic Palace</td>\n",
       "      <td>45</td>\n",
       "      <td>267.0</td>\n",
       "      <td>Ulica Od Puca 1, Dubrovnik 20000 Croatia</td>\n",
       "      <td>https://www.tripadvisor.com/Hotel_Review-g2953...</td>\n",
       "      <td>5</td>\n",
       "      <td>2015-07-01</td>\n",
       "      <td>2</td>\n",
       "      <td>Spent only two days there in July but had a wo...</td>\n",
       "      <td>NO</td>\n",
       "      <td>243</td>\n",
       "    </tr>\n",
       "    <tr>\n",
       "      <th>53347</th>\n",
       "      <td>The Pucic Palace</td>\n",
       "      <td>45</td>\n",
       "      <td>267.0</td>\n",
       "      <td>Ulica Od Puca 1, Dubrovnik 20000 Croatia</td>\n",
       "      <td>https://www.tripadvisor.com/Hotel_Review-g2953...</td>\n",
       "      <td>5</td>\n",
       "      <td>2015-06-01</td>\n",
       "      <td>2</td>\n",
       "      <td>Lovely hotel - large room with huge comfortabl...</td>\n",
       "      <td>NO</td>\n",
       "      <td>274</td>\n",
       "    </tr>\n",
       "    <tr>\n",
       "      <th>53346</th>\n",
       "      <td>The Pucic Palace</td>\n",
       "      <td>45</td>\n",
       "      <td>267.0</td>\n",
       "      <td>Ulica Od Puca 1, Dubrovnik 20000 Croatia</td>\n",
       "      <td>https://www.tripadvisor.com/Hotel_Review-g2953...</td>\n",
       "      <td>5</td>\n",
       "      <td>2015-07-01</td>\n",
       "      <td>2</td>\n",
       "      <td>Excellent location and helpful, friendly staff...</td>\n",
       "      <td>NO</td>\n",
       "      <td>283</td>\n",
       "    </tr>\n",
       "    <tr>\n",
       "      <th>...</th>\n",
       "      <td>...</td>\n",
       "      <td>...</td>\n",
       "      <td>...</td>\n",
       "      <td>...</td>\n",
       "      <td>...</td>\n",
       "      <td>...</td>\n",
       "      <td>...</td>\n",
       "      <td>...</td>\n",
       "      <td>...</td>\n",
       "      <td>...</td>\n",
       "      <td>...</td>\n",
       "    </tr>\n",
       "    <tr>\n",
       "      <th>54910</th>\n",
       "      <td>Le Meridien Lav, Split</td>\n",
       "      <td>40</td>\n",
       "      <td>163.0</td>\n",
       "      <td>Grljevacka, Podstrana 21312 Croatia</td>\n",
       "      <td>https://www.tripadvisor.com/Hotel_Review-g6705...</td>\n",
       "      <td>1</td>\n",
       "      <td>2021-08-01</td>\n",
       "      <td>1</td>\n",
       "      <td>1st, the location  is outstanding.  Nice pool ...</td>\n",
       "      <td>NO</td>\n",
       "      <td>377</td>\n",
       "    </tr>\n",
       "    <tr>\n",
       "      <th>48239</th>\n",
       "      <td>Amadria Park Hotel Milenij</td>\n",
       "      <td>45</td>\n",
       "      <td>199.0</td>\n",
       "      <td>Marshala Tita 109, Opatija 51410 Croatia</td>\n",
       "      <td>https://www.tripadvisor.com/Hotel_Review-g2975...</td>\n",
       "      <td>1</td>\n",
       "      <td>2014-02-01</td>\n",
       "      <td>2</td>\n",
       "      <td>We thought they were joking when we were given...</td>\n",
       "      <td>NO</td>\n",
       "      <td>422</td>\n",
       "    </tr>\n",
       "    <tr>\n",
       "      <th>18389</th>\n",
       "      <td>Hotel Cappuccino</td>\n",
       "      <td>40</td>\n",
       "      <td>355.0</td>\n",
       "      <td>Plaza de Cort, 07001 Palma de Mallorca, Majorc...</td>\n",
       "      <td>https://www.tripadvisor.com/Hotel_Review-g1874...</td>\n",
       "      <td>1</td>\n",
       "      <td>2022-10-01</td>\n",
       "      <td>0</td>\n",
       "      <td>Waiter and manager is so impolite specifically...</td>\n",
       "      <td>NO</td>\n",
       "      <td>207</td>\n",
       "    </tr>\n",
       "    <tr>\n",
       "      <th>18392</th>\n",
       "      <td>Hotel Cappuccino</td>\n",
       "      <td>40</td>\n",
       "      <td>355.0</td>\n",
       "      <td>Plaza de Cort, 07001 Palma de Mallorca, Majorc...</td>\n",
       "      <td>https://www.tripadvisor.com/Hotel_Review-g1874...</td>\n",
       "      <td>1</td>\n",
       "      <td>2022-08-01</td>\n",
       "      <td>0</td>\n",
       "      <td>Stayed for 6 days recently. £6000 for two room...</td>\n",
       "      <td>NO</td>\n",
       "      <td>593</td>\n",
       "    </tr>\n",
       "    <tr>\n",
       "      <th>22887</th>\n",
       "      <td>Anantara Grand Hotel Krasnapolsky Amsterdam</td>\n",
       "      <td>45</td>\n",
       "      <td>330.0</td>\n",
       "      <td>Dam 9, 1012 JS Amsterdam The Netherlands</td>\n",
       "      <td>https://www.tripadvisor.com/Hotel_Review-g1885...</td>\n",
       "      <td>1</td>\n",
       "      <td>2020-03-01</td>\n",
       "      <td>5</td>\n",
       "      <td>I stayed at this hotel several years ago and t...</td>\n",
       "      <td>NO</td>\n",
       "      <td>790</td>\n",
       "    </tr>\n",
       "  </tbody>\n",
       "</table>\n",
       "<p>85102 rows × 11 columns</p>\n",
       "</div>"
      ],
      "text/plain": [
       "                                        HOTEL_NAME  HOTEL_RATING  HOTEL_PRICE  \\\n",
       "0                         Hotel Restaurant VILLINO            50          0.0   \n",
       "53342                             The Pucic Palace            45        267.0   \n",
       "53349                             The Pucic Palace            45        267.0   \n",
       "53347                             The Pucic Palace            45        267.0   \n",
       "53346                             The Pucic Palace            45        267.0   \n",
       "...                                            ...           ...          ...   \n",
       "54910                       Le Meridien Lav, Split            40        163.0   \n",
       "48239                   Amadria Park Hotel Milenij            45        199.0   \n",
       "18389                             Hotel Cappuccino            40        355.0   \n",
       "18392                             Hotel Cappuccino            40        355.0   \n",
       "22887  Anantara Grand Hotel Krasnapolsky Amsterdam            45        330.0   \n",
       "\n",
       "                                          HOTEL_LOCATION  \\\n",
       "0           Mittenbuch 6, 88131, Lindau, Bavaria Germany   \n",
       "53342           Ulica Od Puca 1, Dubrovnik 20000 Croatia   \n",
       "53349           Ulica Od Puca 1, Dubrovnik 20000 Croatia   \n",
       "53347           Ulica Od Puca 1, Dubrovnik 20000 Croatia   \n",
       "53346           Ulica Od Puca 1, Dubrovnik 20000 Croatia   \n",
       "...                                                  ...   \n",
       "54910                Grljevacka, Podstrana 21312 Croatia   \n",
       "48239           Marshala Tita 109, Opatija 51410 Croatia   \n",
       "18389  Plaza de Cort, 07001 Palma de Mallorca, Majorc...   \n",
       "18392  Plaza de Cort, 07001 Palma de Mallorca, Majorc...   \n",
       "22887           Dam 9, 1012 JS Amsterdam The Netherlands   \n",
       "\n",
       "                                        HOTEL_REVIEW_URL  REVIEW_RATING  \\\n",
       "0      https://www.tripadvisor.com/Hotel_Review-g1986...              5   \n",
       "53342  https://www.tripadvisor.com/Hotel_Review-g2953...              5   \n",
       "53349  https://www.tripadvisor.com/Hotel_Review-g2953...              5   \n",
       "53347  https://www.tripadvisor.com/Hotel_Review-g2953...              5   \n",
       "53346  https://www.tripadvisor.com/Hotel_Review-g2953...              5   \n",
       "...                                                  ...            ...   \n",
       "54910  https://www.tripadvisor.com/Hotel_Review-g6705...              1   \n",
       "48239  https://www.tripadvisor.com/Hotel_Review-g2975...              1   \n",
       "18389  https://www.tripadvisor.com/Hotel_Review-g1874...              1   \n",
       "18392  https://www.tripadvisor.com/Hotel_Review-g1874...              1   \n",
       "22887  https://www.tripadvisor.com/Hotel_Review-g1885...              1   \n",
       "\n",
       "      REVIEW_DATE  REVIEW_HELPFUL_VOTES  \\\n",
       "0      2022-09-01                     0   \n",
       "53342  2015-07-01                     1   \n",
       "53349  2015-07-01                     2   \n",
       "53347  2015-06-01                     2   \n",
       "53346  2015-07-01                     2   \n",
       "...           ...                   ...   \n",
       "54910  2021-08-01                     1   \n",
       "48239  2014-02-01                     2   \n",
       "18389  2022-10-01                     0   \n",
       "18392  2022-08-01                     0   \n",
       "22887  2020-03-01                     5   \n",
       "\n",
       "                                             REVIEW_TEXT HOTEL_SUSTAINABLE  \\\n",
       "0      Stayed here 5 nights. Immaculate rooms, beauti...                NO   \n",
       "53342  It's not the cheapest hotel but if you want to...                NO   \n",
       "53349  Spent only two days there in July but had a wo...                NO   \n",
       "53347  Lovely hotel - large room with huge comfortabl...                NO   \n",
       "53346  Excellent location and helpful, friendly staff...                NO   \n",
       "...                                                  ...               ...   \n",
       "54910  1st, the location  is outstanding.  Nice pool ...                NO   \n",
       "48239  We thought they were joking when we were given...                NO   \n",
       "18389  Waiter and manager is so impolite specifically...                NO   \n",
       "18392  Stayed for 6 days recently. £6000 for two room...                NO   \n",
       "22887  I stayed at this hotel several years ago and t...                NO   \n",
       "\n",
       "       REVIEW_TEXT_LENGTH  \n",
       "0                     432  \n",
       "53342                 663  \n",
       "53349                 243  \n",
       "53347                 274  \n",
       "53346                 283  \n",
       "...                   ...  \n",
       "54910                 377  \n",
       "48239                 422  \n",
       "18389                 207  \n",
       "18392                 593  \n",
       "22887                 790  \n",
       "\n",
       "[85102 rows x 11 columns]"
      ]
     },
     "execution_count": 19,
     "metadata": {},
     "output_type": "execute_result"
    }
   ],
   "source": [
    "REVIEW_LENGTH_HOTEL_DATA.sort_values(by = ['REVIEW_RATING'], ascending = False)"
   ]
  },
  {
   "cell_type": "markdown",
   "metadata": {
    "id": "BImERyuV_BIF"
   },
   "source": [
    "#### REVIEW_TEXT"
   ]
  },
  {
   "cell_type": "code",
   "execution_count": 20,
   "metadata": {
    "colab": {
     "base_uri": "https://localhost:8080/",
     "height": 0
    },
    "executionInfo": {
     "elapsed": 15,
     "status": "ok",
     "timestamp": 1664771171080,
     "user": {
      "displayName": "Esteban Ariza Acosta",
      "userId": "06368682392842702757"
     },
     "user_tz": 300
    },
    "id": "9MOmI7_F_HsY",
    "outputId": "572d0e44-28bc-41a1-f737-f8fea28d4ffb"
   },
   "outputs": [
    {
     "data": {
      "text/html": [
       "<div>\n",
       "<style scoped>\n",
       "    .dataframe tbody tr th:only-of-type {\n",
       "        vertical-align: middle;\n",
       "    }\n",
       "\n",
       "    .dataframe tbody tr th {\n",
       "        vertical-align: top;\n",
       "    }\n",
       "\n",
       "    .dataframe thead th {\n",
       "        text-align: right;\n",
       "    }\n",
       "</style>\n",
       "<table border=\"1\" class=\"dataframe\">\n",
       "  <thead>\n",
       "    <tr style=\"text-align: right;\">\n",
       "      <th></th>\n",
       "      <th>HOTEL_NAME</th>\n",
       "      <th>HOTEL_RATING</th>\n",
       "      <th>HOTEL_PRICE</th>\n",
       "      <th>HOTEL_LOCATION</th>\n",
       "      <th>HOTEL_REVIEW_URL</th>\n",
       "      <th>REVIEW_RATING</th>\n",
       "      <th>REVIEW_DATE</th>\n",
       "      <th>REVIEW_HELPFUL_VOTES</th>\n",
       "      <th>REVIEW_TEXT</th>\n",
       "      <th>HOTEL_SUSTAINABLE</th>\n",
       "      <th>REVIEW_TEXT_LENGTH</th>\n",
       "    </tr>\n",
       "  </thead>\n",
       "  <tbody>\n",
       "    <tr>\n",
       "      <th>14771</th>\n",
       "      <td>Falkensteiner Hotel &amp; Spa Iadera</td>\n",
       "      <td>45</td>\n",
       "      <td>159.0</td>\n",
       "      <td>Ulica 1/151, Zadar 23231 Croatia</td>\n",
       "      <td>https://www.tripadvisor.com/Hotel_Review-g2953...</td>\n",
       "      <td>4</td>\n",
       "      <td>2022-09-01</td>\n",
       "      <td>0</td>\n",
       "      <td>Reading through some of the recent reviews, I ...</td>\n",
       "      <td>YES</td>\n",
       "      <td>7388</td>\n",
       "    </tr>\n",
       "    <tr>\n",
       "      <th>33080</th>\n",
       "      <td>Four Seasons Hotel Prague</td>\n",
       "      <td>50</td>\n",
       "      <td>540.0</td>\n",
       "      <td>Veleslavinova 1098/2A, Prague 110 00 Czech Rep...</td>\n",
       "      <td>https://www.tripadvisor.com/Hotel_Review-g2747...</td>\n",
       "      <td>5</td>\n",
       "      <td>2022-08-01</td>\n",
       "      <td>3</td>\n",
       "      <td>A few years back a friend was invited to atten...</td>\n",
       "      <td>NO</td>\n",
       "      <td>7073</td>\n",
       "    </tr>\n",
       "    <tr>\n",
       "      <th>9863</th>\n",
       "      <td>Cipriani, A Belmond Hotel, Venice</td>\n",
       "      <td>45</td>\n",
       "      <td>950.0</td>\n",
       "      <td>Giudecca 10, 30133 Venice Italy</td>\n",
       "      <td>https://www.tripadvisor.com/Hotel_Review-g1878...</td>\n",
       "      <td>4</td>\n",
       "      <td>2022-09-01</td>\n",
       "      <td>0</td>\n",
       "      <td>Our stay would have been pure LA Dolce Vita if...</td>\n",
       "      <td>NO</td>\n",
       "      <td>7018</td>\n",
       "    </tr>\n",
       "    <tr>\n",
       "      <th>5671</th>\n",
       "      <td>Lily of the Valley</td>\n",
       "      <td>45</td>\n",
       "      <td>0.0</td>\n",
       "      <td>Boulevard Abel Faivre Colline Saint-Michel, Qu...</td>\n",
       "      <td>https://www.tripadvisor.com/Hotel_Review-g1966...</td>\n",
       "      <td>3</td>\n",
       "      <td>2022-04-01</td>\n",
       "      <td>1</td>\n",
       "      <td>We were looking for a peaceful couples retreat...</td>\n",
       "      <td>NO</td>\n",
       "      <td>6912</td>\n",
       "    </tr>\n",
       "    <tr>\n",
       "      <th>6679</th>\n",
       "      <td>Culinair Landgoed Parc Broekhuizen</td>\n",
       "      <td>45</td>\n",
       "      <td>210.0</td>\n",
       "      <td>Broekhuizerlaan 2, 3956 NS Leersum The Netherl...</td>\n",
       "      <td>https://www.tripadvisor.com/Hotel_Review-g3665...</td>\n",
       "      <td>1</td>\n",
       "      <td>2019-10-01</td>\n",
       "      <td>5</td>\n",
       "      <td>Described as a 'Culinary Destination' thanks t...</td>\n",
       "      <td>YES</td>\n",
       "      <td>6371</td>\n",
       "    </tr>\n",
       "    <tr>\n",
       "      <th>...</th>\n",
       "      <td>...</td>\n",
       "      <td>...</td>\n",
       "      <td>...</td>\n",
       "      <td>...</td>\n",
       "      <td>...</td>\n",
       "      <td>...</td>\n",
       "      <td>...</td>\n",
       "      <td>...</td>\n",
       "      <td>...</td>\n",
       "      <td>...</td>\n",
       "      <td>...</td>\n",
       "    </tr>\n",
       "    <tr>\n",
       "      <th>42999</th>\n",
       "      <td>Hotel Klosterbrau &amp; SPA</td>\n",
       "      <td>45</td>\n",
       "      <td>458.0</td>\n",
       "      <td>Klosterstraße 30, Seefeld in Tirol 6100 Austria</td>\n",
       "      <td>https://www.tripadvisor.com/Hotel_Review-g3197...</td>\n",
       "      <td>5</td>\n",
       "      <td>2009-06-01</td>\n",
       "      <td>1</td>\n",
       "      <td>Very good service , nice SPA and very good res...</td>\n",
       "      <td>NO</td>\n",
       "      <td>57</td>\n",
       "    </tr>\n",
       "    <tr>\n",
       "      <th>35416</th>\n",
       "      <td>Hotel Three Storks</td>\n",
       "      <td>45</td>\n",
       "      <td>98.0</td>\n",
       "      <td>Valdstejnske Namesti 20/8, Prague 118 00 Czech...</td>\n",
       "      <td>https://www.tripadvisor.com/Hotel_Review-g2747...</td>\n",
       "      <td>4</td>\n",
       "      <td>2012-01-01</td>\n",
       "      <td>1</td>\n",
       "      <td>The hotel in good location, sleep quality and ...</td>\n",
       "      <td>NO</td>\n",
       "      <td>56</td>\n",
       "    </tr>\n",
       "    <tr>\n",
       "      <th>12663</th>\n",
       "      <td>Relais Santa Croce by Baglioni Hotels &amp; Resorts</td>\n",
       "      <td>45</td>\n",
       "      <td>712.0</td>\n",
       "      <td>Via Ghibellina 87, 50122, Florence Italy</td>\n",
       "      <td>https://www.tripadvisor.com/Hotel_Review-g1878...</td>\n",
       "      <td>5</td>\n",
       "      <td>2007-11-01</td>\n",
       "      <td>1</td>\n",
       "      <td>Beautiful place, a pure luxury and really roma...</td>\n",
       "      <td>NO</td>\n",
       "      <td>53</td>\n",
       "    </tr>\n",
       "    <tr>\n",
       "      <th>45228</th>\n",
       "      <td>Hotel Sonnenburg</td>\n",
       "      <td>45</td>\n",
       "      <td>0.0</td>\n",
       "      <td>Oberlech 55, Lech 6764 Austria</td>\n",
       "      <td>https://www.tripadvisor.com/Hotel_Review-g2620...</td>\n",
       "      <td>5</td>\n",
       "      <td>2011-02-01</td>\n",
       "      <td>1</td>\n",
       "      <td>Perfect location, excellent food - an enjoyabl...</td>\n",
       "      <td>NO</td>\n",
       "      <td>52</td>\n",
       "    </tr>\n",
       "    <tr>\n",
       "      <th>43942</th>\n",
       "      <td>Interalpen-Hotel Tyrol</td>\n",
       "      <td>50</td>\n",
       "      <td>544.0</td>\n",
       "      <td>Dr.-Hans-Liebherr-Alpenstrasse 1 Buchen, Telfs...</td>\n",
       "      <td>https://www.tripadvisor.com/Hotel_Review-g1165...</td>\n",
       "      <td>5</td>\n",
       "      <td>2006-12-01</td>\n",
       "      <td>1</td>\n",
       "      <td>Best Service, Best Lounge, Best Personal, Best...</td>\n",
       "      <td>NO</td>\n",
       "      <td>52</td>\n",
       "    </tr>\n",
       "  </tbody>\n",
       "</table>\n",
       "<p>85102 rows × 11 columns</p>\n",
       "</div>"
      ],
      "text/plain": [
       "                                            HOTEL_NAME  HOTEL_RATING  \\\n",
       "14771                 Falkensteiner Hotel & Spa Iadera            45   \n",
       "33080                        Four Seasons Hotel Prague            50   \n",
       "9863                 Cipriani, A Belmond Hotel, Venice            45   \n",
       "5671                                Lily of the Valley            45   \n",
       "6679                Culinair Landgoed Parc Broekhuizen            45   \n",
       "...                                                ...           ...   \n",
       "42999                          Hotel Klosterbrau & SPA            45   \n",
       "35416                               Hotel Three Storks            45   \n",
       "12663  Relais Santa Croce by Baglioni Hotels & Resorts            45   \n",
       "45228                                 Hotel Sonnenburg            45   \n",
       "43942                           Interalpen-Hotel Tyrol            50   \n",
       "\n",
       "       HOTEL_PRICE                                     HOTEL_LOCATION  \\\n",
       "14771        159.0                   Ulica 1/151, Zadar 23231 Croatia   \n",
       "33080        540.0  Veleslavinova 1098/2A, Prague 110 00 Czech Rep...   \n",
       "9863         950.0                    Giudecca 10, 30133 Venice Italy   \n",
       "5671           0.0  Boulevard Abel Faivre Colline Saint-Michel, Qu...   \n",
       "6679         210.0  Broekhuizerlaan 2, 3956 NS Leersum The Netherl...   \n",
       "...            ...                                                ...   \n",
       "42999        458.0    Klosterstraße 30, Seefeld in Tirol 6100 Austria   \n",
       "35416         98.0  Valdstejnske Namesti 20/8, Prague 118 00 Czech...   \n",
       "12663        712.0           Via Ghibellina 87, 50122, Florence Italy   \n",
       "45228          0.0                     Oberlech 55, Lech 6764 Austria   \n",
       "43942        544.0  Dr.-Hans-Liebherr-Alpenstrasse 1 Buchen, Telfs...   \n",
       "\n",
       "                                        HOTEL_REVIEW_URL  REVIEW_RATING  \\\n",
       "14771  https://www.tripadvisor.com/Hotel_Review-g2953...              4   \n",
       "33080  https://www.tripadvisor.com/Hotel_Review-g2747...              5   \n",
       "9863   https://www.tripadvisor.com/Hotel_Review-g1878...              4   \n",
       "5671   https://www.tripadvisor.com/Hotel_Review-g1966...              3   \n",
       "6679   https://www.tripadvisor.com/Hotel_Review-g3665...              1   \n",
       "...                                                  ...            ...   \n",
       "42999  https://www.tripadvisor.com/Hotel_Review-g3197...              5   \n",
       "35416  https://www.tripadvisor.com/Hotel_Review-g2747...              4   \n",
       "12663  https://www.tripadvisor.com/Hotel_Review-g1878...              5   \n",
       "45228  https://www.tripadvisor.com/Hotel_Review-g2620...              5   \n",
       "43942  https://www.tripadvisor.com/Hotel_Review-g1165...              5   \n",
       "\n",
       "      REVIEW_DATE  REVIEW_HELPFUL_VOTES  \\\n",
       "14771  2022-09-01                     0   \n",
       "33080  2022-08-01                     3   \n",
       "9863   2022-09-01                     0   \n",
       "5671   2022-04-01                     1   \n",
       "6679   2019-10-01                     5   \n",
       "...           ...                   ...   \n",
       "42999  2009-06-01                     1   \n",
       "35416  2012-01-01                     1   \n",
       "12663  2007-11-01                     1   \n",
       "45228  2011-02-01                     1   \n",
       "43942  2006-12-01                     1   \n",
       "\n",
       "                                             REVIEW_TEXT HOTEL_SUSTAINABLE  \\\n",
       "14771  Reading through some of the recent reviews, I ...               YES   \n",
       "33080  A few years back a friend was invited to atten...                NO   \n",
       "9863   Our stay would have been pure LA Dolce Vita if...                NO   \n",
       "5671   We were looking for a peaceful couples retreat...                NO   \n",
       "6679   Described as a 'Culinary Destination' thanks t...               YES   \n",
       "...                                                  ...               ...   \n",
       "42999  Very good service , nice SPA and very good res...                NO   \n",
       "35416  The hotel in good location, sleep quality and ...                NO   \n",
       "12663  Beautiful place, a pure luxury and really roma...                NO   \n",
       "45228  Perfect location, excellent food - an enjoyabl...                NO   \n",
       "43942  Best Service, Best Lounge, Best Personal, Best...                NO   \n",
       "\n",
       "       REVIEW_TEXT_LENGTH  \n",
       "14771                7388  \n",
       "33080                7073  \n",
       "9863                 7018  \n",
       "5671                 6912  \n",
       "6679                 6371  \n",
       "...                   ...  \n",
       "42999                  57  \n",
       "35416                  56  \n",
       "12663                  53  \n",
       "45228                  52  \n",
       "43942                  52  \n",
       "\n",
       "[85102 rows x 11 columns]"
      ]
     },
     "execution_count": 20,
     "metadata": {},
     "output_type": "execute_result"
    }
   ],
   "source": [
    "REVIEW_LENGTH_HOTEL_DATA.sort_values(by = ['REVIEW_TEXT_LENGTH'], ascending = False)"
   ]
  },
  {
   "cell_type": "markdown",
   "metadata": {
    "id": "MmJXa_WBwiPp"
   },
   "source": [
    "#### REVIEW DATE"
   ]
  },
  {
   "cell_type": "code",
   "execution_count": 21,
   "metadata": {
    "colab": {
     "base_uri": "https://localhost:8080/",
     "height": 0
    },
    "executionInfo": {
     "elapsed": 14,
     "status": "ok",
     "timestamp": 1664771171080,
     "user": {
      "displayName": "Esteban Ariza Acosta",
      "userId": "06368682392842702757"
     },
     "user_tz": 300
    },
    "id": "dL8wD5S1wrW6",
    "outputId": "603092c1-9d02-4212-d2aa-5e437a5e51cb"
   },
   "outputs": [
    {
     "data": {
      "text/html": [
       "<div>\n",
       "<style scoped>\n",
       "    .dataframe tbody tr th:only-of-type {\n",
       "        vertical-align: middle;\n",
       "    }\n",
       "\n",
       "    .dataframe tbody tr th {\n",
       "        vertical-align: top;\n",
       "    }\n",
       "\n",
       "    .dataframe thead th {\n",
       "        text-align: right;\n",
       "    }\n",
       "</style>\n",
       "<table border=\"1\" class=\"dataframe\">\n",
       "  <thead>\n",
       "    <tr style=\"text-align: right;\">\n",
       "      <th></th>\n",
       "      <th>HOTEL_NAME</th>\n",
       "      <th>HOTEL_RATING</th>\n",
       "      <th>HOTEL_PRICE</th>\n",
       "      <th>HOTEL_LOCATION</th>\n",
       "      <th>HOTEL_REVIEW_URL</th>\n",
       "      <th>REVIEW_RATING</th>\n",
       "      <th>REVIEW_DATE</th>\n",
       "      <th>REVIEW_HELPFUL_VOTES</th>\n",
       "      <th>REVIEW_TEXT</th>\n",
       "      <th>HOTEL_SUSTAINABLE</th>\n",
       "      <th>REVIEW_TEXT_LENGTH</th>\n",
       "    </tr>\n",
       "  </thead>\n",
       "  <tbody>\n",
       "    <tr>\n",
       "      <th>58178</th>\n",
       "      <td>Andrassy Kuria &amp; Spa</td>\n",
       "      <td>45</td>\n",
       "      <td>0.0</td>\n",
       "      <td>Fo utca 94, Tarcal 3915 Hungary</td>\n",
       "      <td>https://www.tripadvisor.com/Hotel_Review-g1099...</td>\n",
       "      <td>5</td>\n",
       "      <td>2022-10-01</td>\n",
       "      <td>0</td>\n",
       "      <td>Quiet and calm hotel, the staff gave excellen...</td>\n",
       "      <td>NO</td>\n",
       "      <td>362</td>\n",
       "    </tr>\n",
       "    <tr>\n",
       "      <th>66131</th>\n",
       "      <td>W Algarve</td>\n",
       "      <td>45</td>\n",
       "      <td>305.0</td>\n",
       "      <td>Estrada da Gale, Sesmarias, Albufeira 8200-385...</td>\n",
       "      <td>https://www.tripadvisor.com/Hotel_Review-g5784...</td>\n",
       "      <td>5</td>\n",
       "      <td>2022-10-01</td>\n",
       "      <td>0</td>\n",
       "      <td>The W Algarve is a stunning, very funky, moder...</td>\n",
       "      <td>NO</td>\n",
       "      <td>688</td>\n",
       "    </tr>\n",
       "    <tr>\n",
       "      <th>49386</th>\n",
       "      <td>Esplanade Zagreb Hotel</td>\n",
       "      <td>45</td>\n",
       "      <td>139.0</td>\n",
       "      <td>Mihanoviceva 1, Zagreb 10000 Croatia</td>\n",
       "      <td>https://www.tripadvisor.com/Hotel_Review-g2944...</td>\n",
       "      <td>3</td>\n",
       "      <td>2022-10-01</td>\n",
       "      <td>0</td>\n",
       "      <td>We were so looking forward to spending our las...</td>\n",
       "      <td>NO</td>\n",
       "      <td>1582</td>\n",
       "    </tr>\n",
       "    <tr>\n",
       "      <th>65140</th>\n",
       "      <td>Reid's Palace, A Belmond Hotel, Madeira</td>\n",
       "      <td>45</td>\n",
       "      <td>810.0</td>\n",
       "      <td>Estrada Monumental 139, Funchal, Madeira 9000-...</td>\n",
       "      <td>https://www.tripadvisor.com/Hotel_Review-g1891...</td>\n",
       "      <td>5</td>\n",
       "      <td>2022-10-01</td>\n",
       "      <td>1</td>\n",
       "      <td>Fantastic hotel overlooking the ocean and Func...</td>\n",
       "      <td>NO</td>\n",
       "      <td>254</td>\n",
       "    </tr>\n",
       "    <tr>\n",
       "      <th>43957</th>\n",
       "      <td>Rosewood Vienna</td>\n",
       "      <td>50</td>\n",
       "      <td>663.0</td>\n",
       "      <td>Petersplatz 7, Vienna 1010 Austria</td>\n",
       "      <td>https://www.tripadvisor.com/Hotel_Review-g1904...</td>\n",
       "      <td>5</td>\n",
       "      <td>2022-10-01</td>\n",
       "      <td>0</td>\n",
       "      <td>Oktoberfest in Munich was always on my bucket ...</td>\n",
       "      <td>NO</td>\n",
       "      <td>3071</td>\n",
       "    </tr>\n",
       "    <tr>\n",
       "      <th>...</th>\n",
       "      <td>...</td>\n",
       "      <td>...</td>\n",
       "      <td>...</td>\n",
       "      <td>...</td>\n",
       "      <td>...</td>\n",
       "      <td>...</td>\n",
       "      <td>...</td>\n",
       "      <td>...</td>\n",
       "      <td>...</td>\n",
       "      <td>...</td>\n",
       "      <td>...</td>\n",
       "    </tr>\n",
       "    <tr>\n",
       "      <th>40723</th>\n",
       "      <td>Grandhotel Pupp</td>\n",
       "      <td>40</td>\n",
       "      <td>0.0</td>\n",
       "      <td>Mirove Namesti 2, Karlovy Vary 360 01 Czech Re...</td>\n",
       "      <td>https://www.tripadvisor.com/Hotel_Review-g2746...</td>\n",
       "      <td>5</td>\n",
       "      <td>2004-07-01</td>\n",
       "      <td>1</td>\n",
       "      <td>We stayed for in July 2004 in this traditional...</td>\n",
       "      <td>NO</td>\n",
       "      <td>111</td>\n",
       "    </tr>\n",
       "    <tr>\n",
       "      <th>40712</th>\n",
       "      <td>Grandhotel Pupp</td>\n",
       "      <td>40</td>\n",
       "      <td>0.0</td>\n",
       "      <td>Mirove Namesti 2, Karlovy Vary 360 01 Czech Re...</td>\n",
       "      <td>https://www.tripadvisor.com/Hotel_Review-g2746...</td>\n",
       "      <td>5</td>\n",
       "      <td>2004-07-01</td>\n",
       "      <td>1</td>\n",
       "      <td>My wife and I stayed there during our honeymoo...</td>\n",
       "      <td>NO</td>\n",
       "      <td>214</td>\n",
       "    </tr>\n",
       "    <tr>\n",
       "      <th>2858</th>\n",
       "      <td>Schlosshotel Munchhausen</td>\n",
       "      <td>45</td>\n",
       "      <td>0.0</td>\n",
       "      <td>Schwoebber 9, 31855 Aerzen, Lower Saxony Germany</td>\n",
       "      <td>https://www.tripadvisor.com/Hotel_Review-g1183...</td>\n",
       "      <td>5</td>\n",
       "      <td>2004-05-01</td>\n",
       "      <td>1</td>\n",
       "      <td>The Hotel is superb! Restaurants are excellent...</td>\n",
       "      <td>NO</td>\n",
       "      <td>89</td>\n",
       "    </tr>\n",
       "    <tr>\n",
       "      <th>43952</th>\n",
       "      <td>Interalpen-Hotel Tyrol</td>\n",
       "      <td>50</td>\n",
       "      <td>544.0</td>\n",
       "      <td>Dr.-Hans-Liebherr-Alpenstrasse 1 Buchen, Telfs...</td>\n",
       "      <td>https://www.tripadvisor.com/Hotel_Review-g1165...</td>\n",
       "      <td>4</td>\n",
       "      <td>2004-04-01</td>\n",
       "      <td>1</td>\n",
       "      <td>The combination of the stunning location and i...</td>\n",
       "      <td>NO</td>\n",
       "      <td>788</td>\n",
       "    </tr>\n",
       "    <tr>\n",
       "      <th>43136</th>\n",
       "      <td>Spa Hotel Jagdhof</td>\n",
       "      <td>45</td>\n",
       "      <td>396.0</td>\n",
       "      <td>Scheibe 44, Neustift im Stubaital 6167 Austria</td>\n",
       "      <td>https://www.tripadvisor.com/Hotel_Review-g6440...</td>\n",
       "      <td>5</td>\n",
       "      <td>2003-04-01</td>\n",
       "      <td>1</td>\n",
       "      <td>We have been staying at the Jagdhof for  many ...</td>\n",
       "      <td>NO</td>\n",
       "      <td>787</td>\n",
       "    </tr>\n",
       "  </tbody>\n",
       "</table>\n",
       "<p>85102 rows × 11 columns</p>\n",
       "</div>"
      ],
      "text/plain": [
       "                                    HOTEL_NAME  HOTEL_RATING  HOTEL_PRICE  \\\n",
       "58178                     Andrassy Kuria & Spa            45          0.0   \n",
       "66131                                W Algarve            45        305.0   \n",
       "49386                   Esplanade Zagreb Hotel            45        139.0   \n",
       "65140  Reid's Palace, A Belmond Hotel, Madeira            45        810.0   \n",
       "43957                          Rosewood Vienna            50        663.0   \n",
       "...                                        ...           ...          ...   \n",
       "40723                          Grandhotel Pupp            40          0.0   \n",
       "40712                          Grandhotel Pupp            40          0.0   \n",
       "2858                  Schlosshotel Munchhausen            45          0.0   \n",
       "43952                   Interalpen-Hotel Tyrol            50        544.0   \n",
       "43136                        Spa Hotel Jagdhof            45        396.0   \n",
       "\n",
       "                                          HOTEL_LOCATION  \\\n",
       "58178                    Fo utca 94, Tarcal 3915 Hungary   \n",
       "66131  Estrada da Gale, Sesmarias, Albufeira 8200-385...   \n",
       "49386               Mihanoviceva 1, Zagreb 10000 Croatia   \n",
       "65140  Estrada Monumental 139, Funchal, Madeira 9000-...   \n",
       "43957                 Petersplatz 7, Vienna 1010 Austria   \n",
       "...                                                  ...   \n",
       "40723  Mirove Namesti 2, Karlovy Vary 360 01 Czech Re...   \n",
       "40712  Mirove Namesti 2, Karlovy Vary 360 01 Czech Re...   \n",
       "2858    Schwoebber 9, 31855 Aerzen, Lower Saxony Germany   \n",
       "43952  Dr.-Hans-Liebherr-Alpenstrasse 1 Buchen, Telfs...   \n",
       "43136     Scheibe 44, Neustift im Stubaital 6167 Austria   \n",
       "\n",
       "                                        HOTEL_REVIEW_URL  REVIEW_RATING  \\\n",
       "58178  https://www.tripadvisor.com/Hotel_Review-g1099...              5   \n",
       "66131  https://www.tripadvisor.com/Hotel_Review-g5784...              5   \n",
       "49386  https://www.tripadvisor.com/Hotel_Review-g2944...              3   \n",
       "65140  https://www.tripadvisor.com/Hotel_Review-g1891...              5   \n",
       "43957  https://www.tripadvisor.com/Hotel_Review-g1904...              5   \n",
       "...                                                  ...            ...   \n",
       "40723  https://www.tripadvisor.com/Hotel_Review-g2746...              5   \n",
       "40712  https://www.tripadvisor.com/Hotel_Review-g2746...              5   \n",
       "2858   https://www.tripadvisor.com/Hotel_Review-g1183...              5   \n",
       "43952  https://www.tripadvisor.com/Hotel_Review-g1165...              4   \n",
       "43136  https://www.tripadvisor.com/Hotel_Review-g6440...              5   \n",
       "\n",
       "      REVIEW_DATE  REVIEW_HELPFUL_VOTES  \\\n",
       "58178  2022-10-01                     0   \n",
       "66131  2022-10-01                     0   \n",
       "49386  2022-10-01                     0   \n",
       "65140  2022-10-01                     1   \n",
       "43957  2022-10-01                     0   \n",
       "...           ...                   ...   \n",
       "40723  2004-07-01                     1   \n",
       "40712  2004-07-01                     1   \n",
       "2858   2004-05-01                     1   \n",
       "43952  2004-04-01                     1   \n",
       "43136  2003-04-01                     1   \n",
       "\n",
       "                                             REVIEW_TEXT HOTEL_SUSTAINABLE  \\\n",
       "58178   Quiet and calm hotel, the staff gave excellen...                NO   \n",
       "66131  The W Algarve is a stunning, very funky, moder...                NO   \n",
       "49386  We were so looking forward to spending our las...                NO   \n",
       "65140  Fantastic hotel overlooking the ocean and Func...                NO   \n",
       "43957  Oktoberfest in Munich was always on my bucket ...                NO   \n",
       "...                                                  ...               ...   \n",
       "40723  We stayed for in July 2004 in this traditional...                NO   \n",
       "40712  My wife and I stayed there during our honeymoo...                NO   \n",
       "2858   The Hotel is superb! Restaurants are excellent...                NO   \n",
       "43952  The combination of the stunning location and i...                NO   \n",
       "43136  We have been staying at the Jagdhof for  many ...                NO   \n",
       "\n",
       "       REVIEW_TEXT_LENGTH  \n",
       "58178                 362  \n",
       "66131                 688  \n",
       "49386                1582  \n",
       "65140                 254  \n",
       "43957                3071  \n",
       "...                   ...  \n",
       "40723                 111  \n",
       "40712                 214  \n",
       "2858                   89  \n",
       "43952                 788  \n",
       "43136                 787  \n",
       "\n",
       "[85102 rows x 11 columns]"
      ]
     },
     "execution_count": 21,
     "metadata": {},
     "output_type": "execute_result"
    }
   ],
   "source": [
    "REVIEW_LENGTH_HOTEL_DATA.sort_values(by = ['REVIEW_DATE'], ascending = False)"
   ]
  },
  {
   "cell_type": "markdown",
   "metadata": {
    "id": "UKrhnvJJ8_-d"
   },
   "source": [
    "### HOTELS"
   ]
  },
  {
   "cell_type": "code",
   "execution_count": 22,
   "metadata": {
    "colab": {
     "base_uri": "https://localhost:8080/"
    },
    "executionInfo": {
     "elapsed": 12,
     "status": "ok",
     "timestamp": 1664771171081,
     "user": {
      "displayName": "Esteban Ariza Acosta",
      "userId": "06368682392842702757"
     },
     "user_tz": 300
    },
    "id": "k144GuuMo9PK",
    "outputId": "3b699b09-9c40-4598-c74e-52ee818a1ae2"
   },
   "outputs": [
    {
     "name": "stdout",
     "output_type": "stream",
     "text": [
      "<class 'pandas.core.frame.DataFrame'>\n",
      "RangeIndex: 328 entries, 0 to 327\n",
      "Data columns (total 7 columns):\n",
      " #   Column              Non-Null Count  Dtype  \n",
      "---  ------              --------------  -----  \n",
      " 0   HOTEL_NAME          328 non-null    object \n",
      " 1   HOTEL_RATING        328 non-null    int64  \n",
      " 2   HOTEL_PRICE         328 non-null    float64\n",
      " 3   HOTEL_LOCATION      328 non-null    object \n",
      " 4   HOTEL_REVIEW_URL    328 non-null    object \n",
      " 5   HOTEL_SUSTAINABLE   328 non-null    object \n",
      " 6   HOTEL_REVIEW_COUNT  328 non-null    int64  \n",
      "dtypes: float64(1), int64(2), object(4)\n",
      "memory usage: 18.1+ KB\n"
     ]
    }
   ],
   "source": [
    "# DF - GENERAL HOTEL DATA (The hotel cols)\n",
    "GENERAL_HOTEL_DATA = HOTEL_DATA.groupby([\"HOTEL_NAME\", \"HOTEL_RATING\",\"HOTEL_PRICE\",\"HOTEL_LOCATION\",\"HOTEL_REVIEW_URL\",\"HOTEL_SUSTAINABLE\"]).size().reset_index(name='HOTEL_REVIEW_COUNT') # COUNT\n",
    "GENERAL_HOTEL_DATA.info()"
   ]
  },
  {
   "cell_type": "markdown",
   "metadata": {
    "id": "udNttvrGoCqT"
   },
   "source": [
    "#### HOTEL_RATING"
   ]
  },
  {
   "cell_type": "code",
   "execution_count": 23,
   "metadata": {
    "colab": {
     "base_uri": "https://localhost:8080/",
     "height": 0
    },
    "executionInfo": {
     "elapsed": 200,
     "status": "ok",
     "timestamp": 1664771171270,
     "user": {
      "displayName": "Esteban Ariza Acosta",
      "userId": "06368682392842702757"
     },
     "user_tz": 300
    },
    "id": "vEWD_Oxdob8g",
    "outputId": "61f0a576-bb60-478f-cf89-8c2fd0cb3bc5"
   },
   "outputs": [
    {
     "data": {
      "text/html": [
       "<div>\n",
       "<style scoped>\n",
       "    .dataframe tbody tr th:only-of-type {\n",
       "        vertical-align: middle;\n",
       "    }\n",
       "\n",
       "    .dataframe tbody tr th {\n",
       "        vertical-align: top;\n",
       "    }\n",
       "\n",
       "    .dataframe thead th {\n",
       "        text-align: right;\n",
       "    }\n",
       "</style>\n",
       "<table border=\"1\" class=\"dataframe\">\n",
       "  <thead>\n",
       "    <tr style=\"text-align: right;\">\n",
       "      <th></th>\n",
       "      <th>HOTEL_NAME</th>\n",
       "      <th>HOTEL_RATING</th>\n",
       "      <th>HOTEL_PRICE</th>\n",
       "      <th>HOTEL_LOCATION</th>\n",
       "      <th>HOTEL_REVIEW_URL</th>\n",
       "      <th>HOTEL_SUSTAINABLE</th>\n",
       "      <th>HOTEL_REVIEW_COUNT</th>\n",
       "    </tr>\n",
       "  </thead>\n",
       "  <tbody>\n",
       "    <tr>\n",
       "      <th>206</th>\n",
       "      <td>Largo Waterrijk Oesterdam</td>\n",
       "      <td>35</td>\n",
       "      <td>0.0</td>\n",
       "      <td>Oesterdam 3, 4691 PV Tholen The Netherlands</td>\n",
       "      <td>https://www.tripadvisor.com/Hotel_Review-g1733...</td>\n",
       "      <td>YES</td>\n",
       "      <td>3</td>\n",
       "    </tr>\n",
       "    <tr>\n",
       "      <th>96</th>\n",
       "      <td>Grand Hotel Amrath Kurhaus The Hague Scheveningen</td>\n",
       "      <td>35</td>\n",
       "      <td>111.0</td>\n",
       "      <td>Gevers Deynootplein 30, 2586 CK, The Hague The...</td>\n",
       "      <td>https://www.tripadvisor.com/Hotel_Review-g1886...</td>\n",
       "      <td>NO</td>\n",
       "      <td>500</td>\n",
       "    </tr>\n",
       "    <tr>\n",
       "      <th>132</th>\n",
       "      <td>Hotel Divinus</td>\n",
       "      <td>35</td>\n",
       "      <td>0.0</td>\n",
       "      <td>Nagyerdei korut 1., Debrecen 4032 Hungary</td>\n",
       "      <td>https://www.tripadvisor.com/Hotel_Review-g2748...</td>\n",
       "      <td>NO</td>\n",
       "      <td>159</td>\n",
       "    </tr>\n",
       "    <tr>\n",
       "      <th>117</th>\n",
       "      <td>Hotel Ambasador - Liburnia</td>\n",
       "      <td>40</td>\n",
       "      <td>179.0</td>\n",
       "      <td>Feliksa Persica 5, Opatija 51410 Croatia</td>\n",
       "      <td>https://www.tripadvisor.com/Hotel_Review-g2975...</td>\n",
       "      <td>NO</td>\n",
       "      <td>339</td>\n",
       "    </tr>\n",
       "    <tr>\n",
       "      <th>34</th>\n",
       "      <td>Bilderberg Garden Hotel</td>\n",
       "      <td>40</td>\n",
       "      <td>194.0</td>\n",
       "      <td>Dijsselhofplantsoen 7, 1077 BJ Amsterdam The N...</td>\n",
       "      <td>https://www.tripadvisor.com/Hotel_Review-g1885...</td>\n",
       "      <td>NO</td>\n",
       "      <td>500</td>\n",
       "    </tr>\n",
       "    <tr>\n",
       "      <th>...</th>\n",
       "      <td>...</td>\n",
       "      <td>...</td>\n",
       "      <td>...</td>\n",
       "      <td>...</td>\n",
       "      <td>...</td>\n",
       "      <td>...</td>\n",
       "      <td>...</td>\n",
       "    </tr>\n",
       "    <tr>\n",
       "      <th>176</th>\n",
       "      <td>Hotel Spa Dr Irena Eris Polanica Zdroj</td>\n",
       "      <td>50</td>\n",
       "      <td>0.0</td>\n",
       "      <td>Ul. Dębowa 19B, Polanica Zdroj 57-320 Poland</td>\n",
       "      <td>https://www.tripadvisor.com/Hotel_Review-g2748...</td>\n",
       "      <td>NO</td>\n",
       "      <td>81</td>\n",
       "    </tr>\n",
       "    <tr>\n",
       "      <th>177</th>\n",
       "      <td>Hotel Splendide Royal Paris</td>\n",
       "      <td>50</td>\n",
       "      <td>1019.0</td>\n",
       "      <td>18 rue du Cirque, 75008 Paris France</td>\n",
       "      <td>https://www.tripadvisor.com/Hotel_Review-g1871...</td>\n",
       "      <td>NO</td>\n",
       "      <td>102</td>\n",
       "    </tr>\n",
       "    <tr>\n",
       "      <th>183</th>\n",
       "      <td>Hotel TwentySeven</td>\n",
       "      <td>50</td>\n",
       "      <td>625.0</td>\n",
       "      <td>Dam 27, 1012 JS Amsterdam The Netherlands</td>\n",
       "      <td>https://www.tripadvisor.com/Hotel_Review-g1885...</td>\n",
       "      <td>NO</td>\n",
       "      <td>126</td>\n",
       "    </tr>\n",
       "    <tr>\n",
       "      <th>165</th>\n",
       "      <td>Hotel Restaurant VILLINO</td>\n",
       "      <td>50</td>\n",
       "      <td>0.0</td>\n",
       "      <td>Mittenbuch 6, 88131, Lindau, Bavaria Germany</td>\n",
       "      <td>https://www.tripadvisor.com/Hotel_Review-g1986...</td>\n",
       "      <td>NO</td>\n",
       "      <td>98</td>\n",
       "    </tr>\n",
       "    <tr>\n",
       "      <th>327</th>\n",
       "      <td>Wine Residence Cattunar</td>\n",
       "      <td>50</td>\n",
       "      <td>209.0</td>\n",
       "      <td>Nova VAS 94, Brtonigla 52466 Croatia</td>\n",
       "      <td>https://www.tripadvisor.com/Hotel_Review-g7365...</td>\n",
       "      <td>NO</td>\n",
       "      <td>14</td>\n",
       "    </tr>\n",
       "  </tbody>\n",
       "</table>\n",
       "<p>328 rows × 7 columns</p>\n",
       "</div>"
      ],
      "text/plain": [
       "                                            HOTEL_NAME  HOTEL_RATING  \\\n",
       "206                          Largo Waterrijk Oesterdam            35   \n",
       "96   Grand Hotel Amrath Kurhaus The Hague Scheveningen            35   \n",
       "132                                      Hotel Divinus            35   \n",
       "117                         Hotel Ambasador - Liburnia            40   \n",
       "34                             Bilderberg Garden Hotel            40   \n",
       "..                                                 ...           ...   \n",
       "176             Hotel Spa Dr Irena Eris Polanica Zdroj            50   \n",
       "177                        Hotel Splendide Royal Paris            50   \n",
       "183                                  Hotel TwentySeven            50   \n",
       "165                           Hotel Restaurant VILLINO            50   \n",
       "327                            Wine Residence Cattunar            50   \n",
       "\n",
       "     HOTEL_PRICE                                     HOTEL_LOCATION  \\\n",
       "206          0.0        Oesterdam 3, 4691 PV Tholen The Netherlands   \n",
       "96         111.0  Gevers Deynootplein 30, 2586 CK, The Hague The...   \n",
       "132          0.0          Nagyerdei korut 1., Debrecen 4032 Hungary   \n",
       "117        179.0           Feliksa Persica 5, Opatija 51410 Croatia   \n",
       "34         194.0  Dijsselhofplantsoen 7, 1077 BJ Amsterdam The N...   \n",
       "..           ...                                                ...   \n",
       "176          0.0       Ul. Dębowa 19B, Polanica Zdroj 57-320 Poland   \n",
       "177       1019.0               18 rue du Cirque, 75008 Paris France   \n",
       "183        625.0          Dam 27, 1012 JS Amsterdam The Netherlands   \n",
       "165          0.0       Mittenbuch 6, 88131, Lindau, Bavaria Germany   \n",
       "327        209.0               Nova VAS 94, Brtonigla 52466 Croatia   \n",
       "\n",
       "                                      HOTEL_REVIEW_URL HOTEL_SUSTAINABLE  \\\n",
       "206  https://www.tripadvisor.com/Hotel_Review-g1733...               YES   \n",
       "96   https://www.tripadvisor.com/Hotel_Review-g1886...                NO   \n",
       "132  https://www.tripadvisor.com/Hotel_Review-g2748...                NO   \n",
       "117  https://www.tripadvisor.com/Hotel_Review-g2975...                NO   \n",
       "34   https://www.tripadvisor.com/Hotel_Review-g1885...                NO   \n",
       "..                                                 ...               ...   \n",
       "176  https://www.tripadvisor.com/Hotel_Review-g2748...                NO   \n",
       "177  https://www.tripadvisor.com/Hotel_Review-g1871...                NO   \n",
       "183  https://www.tripadvisor.com/Hotel_Review-g1885...                NO   \n",
       "165  https://www.tripadvisor.com/Hotel_Review-g1986...                NO   \n",
       "327  https://www.tripadvisor.com/Hotel_Review-g7365...                NO   \n",
       "\n",
       "     HOTEL_REVIEW_COUNT  \n",
       "206                   3  \n",
       "96                  500  \n",
       "132                 159  \n",
       "117                 339  \n",
       "34                  500  \n",
       "..                  ...  \n",
       "176                  81  \n",
       "177                 102  \n",
       "183                 126  \n",
       "165                  98  \n",
       "327                  14  \n",
       "\n",
       "[328 rows x 7 columns]"
      ]
     },
     "execution_count": 23,
     "metadata": {},
     "output_type": "execute_result"
    }
   ],
   "source": [
    "GENERAL_HOTEL_DATA.sort_values(by = ['HOTEL_RATING'], ascending = True)"
   ]
  },
  {
   "cell_type": "markdown",
   "metadata": {
    "id": "rz6752icq_7I"
   },
   "source": [
    "#### HOTEL_PRICE"
   ]
  },
  {
   "cell_type": "code",
   "execution_count": 24,
   "metadata": {
    "colab": {
     "base_uri": "https://localhost:8080/",
     "height": 0
    },
    "executionInfo": {
     "elapsed": 8,
     "status": "ok",
     "timestamp": 1664771171270,
     "user": {
      "displayName": "Esteban Ariza Acosta",
      "userId": "06368682392842702757"
     },
     "user_tz": 300
    },
    "id": "cJB5ZZ67q_ql",
    "outputId": "4eb65cd6-a009-4920-c46f-a84e391d6359"
   },
   "outputs": [
    {
     "data": {
      "text/html": [
       "<div>\n",
       "<style scoped>\n",
       "    .dataframe tbody tr th:only-of-type {\n",
       "        vertical-align: middle;\n",
       "    }\n",
       "\n",
       "    .dataframe tbody tr th {\n",
       "        vertical-align: top;\n",
       "    }\n",
       "\n",
       "    .dataframe thead th {\n",
       "        text-align: right;\n",
       "    }\n",
       "</style>\n",
       "<table border=\"1\" class=\"dataframe\">\n",
       "  <thead>\n",
       "    <tr style=\"text-align: right;\">\n",
       "      <th></th>\n",
       "      <th>HOTEL_NAME</th>\n",
       "      <th>HOTEL_RATING</th>\n",
       "      <th>HOTEL_PRICE</th>\n",
       "      <th>HOTEL_LOCATION</th>\n",
       "      <th>HOTEL_REVIEW_URL</th>\n",
       "      <th>HOTEL_SUSTAINABLE</th>\n",
       "      <th>HOTEL_REVIEW_COUNT</th>\n",
       "    </tr>\n",
       "  </thead>\n",
       "  <tbody>\n",
       "    <tr>\n",
       "      <th>186</th>\n",
       "      <td>Hotel de Crillon, A Rosewood Hotel</td>\n",
       "      <td>45</td>\n",
       "      <td>3001.0</td>\n",
       "      <td>10 Place de la Concorde 8th Arrondissement, 75...</td>\n",
       "      <td>https://www.tripadvisor.com/Hotel_Review-g1871...</td>\n",
       "      <td>NO</td>\n",
       "      <td>296</td>\n",
       "    </tr>\n",
       "    <tr>\n",
       "      <th>306</th>\n",
       "      <td>The Gritti Palace, a Luxury Collection Hotel, ...</td>\n",
       "      <td>50</td>\n",
       "      <td>2032.0</td>\n",
       "      <td>Campo Santa Maria del Giglio 2467, 30124 Venic...</td>\n",
       "      <td>https://www.tripadvisor.com/Hotel_Review-g1878...</td>\n",
       "      <td>YES</td>\n",
       "      <td>498</td>\n",
       "    </tr>\n",
       "    <tr>\n",
       "      <th>211</th>\n",
       "      <td>Le Meurice</td>\n",
       "      <td>45</td>\n",
       "      <td>1800.0</td>\n",
       "      <td>228 rue de Rivoli, 75001 Paris France</td>\n",
       "      <td>https://www.tripadvisor.com/Hotel_Review-g1871...</td>\n",
       "      <td>NO</td>\n",
       "      <td>490</td>\n",
       "    </tr>\n",
       "    <tr>\n",
       "      <th>207</th>\n",
       "      <td>Le Bristol Paris</td>\n",
       "      <td>50</td>\n",
       "      <td>1785.0</td>\n",
       "      <td>112 rue du Faubourg Saint Honore 8th Arr., 750...</td>\n",
       "      <td>https://www.tripadvisor.com/Hotel_Review-g1871...</td>\n",
       "      <td>YES</td>\n",
       "      <td>500</td>\n",
       "    </tr>\n",
       "    <tr>\n",
       "      <th>202</th>\n",
       "      <td>La Reserve Paris - Hotel and Spa</td>\n",
       "      <td>50</td>\n",
       "      <td>1591.0</td>\n",
       "      <td>42 avenue Gabriel, 75008 Paris France</td>\n",
       "      <td>https://www.tripadvisor.com/Hotel_Review-g1871...</td>\n",
       "      <td>NO</td>\n",
       "      <td>295</td>\n",
       "    </tr>\n",
       "    <tr>\n",
       "      <th>...</th>\n",
       "      <td>...</td>\n",
       "      <td>...</td>\n",
       "      <td>...</td>\n",
       "      <td>...</td>\n",
       "      <td>...</td>\n",
       "      <td>...</td>\n",
       "      <td>...</td>\n",
       "    </tr>\n",
       "    <tr>\n",
       "      <th>77</th>\n",
       "      <td>DoubleTree by Hilton Zagreb</td>\n",
       "      <td>45</td>\n",
       "      <td>0.0</td>\n",
       "      <td>Ulica Grada Vukovara 269a, Zagreb 10000 Croatia</td>\n",
       "      <td>https://www.tripadvisor.com/Hotel_Review-g2944...</td>\n",
       "      <td>YES</td>\n",
       "      <td>500</td>\n",
       "    </tr>\n",
       "    <tr>\n",
       "      <th>141</th>\n",
       "      <td>Hotel Grandezza</td>\n",
       "      <td>45</td>\n",
       "      <td>0.0</td>\n",
       "      <td>Zelny trh 314/2, Brno 602 00 Czech Republic</td>\n",
       "      <td>https://www.tripadvisor.com/Hotel_Review-g2747...</td>\n",
       "      <td>NO</td>\n",
       "      <td>288</td>\n",
       "    </tr>\n",
       "    <tr>\n",
       "      <th>135</th>\n",
       "      <td>Hotel Engel Obertal</td>\n",
       "      <td>45</td>\n",
       "      <td>0.0</td>\n",
       "      <td>Rechtmurgstr. 28, 72270, Baiersbronn, Baden-Wü...</td>\n",
       "      <td>https://www.tripadvisor.com/Hotel_Review-g1872...</td>\n",
       "      <td>YES</td>\n",
       "      <td>15</td>\n",
       "    </tr>\n",
       "    <tr>\n",
       "      <th>78</th>\n",
       "      <td>EALA My Lakeside Dream</td>\n",
       "      <td>45</td>\n",
       "      <td>0.0</td>\n",
       "      <td>Via IV Novembre, 86, 25010 Limone sul Garda Italy</td>\n",
       "      <td>https://www.tripadvisor.com/Hotel_Review-g2278...</td>\n",
       "      <td>NO</td>\n",
       "      <td>13</td>\n",
       "    </tr>\n",
       "    <tr>\n",
       "      <th>100</th>\n",
       "      <td>Grand Hotel Karel V</td>\n",
       "      <td>45</td>\n",
       "      <td>0.0</td>\n",
       "      <td>Geertebolwerk 1, 3511 XA Utrecht The Netherlands</td>\n",
       "      <td>https://www.tripadvisor.com/Hotel_Review-g1886...</td>\n",
       "      <td>YES</td>\n",
       "      <td>491</td>\n",
       "    </tr>\n",
       "  </tbody>\n",
       "</table>\n",
       "<p>328 rows × 7 columns</p>\n",
       "</div>"
      ],
      "text/plain": [
       "                                            HOTEL_NAME  HOTEL_RATING  \\\n",
       "186                 Hotel de Crillon, A Rosewood Hotel            45   \n",
       "306  The Gritti Palace, a Luxury Collection Hotel, ...            50   \n",
       "211                                         Le Meurice            45   \n",
       "207                                   Le Bristol Paris            50   \n",
       "202                   La Reserve Paris - Hotel and Spa            50   \n",
       "..                                                 ...           ...   \n",
       "77                         DoubleTree by Hilton Zagreb            45   \n",
       "141                                    Hotel Grandezza            45   \n",
       "135                                Hotel Engel Obertal            45   \n",
       "78                              EALA My Lakeside Dream            45   \n",
       "100                                Grand Hotel Karel V            45   \n",
       "\n",
       "     HOTEL_PRICE                                     HOTEL_LOCATION  \\\n",
       "186       3001.0  10 Place de la Concorde 8th Arrondissement, 75...   \n",
       "306       2032.0  Campo Santa Maria del Giglio 2467, 30124 Venic...   \n",
       "211       1800.0              228 rue de Rivoli, 75001 Paris France   \n",
       "207       1785.0  112 rue du Faubourg Saint Honore 8th Arr., 750...   \n",
       "202       1591.0              42 avenue Gabriel, 75008 Paris France   \n",
       "..           ...                                                ...   \n",
       "77           0.0    Ulica Grada Vukovara 269a, Zagreb 10000 Croatia   \n",
       "141          0.0        Zelny trh 314/2, Brno 602 00 Czech Republic   \n",
       "135          0.0  Rechtmurgstr. 28, 72270, Baiersbronn, Baden-Wü...   \n",
       "78           0.0  Via IV Novembre, 86, 25010 Limone sul Garda Italy   \n",
       "100          0.0   Geertebolwerk 1, 3511 XA Utrecht The Netherlands   \n",
       "\n",
       "                                      HOTEL_REVIEW_URL HOTEL_SUSTAINABLE  \\\n",
       "186  https://www.tripadvisor.com/Hotel_Review-g1871...                NO   \n",
       "306  https://www.tripadvisor.com/Hotel_Review-g1878...               YES   \n",
       "211  https://www.tripadvisor.com/Hotel_Review-g1871...                NO   \n",
       "207  https://www.tripadvisor.com/Hotel_Review-g1871...               YES   \n",
       "202  https://www.tripadvisor.com/Hotel_Review-g1871...                NO   \n",
       "..                                                 ...               ...   \n",
       "77   https://www.tripadvisor.com/Hotel_Review-g2944...               YES   \n",
       "141  https://www.tripadvisor.com/Hotel_Review-g2747...                NO   \n",
       "135  https://www.tripadvisor.com/Hotel_Review-g1872...               YES   \n",
       "78   https://www.tripadvisor.com/Hotel_Review-g2278...                NO   \n",
       "100  https://www.tripadvisor.com/Hotel_Review-g1886...               YES   \n",
       "\n",
       "     HOTEL_REVIEW_COUNT  \n",
       "186                 296  \n",
       "306                 498  \n",
       "211                 490  \n",
       "207                 500  \n",
       "202                 295  \n",
       "..                  ...  \n",
       "77                  500  \n",
       "141                 288  \n",
       "135                  15  \n",
       "78                   13  \n",
       "100                 491  \n",
       "\n",
       "[328 rows x 7 columns]"
      ]
     },
     "execution_count": 24,
     "metadata": {},
     "output_type": "execute_result"
    }
   ],
   "source": [
    "GENERAL_HOTEL_DATA.sort_values(by = ['HOTEL_PRICE'], ascending = False)"
   ]
  },
  {
   "cell_type": "markdown",
   "metadata": {
    "id": "ulqDwVesw6wB"
   },
   "source": [
    "#### HOTEL_REVIEW_COUNTS"
   ]
  },
  {
   "cell_type": "code",
   "execution_count": 25,
   "metadata": {
    "colab": {
     "base_uri": "https://localhost:8080/",
     "height": 0
    },
    "executionInfo": {
     "elapsed": 8,
     "status": "ok",
     "timestamp": 1664771171271,
     "user": {
      "displayName": "Esteban Ariza Acosta",
      "userId": "06368682392842702757"
     },
     "user_tz": 300
    },
    "id": "OmXUn5Y2xAUs",
    "outputId": "46326822-7397-4806-ab9f-50792766be02"
   },
   "outputs": [
    {
     "data": {
      "text/html": [
       "<div>\n",
       "<style scoped>\n",
       "    .dataframe tbody tr th:only-of-type {\n",
       "        vertical-align: middle;\n",
       "    }\n",
       "\n",
       "    .dataframe tbody tr th {\n",
       "        vertical-align: top;\n",
       "    }\n",
       "\n",
       "    .dataframe thead th {\n",
       "        text-align: right;\n",
       "    }\n",
       "</style>\n",
       "<table border=\"1\" class=\"dataframe\">\n",
       "  <thead>\n",
       "    <tr style=\"text-align: right;\">\n",
       "      <th></th>\n",
       "      <th>HOTEL_NAME</th>\n",
       "      <th>HOTEL_RATING</th>\n",
       "      <th>HOTEL_PRICE</th>\n",
       "      <th>HOTEL_LOCATION</th>\n",
       "      <th>HOTEL_REVIEW_URL</th>\n",
       "      <th>HOTEL_SUSTAINABLE</th>\n",
       "      <th>HOTEL_REVIEW_COUNT</th>\n",
       "    </tr>\n",
       "  </thead>\n",
       "  <tbody>\n",
       "    <tr>\n",
       "      <th>77</th>\n",
       "      <td>DoubleTree by Hilton Zagreb</td>\n",
       "      <td>45</td>\n",
       "      <td>0.0</td>\n",
       "      <td>Ulica Grada Vukovara 269a, Zagreb 10000 Croatia</td>\n",
       "      <td>https://www.tripadvisor.com/Hotel_Review-g2944...</td>\n",
       "      <td>YES</td>\n",
       "      <td>500</td>\n",
       "    </tr>\n",
       "    <tr>\n",
       "      <th>260</th>\n",
       "      <td>Reid's Palace, A Belmond Hotel, Madeira</td>\n",
       "      <td>45</td>\n",
       "      <td>810.0</td>\n",
       "      <td>Estrada Monumental 139, Funchal, Madeira 9000-...</td>\n",
       "      <td>https://www.tripadvisor.com/Hotel_Review-g1891...</td>\n",
       "      <td>NO</td>\n",
       "      <td>500</td>\n",
       "    </tr>\n",
       "    <tr>\n",
       "      <th>96</th>\n",
       "      <td>Grand Hotel Amrath Kurhaus The Hague Scheveningen</td>\n",
       "      <td>35</td>\n",
       "      <td>111.0</td>\n",
       "      <td>Gevers Deynootplein 30, 2586 CK, The Hague The...</td>\n",
       "      <td>https://www.tripadvisor.com/Hotel_Review-g1886...</td>\n",
       "      <td>NO</td>\n",
       "      <td>500</td>\n",
       "    </tr>\n",
       "    <tr>\n",
       "      <th>93</th>\n",
       "      <td>Four Seasons Hotel Prague</td>\n",
       "      <td>50</td>\n",
       "      <td>540.0</td>\n",
       "      <td>Veleslavinova 1098/2A, Prague 110 00 Czech Rep...</td>\n",
       "      <td>https://www.tripadvisor.com/Hotel_Review-g2747...</td>\n",
       "      <td>NO</td>\n",
       "      <td>500</td>\n",
       "    </tr>\n",
       "    <tr>\n",
       "      <th>289</th>\n",
       "      <td>Sheraton Zagreb Hotel</td>\n",
       "      <td>40</td>\n",
       "      <td>102.0</td>\n",
       "      <td>2 Kneza Borne, Donji Grad, Zagreb 10000 Croatia</td>\n",
       "      <td>https://www.tripadvisor.com/Hotel_Review-g2944...</td>\n",
       "      <td>NO</td>\n",
       "      <td>500</td>\n",
       "    </tr>\n",
       "  </tbody>\n",
       "</table>\n",
       "</div>"
      ],
      "text/plain": [
       "                                            HOTEL_NAME  HOTEL_RATING  \\\n",
       "77                         DoubleTree by Hilton Zagreb            45   \n",
       "260            Reid's Palace, A Belmond Hotel, Madeira            45   \n",
       "96   Grand Hotel Amrath Kurhaus The Hague Scheveningen            35   \n",
       "93                           Four Seasons Hotel Prague            50   \n",
       "289                              Sheraton Zagreb Hotel            40   \n",
       "\n",
       "     HOTEL_PRICE                                     HOTEL_LOCATION  \\\n",
       "77           0.0    Ulica Grada Vukovara 269a, Zagreb 10000 Croatia   \n",
       "260        810.0  Estrada Monumental 139, Funchal, Madeira 9000-...   \n",
       "96         111.0  Gevers Deynootplein 30, 2586 CK, The Hague The...   \n",
       "93         540.0  Veleslavinova 1098/2A, Prague 110 00 Czech Rep...   \n",
       "289        102.0    2 Kneza Borne, Donji Grad, Zagreb 10000 Croatia   \n",
       "\n",
       "                                      HOTEL_REVIEW_URL HOTEL_SUSTAINABLE  \\\n",
       "77   https://www.tripadvisor.com/Hotel_Review-g2944...               YES   \n",
       "260  https://www.tripadvisor.com/Hotel_Review-g1891...                NO   \n",
       "96   https://www.tripadvisor.com/Hotel_Review-g1886...                NO   \n",
       "93   https://www.tripadvisor.com/Hotel_Review-g2747...                NO   \n",
       "289  https://www.tripadvisor.com/Hotel_Review-g2944...                NO   \n",
       "\n",
       "     HOTEL_REVIEW_COUNT  \n",
       "77                  500  \n",
       "260                 500  \n",
       "96                  500  \n",
       "93                  500  \n",
       "289                 500  "
      ]
     },
     "execution_count": 25,
     "metadata": {},
     "output_type": "execute_result"
    }
   ],
   "source": [
    "GENERAL_HOTEL_DATA.sort_values(by = ['HOTEL_REVIEW_COUNT'], ascending = False).head()"
   ]
  },
  {
   "cell_type": "markdown",
   "metadata": {
    "id": "GrNttEaMrVW3"
   },
   "source": [
    "## Visualization"
   ]
  },
  {
   "cell_type": "markdown",
   "metadata": {
    "id": "-KFTaF9XB1Ku"
   },
   "source": [
    "### HOTELS PRICE"
   ]
  },
  {
   "cell_type": "code",
   "execution_count": 26,
   "metadata": {
    "colab": {
     "base_uri": "https://localhost:8080/",
     "height": 0
    },
    "executionInfo": {
     "elapsed": 804,
     "status": "ok",
     "timestamp": 1664771172068,
     "user": {
      "displayName": "Esteban Ariza Acosta",
      "userId": "06368682392842702757"
     },
     "user_tz": 300
    },
    "id": "cHTl5I6brhUQ",
    "outputId": "fa391a90-b93f-4bba-8ae4-f17f0274f3f3"
   },
   "outputs": [
    {
     "data": {
      "image/png": "[encoded data removed]",
      "text/plain": [
       "<Figure size 864x576 with 1 Axes>"
      ]
     },
     "metadata": {},
     "output_type": "display_data"
    }
   ],
   "source": [
    "sns.set(rc={'figure.figsize':(12,8)})\n",
    "sns.barplot(x=\"HOTEL_PRICE\", y=\"HOTEL_SUSTAINABLE\", data=GENERAL_HOTEL_DATA, capsize=.2, palette='Set1').set(title='('+CURRENCY+')')\n",
    "\n",
    "plt.tight_layout(h_pad=2)"
   ]
  },
  {
   "cell_type": "markdown",
   "metadata": {
    "id": "oWmZc19uCs9k"
   },
   "source": [
    "### HOTELS NUMBER OF REVIEWS"
   ]
  },
  {
   "cell_type": "code",
   "execution_count": 27,
   "metadata": {
    "colab": {
     "base_uri": "https://localhost:8080/",
     "height": 0
    },
    "executionInfo": {
     "elapsed": 882,
     "status": "ok",
     "timestamp": 1664771172947,
     "user": {
      "displayName": "Esteban Ariza Acosta",
      "userId": "06368682392842702757"
     },
     "user_tz": 300
    },
    "id": "e3-VBOiBzoN_",
    "outputId": "d826292e-a5bc-4bb1-b427-622ecf03071c"
   },
   "outputs": [
    {
     "data": {
      "image/png": "[encoded data removed]",
      "text/plain": [
       "<Figure size 864x576 with 1 Axes>"
      ]
     },
     "metadata": {},
     "output_type": "display_data"
    }
   ],
   "source": [
    "sns.set(rc={'figure.figsize':(12,8)})\n",
    "sns.barplot(x=\"HOTEL_REVIEW_COUNT\", y=\"HOTEL_SUSTAINABLE\", data=GENERAL_HOTEL_DATA, capsize=.2, palette='Set1')\n",
    "\n",
    "plt.tight_layout(h_pad=2)"
   ]
  },
  {
   "cell_type": "markdown",
   "metadata": {},
   "source": [
    "### HOTELS REVIEW RATING"
   ]
  },
  {
   "cell_type": "code",
   "execution_count": 28,
   "metadata": {},
   "outputs": [
    {
     "data": {
      "image/png": "[encoded data removed]",
      "text/plain": [
       "<Figure size 864x576 with 1 Axes>"
      ]
     },
     "metadata": {},
     "output_type": "display_data"
    }
   ],
   "source": [
    "sns.set(rc={'figure.figsize':(12,8)})\n",
    "sns.barplot(x=\"HOTEL_RATING\", y=\"HOTEL_SUSTAINABLE\", data=GENERAL_HOTEL_DATA, capsize=.2, palette='Set1')\n",
    "\n",
    "plt.tight_layout(h_pad=2)"
   ]
  },
  {
   "cell_type": "markdown",
   "metadata": {},
   "source": [
    "### REVIEWS OVER TIME"
   ]
  },
  {
   "cell_type": "code",
   "execution_count": 33,
   "metadata": {
    "executionInfo": {
     "elapsed": 5,
     "status": "ok",
     "timestamp": 1664771172948,
     "user": {
      "displayName": "Esteban Ariza Acosta",
      "userId": "06368682392842702757"
     },
     "user_tz": 300
    },
    "id": "8qFovp2ofDCt"
   },
   "outputs": [],
   "source": [
    "def date_to_float(date):\n",
    "  return date.year+((date.month-1)/12)\n",
    "\n",
    "# DF - OVERTIME (REVIEW_DATE as FLOAT)\n",
    "OVERTIME_HOTEL_DATA = HOTEL_DATA.copy()\n",
    "OVERTIME_HOTEL_DATA['REVIEW_DATE'] = OVERTIME_HOTEL_DATA['REVIEW_DATE'].map(date_to_float)"
   ]
  },
  {
   "cell_type": "code",
   "execution_count": 45,
   "metadata": {},
   "outputs": [
    {
     "ename": "ValueError",
     "evalue": "cannot reindex from a duplicate axis",
     "output_type": "error",
     "traceback": [
      "\u001b[1;31m---------------------------------------------------------------------------\u001b[0m",
      "\u001b[1;31mValueError\u001b[0m                                Traceback (most recent call last)",
      "\u001b[1;32m~\\AppData\\Local\\Temp/ipykernel_127840/1539893358.py\u001b[0m in \u001b[0;36m<module>\u001b[1;34m\u001b[0m\n\u001b[0;32m      1\u001b[0m \u001b[0msns\u001b[0m\u001b[1;33m.\u001b[0m\u001b[0mset_theme\u001b[0m\u001b[1;33m(\u001b[0m\u001b[0mstyle\u001b[0m\u001b[1;33m=\u001b[0m\u001b[1;34m\"whitegrid\"\u001b[0m\u001b[1;33m)\u001b[0m\u001b[1;33m\u001b[0m\u001b[1;33m\u001b[0m\u001b[0m\n\u001b[1;32m----> 2\u001b[1;33m \u001b[0mplot\u001b[0m \u001b[1;33m=\u001b[0m \u001b[0msns\u001b[0m\u001b[1;33m.\u001b[0m\u001b[0mkdeplot\u001b[0m\u001b[1;33m(\u001b[0m\u001b[0mdata\u001b[0m \u001b[1;33m=\u001b[0m \u001b[0mOVERTIME_HOTEL_DATA\u001b[0m\u001b[1;33m,\u001b[0m \u001b[0mx\u001b[0m \u001b[1;33m=\u001b[0m \u001b[1;34m'REVIEW_DATE'\u001b[0m\u001b[1;33m,\u001b[0m \u001b[0mhue\u001b[0m\u001b[1;33m=\u001b[0m\u001b[1;34m\"HOTEL_SUSTAINABLE\"\u001b[0m\u001b[1;33m,\u001b[0m \u001b[0mpalette\u001b[0m\u001b[1;33m=\u001b[0m\u001b[1;34m\"Set1\"\u001b[0m\u001b[1;33m)\u001b[0m\u001b[1;33m\u001b[0m\u001b[1;33m\u001b[0m\u001b[0m\n\u001b[0m\u001b[0;32m      3\u001b[0m \u001b[1;33m\u001b[0m\u001b[0m\n\u001b[0;32m      4\u001b[0m \u001b[0mplt\u001b[0m\u001b[1;33m.\u001b[0m\u001b[0mshow\u001b[0m\u001b[1;33m(\u001b[0m\u001b[1;33m)\u001b[0m\u001b[1;33m\u001b[0m\u001b[1;33m\u001b[0m\u001b[0m\n",
      "\u001b[1;32mc:\\Users\\ariza\\anaconda3\\lib\\site-packages\\seaborn\\_decorators.py\u001b[0m in \u001b[0;36minner_f\u001b[1;34m(*args, **kwargs)\u001b[0m\n\u001b[0;32m     44\u001b[0m             )\n\u001b[0;32m     45\u001b[0m         \u001b[0mkwargs\u001b[0m\u001b[1;33m.\u001b[0m\u001b[0mupdate\u001b[0m\u001b[1;33m(\u001b[0m\u001b[1;33m{\u001b[0m\u001b[0mk\u001b[0m\u001b[1;33m:\u001b[0m \u001b[0marg\u001b[0m \u001b[1;32mfor\u001b[0m \u001b[0mk\u001b[0m\u001b[1;33m,\u001b[0m \u001b[0marg\u001b[0m \u001b[1;32min\u001b[0m \u001b[0mzip\u001b[0m\u001b[1;33m(\u001b[0m\u001b[0msig\u001b[0m\u001b[1;33m.\u001b[0m\u001b[0mparameters\u001b[0m\u001b[1;33m,\u001b[0m \u001b[0margs\u001b[0m\u001b[1;33m)\u001b[0m\u001b[1;33m}\u001b[0m\u001b[1;33m)\u001b[0m\u001b[1;33m\u001b[0m\u001b[1;33m\u001b[0m\u001b[0m\n\u001b[1;32m---> 46\u001b[1;33m         \u001b[1;32mreturn\u001b[0m \u001b[0mf\u001b[0m\u001b[1;33m(\u001b[0m\u001b[1;33m**\u001b[0m\u001b[0mkwargs\u001b[0m\u001b[1;33m)\u001b[0m\u001b[1;33m\u001b[0m\u001b[1;33m\u001b[0m\u001b[0m\n\u001b[0m\u001b[0;32m     47\u001b[0m     \u001b[1;32mreturn\u001b[0m \u001b[0minner_f\u001b[0m\u001b[1;33m\u001b[0m\u001b[1;33m\u001b[0m\u001b[0m\n\u001b[0;32m     48\u001b[0m \u001b[1;33m\u001b[0m\u001b[0m\n",
      "\u001b[1;32mc:\\Users\\ariza\\anaconda3\\lib\\site-packages\\seaborn\\distributions.py\u001b[0m in \u001b[0;36mkdeplot\u001b[1;34m(x, y, shade, vertical, kernel, bw, gridsize, cut, clip, legend, cumulative, shade_lowest, cbar, cbar_ax, cbar_kws, ax, weights, hue, palette, hue_order, hue_norm, multiple, common_norm, common_grid, levels, thresh, bw_method, bw_adjust, log_scale, color, fill, data, data2, warn_singular, **kwargs)\u001b[0m\n\u001b[0;32m   1768\u001b[0m             \u001b[0mplot_kws\u001b[0m\u001b[1;33m[\u001b[0m\u001b[1;34m\"color\"\u001b[0m\u001b[1;33m]\u001b[0m \u001b[1;33m=\u001b[0m \u001b[0mcolor\u001b[0m\u001b[1;33m\u001b[0m\u001b[1;33m\u001b[0m\u001b[0m\n\u001b[0;32m   1769\u001b[0m \u001b[1;33m\u001b[0m\u001b[0m\n\u001b[1;32m-> 1770\u001b[1;33m         p.plot_univariate_density(\n\u001b[0m\u001b[0;32m   1771\u001b[0m             \u001b[0mmultiple\u001b[0m\u001b[1;33m=\u001b[0m\u001b[0mmultiple\u001b[0m\u001b[1;33m,\u001b[0m\u001b[1;33m\u001b[0m\u001b[1;33m\u001b[0m\u001b[0m\n\u001b[0;32m   1772\u001b[0m             \u001b[0mcommon_norm\u001b[0m\u001b[1;33m=\u001b[0m\u001b[0mcommon_norm\u001b[0m\u001b[1;33m,\u001b[0m\u001b[1;33m\u001b[0m\u001b[1;33m\u001b[0m\u001b[0m\n",
      "\u001b[1;32mc:\\Users\\ariza\\anaconda3\\lib\\site-packages\\seaborn\\distributions.py\u001b[0m in \u001b[0;36mplot_univariate_density\u001b[1;34m(self, multiple, common_norm, common_grid, warn_singular, fill, legend, estimate_kws, **plot_kws)\u001b[0m\n\u001b[0;32m    926\u001b[0m \u001b[1;33m\u001b[0m\u001b[0m\n\u001b[0;32m    927\u001b[0m         \u001b[1;31m# Do the computation\u001b[0m\u001b[1;33m\u001b[0m\u001b[1;33m\u001b[0m\u001b[0m\n\u001b[1;32m--> 928\u001b[1;33m         densities = self._compute_univariate_density(\n\u001b[0m\u001b[0;32m    929\u001b[0m             \u001b[0mself\u001b[0m\u001b[1;33m.\u001b[0m\u001b[0mdata_variable\u001b[0m\u001b[1;33m,\u001b[0m\u001b[1;33m\u001b[0m\u001b[1;33m\u001b[0m\u001b[0m\n\u001b[0;32m    930\u001b[0m             \u001b[0mcommon_norm\u001b[0m\u001b[1;33m,\u001b[0m\u001b[1;33m\u001b[0m\u001b[1;33m\u001b[0m\u001b[0m\n",
      "\u001b[1;32mc:\\Users\\ariza\\anaconda3\\lib\\site-packages\\seaborn\\distributions.py\u001b[0m in \u001b[0;36m_compute_univariate_density\u001b[1;34m(self, data_variable, common_norm, common_grid, estimate_kws, log_scale, warn_singular)\u001b[0m\n\u001b[0;32m    301\u001b[0m         \u001b[0mdensities\u001b[0m \u001b[1;33m=\u001b[0m \u001b[1;33m{\u001b[0m\u001b[1;33m}\u001b[0m\u001b[1;33m\u001b[0m\u001b[1;33m\u001b[0m\u001b[0m\n\u001b[0;32m    302\u001b[0m \u001b[1;33m\u001b[0m\u001b[0m\n\u001b[1;32m--> 303\u001b[1;33m         \u001b[1;32mfor\u001b[0m \u001b[0msub_vars\u001b[0m\u001b[1;33m,\u001b[0m \u001b[0msub_data\u001b[0m \u001b[1;32min\u001b[0m \u001b[0mself\u001b[0m\u001b[1;33m.\u001b[0m\u001b[0miter_data\u001b[0m\u001b[1;33m(\u001b[0m\u001b[1;34m\"hue\"\u001b[0m\u001b[1;33m,\u001b[0m \u001b[0mfrom_comp_data\u001b[0m\u001b[1;33m=\u001b[0m\u001b[1;32mTrue\u001b[0m\u001b[1;33m)\u001b[0m\u001b[1;33m:\u001b[0m\u001b[1;33m\u001b[0m\u001b[1;33m\u001b[0m\u001b[0m\n\u001b[0m\u001b[0;32m    304\u001b[0m \u001b[1;33m\u001b[0m\u001b[0m\n\u001b[0;32m    305\u001b[0m             \u001b[1;31m# Extract the data points from this sub set and remove nulls\u001b[0m\u001b[1;33m\u001b[0m\u001b[1;33m\u001b[0m\u001b[0m\n",
      "\u001b[1;32mc:\\Users\\ariza\\anaconda3\\lib\\site-packages\\seaborn\\_core.py\u001b[0m in \u001b[0;36miter_data\u001b[1;34m(self, grouping_vars, reverse, from_comp_data)\u001b[0m\n\u001b[0;32m    981\u001b[0m \u001b[1;33m\u001b[0m\u001b[0m\n\u001b[0;32m    982\u001b[0m         \u001b[1;32mif\u001b[0m \u001b[0mfrom_comp_data\u001b[0m\u001b[1;33m:\u001b[0m\u001b[1;33m\u001b[0m\u001b[1;33m\u001b[0m\u001b[0m\n\u001b[1;32m--> 983\u001b[1;33m             \u001b[0mdata\u001b[0m \u001b[1;33m=\u001b[0m \u001b[0mself\u001b[0m\u001b[1;33m.\u001b[0m\u001b[0mcomp_data\u001b[0m\u001b[1;33m\u001b[0m\u001b[1;33m\u001b[0m\u001b[0m\n\u001b[0m\u001b[0;32m    984\u001b[0m         \u001b[1;32melse\u001b[0m\u001b[1;33m:\u001b[0m\u001b[1;33m\u001b[0m\u001b[1;33m\u001b[0m\u001b[0m\n\u001b[0;32m    985\u001b[0m             \u001b[0mdata\u001b[0m \u001b[1;33m=\u001b[0m \u001b[0mself\u001b[0m\u001b[1;33m.\u001b[0m\u001b[0mplot_data\u001b[0m\u001b[1;33m\u001b[0m\u001b[1;33m\u001b[0m\u001b[0m\n",
      "\u001b[1;32mc:\\Users\\ariza\\anaconda3\\lib\\site-packages\\seaborn\\_core.py\u001b[0m in \u001b[0;36mcomp_data\u001b[1;34m(self)\u001b[0m\n\u001b[0;32m   1055\u001b[0m                     \u001b[0morig\u001b[0m \u001b[1;33m=\u001b[0m \u001b[0mself\u001b[0m\u001b[1;33m.\u001b[0m\u001b[0mplot_data\u001b[0m\u001b[1;33m[\u001b[0m\u001b[0mvar\u001b[0m\u001b[1;33m]\u001b[0m\u001b[1;33m.\u001b[0m\u001b[0mdropna\u001b[0m\u001b[1;33m(\u001b[0m\u001b[1;33m)\u001b[0m\u001b[1;33m\u001b[0m\u001b[1;33m\u001b[0m\u001b[0m\n\u001b[0;32m   1056\u001b[0m                 \u001b[0mcomp_col\u001b[0m \u001b[1;33m=\u001b[0m \u001b[0mpd\u001b[0m\u001b[1;33m.\u001b[0m\u001b[0mSeries\u001b[0m\u001b[1;33m(\u001b[0m\u001b[0mindex\u001b[0m\u001b[1;33m=\u001b[0m\u001b[0morig\u001b[0m\u001b[1;33m.\u001b[0m\u001b[0mindex\u001b[0m\u001b[1;33m,\u001b[0m \u001b[0mdtype\u001b[0m\u001b[1;33m=\u001b[0m\u001b[0mfloat\u001b[0m\u001b[1;33m,\u001b[0m \u001b[0mname\u001b[0m\u001b[1;33m=\u001b[0m\u001b[0mvar\u001b[0m\u001b[1;33m)\u001b[0m\u001b[1;33m\u001b[0m\u001b[1;33m\u001b[0m\u001b[0m\n\u001b[1;32m-> 1057\u001b[1;33m                 \u001b[0mcomp_col\u001b[0m\u001b[1;33m.\u001b[0m\u001b[0mloc\u001b[0m\u001b[1;33m[\u001b[0m\u001b[0morig\u001b[0m\u001b[1;33m.\u001b[0m\u001b[0mindex\u001b[0m\u001b[1;33m]\u001b[0m \u001b[1;33m=\u001b[0m \u001b[0mpd\u001b[0m\u001b[1;33m.\u001b[0m\u001b[0mto_numeric\u001b[0m\u001b[1;33m(\u001b[0m\u001b[0maxis\u001b[0m\u001b[1;33m.\u001b[0m\u001b[0mconvert_units\u001b[0m\u001b[1;33m(\u001b[0m\u001b[0morig\u001b[0m\u001b[1;33m)\u001b[0m\u001b[1;33m)\u001b[0m\u001b[1;33m\u001b[0m\u001b[1;33m\u001b[0m\u001b[0m\n\u001b[0m\u001b[0;32m   1058\u001b[0m \u001b[1;33m\u001b[0m\u001b[0m\n\u001b[0;32m   1059\u001b[0m                 \u001b[1;32mif\u001b[0m \u001b[0maxis\u001b[0m\u001b[1;33m.\u001b[0m\u001b[0mget_scale\u001b[0m\u001b[1;33m(\u001b[0m\u001b[1;33m)\u001b[0m \u001b[1;33m==\u001b[0m \u001b[1;34m\"log\"\u001b[0m\u001b[1;33m:\u001b[0m\u001b[1;33m\u001b[0m\u001b[1;33m\u001b[0m\u001b[0m\n",
      "\u001b[1;32mc:\\Users\\ariza\\anaconda3\\lib\\site-packages\\pandas\\core\\indexing.py\u001b[0m in \u001b[0;36m__setitem__\u001b[1;34m(self, key, value)\u001b[0m\n\u001b[0;32m    721\u001b[0m \u001b[1;33m\u001b[0m\u001b[0m\n\u001b[0;32m    722\u001b[0m         \u001b[0miloc\u001b[0m \u001b[1;33m=\u001b[0m \u001b[0mself\u001b[0m \u001b[1;32mif\u001b[0m \u001b[0mself\u001b[0m\u001b[1;33m.\u001b[0m\u001b[0mname\u001b[0m \u001b[1;33m==\u001b[0m \u001b[1;34m\"iloc\"\u001b[0m \u001b[1;32melse\u001b[0m \u001b[0mself\u001b[0m\u001b[1;33m.\u001b[0m\u001b[0mobj\u001b[0m\u001b[1;33m.\u001b[0m\u001b[0miloc\u001b[0m\u001b[1;33m\u001b[0m\u001b[1;33m\u001b[0m\u001b[0m\n\u001b[1;32m--> 723\u001b[1;33m         \u001b[0miloc\u001b[0m\u001b[1;33m.\u001b[0m\u001b[0m_setitem_with_indexer\u001b[0m\u001b[1;33m(\u001b[0m\u001b[0mindexer\u001b[0m\u001b[1;33m,\u001b[0m \u001b[0mvalue\u001b[0m\u001b[1;33m,\u001b[0m \u001b[0mself\u001b[0m\u001b[1;33m.\u001b[0m\u001b[0mname\u001b[0m\u001b[1;33m)\u001b[0m\u001b[1;33m\u001b[0m\u001b[1;33m\u001b[0m\u001b[0m\n\u001b[0m\u001b[0;32m    724\u001b[0m \u001b[1;33m\u001b[0m\u001b[0m\n\u001b[0;32m    725\u001b[0m     \u001b[1;32mdef\u001b[0m \u001b[0m_validate_key\u001b[0m\u001b[1;33m(\u001b[0m\u001b[0mself\u001b[0m\u001b[1;33m,\u001b[0m \u001b[0mkey\u001b[0m\u001b[1;33m,\u001b[0m \u001b[0maxis\u001b[0m\u001b[1;33m:\u001b[0m \u001b[0mint\u001b[0m\u001b[1;33m)\u001b[0m\u001b[1;33m:\u001b[0m\u001b[1;33m\u001b[0m\u001b[1;33m\u001b[0m\u001b[0m\n",
      "\u001b[1;32mc:\\Users\\ariza\\anaconda3\\lib\\site-packages\\pandas\\core\\indexing.py\u001b[0m in \u001b[0;36m_setitem_with_indexer\u001b[1;34m(self, indexer, value, name)\u001b[0m\n\u001b[0;32m   1730\u001b[0m             \u001b[0mself\u001b[0m\u001b[1;33m.\u001b[0m\u001b[0m_setitem_with_indexer_split_path\u001b[0m\u001b[1;33m(\u001b[0m\u001b[0mindexer\u001b[0m\u001b[1;33m,\u001b[0m \u001b[0mvalue\u001b[0m\u001b[1;33m,\u001b[0m \u001b[0mname\u001b[0m\u001b[1;33m)\u001b[0m\u001b[1;33m\u001b[0m\u001b[1;33m\u001b[0m\u001b[0m\n\u001b[0;32m   1731\u001b[0m         \u001b[1;32melse\u001b[0m\u001b[1;33m:\u001b[0m\u001b[1;33m\u001b[0m\u001b[1;33m\u001b[0m\u001b[0m\n\u001b[1;32m-> 1732\u001b[1;33m             \u001b[0mself\u001b[0m\u001b[1;33m.\u001b[0m\u001b[0m_setitem_single_block\u001b[0m\u001b[1;33m(\u001b[0m\u001b[0mindexer\u001b[0m\u001b[1;33m,\u001b[0m \u001b[0mvalue\u001b[0m\u001b[1;33m,\u001b[0m \u001b[0mname\u001b[0m\u001b[1;33m)\u001b[0m\u001b[1;33m\u001b[0m\u001b[1;33m\u001b[0m\u001b[0m\n\u001b[0m\u001b[0;32m   1733\u001b[0m \u001b[1;33m\u001b[0m\u001b[0m\n\u001b[0;32m   1734\u001b[0m     \u001b[1;32mdef\u001b[0m \u001b[0m_setitem_with_indexer_split_path\u001b[0m\u001b[1;33m(\u001b[0m\u001b[0mself\u001b[0m\u001b[1;33m,\u001b[0m \u001b[0mindexer\u001b[0m\u001b[1;33m,\u001b[0m \u001b[0mvalue\u001b[0m\u001b[1;33m,\u001b[0m \u001b[0mname\u001b[0m\u001b[1;33m:\u001b[0m \u001b[0mstr\u001b[0m\u001b[1;33m)\u001b[0m\u001b[1;33m:\u001b[0m\u001b[1;33m\u001b[0m\u001b[1;33m\u001b[0m\u001b[0m\n",
      "\u001b[1;32mc:\\Users\\ariza\\anaconda3\\lib\\site-packages\\pandas\\core\\indexing.py\u001b[0m in \u001b[0;36m_setitem_single_block\u001b[1;34m(self, indexer, value, name)\u001b[0m\n\u001b[0;32m   1957\u001b[0m             \u001b[1;31m# setting for extensionarrays that store dicts. Need to decide\u001b[0m\u001b[1;33m\u001b[0m\u001b[1;33m\u001b[0m\u001b[0m\n\u001b[0;32m   1958\u001b[0m             \u001b[1;31m# if it's worth supporting that.\u001b[0m\u001b[1;33m\u001b[0m\u001b[1;33m\u001b[0m\u001b[0m\n\u001b[1;32m-> 1959\u001b[1;33m             \u001b[0mvalue\u001b[0m \u001b[1;33m=\u001b[0m \u001b[0mself\u001b[0m\u001b[1;33m.\u001b[0m\u001b[0m_align_series\u001b[0m\u001b[1;33m(\u001b[0m\u001b[0mindexer\u001b[0m\u001b[1;33m,\u001b[0m \u001b[0mSeries\u001b[0m\u001b[1;33m(\u001b[0m\u001b[0mvalue\u001b[0m\u001b[1;33m)\u001b[0m\u001b[1;33m)\u001b[0m\u001b[1;33m\u001b[0m\u001b[1;33m\u001b[0m\u001b[0m\n\u001b[0m\u001b[0;32m   1960\u001b[0m \u001b[1;33m\u001b[0m\u001b[0m\n\u001b[0;32m   1961\u001b[0m         \u001b[1;32melif\u001b[0m \u001b[0misinstance\u001b[0m\u001b[1;33m(\u001b[0m\u001b[0mvalue\u001b[0m\u001b[1;33m,\u001b[0m \u001b[0mABCDataFrame\u001b[0m\u001b[1;33m)\u001b[0m \u001b[1;32mand\u001b[0m \u001b[0mname\u001b[0m \u001b[1;33m!=\u001b[0m \u001b[1;34m\"iloc\"\u001b[0m\u001b[1;33m:\u001b[0m\u001b[1;33m\u001b[0m\u001b[1;33m\u001b[0m\u001b[0m\n",
      "\u001b[1;32mc:\\Users\\ariza\\anaconda3\\lib\\site-packages\\pandas\\core\\indexing.py\u001b[0m in \u001b[0;36m_align_series\u001b[1;34m(self, indexer, ser, multiindex_indexer)\u001b[0m\n\u001b[0;32m   2094\u001b[0m             \u001b[1;31m# series, so need to broadcast (see GH5206)\u001b[0m\u001b[1;33m\u001b[0m\u001b[1;33m\u001b[0m\u001b[0m\n\u001b[0;32m   2095\u001b[0m             \u001b[1;32mif\u001b[0m \u001b[0msum_aligners\u001b[0m \u001b[1;33m==\u001b[0m \u001b[0mself\u001b[0m\u001b[1;33m.\u001b[0m\u001b[0mndim\u001b[0m \u001b[1;32mand\u001b[0m \u001b[0mall\u001b[0m\u001b[1;33m(\u001b[0m\u001b[0mis_sequence\u001b[0m\u001b[1;33m(\u001b[0m\u001b[0m_\u001b[0m\u001b[1;33m)\u001b[0m \u001b[1;32mfor\u001b[0m \u001b[0m_\u001b[0m \u001b[1;32min\u001b[0m \u001b[0mindexer\u001b[0m\u001b[1;33m)\u001b[0m\u001b[1;33m:\u001b[0m\u001b[1;33m\u001b[0m\u001b[1;33m\u001b[0m\u001b[0m\n\u001b[1;32m-> 2096\u001b[1;33m                 \u001b[0mser\u001b[0m \u001b[1;33m=\u001b[0m \u001b[0mser\u001b[0m\u001b[1;33m.\u001b[0m\u001b[0mreindex\u001b[0m\u001b[1;33m(\u001b[0m\u001b[0mobj\u001b[0m\u001b[1;33m.\u001b[0m\u001b[0maxes\u001b[0m\u001b[1;33m[\u001b[0m\u001b[1;36m0\u001b[0m\u001b[1;33m]\u001b[0m\u001b[1;33m[\u001b[0m\u001b[0mindexer\u001b[0m\u001b[1;33m[\u001b[0m\u001b[1;36m0\u001b[0m\u001b[1;33m]\u001b[0m\u001b[1;33m]\u001b[0m\u001b[1;33m,\u001b[0m \u001b[0mcopy\u001b[0m\u001b[1;33m=\u001b[0m\u001b[1;32mTrue\u001b[0m\u001b[1;33m)\u001b[0m\u001b[1;33m.\u001b[0m\u001b[0m_values\u001b[0m\u001b[1;33m\u001b[0m\u001b[1;33m\u001b[0m\u001b[0m\n\u001b[0m\u001b[0;32m   2097\u001b[0m \u001b[1;33m\u001b[0m\u001b[0m\n\u001b[0;32m   2098\u001b[0m                 \u001b[1;31m# single indexer\u001b[0m\u001b[1;33m\u001b[0m\u001b[1;33m\u001b[0m\u001b[0m\n",
      "\u001b[1;32mc:\\Users\\ariza\\anaconda3\\lib\\site-packages\\pandas\\core\\series.py\u001b[0m in \u001b[0;36mreindex\u001b[1;34m(self, index, **kwargs)\u001b[0m\n\u001b[0;32m   4578\u001b[0m     )\n\u001b[0;32m   4579\u001b[0m     \u001b[1;32mdef\u001b[0m \u001b[0mreindex\u001b[0m\u001b[1;33m(\u001b[0m\u001b[0mself\u001b[0m\u001b[1;33m,\u001b[0m \u001b[0mindex\u001b[0m\u001b[1;33m=\u001b[0m\u001b[1;32mNone\u001b[0m\u001b[1;33m,\u001b[0m \u001b[1;33m**\u001b[0m\u001b[0mkwargs\u001b[0m\u001b[1;33m)\u001b[0m\u001b[1;33m:\u001b[0m\u001b[1;33m\u001b[0m\u001b[1;33m\u001b[0m\u001b[0m\n\u001b[1;32m-> 4580\u001b[1;33m         \u001b[1;32mreturn\u001b[0m \u001b[0msuper\u001b[0m\u001b[1;33m(\u001b[0m\u001b[1;33m)\u001b[0m\u001b[1;33m.\u001b[0m\u001b[0mreindex\u001b[0m\u001b[1;33m(\u001b[0m\u001b[0mindex\u001b[0m\u001b[1;33m=\u001b[0m\u001b[0mindex\u001b[0m\u001b[1;33m,\u001b[0m \u001b[1;33m**\u001b[0m\u001b[0mkwargs\u001b[0m\u001b[1;33m)\u001b[0m\u001b[1;33m\u001b[0m\u001b[1;33m\u001b[0m\u001b[0m\n\u001b[0m\u001b[0;32m   4581\u001b[0m \u001b[1;33m\u001b[0m\u001b[0m\n\u001b[0;32m   4582\u001b[0m     \u001b[1;33m@\u001b[0m\u001b[0mdeprecate_nonkeyword_arguments\u001b[0m\u001b[1;33m(\u001b[0m\u001b[0mversion\u001b[0m\u001b[1;33m=\u001b[0m\u001b[1;32mNone\u001b[0m\u001b[1;33m,\u001b[0m \u001b[0mallowed_args\u001b[0m\u001b[1;33m=\u001b[0m\u001b[1;33m[\u001b[0m\u001b[1;34m\"self\"\u001b[0m\u001b[1;33m,\u001b[0m \u001b[1;34m\"labels\"\u001b[0m\u001b[1;33m]\u001b[0m\u001b[1;33m)\u001b[0m\u001b[1;33m\u001b[0m\u001b[1;33m\u001b[0m\u001b[0m\n",
      "\u001b[1;32mc:\\Users\\ariza\\anaconda3\\lib\\site-packages\\pandas\\core\\generic.py\u001b[0m in \u001b[0;36mreindex\u001b[1;34m(self, *args, **kwargs)\u001b[0m\n\u001b[0;32m   4816\u001b[0m \u001b[1;33m\u001b[0m\u001b[0m\n\u001b[0;32m   4817\u001b[0m         \u001b[1;31m# perform the reindex on the axes\u001b[0m\u001b[1;33m\u001b[0m\u001b[1;33m\u001b[0m\u001b[0m\n\u001b[1;32m-> 4818\u001b[1;33m         return self._reindex_axes(\n\u001b[0m\u001b[0;32m   4819\u001b[0m             \u001b[0maxes\u001b[0m\u001b[1;33m,\u001b[0m \u001b[0mlevel\u001b[0m\u001b[1;33m,\u001b[0m \u001b[0mlimit\u001b[0m\u001b[1;33m,\u001b[0m \u001b[0mtolerance\u001b[0m\u001b[1;33m,\u001b[0m \u001b[0mmethod\u001b[0m\u001b[1;33m,\u001b[0m \u001b[0mfill_value\u001b[0m\u001b[1;33m,\u001b[0m \u001b[0mcopy\u001b[0m\u001b[1;33m\u001b[0m\u001b[1;33m\u001b[0m\u001b[0m\n\u001b[0;32m   4820\u001b[0m         ).__finalize__(self, method=\"reindex\")\n",
      "\u001b[1;32mc:\\Users\\ariza\\anaconda3\\lib\\site-packages\\pandas\\core\\generic.py\u001b[0m in \u001b[0;36m_reindex_axes\u001b[1;34m(self, axes, level, limit, tolerance, method, fill_value, copy)\u001b[0m\n\u001b[0;32m   4837\u001b[0m \u001b[1;33m\u001b[0m\u001b[0m\n\u001b[0;32m   4838\u001b[0m             \u001b[0maxis\u001b[0m \u001b[1;33m=\u001b[0m \u001b[0mself\u001b[0m\u001b[1;33m.\u001b[0m\u001b[0m_get_axis_number\u001b[0m\u001b[1;33m(\u001b[0m\u001b[0ma\u001b[0m\u001b[1;33m)\u001b[0m\u001b[1;33m\u001b[0m\u001b[1;33m\u001b[0m\u001b[0m\n\u001b[1;32m-> 4839\u001b[1;33m             obj = obj._reindex_with_indexers(\n\u001b[0m\u001b[0;32m   4840\u001b[0m                 \u001b[1;33m{\u001b[0m\u001b[0maxis\u001b[0m\u001b[1;33m:\u001b[0m \u001b[1;33m[\u001b[0m\u001b[0mnew_index\u001b[0m\u001b[1;33m,\u001b[0m \u001b[0mindexer\u001b[0m\u001b[1;33m]\u001b[0m\u001b[1;33m}\u001b[0m\u001b[1;33m,\u001b[0m\u001b[1;33m\u001b[0m\u001b[1;33m\u001b[0m\u001b[0m\n\u001b[0;32m   4841\u001b[0m                 \u001b[0mfill_value\u001b[0m\u001b[1;33m=\u001b[0m\u001b[0mfill_value\u001b[0m\u001b[1;33m,\u001b[0m\u001b[1;33m\u001b[0m\u001b[1;33m\u001b[0m\u001b[0m\n",
      "\u001b[1;32mc:\\Users\\ariza\\anaconda3\\lib\\site-packages\\pandas\\core\\generic.py\u001b[0m in \u001b[0;36m_reindex_with_indexers\u001b[1;34m(self, reindexers, fill_value, copy, allow_dups)\u001b[0m\n\u001b[0;32m   4881\u001b[0m \u001b[1;33m\u001b[0m\u001b[0m\n\u001b[0;32m   4882\u001b[0m             \u001b[1;31m# TODO: speed up on homogeneous DataFrame objects\u001b[0m\u001b[1;33m\u001b[0m\u001b[1;33m\u001b[0m\u001b[0m\n\u001b[1;32m-> 4883\u001b[1;33m             new_data = new_data.reindex_indexer(\n\u001b[0m\u001b[0;32m   4884\u001b[0m                 \u001b[0mindex\u001b[0m\u001b[1;33m,\u001b[0m\u001b[1;33m\u001b[0m\u001b[1;33m\u001b[0m\u001b[0m\n\u001b[0;32m   4885\u001b[0m                 \u001b[0mindexer\u001b[0m\u001b[1;33m,\u001b[0m\u001b[1;33m\u001b[0m\u001b[1;33m\u001b[0m\u001b[0m\n",
      "\u001b[1;32mc:\\Users\\ariza\\anaconda3\\lib\\site-packages\\pandas\\core\\internals\\managers.py\u001b[0m in \u001b[0;36mreindex_indexer\u001b[1;34m(self, new_axis, indexer, axis, fill_value, allow_dups, copy, consolidate, only_slice)\u001b[0m\n\u001b[0;32m    668\u001b[0m         \u001b[1;31m# some axes don't allow reindexing with dups\u001b[0m\u001b[1;33m\u001b[0m\u001b[1;33m\u001b[0m\u001b[0m\n\u001b[0;32m    669\u001b[0m         \u001b[1;32mif\u001b[0m \u001b[1;32mnot\u001b[0m \u001b[0mallow_dups\u001b[0m\u001b[1;33m:\u001b[0m\u001b[1;33m\u001b[0m\u001b[1;33m\u001b[0m\u001b[0m\n\u001b[1;32m--> 670\u001b[1;33m             \u001b[0mself\u001b[0m\u001b[1;33m.\u001b[0m\u001b[0maxes\u001b[0m\u001b[1;33m[\u001b[0m\u001b[0maxis\u001b[0m\u001b[1;33m]\u001b[0m\u001b[1;33m.\u001b[0m\u001b[0m_validate_can_reindex\u001b[0m\u001b[1;33m(\u001b[0m\u001b[0mindexer\u001b[0m\u001b[1;33m)\u001b[0m\u001b[1;33m\u001b[0m\u001b[1;33m\u001b[0m\u001b[0m\n\u001b[0m\u001b[0;32m    671\u001b[0m \u001b[1;33m\u001b[0m\u001b[0m\n\u001b[0;32m    672\u001b[0m         \u001b[1;32mif\u001b[0m \u001b[0maxis\u001b[0m \u001b[1;33m>=\u001b[0m \u001b[0mself\u001b[0m\u001b[1;33m.\u001b[0m\u001b[0mndim\u001b[0m\u001b[1;33m:\u001b[0m\u001b[1;33m\u001b[0m\u001b[1;33m\u001b[0m\u001b[0m\n",
      "\u001b[1;32mc:\\Users\\ariza\\anaconda3\\lib\\site-packages\\pandas\\core\\indexes\\base.py\u001b[0m in \u001b[0;36m_validate_can_reindex\u001b[1;34m(self, indexer)\u001b[0m\n\u001b[0;32m   3783\u001b[0m         \u001b[1;31m# trying to reindex on an axis with duplicates\u001b[0m\u001b[1;33m\u001b[0m\u001b[1;33m\u001b[0m\u001b[0m\n\u001b[0;32m   3784\u001b[0m         \u001b[1;32mif\u001b[0m \u001b[1;32mnot\u001b[0m \u001b[0mself\u001b[0m\u001b[1;33m.\u001b[0m\u001b[0m_index_as_unique\u001b[0m \u001b[1;32mand\u001b[0m \u001b[0mlen\u001b[0m\u001b[1;33m(\u001b[0m\u001b[0mindexer\u001b[0m\u001b[1;33m)\u001b[0m\u001b[1;33m:\u001b[0m\u001b[1;33m\u001b[0m\u001b[1;33m\u001b[0m\u001b[0m\n\u001b[1;32m-> 3785\u001b[1;33m             \u001b[1;32mraise\u001b[0m \u001b[0mValueError\u001b[0m\u001b[1;33m(\u001b[0m\u001b[1;34m\"cannot reindex from a duplicate axis\"\u001b[0m\u001b[1;33m)\u001b[0m\u001b[1;33m\u001b[0m\u001b[1;33m\u001b[0m\u001b[0m\n\u001b[0m\u001b[0;32m   3786\u001b[0m \u001b[1;33m\u001b[0m\u001b[0m\n\u001b[0;32m   3787\u001b[0m     def reindex(\n",
      "\u001b[1;31mValueError\u001b[0m: cannot reindex from a duplicate axis"
     ]
    },
    {
     "data": {
      "image/png": "[encoded data removed]",
      "text/plain": [
       "<Figure size 720x576 with 1 Axes>"
      ]
     },
     "metadata": {},
     "output_type": "display_data"
    }
   ],
   "source": [
    "sns.set_theme(style=\"whitegrid\")\n",
    "plot = sns.kdeplot(data = OVERTIME_HOTEL_DATA, x = 'REVIEW_DATE', hue=\"HOTEL_SUSTAINABLE\", palette=\"Set1\")\n",
    "\n",
    "plt.show()"
   ]
  },
  {
   "cell_type": "markdown",
   "metadata": {
    "id": "ssZE060OH-8m"
   },
   "source": [
    "### REVIEW RATING OVER TIME"
   ]
  },
  {
   "cell_type": "code",
   "execution_count": 35,
   "metadata": {},
   "outputs": [],
   "source": [
    "# DF - YEARLY (REVIEW_DATE as FLOAT)\n",
    "from unicodedata import category\n",
    "\n",
    "\n",
    "YEARLY_HOTEL_DATA = OVERTIME_HOTEL_DATA.copy()\n",
    "YEARLY_HOTEL_DATA['REVIEW_YEAR'] = YEARLY_HOTEL_DATA['REVIEW_DATE'].astype(int).astype(\"category\")"
   ]
  },
  {
   "cell_type": "code",
   "execution_count": 36,
   "metadata": {
    "colab": {
     "base_uri": "https://localhost:8080/",
     "height": 684
    },
    "executionInfo": {
     "elapsed": 4721,
     "status": "ok",
     "timestamp": 1664771150779,
     "user": {
      "displayName": "Esteban Ariza Acosta",
      "userId": "06368682392842702757"
     },
     "user_tz": 300
    },
    "id": "GRUAoGVW4V7w",
    "outputId": "caf8039b-ac59-460e-a504-a24651eb535e"
   },
   "outputs": [
    {
     "data": {
      "image/png": "[encoded data removed]",
      "text/plain": [
       "<Figure size 864x576 with 1 Axes>"
      ]
     },
     "metadata": {},
     "output_type": "display_data"
    }
   ],
   "source": [
    "sns.set(rc={'figure.figsize':(12,8)})\n",
    "plot = sns.barplot(data = YEARLY_HOTEL_DATA, y ='REVIEW_YEAR', x = 'REVIEW_RATING', hue=\"HOTEL_SUSTAINABLE\", palette=\"Set1\")\n",
    "\n",
    "plt.tight_layout(h_pad=2)"
   ]
  },
  {
   "cell_type": "markdown",
   "metadata": {
    "id": "RKNcw1ErlRJv"
   },
   "source": [
    "### AVERAGE REVIEW RATING BY MONTH"
   ]
  },
  {
   "cell_type": "code",
   "execution_count": 37,
   "metadata": {
    "executionInfo": {
     "elapsed": 223,
     "status": "ok",
     "timestamp": 1664771151000,
     "user": {
      "displayName": "Esteban Ariza Acosta",
      "userId": "06368682392842702757"
     },
     "user_tz": 300
    },
    "id": "E-CFjuH-lfP6"
   },
   "outputs": [],
   "source": [
    "def date_to_month(date):\n",
    "  return date.month\n",
    "\n",
    "def month_to_name(month):\n",
    "  return datetime.date(2022, month, 2).strftime('%B')\n",
    "\n",
    "# DF - MONTHLY (REVIEW_DATE as FLOAT)\n",
    "MONTHLY_HOTEL_DATA = HOTEL_DATA.copy()\n",
    "MONTHLY_HOTEL_DATA['REVIEW_DATE'] = MONTHLY_HOTEL_DATA['REVIEW_DATE'].map(date_to_month)\n",
    "MONTHLY_HOTEL_DATA['REVIEW_MONTH'] = MONTHLY_HOTEL_DATA['REVIEW_DATE'].map(month_to_name)\n",
    "MONTHLY_HOTEL_DATA = MONTHLY_HOTEL_DATA.sort_values(by = ['REVIEW_DATE','HOTEL_SUSTAINABLE'])"
   ]
  },
  {
   "cell_type": "code",
   "execution_count": 38,
   "metadata": {
    "colab": {
     "base_uri": "https://localhost:8080/",
     "height": 581
    },
    "executionInfo": {
     "elapsed": 1179,
     "status": "ok",
     "timestamp": 1664771152178,
     "user": {
      "displayName": "Esteban Ariza Acosta",
      "userId": "06368682392842702757"
     },
     "user_tz": 300
    },
    "id": "beLvJBm6qaCk",
    "outputId": "98151ff6-9613-4f8d-bf86-d5434e6015af"
   },
   "outputs": [
    {
     "data": {
      "image/png": "[encoded data removed]",
      "text/plain": [
       "<Figure size 720x576 with 1 Axes>"
      ]
     },
     "metadata": {},
     "output_type": "display_data"
    }
   ],
   "source": [
    "sns.set(rc={'figure.figsize':(10,8)})\n",
    "sns.barplot(x=\"REVIEW_RATING\", y=\"REVIEW_MONTH\", hue=\"HOTEL_SUSTAINABLE\", data=MONTHLY_HOTEL_DATA, capsize=.2, palette='Set1')\n",
    "\n",
    "plt.tight_layout(h_pad=2)"
   ]
  },
  {
   "cell_type": "markdown",
   "metadata": {
    "id": "fM8UFe--I4ys"
   },
   "source": [
    "### NUMBER OF REVIEWS OVER TIME"
   ]
  },
  {
   "cell_type": "code",
   "execution_count": 41,
   "metadata": {
    "executionInfo": {
     "elapsed": 4,
     "status": "ok",
     "timestamp": 1664771152178,
     "user": {
      "displayName": "Esteban Ariza Acosta",
      "userId": "06368682392842702757"
     },
     "user_tz": 300
    },
    "id": "4xY7tK-xf_5X"
   },
   "outputs": [],
   "source": [
    "# DF - OVERTIME REVIEW COUNT (With columns: REVIEW_DATE as FLOAT, HOTEL_REVIEW_COUNT)\n",
    "REVIEW_HOTEL_DATA = OVERTIME_HOTEL_DATA.groupby([\"REVIEW_DATE\",\"HOTEL_SUSTAINABLE\"]).size().reset_index(name='HOTEL_REVIEW_COUNT')"
   ]
  },
  {
   "cell_type": "code",
   "execution_count": 42,
   "metadata": {
    "colab": {
     "base_uri": "https://localhost:8080/",
     "height": 684
    },
    "executionInfo": {
     "elapsed": 1031,
     "status": "ok",
     "timestamp": 1664771153206,
     "user": {
      "displayName": "Esteban Ariza Acosta",
      "userId": "06368682392842702757"
     },
     "user_tz": 300
    },
    "id": "dnccBw0wRWu2",
    "outputId": "67d3ea00-7117-4eb9-a862-042412ab0968"
   },
   "outputs": [
    {
     "data": {
      "image/png": "[encoded data removed]",
      "text/plain": [
       "<Figure size 720x720 with 3 Axes>"
      ]
     },
     "metadata": {},
     "output_type": "display_data"
    }
   ],
   "source": [
    "sns.set_theme(style=\"whitegrid\")\n",
    "plot = sns.jointplot(data = REVIEW_HOTEL_DATA, x = 'REVIEW_DATE', y = 'HOTEL_REVIEW_COUNT', hue=\"HOTEL_SUSTAINABLE\")\n",
    "\n",
    "plot.fig.set_size_inches(10,10)\n",
    "\n",
    "plot.set_axis_labels('REVIEW_DATE', 'HOTEL_REVIEW_COUNT', fontsize=14)\n",
    "plot.ax_marg_y.set_ylim(bottom=0)\n",
    "\n",
    "plt.show()"
   ]
  },
  {
   "cell_type": "markdown",
   "metadata": {
    "id": "G02x3A8AlB0r"
   },
   "source": [
    "### NUMBER OF REVIEWS BY MONTH"
   ]
  },
  {
   "cell_type": "code",
   "execution_count": 43,
   "metadata": {
    "colab": {
     "base_uri": "https://localhost:8080/",
     "height": 581
    },
    "executionInfo": {
     "elapsed": 4507,
     "status": "ok",
     "timestamp": 1664771157711,
     "user": {
      "displayName": "Esteban Ariza Acosta",
      "userId": "06368682392842702757"
     },
     "user_tz": 300
    },
    "id": "FV4oNuuZliRN",
    "outputId": "bc1e8d01-745f-46de-e4b6-5d67cb58d8ab"
   },
   "outputs": [
    {
     "data": {
      "image/png": "[encoded data removed]",
      "text/plain": [
       "<Figure size 720x576 with 1 Axes>"
      ]
     },
     "metadata": {},
     "output_type": "display_data"
    }
   ],
   "source": [
    "sns.set(rc={'figure.figsize':(10,8)})\n",
    "sns.barplot(x=\"REVIEW_RATING\", y=\"REVIEW_MONTH\", hue=\"HOTEL_SUSTAINABLE\", data=MONTHLY_HOTEL_DATA, capsize=.2, estimator=sum, palette='Set1')\n",
    "\n",
    "plt.tight_layout(h_pad=2)"
   ]
  },
  {
   "cell_type": "markdown",
   "metadata": {
    "id": "hOSLo_q1KdLz"
   },
   "source": [
    "### HOTELS VARIABLES CORRELATION"
   ]
  },
  {
   "cell_type": "code",
   "execution_count": 47,
   "metadata": {},
   "outputs": [],
   "source": [
    "def sustainable_as_int_map(value):\n",
    "    if value == \"YES\":\n",
    "        return True\n",
    "    return False\n",
    "\n",
    "#DF - HOTEL SUSTAINABLE AS INT\n",
    "GENERAL_HOTEL_DATA_INT_SUSTAINABLE = GENERAL_HOTEL_DATA\n",
    "GENERAL_HOTEL_DATA_INT_SUSTAINABLE[\"HOTEL_SUSTAINABLE\"] = GENERAL_HOTEL_DATA_INT_SUSTAINABLE[\"HOTEL_SUSTAINABLE\"].map(sustainable_as_int_map)"
   ]
  },
  {
   "cell_type": "code",
   "execution_count": 48,
   "metadata": {
    "colab": {
     "base_uri": "https://localhost:8080/",
     "height": 344
    },
    "executionInfo": {
     "elapsed": 244,
     "status": "ok",
     "timestamp": 1664771157951,
     "user": {
      "displayName": "Esteban Ariza Acosta",
      "userId": "06368682392842702757"
     },
     "user_tz": 300
    },
    "id": "7QdVNIU-T8Eg",
    "outputId": "0fe91626-b67a-4456-af40-643779032de2"
   },
   "outputs": [
    {
     "data": {
      "image/png": "[encoded data removed]",
      "text/plain": [
       "<Figure size 720x360 with 2 Axes>"
      ]
     },
     "metadata": {},
     "output_type": "display_data"
    }
   ],
   "source": [
    "sns.set_theme(style=\"white\")\n",
    "fig, axs = plt.subplots(figsize = (10,5))\n",
    "plt.title('HOTELS VARIABLES CORRELATION')\n",
    "axs.tick_params(axis = 'y', labelsize = 14, pad = 5)\n",
    "axs.tick_params(axis = 'x', labelsize = 14, pad = 5)\n",
    "sns.set(font_scale = 1.1)\n",
    "cmap = sns.diverging_palette(250, 15, center=\"dark\")\n",
    "\n",
    "corr = GENERAL_HOTEL_DATA_INT_SUSTAINABLE.corr()\n",
    "mask = np.triu(np.ones_like(corr, dtype=bool))\n",
    "sns.heatmap(corr, mask=mask, cmap=cmap, annot = True)\n",
    "\n",
    "plt.show()\n",
    "# GENERAL_HOTEL_DATA"
   ]
  },
  {
   "cell_type": "markdown",
   "metadata": {
    "id": "HPcOCmNwKupi"
   },
   "source": [
    "### HOTEL PRICE DISTRIBUTION BY REVIEW RATING"
   ]
  },
  {
   "cell_type": "code",
   "execution_count": 49,
   "metadata": {
    "executionInfo": {
     "elapsed": 3,
     "status": "ok",
     "timestamp": 1664771157951,
     "user": {
      "displayName": "Esteban Ariza Acosta",
      "userId": "06368682392842702757"
     },
     "user_tz": 300
    },
    "id": "2bD1-kIah1RL"
   },
   "outputs": [],
   "source": [
    "# DF - RATING AS CATEGORY\n",
    "RATING_AS_CATEGORY_HOTEL_DATA = HOTEL_DATA.copy()\n",
    "RATING_AS_CATEGORY_HOTEL_DATA['REVIEW_RATING'] = RATING_AS_CATEGORY_HOTEL_DATA['REVIEW_RATING'].astype(\"category\")"
   ]
  },
  {
   "cell_type": "code",
   "execution_count": 50,
   "metadata": {
    "colab": {
     "base_uri": "https://localhost:8080/",
     "height": 633
    },
    "executionInfo": {
     "elapsed": 866,
     "status": "ok",
     "timestamp": 1664771158815,
     "user": {
      "displayName": "Esteban Ariza Acosta",
      "userId": "06368682392842702757"
     },
     "user_tz": 300
    },
    "id": "0sajA0LGPa3Z",
    "outputId": "c0b72354-b6d6-4a9c-bc10-f7bf5180cb08"
   },
   "outputs": [
    {
     "data": {
      "image/png": "[encoded data removed]",
      "text/plain": [
       "<Figure size 576x576 with 1 Axes>"
      ]
     },
     "metadata": {},
     "output_type": "display_data"
    }
   ],
   "source": [
    "plot = sns.catplot(data=RATING_AS_CATEGORY_HOTEL_DATA, x=\"HOTEL_PRICE\", y=\"REVIEW_RATING\", kind=\"box\", height=8, palette=\"Set1\").set(title='('+CURRENCY+')')"
   ]
  },
  {
   "cell_type": "markdown",
   "metadata": {
    "id": "mxrege8GK-6W"
   },
   "source": [
    "### REVIEW LENGTH DISTRIBUTION BY REVIEW RATING"
   ]
  },
  {
   "cell_type": "code",
   "execution_count": 51,
   "metadata": {
    "colab": {
     "base_uri": "https://localhost:8080/",
     "height": 633
    },
    "executionInfo": {
     "elapsed": 931,
     "status": "ok",
     "timestamp": 1664771159743,
     "user": {
      "displayName": "Esteban Ariza Acosta",
      "userId": "06368682392842702757"
     },
     "user_tz": 300
    },
    "id": "XiPYedad0xxN",
    "outputId": "65d13702-2ae1-47ab-f7d4-6e26956d5479"
   },
   "outputs": [
    {
     "data": {
      "image/png": "[encoded data removed]",
      "text/plain": [
       "<Figure size 576x576 with 1 Axes>"
      ]
     },
     "metadata": {},
     "output_type": "display_data"
    }
   ],
   "source": [
    "REVIEW_LENGTH_HOTEL_DATA['REVIEW_RATING'] = REVIEW_LENGTH_HOTEL_DATA['REVIEW_RATING'].astype(\"category\")\n",
    "REVIEW_MAX_LENGTH = 2000\n",
    "\n",
    "plot = sns.catplot(data=REVIEW_LENGTH_HOTEL_DATA[REVIEW_LENGTH_HOTEL_DATA[\"REVIEW_TEXT_LENGTH\"]< REVIEW_MAX_LENGTH], x=\"REVIEW_TEXT_LENGTH\", y=\"REVIEW_RATING\", kind=\"box\", height=8, palette=\"Set1\")"
   ]
  },
  {
   "cell_type": "markdown",
   "metadata": {
    "id": "_CyvWI7E73FJ"
   },
   "source": [
    "## Export"
   ]
  },
  {
   "cell_type": "markdown",
   "metadata": {
    "id": "TQHDrrIc7_wY"
   },
   "source": [
    "### PDF"
   ]
  },
  {
   "cell_type": "code",
   "execution_count": 52,
   "metadata": {
    "colab": {
     "base_uri": "https://localhost:8080/"
    },
    "executionInfo": {
     "elapsed": 1533,
     "status": "ok",
     "timestamp": 1664771287870,
     "user": {
      "displayName": "Esteban Ariza Acosta",
      "userId": "06368682392842702757"
     },
     "user_tz": 300
    },
    "id": "oJyJH4PM8R1d",
    "outputId": "877c0b48-b093-4206-b378-38889fc1a16b"
   },
   "outputs": [
    {
     "name": "stderr",
     "output_type": "stream",
     "text": [
      "[NbConvertApp] Converting notebook ./exploratory_analysis.ipynb to html\n",
      "[NbConvertApp] Writing 1264219 bytes to ..\\docs\\exploratory_analysis.html\n",
      "[NbConvertApp] Converting notebook ./exploratory_analysis.ipynb to pdf\n",
      "[NbConvertApp] Support files will be in exploratory_analysis_files\\\n",
      "[NbConvertApp] Making directory .\\exploratory_analysis_files\n",
      "[NbConvertApp] Making directory .\\exploratory_analysis_files\n",
      "[NbConvertApp] Making directory .\\exploratory_analysis_files\n",
      "[NbConvertApp] Making directory .\\exploratory_analysis_files\n",
      "[NbConvertApp] Making directory .\\exploratory_analysis_files\n",
      "[NbConvertApp] Making directory .\\exploratory_analysis_files\n",
      "[NbConvertApp] Making directory .\\exploratory_analysis_files\n",
      "[NbConvertApp] Making directory .\\exploratory_analysis_files\n",
      "[NbConvertApp] Making directory .\\exploratory_analysis_files\n",
      "[NbConvertApp] Making directory .\\exploratory_analysis_files\n",
      "[NbConvertApp] Making directory .\\exploratory_analysis_files\n",
      "[NbConvertApp] Writing 103452 bytes to notebook.tex\n",
      "[NbConvertApp] Building PDF\n",
      "Traceback (most recent call last):\n",
      "  File \"C:\\Users\\ariza\\anaconda3\\Scripts\\jupyter-nbconvert-script.py\", line 10, in <module>\n",
      "    sys.exit(main())\n",
      "  File \"C:\\Users\\ariza\\anaconda3\\lib\\site-packages\\jupyter_core\\application.py\", line 264, in launch_instance\n",
      "    return super(JupyterApp, cls).launch_instance(argv=argv, **kwargs)\n",
      "  File \"C:\\Users\\ariza\\anaconda3\\lib\\site-packages\\traitlets\\config\\application.py\", line 846, in launch_instance\n",
      "    app.start()\n",
      "  File \"C:\\Users\\ariza\\anaconda3\\lib\\site-packages\\nbconvert\\nbconvertapp.py\", line 346, in start\n",
      "    self.convert_notebooks()\n",
      "  File \"C:\\Users\\ariza\\anaconda3\\lib\\site-packages\\nbconvert\\nbconvertapp.py\", line 518, in convert_notebooks\n",
      "    self.convert_single_notebook(notebook_filename)\n",
      "  File \"C:\\Users\\ariza\\anaconda3\\lib\\site-packages\\nbconvert\\nbconvertapp.py\", line 483, in convert_single_notebook\n",
      "    output, resources = self.export_single_notebook(notebook_filename, resources, input_buffer=input_buffer)\n",
      "  File \"C:\\Users\\ariza\\anaconda3\\lib\\site-packages\\nbconvert\\nbconvertapp.py\", line 412, in export_single_notebook\n",
      "    output, resources = self.exporter.from_filename(notebook_filename, resources=resources)\n",
      "  File \"C:\\Users\\ariza\\anaconda3\\lib\\site-packages\\nbconvert\\exporters\\exporter.py\", line 181, in from_filename\n",
      "    return self.from_file(f, resources=resources, **kw)\n",
      "  File \"C:\\Users\\ariza\\anaconda3\\lib\\site-packages\\nbconvert\\exporters\\exporter.py\", line 199, in from_file\n",
      "    return self.from_notebook_node(nbformat.read(file_stream, as_version=4), resources=resources, **kw)\n",
      "  File \"C:\\Users\\ariza\\anaconda3\\lib\\site-packages\\nbconvert\\exporters\\pdf.py\", line 183, in from_notebook_node\n",
      "    self.run_latex(tex_file)\n",
      "  File \"C:\\Users\\ariza\\anaconda3\\lib\\site-packages\\nbconvert\\exporters\\pdf.py\", line 153, in run_latex\n",
      "    return self.run_command(self.latex_command, filename,\n",
      "  File \"C:\\Users\\ariza\\anaconda3\\lib\\site-packages\\nbconvert\\exporters\\pdf.py\", line 110, in run_command\n",
      "    raise OSError(\"{formatter} not found on PATH, if you have not installed \"\n",
      "OSError: xelatex not found on PATH, if you have not installed xelatex you may need to do so. Find further instructions at https://nbconvert.readthedocs.io/en/latest/install.html#installing-tex.\n"
     ]
    }
   ],
   "source": [
    "IPYNB_PATH = \"./exploratory_analysis.ipynb\"\n",
    "IPYNB_OUTPUT_FILE_PATH = '../docs/'\n",
    "\n",
    "# HTML\n",
    "!jupyter nbconvert $IPYNB_PATH --to html --output-dir $IPYNB_OUTPUT_FILE_PATH\n",
    "\n",
    "# PDF\n",
    "!jupyter nbconvert $IPYNB_PATH --to pdf --output-dir $IPYNB_OUTPUT_FILE_PATH"
   ]
  },
  {
   "cell_type": "markdown",
   "metadata": {
    "id": "XZZVo01Z8Mlm"
   },
   "source": [
    "### DATA"
   ]
  },
  {
   "cell_type": "markdown",
   "metadata": {},
   "source": [
    "#### Cleaning"
   ]
  },
  {
   "cell_type": "code",
   "execution_count": 53,
   "metadata": {},
   "outputs": [],
   "source": [
    "OUTPUT_CLEAN_FILE_PATH = '../data/exploratory_analysis/tripadvisor_hotels_clean.csv'\n",
    "HOTEL_DATA.to_csv(OUTPUT_CLEAN_FILE_PATH)"
   ]
  }
 ],
 "metadata": {
  "colab": {
   "authorship_tag": "ABX9TyMkvRK8393mfxDtyGXPyLtR",
   "collapsed_sections": [
    "6wtMtt9WWBg6",
    "IeLhMpwWTLyP",
    "l6KVvh2CW9CP",
    "y3gqLk5oaXNc",
    "kkdt_5yXajUe",
    "ixoRMwxTazdq",
    "W3HY5X2vfbcJ",
    "TlJaHN7KgHMp",
    "XRafpqyQjyOY",
    "dpK5aFgHmm5-",
    "ksKRiElRo4wK",
    "xHMHTvGZ-yDz",
    "yp15T6u0n40x",
    "BImERyuV_BIF",
    "UKrhnvJJ8_-d",
    "udNttvrGoCqT",
    "rz6752icq_7I",
    "ulqDwVesw6wB",
    "GrNttEaMrVW3",
    "-KFTaF9XB1Ku",
    "oWmZc19uCs9k",
    "ssZE060OH-8m",
    "fM8UFe--I4ys",
    "hOSLo_q1KdLz",
    "HPcOCmNwKupi",
    "mxrege8GK-6W",
    "XZZVo01Z8Mlm"
   ],
   "provenance": []
  },
  "kernelspec": {
   "display_name": "Python 3.9.7 ('base')",
   "language": "python",
   "name": "python3"
  },
  "language_info": {
   "codemirror_mode": {
    "name": "ipython",
    "version": 3
   },
   "file_extension": ".py",
   "mimetype": "text/x-python",
   "name": "python",
   "nbconvert_exporter": "python",
   "pygments_lexer": "ipython3",
   "version": "3.9.7"
  },
  "vscode": {
   "interpreter": {
    "hash": "32fe028544ad451da7fd425bd970f9d43d891a9dcc481ea9112199e2f0c30cfa"
   }
  }
 },
 "nbformat": 4,
 "nbformat_minor": 1
}
