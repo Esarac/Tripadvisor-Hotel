{
 "cells": [
  {
   "cell_type": "markdown",
   "metadata": {},
   "source": [
    "# QUALITATIVE ANALYSIS\n",
    "## TRIPADVISOR: HOTEL\n",
    "* Esteban Ariza\n",
    "* Johan Giraldo\n",
    "* Mateo Valdes"
   ]
  },
  {
   "cell_type": "markdown",
   "metadata": {},
   "source": [
    "## PREREQUISITES"
   ]
  },
  {
   "cell_type": "markdown",
   "metadata": {},
   "source": [
    "### install"
   ]
  },
  {
   "cell_type": "code",
   "execution_count": 18,
   "metadata": {},
   "outputs": [
    {
     "name": "stdout",
     "output_type": "stream",
     "text": [
      "Requirement already satisfied: textblob in c:\\python310\\lib\\site-packages (0.17.1)Note: you may need to restart the kernel to use updated packages.\n",
      "\n"
     ]
    },
    {
     "name": "stderr",
     "output_type": "stream",
     "text": [
      "WARNING: Ignoring invalid distribution -ip (c:\\python310\\lib\\site-packages)\n",
      "WARNING: Ignoring invalid distribution - (c:\\python310\\lib\\site-packages)\n",
      "WARNING: Ignoring invalid distribution -ip (c:\\python310\\lib\\site-packages)\n",
      "WARNING: Ignoring invalid distribution - (c:\\python310\\lib\\site-packages)\n",
      "ERROR: Could not find a version that satisfies the requirement vanderSentiment (from versions: none)\n",
      "ERROR: No matching distribution found for vanderSentiment\n",
      "WARNING: Ignoring invalid distribution -ip (c:\\python310\\lib\\site-packages)\n",
      "WARNING: Ignoring invalid distribution - (c:\\python310\\lib\\site-packages)\n",
      "WARNING: Ignoring invalid distribution -ip (c:\\python310\\lib\\site-packages)\n",
      "WARNING: Ignoring invalid distribution - (c:\\python310\\lib\\site-packages)\n",
      "WARNING: Ignoring invalid distribution -ip (c:\\python310\\lib\\site-packages)\n",
      "WARNING: Ignoring invalid distribution - (c:\\python310\\lib\\site-packages)\n"
     ]
    },
    {
     "name": "stdout",
     "output_type": "stream",
     "text": [
      "Requirement already satisfied: pandas in c:\\python310\\lib\\site-packages (1.5.0)\n",
      "Requirement already satisfied: numpy>=1.21.0 in c:\\python310\\lib\\site-packages (from pandas) (1.23.3)\n",
      "Requirement already satisfied: pytz>=2020.1 in c:\\python310\\lib\\site-packages (from pandas) (2022.4)\n",
      "Requirement already satisfied: python-dateutil>=2.8.1 in c:\\users\\ariza\\appdata\\roaming\\python\\python310\\site-packages (from pandas) (2.8.2)\n",
      "Requirement already satisfied: six>=1.5 in c:\\users\\ariza\\appdata\\roaming\\python\\python310\\site-packages (from python-dateutil>=2.8.1->pandas) (1.16.0)\n",
      "Note: you may need to restart the kernel to use updated packages.\n"
     ]
    },
    {
     "name": "stderr",
     "output_type": "stream",
     "text": [
      "WARNING: Ignoring invalid distribution -ip (c:\\python310\\lib\\site-packages)\n",
      "WARNING: Ignoring invalid distribution - (c:\\python310\\lib\\site-packages)\n",
      "WARNING: Ignoring invalid distribution -ip (c:\\python310\\lib\\site-packages)\n",
      "WARNING: Ignoring invalid distribution - (c:\\python310\\lib\\site-packages)\n",
      "WARNING: Ignoring invalid distribution -ip (c:\\python310\\lib\\site-packages)\n",
      "WARNING: Ignoring invalid distribution - (c:\\python310\\lib\\site-packages)\n",
      "WARNING: Ignoring invalid distribution -ip (c:\\python310\\lib\\site-packages)\n",
      "WARNING: Ignoring invalid distribution - (c:\\python310\\lib\\site-packages)\n",
      "WARNING: Ignoring invalid distribution -ip (c:\\python310\\lib\\site-packages)\n",
      "WARNING: Ignoring invalid distribution - (c:\\python310\\lib\\site-packages)\n",
      "WARNING: Ignoring invalid distribution -ip (c:\\python310\\lib\\site-packages)\n",
      "WARNING: Ignoring invalid distribution - (c:\\python310\\lib\\site-packages)\n"
     ]
    },
    {
     "name": "stdout",
     "output_type": "stream",
     "text": [
      "Requirement already satisfied: nltk in c:\\python310\\lib\\site-packages (3.7)\n",
      "Requirement already satisfied: joblib in c:\\python310\\lib\\site-packages (from nltk) (1.2.0)\n",
      "Requirement already satisfied: regex>=2021.8.3 in c:\\python310\\lib\\site-packages (from nltk) (2022.9.13)\n",
      "Requirement already satisfied: tqdm in c:\\python310\\lib\\site-packages (from nltk) (4.64.1)\n",
      "Requirement already satisfied: click in c:\\python310\\lib\\site-packages (from nltk) (8.1.3)\n",
      "Requirement already satisfied: colorama in c:\\users\\ariza\\appdata\\roaming\\python\\python310\\site-packages (from click->nltk) (0.4.5)\n",
      "Note: you may need to restart the kernel to use updated packages.\n"
     ]
    },
    {
     "name": "stderr",
     "output_type": "stream",
     "text": [
      "WARNING: Ignoring invalid distribution -ip (c:\\python310\\lib\\site-packages)\n",
      "WARNING: Ignoring invalid distribution - (c:\\python310\\lib\\site-packages)\n",
      "WARNING: Ignoring invalid distribution -ip (c:\\python310\\lib\\site-packages)\n",
      "WARNING: Ignoring invalid distribution - (c:\\python310\\lib\\site-packages)\n",
      "WARNING: Ignoring invalid distribution -ip (c:\\python310\\lib\\site-packages)\n",
      "WARNING: Ignoring invalid distribution - (c:\\python310\\lib\\site-packages)\n",
      "WARNING: Ignoring invalid distribution -ip (c:\\python310\\lib\\site-packages)\n",
      "WARNING: Ignoring invalid distribution - (c:\\python310\\lib\\site-packages)\n",
      "WARNING: Ignoring invalid distribution -ip (c:\\python310\\lib\\site-packages)\n",
      "WARNING: Ignoring invalid distribution - (c:\\python310\\lib\\site-packages)\n",
      "WARNING: Ignoring invalid distribution -ip (c:\\python310\\lib\\site-packages)\n",
      "WARNING: Ignoring invalid distribution - (c:\\python310\\lib\\site-packages)\n"
     ]
    },
    {
     "name": "stdout",
     "output_type": "stream",
     "text": [
      "Requirement already satisfied: nrclex in c:\\python310\\lib\\site-packages (3.0.0)\n",
      "Requirement already satisfied: textblob in c:\\python310\\lib\\site-packages (from nrclex) (0.17.1)\n",
      "Requirement already satisfied: nltk>=3.1 in c:\\python310\\lib\\site-packages (from textblob->nrclex) (3.7)\n",
      "Requirement already satisfied: joblib in c:\\python310\\lib\\site-packages (from nltk>=3.1->textblob->nrclex) (1.2.0)\n",
      "Requirement already satisfied: tqdm in c:\\python310\\lib\\site-packages (from nltk>=3.1->textblob->nrclex) (4.64.1)\n",
      "Requirement already satisfied: regex>=2021.8.3 in c:\\python310\\lib\\site-packages (from nltk>=3.1->textblob->nrclex) (2022.9.13)\n",
      "Requirement already satisfied: click in c:\\python310\\lib\\site-packages (from nltk>=3.1->textblob->nrclex) (8.1.3)\n",
      "Requirement already satisfied: colorama in c:\\users\\ariza\\appdata\\roaming\\python\\python310\\site-packages (from click->nltk>=3.1->textblob->nrclex) (0.4.5)\n",
      "Note: you may need to restart the kernel to use updated packages.\n"
     ]
    },
    {
     "name": "stderr",
     "output_type": "stream",
     "text": [
      "WARNING: Ignoring invalid distribution -ip (c:\\python310\\lib\\site-packages)\n",
      "WARNING: Ignoring invalid distribution - (c:\\python310\\lib\\site-packages)\n",
      "WARNING: Ignoring invalid distribution -ip (c:\\python310\\lib\\site-packages)\n",
      "WARNING: Ignoring invalid distribution - (c:\\python310\\lib\\site-packages)\n",
      "WARNING: Ignoring invalid distribution -ip (c:\\python310\\lib\\site-packages)\n",
      "WARNING: Ignoring invalid distribution - (c:\\python310\\lib\\site-packages)\n",
      "WARNING: Ignoring invalid distribution -ip (c:\\python310\\lib\\site-packages)\n",
      "WARNING: Ignoring invalid distribution - (c:\\python310\\lib\\site-packages)\n",
      "WARNING: Ignoring invalid distribution -ip (c:\\python310\\lib\\site-packages)\n",
      "WARNING: Ignoring invalid distribution - (c:\\python310\\lib\\site-packages)\n",
      "WARNING: Ignoring invalid distribution -ip (c:\\python310\\lib\\site-packages)\n",
      "WARNING: Ignoring invalid distribution - (c:\\python310\\lib\\site-packages)\n"
     ]
    },
    {
     "name": "stdout",
     "output_type": "stream",
     "text": [
      "Collecting vaderSentiment\n",
      "  Using cached vaderSentiment-3.3.2-py2.py3-none-any.whl (125 kB)\n",
      "Collecting requests\n",
      "  Using cached requests-2.28.1-py3-none-any.whl (62 kB)\n",
      "Requirement already satisfied: charset-normalizer<3,>=2 in c:\\python310\\lib\\site-packages (from requests->vaderSentiment) (2.1.1)\n",
      "Requirement already satisfied: certifi>=2017.4.17 in c:\\python310\\lib\\site-packages (from requests->vaderSentiment) (2022.6.15)\n",
      "Requirement already satisfied: urllib3<1.27,>=1.21.1 in c:\\python310\\lib\\site-packages (from requests->vaderSentiment) (1.26.12)\n",
      "Requirement already satisfied: idna<4,>=2.5 in c:\\python310\\lib\\site-packages (from requests->vaderSentiment) (3.4)\n",
      "Installing collected packages: requests, vaderSentiment\n",
      "Successfully installed requests-2.28.1 vaderSentiment-3.3.2\n",
      "Note: you may need to restart the kernel to use updated packages.\n"
     ]
    },
    {
     "name": "stderr",
     "output_type": "stream",
     "text": [
      "WARNING: Ignoring invalid distribution -ip (c:\\python310\\lib\\site-packages)\n",
      "WARNING: Ignoring invalid distribution - (c:\\python310\\lib\\site-packages)\n",
      "WARNING: Ignoring invalid distribution -ip (c:\\python310\\lib\\site-packages)\n",
      "WARNING: Ignoring invalid distribution - (c:\\python310\\lib\\site-packages)\n",
      "WARNING: Ignoring invalid distribution -ip (c:\\python310\\lib\\site-packages)\n",
      "WARNING: Ignoring invalid distribution - (c:\\python310\\lib\\site-packages)\n",
      "WARNING: Ignoring invalid distribution -ip (c:\\python310\\lib\\site-packages)\n",
      "WARNING: Ignoring invalid distribution - (c:\\python310\\lib\\site-packages)\n",
      "WARNING: Ignoring invalid distribution -ip (c:\\python310\\lib\\site-packages)\n",
      "WARNING: Ignoring invalid distribution - (c:\\python310\\lib\\site-packages)\n",
      "WARNING: Ignoring invalid distribution -ip (c:\\python310\\lib\\site-packages)\n",
      "WARNING: Ignoring invalid distribution - (c:\\python310\\lib\\site-packages)\n",
      "WARNING: Ignoring invalid distribution -ip (c:\\python310\\lib\\site-packages)\n",
      "WARNING: Ignoring invalid distribution - (c:\\python310\\lib\\site-packages)\n",
      "WARNING: Ignoring invalid distribution -ip (c:\\python310\\lib\\site-packages)\n",
      "WARNING: Ignoring invalid distribution - (c:\\python310\\lib\\site-packages)\n"
     ]
    }
   ],
   "source": [
    "# %pip install textblob vanderSentiment nrclex pysentiment2\n",
    "# %pip install pandas\n",
    "# %pip install nltk\n",
    "# %pip install nrclex\n",
    "# %pip install vaderSentiment"
   ]
  },
  {
   "cell_type": "markdown",
   "metadata": {},
   "source": [
    "### import"
   ]
  },
  {
   "cell_type": "code",
   "execution_count": 22,
   "metadata": {},
   "outputs": [],
   "source": [
    "import pandas as pd\n",
    "import os\n",
    "\n",
    "import nltk\n",
    "import pysentiment2 as ps\n",
    "\n",
    "from nrclex import NRCLex\n",
    "from textblob import TextBlob\n",
    "from vaderSentiment.vaderSentiment import SentimentIntensityAnalyzer\n"
   ]
  },
  {
   "cell_type": "markdown",
   "metadata": {},
   "source": [
    "### download\n",
    "Required for NRCLex"
   ]
  },
  {
   "cell_type": "code",
   "execution_count": 23,
   "metadata": {},
   "outputs": [
    {
     "name": "stderr",
     "output_type": "stream",
     "text": [
      "[nltk_data] Downloading package punkt to\n",
      "[nltk_data]     C:\\Users\\ariza\\AppData\\Roaming\\nltk_data...\n",
      "[nltk_data]   Unzipping tokenizers\\punkt.zip.\n"
     ]
    },
    {
     "data": {
      "text/plain": [
       "True"
      ]
     },
     "execution_count": 23,
     "metadata": {},
     "output_type": "execute_result"
    }
   ],
   "source": [
    "nltk.download('punkt')"
   ]
  },
  {
   "cell_type": "markdown",
   "metadata": {},
   "source": [
    "## QUALITATIVE ANALYSIS\n"
   ]
  },
  {
   "cell_type": "markdown",
   "metadata": {},
   "source": [
    "import the csv file that contains all the data"
   ]
  },
  {
   "cell_type": "code",
   "execution_count": 28,
   "metadata": {},
   "outputs": [
    {
     "name": "stdout",
     "output_type": "stream",
     "text": [
      "c:\\Users\\ariza\\Documents\\GitHub\\Tripadvisor-Hotel\\scripts\\../data/web_scraping/outputs/tripadvisor_hotels_full_data.csv\n"
     ]
    },
    {
     "data": {
      "text/html": [
       "<div>\n",
       "<style scoped>\n",
       "    .dataframe tbody tr th:only-of-type {\n",
       "        vertical-align: middle;\n",
       "    }\n",
       "\n",
       "    .dataframe tbody tr th {\n",
       "        vertical-align: top;\n",
       "    }\n",
       "\n",
       "    .dataframe thead th {\n",
       "        text-align: right;\n",
       "    }\n",
       "</style>\n",
       "<table border=\"1\" class=\"dataframe\">\n",
       "  <thead>\n",
       "    <tr style=\"text-align: right;\">\n",
       "      <th></th>\n",
       "      <th>HOTEL_NAME</th>\n",
       "      <th>HOTEL_RATING</th>\n",
       "      <th>HOTEL_PRICE</th>\n",
       "      <th>HOTEL_LOCATION</th>\n",
       "      <th>HOTEL_REVIEW_LINK</th>\n",
       "      <th>REVIEW_RATING</th>\n",
       "      <th>REVIEW_DATE</th>\n",
       "      <th>REVIEW_TEXT</th>\n",
       "    </tr>\n",
       "  </thead>\n",
       "  <tbody>\n",
       "    <tr>\n",
       "      <th>0</th>\n",
       "      <td>1. Romance Istanbul Hotel</td>\n",
       "      <td>5 of 5 bubbles</td>\n",
       "      <td>COP 1,100,014</td>\n",
       "      <td>Hudavendigar Cd. No:5 Sirkeci, Istanbul 34110 ...</td>\n",
       "      <td>https://www.tripadvisor.com//Hotel_Review-g293...</td>\n",
       "      <td>bubble_50</td>\n",
       "      <td>Date of stay: September 2022</td>\n",
       "      <td>This hotel checked off every box we had when l...</td>\n",
       "    </tr>\n",
       "    <tr>\n",
       "      <th>1</th>\n",
       "      <td>1. Romance Istanbul Hotel</td>\n",
       "      <td>5 of 5 bubbles</td>\n",
       "      <td>COP 1,100,014</td>\n",
       "      <td>Hudavendigar Cd. No:5 Sirkeci, Istanbul 34110 ...</td>\n",
       "      <td>https://www.tripadvisor.com//Hotel_Review-g293...</td>\n",
       "      <td>bubble_50</td>\n",
       "      <td>Date of stay: September 2022</td>\n",
       "      <td>We turned down a 2 day free 5-star hotel offer...</td>\n",
       "    </tr>\n",
       "    <tr>\n",
       "      <th>2</th>\n",
       "      <td>1. Romance Istanbul Hotel</td>\n",
       "      <td>5 of 5 bubbles</td>\n",
       "      <td>COP 1,100,014</td>\n",
       "      <td>Hudavendigar Cd. No:5 Sirkeci, Istanbul 34110 ...</td>\n",
       "      <td>https://www.tripadvisor.com//Hotel_Review-g293...</td>\n",
       "      <td>bubble_50</td>\n",
       "      <td>Date of stay: July 2022</td>\n",
       "      <td>Friendly people and great location. Shope and ...</td>\n",
       "    </tr>\n",
       "    <tr>\n",
       "      <th>3</th>\n",
       "      <td>1. Romance Istanbul Hotel</td>\n",
       "      <td>5 of 5 bubbles</td>\n",
       "      <td>COP 1,100,014</td>\n",
       "      <td>Hudavendigar Cd. No:5 Sirkeci, Istanbul 34110 ...</td>\n",
       "      <td>https://www.tripadvisor.com//Hotel_Review-g293...</td>\n",
       "      <td>bubble_50</td>\n",
       "      <td>Date of stay: September 2022</td>\n",
       "      <td>Came here with my family and the location is p...</td>\n",
       "    </tr>\n",
       "    <tr>\n",
       "      <th>4</th>\n",
       "      <td>1. Romance Istanbul Hotel</td>\n",
       "      <td>5 of 5 bubbles</td>\n",
       "      <td>COP 1,100,014</td>\n",
       "      <td>Hudavendigar Cd. No:5 Sirkeci, Istanbul 34110 ...</td>\n",
       "      <td>https://www.tripadvisor.com//Hotel_Review-g293...</td>\n",
       "      <td>bubble_50</td>\n",
       "      <td>Date of stay: September 2022</td>\n",
       "      <td>This hotel is wonderful,the best assest they h...</td>\n",
       "    </tr>\n",
       "  </tbody>\n",
       "</table>\n",
       "</div>"
      ],
      "text/plain": [
       "                        HOTEL_NAME    HOTEL_RATING    HOTEL_PRICE  \\\n",
       "0        1. Romance Istanbul Hotel  5 of 5 bubbles  COP 1,100,014   \n",
       "1        1. Romance Istanbul Hotel  5 of 5 bubbles  COP 1,100,014   \n",
       "2        1. Romance Istanbul Hotel  5 of 5 bubbles  COP 1,100,014   \n",
       "3        1. Romance Istanbul Hotel  5 of 5 bubbles  COP 1,100,014   \n",
       "4        1. Romance Istanbul Hotel  5 of 5 bubbles  COP 1,100,014   \n",
       "\n",
       "                                      HOTEL_LOCATION  \\\n",
       "0  Hudavendigar Cd. No:5 Sirkeci, Istanbul 34110 ...   \n",
       "1  Hudavendigar Cd. No:5 Sirkeci, Istanbul 34110 ...   \n",
       "2  Hudavendigar Cd. No:5 Sirkeci, Istanbul 34110 ...   \n",
       "3  Hudavendigar Cd. No:5 Sirkeci, Istanbul 34110 ...   \n",
       "4  Hudavendigar Cd. No:5 Sirkeci, Istanbul 34110 ...   \n",
       "\n",
       "                                   HOTEL_REVIEW_LINK REVIEW_RATING  \\\n",
       "0  https://www.tripadvisor.com//Hotel_Review-g293...     bubble_50   \n",
       "1  https://www.tripadvisor.com//Hotel_Review-g293...     bubble_50   \n",
       "2  https://www.tripadvisor.com//Hotel_Review-g293...     bubble_50   \n",
       "3  https://www.tripadvisor.com//Hotel_Review-g293...     bubble_50   \n",
       "4  https://www.tripadvisor.com//Hotel_Review-g293...     bubble_50   \n",
       "\n",
       "                    REVIEW_DATE  \\\n",
       "0  Date of stay: September 2022   \n",
       "1  Date of stay: September 2022   \n",
       "2       Date of stay: July 2022   \n",
       "3  Date of stay: September 2022   \n",
       "4  Date of stay: September 2022   \n",
       "\n",
       "                                         REVIEW_TEXT  \n",
       "0  This hotel checked off every box we had when l...  \n",
       "1  We turned down a 2 day free 5-star hotel offer...  \n",
       "2  Friendly people and great location. Shope and ...  \n",
       "3  Came here with my family and the location is p...  \n",
       "4  This hotel is wonderful,the best assest they h...  "
      ]
     },
     "execution_count": 28,
     "metadata": {},
     "output_type": "execute_result"
    }
   ],
   "source": [
    "dir = os.path.abspath('')\n",
    "INPUT_FILE_PATH = '../data/web_scraping/outputs/tripadvisor_hotels_full_data.csv'\n",
    "\n",
    "full_csv_path = os.path.join(dir, INPUT_FILE_PATH)\n",
    "print(full_csv_path)\n",
    "\n",
    "\n",
    "df = pd.read_csv(full_csv_path)\n",
    "\n",
    "df.head()"
   ]
  },
  {
   "cell_type": "markdown",
   "metadata": {},
   "source": [
    "initialize the dictionaries"
   ]
  },
  {
   "cell_type": "code",
   "execution_count": 29,
   "metadata": {},
   "outputs": [],
   "source": [
    "vader_analyzer = SentimentIntensityAnalyzer()\n",
    "hiv4 = ps.HIV4()\n",
    "lm = ps.LM()"
   ]
  },
  {
   "cell_type": "markdown",
   "metadata": {},
   "source": [
    "get polarity and subjetivity from the review text"
   ]
  },
  {
   "cell_type": "code",
   "execution_count": 30,
   "metadata": {},
   "outputs": [],
   "source": [
    "def getPolarity(text):\n",
    "    analysis = TextBlob(text)\n",
    "    # print([analysis.sentiment.polarity, analysis.sentiment.subjectivity])\n",
    "    return analysis.sentiment.polarity\n",
    "\n",
    "def getSubjectivity(text):\n",
    "    analysis = TextBlob(text)\n",
    "    # print([analysis.sentiment.polarity, analysis.sentiment.subjectivity])\n",
    "    return analysis.sentiment.polarity\n"
   ]
  },
  {
   "cell_type": "code",
   "execution_count": 31,
   "metadata": {},
   "outputs": [
    {
     "data": {
      "text/html": [
       "<div>\n",
       "<style scoped>\n",
       "    .dataframe tbody tr th:only-of-type {\n",
       "        vertical-align: middle;\n",
       "    }\n",
       "\n",
       "    .dataframe tbody tr th {\n",
       "        vertical-align: top;\n",
       "    }\n",
       "\n",
       "    .dataframe thead th {\n",
       "        text-align: right;\n",
       "    }\n",
       "</style>\n",
       "<table border=\"1\" class=\"dataframe\">\n",
       "  <thead>\n",
       "    <tr style=\"text-align: right;\">\n",
       "      <th></th>\n",
       "      <th>HOTEL_NAME</th>\n",
       "      <th>HOTEL_RATING</th>\n",
       "      <th>HOTEL_PRICE</th>\n",
       "      <th>HOTEL_LOCATION</th>\n",
       "      <th>HOTEL_REVIEW_LINK</th>\n",
       "      <th>REVIEW_RATING</th>\n",
       "      <th>REVIEW_DATE</th>\n",
       "      <th>REVIEW_TEXT</th>\n",
       "      <th>polarity</th>\n",
       "      <th>subjectivity</th>\n",
       "    </tr>\n",
       "  </thead>\n",
       "  <tbody>\n",
       "    <tr>\n",
       "      <th>0</th>\n",
       "      <td>1. Romance Istanbul Hotel</td>\n",
       "      <td>5 of 5 bubbles</td>\n",
       "      <td>COP 1,100,014</td>\n",
       "      <td>Hudavendigar Cd. No:5 Sirkeci, Istanbul 34110 ...</td>\n",
       "      <td>https://www.tripadvisor.com//Hotel_Review-g293...</td>\n",
       "      <td>bubble_50</td>\n",
       "      <td>Date of stay: September 2022</td>\n",
       "      <td>This hotel checked off every box we had when l...</td>\n",
       "      <td>0.317232</td>\n",
       "      <td>0.317232</td>\n",
       "    </tr>\n",
       "    <tr>\n",
       "      <th>1</th>\n",
       "      <td>1. Romance Istanbul Hotel</td>\n",
       "      <td>5 of 5 bubbles</td>\n",
       "      <td>COP 1,100,014</td>\n",
       "      <td>Hudavendigar Cd. No:5 Sirkeci, Istanbul 34110 ...</td>\n",
       "      <td>https://www.tripadvisor.com//Hotel_Review-g293...</td>\n",
       "      <td>bubble_50</td>\n",
       "      <td>Date of stay: September 2022</td>\n",
       "      <td>We turned down a 2 day free 5-star hotel offer...</td>\n",
       "      <td>0.290900</td>\n",
       "      <td>0.290900</td>\n",
       "    </tr>\n",
       "    <tr>\n",
       "      <th>2</th>\n",
       "      <td>1. Romance Istanbul Hotel</td>\n",
       "      <td>5 of 5 bubbles</td>\n",
       "      <td>COP 1,100,014</td>\n",
       "      <td>Hudavendigar Cd. No:5 Sirkeci, Istanbul 34110 ...</td>\n",
       "      <td>https://www.tripadvisor.com//Hotel_Review-g293...</td>\n",
       "      <td>bubble_50</td>\n",
       "      <td>Date of stay: July 2022</td>\n",
       "      <td>Friendly people and great location. Shope and ...</td>\n",
       "      <td>0.377583</td>\n",
       "      <td>0.377583</td>\n",
       "    </tr>\n",
       "    <tr>\n",
       "      <th>3</th>\n",
       "      <td>1. Romance Istanbul Hotel</td>\n",
       "      <td>5 of 5 bubbles</td>\n",
       "      <td>COP 1,100,014</td>\n",
       "      <td>Hudavendigar Cd. No:5 Sirkeci, Istanbul 34110 ...</td>\n",
       "      <td>https://www.tripadvisor.com//Hotel_Review-g293...</td>\n",
       "      <td>bubble_50</td>\n",
       "      <td>Date of stay: September 2022</td>\n",
       "      <td>Came here with my family and the location is p...</td>\n",
       "      <td>0.377368</td>\n",
       "      <td>0.377368</td>\n",
       "    </tr>\n",
       "    <tr>\n",
       "      <th>4</th>\n",
       "      <td>1. Romance Istanbul Hotel</td>\n",
       "      <td>5 of 5 bubbles</td>\n",
       "      <td>COP 1,100,014</td>\n",
       "      <td>Hudavendigar Cd. No:5 Sirkeci, Istanbul 34110 ...</td>\n",
       "      <td>https://www.tripadvisor.com//Hotel_Review-g293...</td>\n",
       "      <td>bubble_50</td>\n",
       "      <td>Date of stay: September 2022</td>\n",
       "      <td>This hotel is wonderful,the best assest they h...</td>\n",
       "      <td>0.500000</td>\n",
       "      <td>0.500000</td>\n",
       "    </tr>\n",
       "  </tbody>\n",
       "</table>\n",
       "</div>"
      ],
      "text/plain": [
       "                        HOTEL_NAME    HOTEL_RATING    HOTEL_PRICE  \\\n",
       "0        1. Romance Istanbul Hotel  5 of 5 bubbles  COP 1,100,014   \n",
       "1        1. Romance Istanbul Hotel  5 of 5 bubbles  COP 1,100,014   \n",
       "2        1. Romance Istanbul Hotel  5 of 5 bubbles  COP 1,100,014   \n",
       "3        1. Romance Istanbul Hotel  5 of 5 bubbles  COP 1,100,014   \n",
       "4        1. Romance Istanbul Hotel  5 of 5 bubbles  COP 1,100,014   \n",
       "\n",
       "                                      HOTEL_LOCATION  \\\n",
       "0  Hudavendigar Cd. No:5 Sirkeci, Istanbul 34110 ...   \n",
       "1  Hudavendigar Cd. No:5 Sirkeci, Istanbul 34110 ...   \n",
       "2  Hudavendigar Cd. No:5 Sirkeci, Istanbul 34110 ...   \n",
       "3  Hudavendigar Cd. No:5 Sirkeci, Istanbul 34110 ...   \n",
       "4  Hudavendigar Cd. No:5 Sirkeci, Istanbul 34110 ...   \n",
       "\n",
       "                                   HOTEL_REVIEW_LINK REVIEW_RATING  \\\n",
       "0  https://www.tripadvisor.com//Hotel_Review-g293...     bubble_50   \n",
       "1  https://www.tripadvisor.com//Hotel_Review-g293...     bubble_50   \n",
       "2  https://www.tripadvisor.com//Hotel_Review-g293...     bubble_50   \n",
       "3  https://www.tripadvisor.com//Hotel_Review-g293...     bubble_50   \n",
       "4  https://www.tripadvisor.com//Hotel_Review-g293...     bubble_50   \n",
       "\n",
       "                    REVIEW_DATE  \\\n",
       "0  Date of stay: September 2022   \n",
       "1  Date of stay: September 2022   \n",
       "2       Date of stay: July 2022   \n",
       "3  Date of stay: September 2022   \n",
       "4  Date of stay: September 2022   \n",
       "\n",
       "                                         REVIEW_TEXT  polarity  subjectivity  \n",
       "0  This hotel checked off every box we had when l...  0.317232      0.317232  \n",
       "1  We turned down a 2 day free 5-star hotel offer...  0.290900      0.290900  \n",
       "2  Friendly people and great location. Shope and ...  0.377583      0.377583  \n",
       "3  Came here with my family and the location is p...  0.377368      0.377368  \n",
       "4  This hotel is wonderful,the best assest they h...  0.500000      0.500000  "
      ]
     },
     "execution_count": 31,
     "metadata": {},
     "output_type": "execute_result"
    }
   ],
   "source": [
    "df['polarity'] = df['REVIEW_TEXT'].apply(lambda row: getPolarity(row))\n",
    "\n",
    "df['subjectivity'] = df['REVIEW_TEXT'].apply(lambda row: getSubjectivity(row))\n",
    "\n",
    "df.head()"
   ]
  },
  {
   "cell_type": "markdown",
   "metadata": {},
   "source": [
    "obtain the scores (vader, HIV4, LM, NRC)"
   ]
  },
  {
   "cell_type": "code",
   "execution_count": 32,
   "metadata": {},
   "outputs": [],
   "source": [
    "df['vader_score'] = df['REVIEW_TEXT'].apply(lambda row : vader_analyzer.polarity_scores(row))"
   ]
  },
  {
   "cell_type": "code",
   "execution_count": 33,
   "metadata": {},
   "outputs": [],
   "source": [
    "df['HIV4_score'] = df['REVIEW_TEXT'].apply(lambda row: hiv4.get_score(hiv4.tokenize(row)))"
   ]
  },
  {
   "cell_type": "code",
   "execution_count": 34,
   "metadata": {},
   "outputs": [],
   "source": [
    "df['LM_score'] = df['REVIEW_TEXT'].apply(lambda row: lm.get_score(lm.tokenize(row)))"
   ]
  },
  {
   "cell_type": "code",
   "execution_count": 35,
   "metadata": {},
   "outputs": [],
   "source": [
    "df['NRC_affect'] = df['REVIEW_TEXT'].apply(lambda row: NRCLex(row).affect_frequencies)"
   ]
  },
  {
   "cell_type": "code",
   "execution_count": 36,
   "metadata": {},
   "outputs": [
    {
     "data": {
      "text/html": [
       "<div>\n",
       "<style scoped>\n",
       "    .dataframe tbody tr th:only-of-type {\n",
       "        vertical-align: middle;\n",
       "    }\n",
       "\n",
       "    .dataframe tbody tr th {\n",
       "        vertical-align: top;\n",
       "    }\n",
       "\n",
       "    .dataframe thead th {\n",
       "        text-align: right;\n",
       "    }\n",
       "</style>\n",
       "<table border=\"1\" class=\"dataframe\">\n",
       "  <thead>\n",
       "    <tr style=\"text-align: right;\">\n",
       "      <th></th>\n",
       "      <th>HOTEL_NAME</th>\n",
       "      <th>HOTEL_RATING</th>\n",
       "      <th>HOTEL_PRICE</th>\n",
       "      <th>HOTEL_LOCATION</th>\n",
       "      <th>HOTEL_REVIEW_LINK</th>\n",
       "      <th>REVIEW_RATING</th>\n",
       "      <th>REVIEW_DATE</th>\n",
       "      <th>REVIEW_TEXT</th>\n",
       "      <th>polarity</th>\n",
       "      <th>subjectivity</th>\n",
       "      <th>vader_score</th>\n",
       "      <th>HIV4_score</th>\n",
       "      <th>LM_score</th>\n",
       "      <th>NRC_affect</th>\n",
       "    </tr>\n",
       "  </thead>\n",
       "  <tbody>\n",
       "    <tr>\n",
       "      <th>0</th>\n",
       "      <td>1. Romance Istanbul Hotel</td>\n",
       "      <td>5 of 5 bubbles</td>\n",
       "      <td>COP 1,100,014</td>\n",
       "      <td>Hudavendigar Cd. No:5 Sirkeci, Istanbul 34110 ...</td>\n",
       "      <td>https://www.tripadvisor.com//Hotel_Review-g293...</td>\n",
       "      <td>bubble_50</td>\n",
       "      <td>Date of stay: September 2022</td>\n",
       "      <td>This hotel checked off every box we had when l...</td>\n",
       "      <td>0.317232</td>\n",
       "      <td>0.317232</td>\n",
       "      <td>{'neg': 0.008, 'neu': 0.74, 'pos': 0.252, 'com...</td>\n",
       "      <td>{'Positive': 29, 'Negative': 4, 'Polarity': 0....</td>\n",
       "      <td>{'Positive': 9, 'Negative': 1, 'Polarity': 0.7...</td>\n",
       "      <td>{'fear': 0.02, 'anger': 0.0, 'anticip': 0.0, '...</td>\n",
       "    </tr>\n",
       "    <tr>\n",
       "      <th>1</th>\n",
       "      <td>1. Romance Istanbul Hotel</td>\n",
       "      <td>5 of 5 bubbles</td>\n",
       "      <td>COP 1,100,014</td>\n",
       "      <td>Hudavendigar Cd. No:5 Sirkeci, Istanbul 34110 ...</td>\n",
       "      <td>https://www.tripadvisor.com//Hotel_Review-g293...</td>\n",
       "      <td>bubble_50</td>\n",
       "      <td>Date of stay: September 2022</td>\n",
       "      <td>We turned down a 2 day free 5-star hotel offer...</td>\n",
       "      <td>0.290900</td>\n",
       "      <td>0.290900</td>\n",
       "      <td>{'neg': 0.073, 'neu': 0.677, 'pos': 0.25, 'com...</td>\n",
       "      <td>{'Positive': 21, 'Negative': 13, 'Polarity': 0...</td>\n",
       "      <td>{'Positive': 4, 'Negative': 4, 'Polarity': 0.0...</td>\n",
       "      <td>{'fear': 0.045454545454545456, 'anger': 0.0909...</td>\n",
       "    </tr>\n",
       "    <tr>\n",
       "      <th>2</th>\n",
       "      <td>1. Romance Istanbul Hotel</td>\n",
       "      <td>5 of 5 bubbles</td>\n",
       "      <td>COP 1,100,014</td>\n",
       "      <td>Hudavendigar Cd. No:5 Sirkeci, Istanbul 34110 ...</td>\n",
       "      <td>https://www.tripadvisor.com//Hotel_Review-g293...</td>\n",
       "      <td>bubble_50</td>\n",
       "      <td>Date of stay: July 2022</td>\n",
       "      <td>Friendly people and great location. Shope and ...</td>\n",
       "      <td>0.377583</td>\n",
       "      <td>0.377583</td>\n",
       "      <td>{'neg': 0.041, 'neu': 0.693, 'pos': 0.267, 'co...</td>\n",
       "      <td>{'Positive': 9, 'Negative': 4, 'Polarity': 0.3...</td>\n",
       "      <td>{'Positive': 4, 'Negative': 1, 'Polarity': 0.5...</td>\n",
       "      <td>{'fear': 0.1, 'anger': 0.1, 'anticip': 0.0, 't...</td>\n",
       "    </tr>\n",
       "    <tr>\n",
       "      <th>3</th>\n",
       "      <td>1. Romance Istanbul Hotel</td>\n",
       "      <td>5 of 5 bubbles</td>\n",
       "      <td>COP 1,100,014</td>\n",
       "      <td>Hudavendigar Cd. No:5 Sirkeci, Istanbul 34110 ...</td>\n",
       "      <td>https://www.tripadvisor.com//Hotel_Review-g293...</td>\n",
       "      <td>bubble_50</td>\n",
       "      <td>Date of stay: September 2022</td>\n",
       "      <td>Came here with my family and the location is p...</td>\n",
       "      <td>0.377368</td>\n",
       "      <td>0.377368</td>\n",
       "      <td>{'neg': 0.055, 'neu': 0.759, 'pos': 0.186, 'co...</td>\n",
       "      <td>{'Positive': 13, 'Negative': 9, 'Polarity': 0....</td>\n",
       "      <td>{'Positive': 4, 'Negative': 3, 'Polarity': 0.1...</td>\n",
       "      <td>{'fear': 0.02857142857142857, 'anger': 0.02857...</td>\n",
       "    </tr>\n",
       "    <tr>\n",
       "      <th>4</th>\n",
       "      <td>1. Romance Istanbul Hotel</td>\n",
       "      <td>5 of 5 bubbles</td>\n",
       "      <td>COP 1,100,014</td>\n",
       "      <td>Hudavendigar Cd. No:5 Sirkeci, Istanbul 34110 ...</td>\n",
       "      <td>https://www.tripadvisor.com//Hotel_Review-g293...</td>\n",
       "      <td>bubble_50</td>\n",
       "      <td>Date of stay: September 2022</td>\n",
       "      <td>This hotel is wonderful,the best assest they h...</td>\n",
       "      <td>0.500000</td>\n",
       "      <td>0.500000</td>\n",
       "      <td>{'neg': 0.0, 'neu': 0.789, 'pos': 0.211, 'comp...</td>\n",
       "      <td>{'Positive': 6, 'Negative': 1, 'Polarity': 0.7...</td>\n",
       "      <td>{'Positive': 0, 'Negative': 1, 'Polarity': -0....</td>\n",
       "      <td>{'fear': 0.0, 'anger': 0.0, 'anticip': 0.0, 't...</td>\n",
       "    </tr>\n",
       "  </tbody>\n",
       "</table>\n",
       "</div>"
      ],
      "text/plain": [
       "                        HOTEL_NAME    HOTEL_RATING    HOTEL_PRICE  \\\n",
       "0        1. Romance Istanbul Hotel  5 of 5 bubbles  COP 1,100,014   \n",
       "1        1. Romance Istanbul Hotel  5 of 5 bubbles  COP 1,100,014   \n",
       "2        1. Romance Istanbul Hotel  5 of 5 bubbles  COP 1,100,014   \n",
       "3        1. Romance Istanbul Hotel  5 of 5 bubbles  COP 1,100,014   \n",
       "4        1. Romance Istanbul Hotel  5 of 5 bubbles  COP 1,100,014   \n",
       "\n",
       "                                      HOTEL_LOCATION  \\\n",
       "0  Hudavendigar Cd. No:5 Sirkeci, Istanbul 34110 ...   \n",
       "1  Hudavendigar Cd. No:5 Sirkeci, Istanbul 34110 ...   \n",
       "2  Hudavendigar Cd. No:5 Sirkeci, Istanbul 34110 ...   \n",
       "3  Hudavendigar Cd. No:5 Sirkeci, Istanbul 34110 ...   \n",
       "4  Hudavendigar Cd. No:5 Sirkeci, Istanbul 34110 ...   \n",
       "\n",
       "                                   HOTEL_REVIEW_LINK REVIEW_RATING  \\\n",
       "0  https://www.tripadvisor.com//Hotel_Review-g293...     bubble_50   \n",
       "1  https://www.tripadvisor.com//Hotel_Review-g293...     bubble_50   \n",
       "2  https://www.tripadvisor.com//Hotel_Review-g293...     bubble_50   \n",
       "3  https://www.tripadvisor.com//Hotel_Review-g293...     bubble_50   \n",
       "4  https://www.tripadvisor.com//Hotel_Review-g293...     bubble_50   \n",
       "\n",
       "                    REVIEW_DATE  \\\n",
       "0  Date of stay: September 2022   \n",
       "1  Date of stay: September 2022   \n",
       "2       Date of stay: July 2022   \n",
       "3  Date of stay: September 2022   \n",
       "4  Date of stay: September 2022   \n",
       "\n",
       "                                         REVIEW_TEXT  polarity  subjectivity  \\\n",
       "0  This hotel checked off every box we had when l...  0.317232      0.317232   \n",
       "1  We turned down a 2 day free 5-star hotel offer...  0.290900      0.290900   \n",
       "2  Friendly people and great location. Shope and ...  0.377583      0.377583   \n",
       "3  Came here with my family and the location is p...  0.377368      0.377368   \n",
       "4  This hotel is wonderful,the best assest they h...  0.500000      0.500000   \n",
       "\n",
       "                                         vader_score  \\\n",
       "0  {'neg': 0.008, 'neu': 0.74, 'pos': 0.252, 'com...   \n",
       "1  {'neg': 0.073, 'neu': 0.677, 'pos': 0.25, 'com...   \n",
       "2  {'neg': 0.041, 'neu': 0.693, 'pos': 0.267, 'co...   \n",
       "3  {'neg': 0.055, 'neu': 0.759, 'pos': 0.186, 'co...   \n",
       "4  {'neg': 0.0, 'neu': 0.789, 'pos': 0.211, 'comp...   \n",
       "\n",
       "                                          HIV4_score  \\\n",
       "0  {'Positive': 29, 'Negative': 4, 'Polarity': 0....   \n",
       "1  {'Positive': 21, 'Negative': 13, 'Polarity': 0...   \n",
       "2  {'Positive': 9, 'Negative': 4, 'Polarity': 0.3...   \n",
       "3  {'Positive': 13, 'Negative': 9, 'Polarity': 0....   \n",
       "4  {'Positive': 6, 'Negative': 1, 'Polarity': 0.7...   \n",
       "\n",
       "                                            LM_score  \\\n",
       "0  {'Positive': 9, 'Negative': 1, 'Polarity': 0.7...   \n",
       "1  {'Positive': 4, 'Negative': 4, 'Polarity': 0.0...   \n",
       "2  {'Positive': 4, 'Negative': 1, 'Polarity': 0.5...   \n",
       "3  {'Positive': 4, 'Negative': 3, 'Polarity': 0.1...   \n",
       "4  {'Positive': 0, 'Negative': 1, 'Polarity': -0....   \n",
       "\n",
       "                                          NRC_affect  \n",
       "0  {'fear': 0.02, 'anger': 0.0, 'anticip': 0.0, '...  \n",
       "1  {'fear': 0.045454545454545456, 'anger': 0.0909...  \n",
       "2  {'fear': 0.1, 'anger': 0.1, 'anticip': 0.0, 't...  \n",
       "3  {'fear': 0.02857142857142857, 'anger': 0.02857...  \n",
       "4  {'fear': 0.0, 'anger': 0.0, 'anticip': 0.0, 't...  "
      ]
     },
     "execution_count": 36,
     "metadata": {},
     "output_type": "execute_result"
    }
   ],
   "source": [
    "df.head()"
   ]
  },
  {
   "cell_type": "markdown",
   "metadata": {},
   "source": [
    "## EXPORT"
   ]
  },
  {
   "cell_type": "code",
   "execution_count": 37,
   "metadata": {},
   "outputs": [],
   "source": [
    "OUTPUT_FILE_PATH = '../data/sentiment_analysis/tripadvisor_hotels_with_sentiment.csv'\n",
    "df.to_csv(OUTPUT_FILE_PATH)"
   ]
  }
 ],
 "metadata": {
  "kernelspec": {
   "display_name": "Python 3.10.1 64-bit",
   "language": "python",
   "name": "python3"
  },
  "language_info": {
   "codemirror_mode": {
    "name": "ipython",
    "version": 3
   },
   "file_extension": ".py",
   "mimetype": "text/x-python",
   "name": "python",
   "nbconvert_exporter": "python",
   "pygments_lexer": "ipython3",
   "version": "3.10.6"
  },
  "orig_nbformat": 4,
  "vscode": {
   "interpreter": {
    "hash": "369f2c481f4da34e4445cda3fffd2e751bd1c4d706f27375911949ba6bb62e1c"
   }
  }
 },
 "nbformat": 4,
 "nbformat_minor": 2
}
