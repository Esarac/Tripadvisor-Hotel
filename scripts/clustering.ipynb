{
 "cells": [
  {
   "cell_type": "markdown",
   "metadata": {},
   "source": [
    "# CLUSTERING\n",
    "## TRIPADVISOR: HOTELS\n",
    "\n",
    "*   Esteban Ariza\n",
    "*   Johan Giraldo\n",
    "*   Mateo Valdes"
   ]
  },
  {
   "cell_type": "markdown",
   "metadata": {},
   "source": [
    "## Prerequisites"
   ]
  },
  {
   "cell_type": "markdown",
   "metadata": {},
   "source": [
    "### Install python libraries"
   ]
  },
  {
   "cell_type": "code",
   "execution_count": 17,
   "metadata": {},
   "outputs": [
    {
     "name": "stdout",
     "output_type": "stream",
     "text": [
      "Requirement already satisfied: bertopic in c:\\users\\ariza\\anaconda3\\lib\\site-packages (0.12.0)\n",
      "Requirement already satisfied: numpy>=1.20.0 in c:\\users\\ariza\\anaconda3\\lib\\site-packages (from bertopic) (1.20.3)\n",
      "Requirement already satisfied: pandas>=1.1.5 in c:\\users\\ariza\\anaconda3\\lib\\site-packages (from bertopic) (1.3.4)\n",
      "Requirement already satisfied: tqdm>=4.41.1 in c:\\users\\ariza\\anaconda3\\lib\\site-packages (from bertopic) (4.62.3)\n",
      "Requirement already satisfied: sentence-transformers>=0.4.1 in c:\\users\\ariza\\anaconda3\\lib\\site-packages (from bertopic) (2.2.2)\n",
      "Requirement already satisfied: pyyaml<6.0 in c:\\users\\ariza\\anaconda3\\lib\\site-packages (from bertopic) (5.4.1)\n",
      "Requirement already satisfied: scikit-learn>=0.22.2.post1 in c:\\users\\ariza\\anaconda3\\lib\\site-packages (from bertopic) (0.24.2)\n",
      "Requirement already satisfied: umap-learn>=0.5.0 in c:\\users\\ariza\\anaconda3\\lib\\site-packages (from bertopic) (0.5.3)\n",
      "Requirement already satisfied: plotly>=4.7.0 in c:\\users\\ariza\\anaconda3\\lib\\site-packages (from bertopic) (5.10.0)\n",
      "Requirement already satisfied: hdbscan>=0.8.28 in c:\\users\\ariza\\anaconda3\\lib\\site-packages (from bertopic) (0.8.28)\n",
      "Requirement already satisfied: cython>=0.27 in c:\\users\\ariza\\anaconda3\\lib\\site-packages (from hdbscan>=0.8.28->bertopic) (0.29.24)\n",
      "Requirement already satisfied: scipy>=1.0 in c:\\users\\ariza\\anaconda3\\lib\\site-packages (from hdbscan>=0.8.28->bertopic) (1.7.1)\n",
      "Requirement already satisfied: joblib>=1.0 in c:\\users\\ariza\\anaconda3\\lib\\site-packages (from hdbscan>=0.8.28->bertopic) (1.1.0)\n",
      "Requirement already satisfied: python-dateutil>=2.7.3 in c:\\users\\ariza\\anaconda3\\lib\\site-packages (from pandas>=1.1.5->bertopic) (2.8.2)\n",
      "Requirement already satisfied: pytz>=2017.3 in c:\\users\\ariza\\anaconda3\\lib\\site-packages (from pandas>=1.1.5->bertopic) (2021.3)\n",
      "Requirement already satisfied: tenacity>=6.2.0 in c:\\users\\ariza\\anaconda3\\lib\\site-packages (from plotly>=4.7.0->bertopic) (8.1.0)\n",
      "Requirement already satisfied: threadpoolctl>=2.0.0 in c:\\users\\ariza\\anaconda3\\lib\\site-packages (from scikit-learn>=0.22.2.post1->bertopic) (2.2.0)\n",
      "Requirement already satisfied: transformers<5.0.0,>=4.6.0 in c:\\users\\ariza\\anaconda3\\lib\\site-packages (from sentence-transformers>=0.4.1->bertopic) (4.23.1)\n",
      "Requirement already satisfied: huggingface-hub>=0.4.0 in c:\\users\\ariza\\anaconda3\\lib\\site-packages (from sentence-transformers>=0.4.1->bertopic) (0.10.1)\n",
      "Requirement already satisfied: nltk in c:\\users\\ariza\\anaconda3\\lib\\site-packages (from sentence-transformers>=0.4.1->bertopic) (3.6.5)\n",
      "Requirement already satisfied: torchvision in c:\\users\\ariza\\anaconda3\\lib\\site-packages (from sentence-transformers>=0.4.1->bertopic) (0.13.1)\n",
      "Requirement already satisfied: sentencepiece in c:\\users\\ariza\\anaconda3\\lib\\site-packages (from sentence-transformers>=0.4.1->bertopic) (0.1.97)\n",
      "Requirement already satisfied: torch>=1.6.0 in c:\\users\\ariza\\anaconda3\\lib\\site-packages (from sentence-transformers>=0.4.1->bertopic) (1.12.1)\n",
      "Requirement already satisfied: colorama in c:\\users\\ariza\\anaconda3\\lib\\site-packages (from tqdm>=4.41.1->bertopic) (0.4.4)\n",
      "Requirement already satisfied: numba>=0.49 in c:\\users\\ariza\\anaconda3\\lib\\site-packages (from umap-learn>=0.5.0->bertopic) (0.54.1)\n",
      "Requirement already satisfied: pynndescent>=0.5 in c:\\users\\ariza\\anaconda3\\lib\\site-packages (from umap-learn>=0.5.0->bertopic) (0.5.7)\n",
      "Requirement already satisfied: typing-extensions>=3.7.4.3 in c:\\users\\ariza\\anaconda3\\lib\\site-packages (from huggingface-hub>=0.4.0->sentence-transformers>=0.4.1->bertopic) (3.10.0.2)\n",
      "Requirement already satisfied: filelock in c:\\users\\ariza\\anaconda3\\lib\\site-packages (from huggingface-hub>=0.4.0->sentence-transformers>=0.4.1->bertopic) (3.3.1)\n",
      "Requirement already satisfied: packaging>=20.9 in c:\\users\\ariza\\anaconda3\\lib\\site-packages (from huggingface-hub>=0.4.0->sentence-transformers>=0.4.1->bertopic) (21.0)\n",
      "Requirement already satisfied: requests in c:\\users\\ariza\\anaconda3\\lib\\site-packages (from huggingface-hub>=0.4.0->sentence-transformers>=0.4.1->bertopic) (2.26.0)\n",
      "Requirement already satisfied: llvmlite<0.38,>=0.37.0rc1 in c:\\users\\ariza\\anaconda3\\lib\\site-packages (from numba>=0.49->umap-learn>=0.5.0->bertopic) (0.37.0)\n",
      "Requirement already satisfied: setuptools in c:\\users\\ariza\\anaconda3\\lib\\site-packages (from numba>=0.49->umap-learn>=0.5.0->bertopic) (58.0.4)\n",
      "Requirement already satisfied: six>=1.5 in c:\\users\\ariza\\anaconda3\\lib\\site-packages (from python-dateutil>=2.7.3->pandas>=1.1.5->bertopic) (1.16.0)\n",
      "Requirement already satisfied: regex!=2019.12.17 in c:\\users\\ariza\\anaconda3\\lib\\site-packages (from transformers<5.0.0,>=4.6.0->sentence-transformers>=0.4.1->bertopic) (2021.8.3)\n",
      "Requirement already satisfied: tokenizers!=0.11.3,<0.14,>=0.11.1 in c:\\users\\ariza\\anaconda3\\lib\\site-packages (from transformers<5.0.0,>=4.6.0->sentence-transformers>=0.4.1->bertopic) (0.13.1)\n",
      "Requirement already satisfied: click in c:\\users\\ariza\\anaconda3\\lib\\site-packages (from nltk->sentence-transformers>=0.4.1->bertopic) (8.0.3)\n",
      "Requirement already satisfied: pillow!=8.3.*,>=5.3.0 in c:\\users\\ariza\\anaconda3\\lib\\site-packages (from torchvision->sentence-transformers>=0.4.1->bertopic) (8.4.0)\n",
      "Requirement already satisfied: pyparsing>=2.0.2 in c:\\users\\ariza\\anaconda3\\lib\\site-packages (from packaging>=20.9->huggingface-hub>=0.4.0->sentence-transformers>=0.4.1->bertopic) (3.0.4)\n",
      "Requirement already satisfied: urllib3<1.27,>=1.21.1 in c:\\users\\ariza\\anaconda3\\lib\\site-packages (from requests->huggingface-hub>=0.4.0->sentence-transformers>=0.4.1->bertopic) (1.26.7)\n",
      "Requirement already satisfied: certifi>=2017.4.17 in c:\\users\\ariza\\anaconda3\\lib\\site-packages (from requests->huggingface-hub>=0.4.0->sentence-transformers>=0.4.1->bertopic) (2021.10.8)\n",
      "Requirement already satisfied: charset-normalizer~=2.0.0 in c:\\users\\ariza\\anaconda3\\lib\\site-packages (from requests->huggingface-hub>=0.4.0->sentence-transformers>=0.4.1->bertopic) (2.0.4)\n",
      "Requirement already satisfied: idna<4,>=2.5 in c:\\users\\ariza\\anaconda3\\lib\\site-packages (from requests->huggingface-hub>=0.4.0->sentence-transformers>=0.4.1->bertopic) (3.2)\n",
      "Note: you may need to restart the kernel to use updated packages.\n",
      "Requirement already satisfied: joblib==1.1.0 in c:\\users\\ariza\\anaconda3\\lib\\site-packages (1.1.0)\n",
      "Note: you may need to restart the kernel to use updated packages.\n"
     ]
    }
   ],
   "source": [
    "# %pip install bertopic\n",
    "# %pip install joblib==1.1.0"
   ]
  },
  {
   "cell_type": "markdown",
   "metadata": {},
   "source": [
    "### Import python libraries"
   ]
  },
  {
   "cell_type": "code",
   "execution_count": 18,
   "metadata": {},
   "outputs": [],
   "source": [
    "import pandas as pd\n",
    "import numpy as np\n",
    "from bertopic import BERTopic\n",
    "from sklearn.cluster import KMeans"
   ]
  },
  {
   "cell_type": "markdown",
   "metadata": {},
   "source": [
    "### Import data"
   ]
  },
  {
   "cell_type": "code",
   "execution_count": 19,
   "metadata": {},
   "outputs": [
    {
     "data": {
      "text/html": [
       "<div>\n",
       "<style scoped>\n",
       "    .dataframe tbody tr th:only-of-type {\n",
       "        vertical-align: middle;\n",
       "    }\n",
       "\n",
       "    .dataframe tbody tr th {\n",
       "        vertical-align: top;\n",
       "    }\n",
       "\n",
       "    .dataframe thead th {\n",
       "        text-align: right;\n",
       "    }\n",
       "</style>\n",
       "<table border=\"1\" class=\"dataframe\">\n",
       "  <thead>\n",
       "    <tr style=\"text-align: right;\">\n",
       "      <th></th>\n",
       "      <th>HOTEL_NAME</th>\n",
       "      <th>HOTEL_RATING</th>\n",
       "      <th>HOTEL_PRICE</th>\n",
       "      <th>HOTEL_LOCATION</th>\n",
       "      <th>HOTEL_REVIEW_URL</th>\n",
       "      <th>REVIEW_RATING</th>\n",
       "      <th>REVIEW_DATE</th>\n",
       "      <th>REVIEW_HELPFUL_VOTES</th>\n",
       "      <th>REVIEW_TEXT</th>\n",
       "      <th>HOTEL_SUSTAINABLE</th>\n",
       "    </tr>\n",
       "  </thead>\n",
       "  <tbody>\n",
       "    <tr>\n",
       "      <th>0</th>\n",
       "      <td>Fairmont Hotel Vier Jahreszeiten</td>\n",
       "      <td>bubble_45</td>\n",
       "      <td>€412</td>\n",
       "      <td>Neuer Jungfernstieg 9 - 14, 20354 Hamburg Germany</td>\n",
       "      <td>https://www.tripadvisor.com/Hotel_Review-g1873...</td>\n",
       "      <td>bubble_50</td>\n",
       "      <td>Date of stay: July 2022</td>\n",
       "      <td>NaN</td>\n",
       "      <td>Location in the heart of the city right next t...</td>\n",
       "      <td>YES</td>\n",
       "    </tr>\n",
       "    <tr>\n",
       "      <th>1</th>\n",
       "      <td>Fairmont Hotel Vier Jahreszeiten</td>\n",
       "      <td>bubble_45</td>\n",
       "      <td>€412</td>\n",
       "      <td>Neuer Jungfernstieg 9 - 14, 20354 Hamburg Germany</td>\n",
       "      <td>https://www.tripadvisor.com/Hotel_Review-g1873...</td>\n",
       "      <td>bubble_50</td>\n",
       "      <td>Date of stay: August 2022</td>\n",
       "      <td>1 Helpful vote</td>\n",
       "      <td>I have never felt more welcome at a hotel/rest...</td>\n",
       "      <td>YES</td>\n",
       "    </tr>\n",
       "    <tr>\n",
       "      <th>2</th>\n",
       "      <td>Fairmont Hotel Vier Jahreszeiten</td>\n",
       "      <td>bubble_45</td>\n",
       "      <td>€412</td>\n",
       "      <td>Neuer Jungfernstieg 9 - 14, 20354 Hamburg Germany</td>\n",
       "      <td>https://www.tripadvisor.com/Hotel_Review-g1873...</td>\n",
       "      <td>bubble_50</td>\n",
       "      <td>Date of stay: July 2022</td>\n",
       "      <td>1 Helpful vote</td>\n",
       "      <td>we stayed at this Hotel at the end of July,202...</td>\n",
       "      <td>YES</td>\n",
       "    </tr>\n",
       "    <tr>\n",
       "      <th>3</th>\n",
       "      <td>Fairmont Hotel Vier Jahreszeiten</td>\n",
       "      <td>bubble_45</td>\n",
       "      <td>€412</td>\n",
       "      <td>Neuer Jungfernstieg 9 - 14, 20354 Hamburg Germany</td>\n",
       "      <td>https://www.tripadvisor.com/Hotel_Review-g1873...</td>\n",
       "      <td>bubble_50</td>\n",
       "      <td>Date of stay: July 2022</td>\n",
       "      <td>1 Helpful vote</td>\n",
       "      <td>Best hotel in Hamburg. From front desk to room...</td>\n",
       "      <td>YES</td>\n",
       "    </tr>\n",
       "    <tr>\n",
       "      <th>4</th>\n",
       "      <td>Fairmont Hotel Vier Jahreszeiten</td>\n",
       "      <td>bubble_45</td>\n",
       "      <td>€412</td>\n",
       "      <td>Neuer Jungfernstieg 9 - 14, 20354 Hamburg Germany</td>\n",
       "      <td>https://www.tripadvisor.com/Hotel_Review-g1873...</td>\n",
       "      <td>bubble_50</td>\n",
       "      <td>Date of stay: July 2022</td>\n",
       "      <td>1 Helpful vote</td>\n",
       "      <td>Great attention from the team, the location is...</td>\n",
       "      <td>YES</td>\n",
       "    </tr>\n",
       "    <tr>\n",
       "      <th>...</th>\n",
       "      <td>...</td>\n",
       "      <td>...</td>\n",
       "      <td>...</td>\n",
       "      <td>...</td>\n",
       "      <td>...</td>\n",
       "      <td>...</td>\n",
       "      <td>...</td>\n",
       "      <td>...</td>\n",
       "      <td>...</td>\n",
       "      <td>...</td>\n",
       "    </tr>\n",
       "    <tr>\n",
       "      <th>16898</th>\n",
       "      <td>The Yeatman</td>\n",
       "      <td>bubble_45</td>\n",
       "      <td>€390</td>\n",
       "      <td>Rua de Choupelo, Vila Nova de Gaia 4400-088 Po...</td>\n",
       "      <td>https://www.tripadvisor.com/Hotel_Review-g5802...</td>\n",
       "      <td>bubble_50</td>\n",
       "      <td>Date of stay: May 2017</td>\n",
       "      <td>1 Helpful vote</td>\n",
       "      <td>This is one of my favourite hotels- very beaut...</td>\n",
       "      <td>YES</td>\n",
       "    </tr>\n",
       "    <tr>\n",
       "      <th>16899</th>\n",
       "      <td>The Yeatman</td>\n",
       "      <td>bubble_45</td>\n",
       "      <td>€390</td>\n",
       "      <td>Rua de Choupelo, Vila Nova de Gaia 4400-088 Po...</td>\n",
       "      <td>https://www.tripadvisor.com/Hotel_Review-g5802...</td>\n",
       "      <td>bubble_50</td>\n",
       "      <td>Date of stay: April 2017</td>\n",
       "      <td>1 Helpful vote</td>\n",
       "      <td>Our party really enjoyed the fabulous setting ...</td>\n",
       "      <td>YES</td>\n",
       "    </tr>\n",
       "    <tr>\n",
       "      <th>16900</th>\n",
       "      <td>The Yeatman</td>\n",
       "      <td>bubble_45</td>\n",
       "      <td>€390</td>\n",
       "      <td>Rua de Choupelo, Vila Nova de Gaia 4400-088 Po...</td>\n",
       "      <td>https://www.tripadvisor.com/Hotel_Review-g5802...</td>\n",
       "      <td>bubble_50</td>\n",
       "      <td>Date of stay: April 2017</td>\n",
       "      <td>3 Helpful votes</td>\n",
       "      <td>We had a Superior room. Very nice and spacious...</td>\n",
       "      <td>YES</td>\n",
       "    </tr>\n",
       "    <tr>\n",
       "      <th>16901</th>\n",
       "      <td>The Yeatman</td>\n",
       "      <td>bubble_45</td>\n",
       "      <td>€390</td>\n",
       "      <td>Rua de Choupelo, Vila Nova de Gaia 4400-088 Po...</td>\n",
       "      <td>https://www.tripadvisor.com/Hotel_Review-g5802...</td>\n",
       "      <td>bubble_50</td>\n",
       "      <td>Date of stay: May 2017</td>\n",
       "      <td>3 Helpful votes</td>\n",
       "      <td>Great welcome, a chair to sit down during the ...</td>\n",
       "      <td>YES</td>\n",
       "    </tr>\n",
       "    <tr>\n",
       "      <th>16902</th>\n",
       "      <td>The Yeatman</td>\n",
       "      <td>bubble_45</td>\n",
       "      <td>€390</td>\n",
       "      <td>Rua de Choupelo, Vila Nova de Gaia 4400-088 Po...</td>\n",
       "      <td>https://www.tripadvisor.com/Hotel_Review-g5802...</td>\n",
       "      <td>bubble_50</td>\n",
       "      <td>Date of stay: April 2017</td>\n",
       "      <td>3 Helpful votes</td>\n",
       "      <td>Imagine yourself getting lost in the old part ...</td>\n",
       "      <td>YES</td>\n",
       "    </tr>\n",
       "  </tbody>\n",
       "</table>\n",
       "<p>16903 rows × 10 columns</p>\n",
       "</div>"
      ],
      "text/plain": [
       "                             HOTEL_NAME HOTEL_RATING HOTEL_PRICE  \\\n",
       "0      Fairmont Hotel Vier Jahreszeiten    bubble_45        €412   \n",
       "1      Fairmont Hotel Vier Jahreszeiten    bubble_45        €412   \n",
       "2      Fairmont Hotel Vier Jahreszeiten    bubble_45        €412   \n",
       "3      Fairmont Hotel Vier Jahreszeiten    bubble_45        €412   \n",
       "4      Fairmont Hotel Vier Jahreszeiten    bubble_45        €412   \n",
       "...                                 ...          ...         ...   \n",
       "16898                       The Yeatman    bubble_45        €390   \n",
       "16899                       The Yeatman    bubble_45        €390   \n",
       "16900                       The Yeatman    bubble_45        €390   \n",
       "16901                       The Yeatman    bubble_45        €390   \n",
       "16902                       The Yeatman    bubble_45        €390   \n",
       "\n",
       "                                          HOTEL_LOCATION  \\\n",
       "0      Neuer Jungfernstieg 9 - 14, 20354 Hamburg Germany   \n",
       "1      Neuer Jungfernstieg 9 - 14, 20354 Hamburg Germany   \n",
       "2      Neuer Jungfernstieg 9 - 14, 20354 Hamburg Germany   \n",
       "3      Neuer Jungfernstieg 9 - 14, 20354 Hamburg Germany   \n",
       "4      Neuer Jungfernstieg 9 - 14, 20354 Hamburg Germany   \n",
       "...                                                  ...   \n",
       "16898  Rua de Choupelo, Vila Nova de Gaia 4400-088 Po...   \n",
       "16899  Rua de Choupelo, Vila Nova de Gaia 4400-088 Po...   \n",
       "16900  Rua de Choupelo, Vila Nova de Gaia 4400-088 Po...   \n",
       "16901  Rua de Choupelo, Vila Nova de Gaia 4400-088 Po...   \n",
       "16902  Rua de Choupelo, Vila Nova de Gaia 4400-088 Po...   \n",
       "\n",
       "                                        HOTEL_REVIEW_URL REVIEW_RATING  \\\n",
       "0      https://www.tripadvisor.com/Hotel_Review-g1873...     bubble_50   \n",
       "1      https://www.tripadvisor.com/Hotel_Review-g1873...     bubble_50   \n",
       "2      https://www.tripadvisor.com/Hotel_Review-g1873...     bubble_50   \n",
       "3      https://www.tripadvisor.com/Hotel_Review-g1873...     bubble_50   \n",
       "4      https://www.tripadvisor.com/Hotel_Review-g1873...     bubble_50   \n",
       "...                                                  ...           ...   \n",
       "16898  https://www.tripadvisor.com/Hotel_Review-g5802...     bubble_50   \n",
       "16899  https://www.tripadvisor.com/Hotel_Review-g5802...     bubble_50   \n",
       "16900  https://www.tripadvisor.com/Hotel_Review-g5802...     bubble_50   \n",
       "16901  https://www.tripadvisor.com/Hotel_Review-g5802...     bubble_50   \n",
       "16902  https://www.tripadvisor.com/Hotel_Review-g5802...     bubble_50   \n",
       "\n",
       "                     REVIEW_DATE REVIEW_HELPFUL_VOTES  \\\n",
       "0        Date of stay: July 2022                  NaN   \n",
       "1      Date of stay: August 2022       1 Helpful vote   \n",
       "2        Date of stay: July 2022       1 Helpful vote   \n",
       "3        Date of stay: July 2022       1 Helpful vote   \n",
       "4        Date of stay: July 2022       1 Helpful vote   \n",
       "...                          ...                  ...   \n",
       "16898     Date of stay: May 2017       1 Helpful vote   \n",
       "16899   Date of stay: April 2017       1 Helpful vote   \n",
       "16900   Date of stay: April 2017      3 Helpful votes   \n",
       "16901     Date of stay: May 2017      3 Helpful votes   \n",
       "16902   Date of stay: April 2017      3 Helpful votes   \n",
       "\n",
       "                                             REVIEW_TEXT HOTEL_SUSTAINABLE  \n",
       "0      Location in the heart of the city right next t...               YES  \n",
       "1      I have never felt more welcome at a hotel/rest...               YES  \n",
       "2      we stayed at this Hotel at the end of July,202...               YES  \n",
       "3      Best hotel in Hamburg. From front desk to room...               YES  \n",
       "4      Great attention from the team, the location is...               YES  \n",
       "...                                                  ...               ...  \n",
       "16898  This is one of my favourite hotels- very beaut...               YES  \n",
       "16899  Our party really enjoyed the fabulous setting ...               YES  \n",
       "16900  We had a Superior room. Very nice and spacious...               YES  \n",
       "16901  Great welcome, a chair to sit down during the ...               YES  \n",
       "16902  Imagine yourself getting lost in the old part ...               YES  \n",
       "\n",
       "[16903 rows x 10 columns]"
      ]
     },
     "execution_count": 19,
     "metadata": {},
     "output_type": "execute_result"
    }
   ],
   "source": [
    "NONSUST_HOTEL_DATA_PATH = '../data/web_scraping/outputs/tripadvisor_hotels_nonsustainables_v2.csv'\n",
    "NONSUST_HOTEL_DATA = pd.read_csv(NONSUST_HOTEL_DATA_PATH)\n",
    "NONSUST_HOTEL_DATA['HOTEL_SUSTAINABLE'] = \"NO\"\n",
    "\n",
    "SUST_HOTEL_DATA_PATH = '../data/web_scraping/outputs/tripadvisor_hotels_sustainables_v2.csv'\n",
    "SUST_HOTEL_DATA = pd.read_csv(SUST_HOTEL_DATA_PATH)\n",
    "SUST_HOTEL_DATA['HOTEL_SUSTAINABLE'] = \"YES\"\n",
    "\n",
    "SUST_HOTEL_DATA"
   ]
  },
  {
   "cell_type": "markdown",
   "metadata": {},
   "source": [
    "## Clustering"
   ]
  },
  {
   "cell_type": "markdown",
   "metadata": {},
   "source": [
    "### Sustainables"
   ]
  },
  {
   "cell_type": "code",
   "execution_count": 20,
   "metadata": {},
   "outputs": [],
   "source": [
    "SUST_COMMENTS = SUST_HOTEL_DATA[\"REVIEW_TEXT\"].values.tolist()\n",
    "\n",
    "cluster_model = KMeans(n_clusters=50)\n",
    "topic_model = BERTopic(hdbscan_model=cluster_model)\n",
    "topics, probabilities = topic_model.fit_transform(SUST_COMMENTS)"
   ]
  },
  {
   "cell_type": "code",
   "execution_count": 25,
   "metadata": {},
   "outputs": [
    {
     "data": {
      "text/plain": [
       "{0: [('amsterdam', 0.039213443164332784),\n",
       "  ('the', 0.017630994581745787),\n",
       "  ('and', 0.016237679603021637),\n",
       "  ('to', 0.015885456512223388),\n",
       "  ('in', 0.015829740306703935),\n",
       "  ('we', 0.014148073223168512),\n",
       "  ('hotel', 0.014060183518413058),\n",
       "  ('of', 0.013915500404917146),\n",
       "  ('was', 0.01347693685834088),\n",
       "  ('is', 0.012816779787319375)],\n",
       " 1: [('hotel', 0.022193016485432523),\n",
       "  ('and', 0.017758233295407513),\n",
       "  ('is', 0.0177553234026421),\n",
       "  ('the', 0.01730452298534714),\n",
       "  ('very', 0.015281040000708637),\n",
       "  ('this', 0.015046453059786035),\n",
       "  ('great', 0.01435985573944001),\n",
       "  ('staff', 0.013391198438067142),\n",
       "  ('to', 0.012722135357308192),\n",
       "  ('location', 0.01268476019137519)],\n",
       " 2: [('and', 0.01889676885574567),\n",
       "  ('was', 0.017115355973023345),\n",
       "  ('staff', 0.016775491129045236),\n",
       "  ('the', 0.016002081094250865),\n",
       "  ('breakfast', 0.015868379007550015),\n",
       "  ('very', 0.01574155028870297),\n",
       "  ('great', 0.013791494932889007),\n",
       "  ('to', 0.013271984138663998),\n",
       "  ('service', 0.01294884425492047),\n",
       "  ('room', 0.012835103030266783)],\n",
       " 3: [('the', 0.016165892912323572),\n",
       "  ('hotel', 0.01577610386777023),\n",
       "  ('was', 0.01533246670570969),\n",
       "  ('and', 0.015267507504830052),\n",
       "  ('is', 0.014343468192141506),\n",
       "  ('room', 0.01427301479093927),\n",
       "  ('in', 0.013325709425789397),\n",
       "  ('of', 0.012998336775047708),\n",
       "  ('to', 0.012765887753282237),\n",
       "  ('this', 0.012446344653687855)],\n",
       " 4: [('room', 0.02078584289105502),\n",
       "  ('the', 0.017883010607222114),\n",
       "  ('was', 0.017208501442500374),\n",
       "  ('and', 0.01451736978667927),\n",
       "  ('in', 0.013671047840382986),\n",
       "  ('bathroom', 0.013383457006530616),\n",
       "  ('to', 0.013220261050580938),\n",
       "  ('shower', 0.013067265374576142),\n",
       "  ('but', 0.012961284489424688),\n",
       "  ('not', 0.012572282790745177)],\n",
       " 5: [('very', 0.019047507388215507),\n",
       "  ('is', 0.018284761124677584),\n",
       "  ('good', 0.018216732938702608),\n",
       "  ('the', 0.017195723417914536),\n",
       "  ('and', 0.01687995018195074),\n",
       "  ('hotel', 0.01649149653439033),\n",
       "  ('location', 0.015594613887489756),\n",
       "  ('to', 0.014963916368216377),\n",
       "  ('rooms', 0.013553344159694333),\n",
       "  ('nice', 0.013282702788091983)],\n",
       " 6: [('spa', 0.027410118032206304),\n",
       "  ('the', 0.018183825374513858),\n",
       "  ('and', 0.017319166015785717),\n",
       "  ('is', 0.014366450863916854),\n",
       "  ('to', 0.013340448228435534),\n",
       "  ('was', 0.012958959747786616),\n",
       "  ('of', 0.012806661960829076),\n",
       "  ('we', 0.01271776507650739),\n",
       "  ('resort', 0.012626454112597305),\n",
       "  ('with', 0.01221961272731726)],\n",
       " 7: [('pool', 0.01954598458783951),\n",
       "  ('and', 0.01797295677617356),\n",
       "  ('the', 0.01741678684685169),\n",
       "  ('is', 0.017188807886505467),\n",
       "  ('with', 0.013527896045302216),\n",
       "  ('hotel', 0.013463503060170601),\n",
       "  ('spa', 0.01308252275658018),\n",
       "  ('to', 0.013072181117821652),\n",
       "  ('was', 0.012919301161405845),\n",
       "  ('very', 0.012719404281845155)],\n",
       " 8: [('paris', 0.045921290940215125),\n",
       "  ('james', 0.02359045287068366),\n",
       "  ('the', 0.018027841494758345),\n",
       "  ('and', 0.01779303821947865),\n",
       "  ('saint', 0.01750426373278094),\n",
       "  ('in', 0.016194224004846682),\n",
       "  ('to', 0.015398567881381834),\n",
       "  ('we', 0.014263012736214886),\n",
       "  ('is', 0.01374596987200459),\n",
       "  ('our', 0.013283694460941204)],\n",
       " 9: [('and', 0.018446024085499887),\n",
       "  ('hotel', 0.018042787531573835),\n",
       "  ('the', 0.016713222693250956),\n",
       "  ('staff', 0.015794568256479853),\n",
       "  ('to', 0.015497353819552277),\n",
       "  ('this', 0.014927796237854826),\n",
       "  ('was', 0.014895079773942992),\n",
       "  ('we', 0.013678196176376247),\n",
       "  ('in', 0.012321141534463186),\n",
       "  ('is', 0.012288583050310125)],\n",
       " 10: [('vienna', 0.04608550433990583),\n",
       "  ('and', 0.01745471697411606),\n",
       "  ('the', 0.017427369938337968),\n",
       "  ('in', 0.015720962182625992),\n",
       "  ('to', 0.015066757811611932),\n",
       "  ('we', 0.013837515502829316),\n",
       "  ('guesthouse', 0.013815607238308847),\n",
       "  ('was', 0.01345473472737543),\n",
       "  ('hotel', 0.013391298665859636),\n",
       "  ('of', 0.013345016754165648)],\n",
       " 11: [('we', 0.018368911937596093),\n",
       "  ('to', 0.01826308431327651),\n",
       "  ('was', 0.017646621105288824),\n",
       "  ('room', 0.0171550545654447),\n",
       "  ('the', 0.016661648229384533),\n",
       "  ('not', 0.01608117891438866),\n",
       "  ('that', 0.015439205032497707),\n",
       "  ('they', 0.013735138888502809),\n",
       "  ('for', 0.012795785495994666),\n",
       "  ('had', 0.01278036674838128)],\n",
       " 12: [('we', 0.017682039999515033),\n",
       "  ('was', 0.017646283459600603),\n",
       "  ('the', 0.017132690351723556),\n",
       "  ('and', 0.015211613642533633),\n",
       "  ('to', 0.014748674467186071),\n",
       "  ('of', 0.013250277867995553),\n",
       "  ('were', 0.01294707656351695),\n",
       "  ('for', 0.01247501438653187),\n",
       "  ('had', 0.012308642036484636),\n",
       "  ('in', 0.011911622485771664)],\n",
       " 13: [('beach', 0.026976244854289476),\n",
       "  ('sea', 0.018355058899528383),\n",
       "  ('the', 0.017451103912734876),\n",
       "  ('pool', 0.016761256570246293),\n",
       "  ('and', 0.016021592664950936),\n",
       "  ('on', 0.01467663503341981),\n",
       "  ('is', 0.014166887526879118),\n",
       "  ('hotel', 0.013920124886537011),\n",
       "  ('was', 0.013863377643292065),\n",
       "  ('of', 0.013791389644019537)],\n",
       " 14: [('champagne', 0.02730338357571974),\n",
       "  ('chateau', 0.02668219509857608),\n",
       "  ('les', 0.0185075150289055),\n",
       "  ('the', 0.017647195333418506),\n",
       "  ('crayeres', 0.017438579957203656),\n",
       "  ('and', 0.01642802688917781),\n",
       "  ('we', 0.01610827439852605),\n",
       "  ('in', 0.015539373890304173),\n",
       "  ('of', 0.015415308955800155),\n",
       "  ('reims', 0.015242560486851754)],\n",
       " 15: [('stayed', 0.02158163612261579),\n",
       "  ('was', 0.019233280253898175),\n",
       "  ('and', 0.01779949121199432),\n",
       "  ('here', 0.01738729759899832),\n",
       "  ('very', 0.01660413102604663),\n",
       "  ('the', 0.016035662020485404),\n",
       "  ('for', 0.015415386679426015),\n",
       "  ('we', 0.014926134383270973),\n",
       "  ('nights', 0.014589816301795374),\n",
       "  ('good', 0.014482136669910972)],\n",
       " 16: [('we', 0.019129168113146366),\n",
       "  ('was', 0.01812325140582624),\n",
       "  ('and', 0.01773490246365454),\n",
       "  ('the', 0.016950552075735165),\n",
       "  ('our', 0.01578491671118789),\n",
       "  ('birthday', 0.015553677773967541),\n",
       "  ('to', 0.01536640248307336),\n",
       "  ('were', 0.014906996686912925),\n",
       "  ('for', 0.014354669173492115),\n",
       "  ('my', 0.013101172617659295)],\n",
       " 17: [('lisbon', 0.041214784474974814),\n",
       "  ('tour', 0.03115635231538993),\n",
       "  ('corpo', 0.029831375355080552),\n",
       "  ('santo', 0.029802541030101378),\n",
       "  ('victoria', 0.020400263580813746),\n",
       "  ('walking', 0.02021407545194757),\n",
       "  ('and', 0.018709446855738613),\n",
       "  ('the', 0.016795398430184627),\n",
       "  ('free', 0.01624980611157162),\n",
       "  ('to', 0.016032599881334753)],\n",
       " 18: [('canal', 0.023978036290230504),\n",
       "  ('the', 0.018996513938337217),\n",
       "  ('and', 0.016093984732150526),\n",
       "  ('to', 0.014970997376775284),\n",
       "  ('was', 0.01491099208878145),\n",
       "  ('we', 0.014281916963272598),\n",
       "  ('grand', 0.014268937369896165),\n",
       "  ('hotel', 0.014223587534196615),\n",
       "  ('room', 0.013010894439019738),\n",
       "  ('of', 0.012517524330627154)],\n",
       " 19: [('gritti', 0.04446149862222492),\n",
       "  ('venice', 0.03824513710816762),\n",
       "  ('palace', 0.028738602228473364),\n",
       "  ('canal', 0.02138637863252452),\n",
       "  ('the', 0.02018478852981767),\n",
       "  ('we', 0.015539604983666272),\n",
       "  ('to', 0.015517360646962089),\n",
       "  ('and', 0.015417829970724285),\n",
       "  ('grand', 0.014671954663409306),\n",
       "  ('our', 0.014163603372742131)],\n",
       " 20: [('bristol', 0.059430068065408695),\n",
       "  ('le', 0.04446810402892141),\n",
       "  ('paris', 0.023477556377106856),\n",
       "  ('the', 0.017272157746428624),\n",
       "  ('at', 0.016256301906880075),\n",
       "  ('to', 0.01608669734405398),\n",
       "  ('and', 0.01550695570009222),\n",
       "  ('of', 0.014794774553154783),\n",
       "  ('in', 0.014773382705437018),\n",
       "  ('is', 0.013818133212598173)],\n",
       " 21: [('the', 0.018926655501151246),\n",
       "  ('and', 0.01728863697505686),\n",
       "  ('cathedral', 0.016778050070833325),\n",
       "  ('christmas', 0.016047381120906885),\n",
       "  ('opera', 0.014349679849243723),\n",
       "  ('is', 0.01387636351684632),\n",
       "  ('hotel', 0.013338221904600158),\n",
       "  ('was', 0.013271140198061354),\n",
       "  ('to', 0.013270180972532436),\n",
       "  ('of', 0.012741606124037054)],\n",
       " 22: [('san', 0.04105733310172365),\n",
       "  ('sebastian', 0.0307051349179079),\n",
       "  ('maria', 0.025163136084495774),\n",
       "  ('cristina', 0.023794394295594497),\n",
       "  ('the', 0.017501000459582965),\n",
       "  ('hotel', 0.016318647517045575),\n",
       "  ('sebastin', 0.01594641264826098),\n",
       "  ('and', 0.015912841825951488),\n",
       "  ('to', 0.015742352163073636),\n",
       "  ('of', 0.014805106932669374)],\n",
       " 23: [('porto', 0.038707071018028255),\n",
       "  ('the', 0.019053934852489626),\n",
       "  ('of', 0.01760887902773324),\n",
       "  ('and', 0.016436237139281513),\n",
       "  ('portugal', 0.015836110859119526),\n",
       "  ('views', 0.015780721015509078),\n",
       "  ('river', 0.015384085239689356),\n",
       "  ('to', 0.01499140646301647),\n",
       "  ('is', 0.013986435282567431),\n",
       "  ('we', 0.012450200756346976)],\n",
       " 24: [('warsaw', 0.05906131992792797),\n",
       "  ('bristol', 0.022581394108168062),\n",
       "  ('the', 0.018009961941968907),\n",
       "  ('in', 0.017257395417316163),\n",
       "  ('hotel', 0.016579212123271868),\n",
       "  ('old', 0.0162027686436564),\n",
       "  ('to', 0.016192028109883655),\n",
       "  ('and', 0.016097160750732264),\n",
       "  ('is', 0.015622976808506814),\n",
       "  ('very', 0.0144307485227775)],\n",
       " 25: [('hamburg', 0.054562583845250395),\n",
       "  ('fairmont', 0.021431748023745933),\n",
       "  ('jahreszeiten', 0.020979487352263796),\n",
       "  ('vier', 0.01981019158016908),\n",
       "  ('the', 0.01832969450004463),\n",
       "  ('in', 0.017369160580277907),\n",
       "  ('and', 0.01676571879939443),\n",
       "  ('hotel', 0.016599640993901887),\n",
       "  ('is', 0.016295202787663617),\n",
       "  ('lake', 0.01581705339845285)],\n",
       " 26: [('faro', 0.026941034366798608),\n",
       "  ('rovinj', 0.019894445707869295),\n",
       "  ('ifa', 0.019724996127607412),\n",
       "  ('beach', 0.017999453927899114),\n",
       "  ('the', 0.01762743870327645),\n",
       "  ('hotel', 0.01706871845647232),\n",
       "  ('and', 0.01637556371826521),\n",
       "  ('we', 0.015806217685590807),\n",
       "  ('of', 0.014312912797908544),\n",
       "  ('to', 0.014309128769804681)],\n",
       " 27: [('croatia', 0.02058727709394173),\n",
       "  ('zadar', 0.01848728003058542),\n",
       "  ('is', 0.0168106779589027),\n",
       "  ('the', 0.016560648779861617),\n",
       "  ('and', 0.015834952480926832),\n",
       "  ('iadera', 0.01577084652955269),\n",
       "  ('of', 0.014383687424683371),\n",
       "  ('hotel', 0.014144999332638263),\n",
       "  ('to', 0.013878754046425232),\n",
       "  ('spa', 0.013823126999972509)],\n",
       " 28: [('rotterdam', 0.06432451891913887),\n",
       "  ('marriott', 0.035254026415116775),\n",
       "  ('station', 0.028921715207503314),\n",
       "  ('central', 0.018738293831733133),\n",
       "  ('the', 0.017001373425124165),\n",
       "  ('train', 0.016631770337595244),\n",
       "  ('to', 0.016010763367672706),\n",
       "  ('in', 0.015555897622167884),\n",
       "  ('and', 0.015331852736788778),\n",
       "  ('is', 0.014297938990500355)],\n",
       " 29: [('utrecht', 0.05126500685981695),\n",
       "  ('karel', 0.020897429103197817),\n",
       "  ('in', 0.01918669174946544),\n",
       "  ('the', 0.018745645574892635),\n",
       "  ('is', 0.017112367827224535),\n",
       "  ('hotel', 0.01575809216609718),\n",
       "  ('and', 0.015555100298717931),\n",
       "  ('of', 0.015342445993258241),\n",
       "  ('to', 0.01369426976115847),\n",
       "  ('very', 0.013173048738509389)],\n",
       " 30: [('wine', 0.02079090128948749),\n",
       "  ('the', 0.019482056823498125),\n",
       "  ('and', 0.017109878225887342),\n",
       "  ('of', 0.016252971292237687),\n",
       "  ('vineyards', 0.01592009290932232),\n",
       "  ('is', 0.01553136108690311),\n",
       "  ('to', 0.013990450973488507),\n",
       "  ('abadia', 0.013074040703415985),\n",
       "  ('in', 0.012451531863815039),\n",
       "  ('you', 0.012072617632337664)],\n",
       " 31: [('dusseldorf', 0.037580179498278216),\n",
       "  ('breidenbacher', 0.03023518464047669),\n",
       "  ('hof', 0.025296436710998505),\n",
       "  ('the', 0.01808816942665543),\n",
       "  ('dsseldorf', 0.017868233278057002),\n",
       "  ('in', 0.017088351904688746),\n",
       "  ('and', 0.016239646444121136),\n",
       "  ('is', 0.01585772564808807),\n",
       "  ('hotel', 0.015695635479558965),\n",
       "  ('to', 0.015530948460254415)],\n",
       " 32: [('brenners', 0.04320889638850336),\n",
       "  ('baden', 0.037810664420867765),\n",
       "  ('park', 0.03281184506107442),\n",
       "  ('the', 0.019832159060162904),\n",
       "  ('badenbaden', 0.016416278952545275),\n",
       "  ('in', 0.016258854884832415),\n",
       "  ('and', 0.01607907729591483),\n",
       "  ('spa', 0.01593148087391118),\n",
       "  ('is', 0.015123587698237897),\n",
       "  ('of', 0.015030765369288983)],\n",
       " 33: [('autostadt', 0.027492265469495562),\n",
       "  ('the', 0.018744493021749138),\n",
       "  ('is', 0.015370053472742798),\n",
       "  ('to', 0.015311319969405294),\n",
       "  ('in', 0.015175124957338887),\n",
       "  ('hotel', 0.014958133737275007),\n",
       "  ('and', 0.014864213731404648),\n",
       "  ('german', 0.01470017213156938),\n",
       "  ('wolfsburg', 0.014071006464714111),\n",
       "  ('of', 0.013684036210213522)],\n",
       " 34: [('cologne', 0.05450133258477118),\n",
       "  ('excelsior', 0.02697985998105086),\n",
       "  ('cathedral', 0.02560479554931668),\n",
       "  ('ernst', 0.020488355941571643),\n",
       "  ('the', 0.02032329080770601),\n",
       "  ('hotel', 0.01877628727187181),\n",
       "  ('train', 0.016991221748272972),\n",
       "  ('and', 0.01654138961956522),\n",
       "  ('in', 0.015851686123540303),\n",
       "  ('to', 0.015673171667750757)],\n",
       " 35: [('senses', 0.0488682463528459),\n",
       "  ('six', 0.047996359954684195),\n",
       "  ('douro', 0.04669488997610028),\n",
       "  ('valley', 0.03762284287259252),\n",
       "  ('the', 0.018971760826698825),\n",
       "  ('and', 0.017416677354040327),\n",
       "  ('of', 0.015864406563485155),\n",
       "  ('wine', 0.01580365587016701),\n",
       "  ('to', 0.014997540187336513),\n",
       "  ('is', 0.01427083990962907)],\n",
       " 36: [('mcely', 0.05173705417558797),\n",
       "  ('chateau', 0.051260842500186636),\n",
       "  ('prague', 0.030808961647764196),\n",
       "  ('czech', 0.01744930933359053),\n",
       "  ('and', 0.01671556056558962),\n",
       "  ('place', 0.016496184540863382),\n",
       "  ('the', 0.01573401183770759),\n",
       "  ('we', 0.015679386079064883),\n",
       "  ('in', 0.015011374591846894),\n",
       "  ('to', 0.01453713231877563)],\n",
       " 37: [('krakow', 0.0480800581240304),\n",
       "  ('unicus', 0.025659194974774646),\n",
       "  ('hotel', 0.02011896568286406),\n",
       "  ('and', 0.017349157341459587),\n",
       "  ('square', 0.017213225400681837),\n",
       "  ('the', 0.01658158425505287),\n",
       "  ('to', 0.016259620170518005),\n",
       "  ('palace', 0.015339725870574162),\n",
       "  ('in', 0.014774757544145697),\n",
       "  ('we', 0.01446865882660928)],\n",
       " 38: [('tuscany', 0.02834824435826569),\n",
       "  ('bosco', 0.02462957867176536),\n",
       "  ('del', 0.024451014786503293),\n",
       "  ('castiglion', 0.022749546419258825),\n",
       "  ('rosewood', 0.019652801683095474),\n",
       "  ('we', 0.0171534189988362),\n",
       "  ('cdb', 0.016901409447462108),\n",
       "  ('of', 0.016509093225708885),\n",
       "  ('the', 0.016264808026694874),\n",
       "  ('and', 0.016128008259793047)],\n",
       " 39: [('yeatman', 0.06278734875080712),\n",
       "  ('porto', 0.03658239363851699),\n",
       "  ('the', 0.021175974356368442),\n",
       "  ('river', 0.01645723507828176),\n",
       "  ('and', 0.01607356992981374),\n",
       "  ('to', 0.015367293111966227),\n",
       "  ('we', 0.014870581122959019),\n",
       "  ('is', 0.01465979265369795),\n",
       "  ('views', 0.014450802971111494),\n",
       "  ('of', 0.014003636438977842)],\n",
       " 40: [('topazz', 0.03857910454193022),\n",
       "  ('vienna', 0.032650264585702894),\n",
       "  ('andaz', 0.03018302901076115),\n",
       "  ('the', 0.018086233798309925),\n",
       "  ('hotel', 0.017799090996306898),\n",
       "  ('and', 0.015969092041162855),\n",
       "  ('to', 0.015571942032861661),\n",
       "  ('in', 0.015119111207684253),\n",
       "  ('is', 0.014593721836156051),\n",
       "  ('of', 0.012661510966034378)],\n",
       " 41: [('zagreb', 0.07132523274046013),\n",
       "  ('hilton', 0.02100392024482209),\n",
       "  ('doubletree', 0.019838234504319045),\n",
       "  ('is', 0.01747727865426843),\n",
       "  ('and', 0.016232745547498022),\n",
       "  ('the', 0.015865935898185135),\n",
       "  ('city', 0.015508572290302584),\n",
       "  ('very', 0.015424594865551358),\n",
       "  ('in', 0.015267074815637207),\n",
       "  ('good', 0.015244496378530708)],\n",
       " 42: [('okura', 0.06875898660151374),\n",
       "  ('amsterdam', 0.020855672769922395),\n",
       "  ('the', 0.017057185419028807),\n",
       "  ('and', 0.016504264862206037),\n",
       "  ('we', 0.015711050275554753),\n",
       "  ('japanese', 0.014632020552190988),\n",
       "  ('at', 0.014617247804086866),\n",
       "  ('was', 0.014344758849806098),\n",
       "  ('hotel', 0.014203057337455426),\n",
       "  ('to', 0.014031544797947182)],\n",
       " 43: [('souci', 0.05750023489764958),\n",
       "  ('sans', 0.053555287241008775),\n",
       "  ('vienna', 0.020526649564620497),\n",
       "  ('the', 0.01957594093793878),\n",
       "  ('and', 0.01660460778938963),\n",
       "  ('was', 0.016434189625178394),\n",
       "  ('wien', 0.016051786842170387),\n",
       "  ('to', 0.01540768696453811),\n",
       "  ('we', 0.015121673938803143),\n",
       "  ('hotel', 0.014972179753852797)],\n",
       " 44: [('heidelberg', 0.06054647816439571),\n",
       "  ('hof', 0.02349147916104339),\n",
       "  ('in', 0.018043537191875687),\n",
       "  ('the', 0.01771910971681281),\n",
       "  ('hotel', 0.016622004748133638),\n",
       "  ('and', 0.01645970644819347),\n",
       "  ('is', 0.015677189589361522),\n",
       "  ('of', 0.013668693243525383),\n",
       "  ('to', 0.01324541059030952),\n",
       "  ('you', 0.011905946430826682)],\n",
       " 45: [('palma', 0.0637954185666836),\n",
       "  ('summum', 0.02920428436775576),\n",
       "  ('of', 0.017666080784490713),\n",
       "  ('hotel', 0.016888618762345955),\n",
       "  ('and', 0.01668284143634538),\n",
       "  ('the', 0.016506390957805612),\n",
       "  ('in', 0.016213189365905396),\n",
       "  ('to', 0.015139260362368456),\n",
       "  ('is', 0.01424424391578351),\n",
       "  ('boutique', 0.013933469328078965)],\n",
       " 46: [('astoria', 0.03205198750594787),\n",
       "  ('seefeld', 0.025172070945587998),\n",
       "  ('krallerhof', 0.01994582576569178),\n",
       "  ('ski', 0.018392073831476882),\n",
       "  ('the', 0.017956490612584666),\n",
       "  ('and', 0.01744548686702652),\n",
       "  ('of', 0.01569054395154467),\n",
       "  ('spa', 0.01533028123066675),\n",
       "  ('is', 0.01499173582526209),\n",
       "  ('to', 0.01383046882451848)],\n",
       " 47: [('conservatorium', 0.055323314420985314),\n",
       "  ('mayra', 0.030366934731322355),\n",
       "  ('the', 0.019623975523101706),\n",
       "  ('and', 0.017592018419609133),\n",
       "  ('to', 0.01560561130444821),\n",
       "  ('great', 0.014846921752175602),\n",
       "  ('us', 0.014326150614955738),\n",
       "  ('was', 0.01418609043110388),\n",
       "  ('at', 0.013851826228673973),\n",
       "  ('she', 0.013504444619750873)],\n",
       " 48: [('conservatorium', 0.054367006798830726),\n",
       "  ('amsterdam', 0.0401437492993046),\n",
       "  ('the', 0.019918139345625297),\n",
       "  ('to', 0.015939592770203025),\n",
       "  ('and', 0.015866897461209815),\n",
       "  ('in', 0.015785687202703465),\n",
       "  ('hotel', 0.014540496651375927),\n",
       "  ('is', 0.014147779650700939),\n",
       "  ('at', 0.013749253703000399),\n",
       "  ('museums', 0.013135853452594867)],\n",
       " 49: [('huis', 0.049878819358580316),\n",
       "  ('ter', 0.04913936001634261),\n",
       "  ('duin', 0.04913936001634261),\n",
       "  ('beach', 0.039641215009307326),\n",
       "  ('noordwijk', 0.0371825235401477),\n",
       "  ('the', 0.019404551902550478),\n",
       "  ('is', 0.019068120854264396),\n",
       "  ('hotel', 0.018732762487249803),\n",
       "  ('in', 0.017545238128303702),\n",
       "  ('sea', 0.015282472494213033)]}"
      ]
     },
     "execution_count": 25,
     "metadata": {},
     "output_type": "execute_result"
    }
   ],
   "source": [
    "topic_model.get_topic_info()\n",
    "topic_model.get_topics()"
   ]
  },
  {
   "cell_type": "code",
   "execution_count": 24,
   "metadata": {},
   "outputs": [
    {
     "data": {
      "application/vnd.plotly.v1+json": {
       "config": {
        "plotlyServerURL": "https://plot.ly"
       },
       "data": [
        {
         "customdata": [
          [
           0,
           "amsterdam | the | and | to | in",
           923
          ],
          [
           1,
           "hotel | and | is | the | very",
           825
          ],
          [
           2,
           "and | was | staff | the | breakfast",
           728
          ],
          [
           3,
           "the | hotel | was | and | is",
           713
          ],
          [
           4,
           "room | the | was | and | in",
           656
          ],
          [
           5,
           "very | is | good | the | and",
           654
          ],
          [
           6,
           "spa | the | and | is | to",
           624
          ],
          [
           7,
           "pool | and | the | is | with",
           599
          ],
          [
           8,
           "paris | james | the | and | saint",
           592
          ],
          [
           9,
           "and | hotel | the | staff | to",
           583
          ],
          [
           10,
           "vienna | and | the | in | to",
           501
          ],
          [
           11,
           "we | to | was | room | the",
           489
          ],
          [
           12,
           "we | was | the | and | to",
           476
          ],
          [
           13,
           "beach | sea | the | pool | and",
           456
          ],
          [
           14,
           "champagne | chateau | les | the | crayeres",
           450
          ],
          [
           15,
           "stayed | was | and | here | very",
           431
          ],
          [
           16,
           "we | was | and | the | our",
           392
          ],
          [
           17,
           "lisbon | tour | corpo | santo | victoria",
           387
          ],
          [
           18,
           "canal | the | and | to | was",
           341
          ],
          [
           19,
           "gritti | venice | palace | canal | the",
           334
          ],
          [
           20,
           "bristol | le | paris | the | at",
           319
          ],
          [
           21,
           "the | and | cathedral | christmas | opera",
           304
          ],
          [
           22,
           "san | sebastian | maria | cristina | the",
           301
          ],
          [
           23,
           "porto | the | of | and | portugal",
           281
          ],
          [
           24,
           "warsaw | bristol | the | in | hotel",
           279
          ],
          [
           25,
           "hamburg | fairmont | jahreszeiten | vier | the",
           255
          ],
          [
           26,
           "faro | rovinj | ifa | beach | the",
           248
          ],
          [
           27,
           "croatia | zadar | is | the | and",
           246
          ],
          [
           28,
           "rotterdam | marriott | station | central | the",
           241
          ],
          [
           29,
           "utrecht | karel | in | the | is",
           230
          ],
          [
           30,
           "wine | the | and | of | vineyards",
           211
          ],
          [
           31,
           "dusseldorf | breidenbacher | hof | the | dsseldorf",
           205
          ],
          [
           32,
           "brenners | baden | park | the | badenbaden",
           203
          ],
          [
           33,
           "autostadt | the | is | to | in",
           201
          ],
          [
           34,
           "cologne | excelsior | cathedral | ernst | the",
           198
          ],
          [
           35,
           "senses | six | douro | valley | the",
           178
          ],
          [
           36,
           "mcely | chateau | prague | czech | and",
           172
          ],
          [
           37,
           "krakow | unicus | hotel | and | square",
           163
          ],
          [
           38,
           "tuscany | bosco | del | castiglion | rosewood",
           163
          ],
          [
           39,
           "yeatman | porto | the | river | and",
           156
          ],
          [
           40,
           "topazz | vienna | andaz | the | hotel",
           156
          ],
          [
           41,
           "zagreb | hilton | doubletree | is | and",
           154
          ],
          [
           42,
           "okura | amsterdam | the | and | we",
           153
          ],
          [
           43,
           "souci | sans | vienna | the | and",
           136
          ],
          [
           44,
           "heidelberg | hof | in | the | hotel",
           124
          ],
          [
           45,
           "palma | summum | of | hotel | and",
           116
          ],
          [
           46,
           "astoria | seefeld | krallerhof | ski | the",
           106
          ],
          [
           47,
           "conservatorium | mayra | the | and | to",
           92
          ],
          [
           48,
           "conservatorium | amsterdam | the | to | and",
           92
          ],
          [
           49,
           "huis | ter | duin | beach | noordwijk",
           66
          ]
         ],
         "hovertemplate": "<b>Topic %{customdata[0]}</b><br>Words: %{customdata[1]}<br>Size: %{customdata[2]}",
         "legendgroup": "",
         "marker": {
          "color": "#B0BEC5",
          "line": {
           "color": "DarkSlateGrey",
           "width": 2
          },
          "size": [
           923,
           825,
           728,
           713,
           656,
           654,
           624,
           599,
           592,
           583,
           501,
           489,
           476,
           456,
           450,
           431,
           392,
           387,
           341,
           334,
           319,
           304,
           301,
           281,
           279,
           255,
           248,
           246,
           241,
           230,
           211,
           205,
           203,
           201,
           198,
           178,
           172,
           163,
           163,
           156,
           156,
           154,
           153,
           136,
           124,
           116,
           106,
           92,
           92,
           66
          ],
          "sizemode": "area",
          "sizeref": 0.576875,
          "symbol": "circle"
         },
         "mode": "markers",
         "name": "",
         "orientation": "v",
         "showlegend": false,
         "type": "scatter",
         "x": [
          1.0173628330230713,
          0.01023908331990242,
          -1.4657429456710815,
          -2.3687679767608643,
          -2.369786500930786,
          -1.4275434017181396,
          2.892289400100708,
          2.975771188735962,
          -3.2230777740478516,
          9.804348945617676,
          0.028137264773249626,
          -2.320793390274048,
          -2.576444387435913,
          -2.467055559158325,
          -3.3211798667907715,
          -0.21282020211219788,
          9.670794486999512,
          9.841940879821777,
          0.8891481161117554,
          1.2351933717727661,
          -2.8707315921783447,
          0.3858128488063812,
          1.365561604499817,
          12.934646606445312,
          -0.08520703762769699,
          -2.301069498062134,
          -2.450204372406006,
          -2.394366502761841,
          -1.6765730381011963,
          -2.1974713802337646,
          14.868773460388184,
          0.5586779117584229,
          -2.4688069820404053,
          0.32183635234832764,
          0.47091662883758545,
          14.850014686584473,
          -2.5089259147644043,
          -0.007349022664129734,
          15.005914688110352,
          12.943706512451172,
          0.21857598423957825,
          -1.5989514589309692,
          0.3432525098323822,
          0.10211560130119324,
          -2.4099338054656982,
          0.4104105830192566,
          -2.405491828918457,
          11.293478965759277,
          11.293471336364746,
          -2.134627342224121
         ],
         "xaxis": "x",
         "y": [
          1.5109875202178955,
          2.068760633468628,
          2.6231112480163574,
          9.566699028015137,
          9.108620643615723,
          2.636693239212036,
          15.816496849060059,
          15.91413402557373,
          -11.748514175415039,
          1.5874570608139038,
          -2.9005677700042725,
          8.954168319702148,
          9.667137145996094,
          21.00638198852539,
          -11.735519409179688,
          2.0453219413757324,
          1.4540514945983887,
          1.6252025365829468,
          1.4647579193115234,
          1.3436601161956787,
          -11.906028747558594,
          -3.300006866455078,
          1.2651748657226562,
          8.03036117553711,
          2.163243055343628,
          -12.223723411560059,
          20.989521026611328,
          20.93368911743164,
          2.345844268798828,
          9.758856773376465,
          11.98012924194336,
          -3.8553924560546875,
          -12.340547561645508,
          1.714786171913147,
          -3.700772762298584,
          11.952591896057129,
          -12.157772064208984,
          1.8229126930236816,
          11.796157836914062,
          8.04870319366455,
          -2.7245514392852783,
          2.8926970958709717,
          -3.3928024768829346,
          -2.7591285705566406,
          -12.76546859741211,
          2.090177536010742,
          -12.884769439697266,
          -5.733611106872559,
          -5.733602046966553,
          9.837525367736816
         ],
         "yaxis": "y"
        }
       ],
       "layout": {
        "annotations": [
         {
          "showarrow": false,
          "text": "D1",
          "x": -3.819356846809387,
          "y": 4.6699272155761715,
          "yshift": 10
         },
         {
          "showarrow": false,
          "text": "D2",
          "x": 6.7187225222587585,
          "xshift": 10,
          "y": 24.1573392868042
         }
        ],
        "height": 650,
        "hoverlabel": {
         "bgcolor": "white",
         "font": {
          "family": "Rockwell",
          "size": 16
         }
        },
        "legend": {
         "itemsizing": "constant",
         "tracegroupgap": 0
        },
        "margin": {
         "t": 60
        },
        "shapes": [
         {
          "line": {
           "color": "#CFD8DC",
           "width": 2
          },
          "type": "line",
          "x0": 6.7187225222587585,
          "x1": 6.7187225222587585,
          "y0": -14.817484855651855,
          "y1": 24.1573392868042
         },
         {
          "line": {
           "color": "#9E9E9E",
           "width": 2
          },
          "type": "line",
          "x0": -3.819356846809387,
          "x1": 17.256801891326905,
          "y0": 4.6699272155761715,
          "y1": 4.6699272155761715
         }
        ],
        "sliders": [
         {
          "active": 0,
          "pad": {
           "t": 50
          },
          "steps": [
           {
            "args": [
             {
              "marker.color": [
               [
                "red",
                "#B0BEC5",
                "#B0BEC5",
                "#B0BEC5",
                "#B0BEC5",
                "#B0BEC5",
                "#B0BEC5",
                "#B0BEC5",
                "#B0BEC5",
                "#B0BEC5",
                "#B0BEC5",
                "#B0BEC5",
                "#B0BEC5",
                "#B0BEC5",
                "#B0BEC5",
                "#B0BEC5",
                "#B0BEC5",
                "#B0BEC5",
                "#B0BEC5",
                "#B0BEC5",
                "#B0BEC5",
                "#B0BEC5",
                "#B0BEC5",
                "#B0BEC5",
                "#B0BEC5",
                "#B0BEC5",
                "#B0BEC5",
                "#B0BEC5",
                "#B0BEC5",
                "#B0BEC5",
                "#B0BEC5",
                "#B0BEC5",
                "#B0BEC5",
                "#B0BEC5",
                "#B0BEC5",
                "#B0BEC5",
                "#B0BEC5",
                "#B0BEC5",
                "#B0BEC5",
                "#B0BEC5",
                "#B0BEC5",
                "#B0BEC5",
                "#B0BEC5",
                "#B0BEC5",
                "#B0BEC5",
                "#B0BEC5",
                "#B0BEC5",
                "#B0BEC5",
                "#B0BEC5",
                "#B0BEC5"
               ]
              ]
             }
            ],
            "label": "Topic 0",
            "method": "update"
           },
           {
            "args": [
             {
              "marker.color": [
               [
                "#B0BEC5",
                "red",
                "#B0BEC5",
                "#B0BEC5",
                "#B0BEC5",
                "#B0BEC5",
                "#B0BEC5",
                "#B0BEC5",
                "#B0BEC5",
                "#B0BEC5",
                "#B0BEC5",
                "#B0BEC5",
                "#B0BEC5",
                "#B0BEC5",
                "#B0BEC5",
                "#B0BEC5",
                "#B0BEC5",
                "#B0BEC5",
                "#B0BEC5",
                "#B0BEC5",
                "#B0BEC5",
                "#B0BEC5",
                "#B0BEC5",
                "#B0BEC5",
                "#B0BEC5",
                "#B0BEC5",
                "#B0BEC5",
                "#B0BEC5",
                "#B0BEC5",
                "#B0BEC5",
                "#B0BEC5",
                "#B0BEC5",
                "#B0BEC5",
                "#B0BEC5",
                "#B0BEC5",
                "#B0BEC5",
                "#B0BEC5",
                "#B0BEC5",
                "#B0BEC5",
                "#B0BEC5",
                "#B0BEC5",
                "#B0BEC5",
                "#B0BEC5",
                "#B0BEC5",
                "#B0BEC5",
                "#B0BEC5",
                "#B0BEC5",
                "#B0BEC5",
                "#B0BEC5",
                "#B0BEC5"
               ]
              ]
             }
            ],
            "label": "Topic 1",
            "method": "update"
           },
           {
            "args": [
             {
              "marker.color": [
               [
                "#B0BEC5",
                "#B0BEC5",
                "red",
                "#B0BEC5",
                "#B0BEC5",
                "#B0BEC5",
                "#B0BEC5",
                "#B0BEC5",
                "#B0BEC5",
                "#B0BEC5",
                "#B0BEC5",
                "#B0BEC5",
                "#B0BEC5",
                "#B0BEC5",
                "#B0BEC5",
                "#B0BEC5",
                "#B0BEC5",
                "#B0BEC5",
                "#B0BEC5",
                "#B0BEC5",
                "#B0BEC5",
                "#B0BEC5",
                "#B0BEC5",
                "#B0BEC5",
                "#B0BEC5",
                "#B0BEC5",
                "#B0BEC5",
                "#B0BEC5",
                "#B0BEC5",
                "#B0BEC5",
                "#B0BEC5",
                "#B0BEC5",
                "#B0BEC5",
                "#B0BEC5",
                "#B0BEC5",
                "#B0BEC5",
                "#B0BEC5",
                "#B0BEC5",
                "#B0BEC5",
                "#B0BEC5",
                "#B0BEC5",
                "#B0BEC5",
                "#B0BEC5",
                "#B0BEC5",
                "#B0BEC5",
                "#B0BEC5",
                "#B0BEC5",
                "#B0BEC5",
                "#B0BEC5",
                "#B0BEC5"
               ]
              ]
             }
            ],
            "label": "Topic 2",
            "method": "update"
           },
           {
            "args": [
             {
              "marker.color": [
               [
                "#B0BEC5",
                "#B0BEC5",
                "#B0BEC5",
                "red",
                "#B0BEC5",
                "#B0BEC5",
                "#B0BEC5",
                "#B0BEC5",
                "#B0BEC5",
                "#B0BEC5",
                "#B0BEC5",
                "#B0BEC5",
                "#B0BEC5",
                "#B0BEC5",
                "#B0BEC5",
                "#B0BEC5",
                "#B0BEC5",
                "#B0BEC5",
                "#B0BEC5",
                "#B0BEC5",
                "#B0BEC5",
                "#B0BEC5",
                "#B0BEC5",
                "#B0BEC5",
                "#B0BEC5",
                "#B0BEC5",
                "#B0BEC5",
                "#B0BEC5",
                "#B0BEC5",
                "#B0BEC5",
                "#B0BEC5",
                "#B0BEC5",
                "#B0BEC5",
                "#B0BEC5",
                "#B0BEC5",
                "#B0BEC5",
                "#B0BEC5",
                "#B0BEC5",
                "#B0BEC5",
                "#B0BEC5",
                "#B0BEC5",
                "#B0BEC5",
                "#B0BEC5",
                "#B0BEC5",
                "#B0BEC5",
                "#B0BEC5",
                "#B0BEC5",
                "#B0BEC5",
                "#B0BEC5",
                "#B0BEC5"
               ]
              ]
             }
            ],
            "label": "Topic 3",
            "method": "update"
           },
           {
            "args": [
             {
              "marker.color": [
               [
                "#B0BEC5",
                "#B0BEC5",
                "#B0BEC5",
                "#B0BEC5",
                "red",
                "#B0BEC5",
                "#B0BEC5",
                "#B0BEC5",
                "#B0BEC5",
                "#B0BEC5",
                "#B0BEC5",
                "#B0BEC5",
                "#B0BEC5",
                "#B0BEC5",
                "#B0BEC5",
                "#B0BEC5",
                "#B0BEC5",
                "#B0BEC5",
                "#B0BEC5",
                "#B0BEC5",
                "#B0BEC5",
                "#B0BEC5",
                "#B0BEC5",
                "#B0BEC5",
                "#B0BEC5",
                "#B0BEC5",
                "#B0BEC5",
                "#B0BEC5",
                "#B0BEC5",
                "#B0BEC5",
                "#B0BEC5",
                "#B0BEC5",
                "#B0BEC5",
                "#B0BEC5",
                "#B0BEC5",
                "#B0BEC5",
                "#B0BEC5",
                "#B0BEC5",
                "#B0BEC5",
                "#B0BEC5",
                "#B0BEC5",
                "#B0BEC5",
                "#B0BEC5",
                "#B0BEC5",
                "#B0BEC5",
                "#B0BEC5",
                "#B0BEC5",
                "#B0BEC5",
                "#B0BEC5",
                "#B0BEC5"
               ]
              ]
             }
            ],
            "label": "Topic 4",
            "method": "update"
           },
           {
            "args": [
             {
              "marker.color": [
               [
                "#B0BEC5",
                "#B0BEC5",
                "#B0BEC5",
                "#B0BEC5",
                "#B0BEC5",
                "red",
                "#B0BEC5",
                "#B0BEC5",
                "#B0BEC5",
                "#B0BEC5",
                "#B0BEC5",
                "#B0BEC5",
                "#B0BEC5",
                "#B0BEC5",
                "#B0BEC5",
                "#B0BEC5",
                "#B0BEC5",
                "#B0BEC5",
                "#B0BEC5",
                "#B0BEC5",
                "#B0BEC5",
                "#B0BEC5",
                "#B0BEC5",
                "#B0BEC5",
                "#B0BEC5",
                "#B0BEC5",
                "#B0BEC5",
                "#B0BEC5",
                "#B0BEC5",
                "#B0BEC5",
                "#B0BEC5",
                "#B0BEC5",
                "#B0BEC5",
                "#B0BEC5",
                "#B0BEC5",
                "#B0BEC5",
                "#B0BEC5",
                "#B0BEC5",
                "#B0BEC5",
                "#B0BEC5",
                "#B0BEC5",
                "#B0BEC5",
                "#B0BEC5",
                "#B0BEC5",
                "#B0BEC5",
                "#B0BEC5",
                "#B0BEC5",
                "#B0BEC5",
                "#B0BEC5",
                "#B0BEC5"
               ]
              ]
             }
            ],
            "label": "Topic 5",
            "method": "update"
           },
           {
            "args": [
             {
              "marker.color": [
               [
                "#B0BEC5",
                "#B0BEC5",
                "#B0BEC5",
                "#B0BEC5",
                "#B0BEC5",
                "#B0BEC5",
                "red",
                "#B0BEC5",
                "#B0BEC5",
                "#B0BEC5",
                "#B0BEC5",
                "#B0BEC5",
                "#B0BEC5",
                "#B0BEC5",
                "#B0BEC5",
                "#B0BEC5",
                "#B0BEC5",
                "#B0BEC5",
                "#B0BEC5",
                "#B0BEC5",
                "#B0BEC5",
                "#B0BEC5",
                "#B0BEC5",
                "#B0BEC5",
                "#B0BEC5",
                "#B0BEC5",
                "#B0BEC5",
                "#B0BEC5",
                "#B0BEC5",
                "#B0BEC5",
                "#B0BEC5",
                "#B0BEC5",
                "#B0BEC5",
                "#B0BEC5",
                "#B0BEC5",
                "#B0BEC5",
                "#B0BEC5",
                "#B0BEC5",
                "#B0BEC5",
                "#B0BEC5",
                "#B0BEC5",
                "#B0BEC5",
                "#B0BEC5",
                "#B0BEC5",
                "#B0BEC5",
                "#B0BEC5",
                "#B0BEC5",
                "#B0BEC5",
                "#B0BEC5",
                "#B0BEC5"
               ]
              ]
             }
            ],
            "label": "Topic 6",
            "method": "update"
           },
           {
            "args": [
             {
              "marker.color": [
               [
                "#B0BEC5",
                "#B0BEC5",
                "#B0BEC5",
                "#B0BEC5",
                "#B0BEC5",
                "#B0BEC5",
                "#B0BEC5",
                "red",
                "#B0BEC5",
                "#B0BEC5",
                "#B0BEC5",
                "#B0BEC5",
                "#B0BEC5",
                "#B0BEC5",
                "#B0BEC5",
                "#B0BEC5",
                "#B0BEC5",
                "#B0BEC5",
                "#B0BEC5",
                "#B0BEC5",
                "#B0BEC5",
                "#B0BEC5",
                "#B0BEC5",
                "#B0BEC5",
                "#B0BEC5",
                "#B0BEC5",
                "#B0BEC5",
                "#B0BEC5",
                "#B0BEC5",
                "#B0BEC5",
                "#B0BEC5",
                "#B0BEC5",
                "#B0BEC5",
                "#B0BEC5",
                "#B0BEC5",
                "#B0BEC5",
                "#B0BEC5",
                "#B0BEC5",
                "#B0BEC5",
                "#B0BEC5",
                "#B0BEC5",
                "#B0BEC5",
                "#B0BEC5",
                "#B0BEC5",
                "#B0BEC5",
                "#B0BEC5",
                "#B0BEC5",
                "#B0BEC5",
                "#B0BEC5",
                "#B0BEC5"
               ]
              ]
             }
            ],
            "label": "Topic 7",
            "method": "update"
           },
           {
            "args": [
             {
              "marker.color": [
               [
                "#B0BEC5",
                "#B0BEC5",
                "#B0BEC5",
                "#B0BEC5",
                "#B0BEC5",
                "#B0BEC5",
                "#B0BEC5",
                "#B0BEC5",
                "red",
                "#B0BEC5",
                "#B0BEC5",
                "#B0BEC5",
                "#B0BEC5",
                "#B0BEC5",
                "#B0BEC5",
                "#B0BEC5",
                "#B0BEC5",
                "#B0BEC5",
                "#B0BEC5",
                "#B0BEC5",
                "#B0BEC5",
                "#B0BEC5",
                "#B0BEC5",
                "#B0BEC5",
                "#B0BEC5",
                "#B0BEC5",
                "#B0BEC5",
                "#B0BEC5",
                "#B0BEC5",
                "#B0BEC5",
                "#B0BEC5",
                "#B0BEC5",
                "#B0BEC5",
                "#B0BEC5",
                "#B0BEC5",
                "#B0BEC5",
                "#B0BEC5",
                "#B0BEC5",
                "#B0BEC5",
                "#B0BEC5",
                "#B0BEC5",
                "#B0BEC5",
                "#B0BEC5",
                "#B0BEC5",
                "#B0BEC5",
                "#B0BEC5",
                "#B0BEC5",
                "#B0BEC5",
                "#B0BEC5",
                "#B0BEC5"
               ]
              ]
             }
            ],
            "label": "Topic 8",
            "method": "update"
           },
           {
            "args": [
             {
              "marker.color": [
               [
                "#B0BEC5",
                "#B0BEC5",
                "#B0BEC5",
                "#B0BEC5",
                "#B0BEC5",
                "#B0BEC5",
                "#B0BEC5",
                "#B0BEC5",
                "#B0BEC5",
                "red",
                "#B0BEC5",
                "#B0BEC5",
                "#B0BEC5",
                "#B0BEC5",
                "#B0BEC5",
                "#B0BEC5",
                "#B0BEC5",
                "#B0BEC5",
                "#B0BEC5",
                "#B0BEC5",
                "#B0BEC5",
                "#B0BEC5",
                "#B0BEC5",
                "#B0BEC5",
                "#B0BEC5",
                "#B0BEC5",
                "#B0BEC5",
                "#B0BEC5",
                "#B0BEC5",
                "#B0BEC5",
                "#B0BEC5",
                "#B0BEC5",
                "#B0BEC5",
                "#B0BEC5",
                "#B0BEC5",
                "#B0BEC5",
                "#B0BEC5",
                "#B0BEC5",
                "#B0BEC5",
                "#B0BEC5",
                "#B0BEC5",
                "#B0BEC5",
                "#B0BEC5",
                "#B0BEC5",
                "#B0BEC5",
                "#B0BEC5",
                "#B0BEC5",
                "#B0BEC5",
                "#B0BEC5",
                "#B0BEC5"
               ]
              ]
             }
            ],
            "label": "Topic 9",
            "method": "update"
           },
           {
            "args": [
             {
              "marker.color": [
               [
                "#B0BEC5",
                "#B0BEC5",
                "#B0BEC5",
                "#B0BEC5",
                "#B0BEC5",
                "#B0BEC5",
                "#B0BEC5",
                "#B0BEC5",
                "#B0BEC5",
                "#B0BEC5",
                "red",
                "#B0BEC5",
                "#B0BEC5",
                "#B0BEC5",
                "#B0BEC5",
                "#B0BEC5",
                "#B0BEC5",
                "#B0BEC5",
                "#B0BEC5",
                "#B0BEC5",
                "#B0BEC5",
                "#B0BEC5",
                "#B0BEC5",
                "#B0BEC5",
                "#B0BEC5",
                "#B0BEC5",
                "#B0BEC5",
                "#B0BEC5",
                "#B0BEC5",
                "#B0BEC5",
                "#B0BEC5",
                "#B0BEC5",
                "#B0BEC5",
                "#B0BEC5",
                "#B0BEC5",
                "#B0BEC5",
                "#B0BEC5",
                "#B0BEC5",
                "#B0BEC5",
                "#B0BEC5",
                "#B0BEC5",
                "#B0BEC5",
                "#B0BEC5",
                "#B0BEC5",
                "#B0BEC5",
                "#B0BEC5",
                "#B0BEC5",
                "#B0BEC5",
                "#B0BEC5",
                "#B0BEC5"
               ]
              ]
             }
            ],
            "label": "Topic 10",
            "method": "update"
           },
           {
            "args": [
             {
              "marker.color": [
               [
                "#B0BEC5",
                "#B0BEC5",
                "#B0BEC5",
                "#B0BEC5",
                "#B0BEC5",
                "#B0BEC5",
                "#B0BEC5",
                "#B0BEC5",
                "#B0BEC5",
                "#B0BEC5",
                "#B0BEC5",
                "red",
                "#B0BEC5",
                "#B0BEC5",
                "#B0BEC5",
                "#B0BEC5",
                "#B0BEC5",
                "#B0BEC5",
                "#B0BEC5",
                "#B0BEC5",
                "#B0BEC5",
                "#B0BEC5",
                "#B0BEC5",
                "#B0BEC5",
                "#B0BEC5",
                "#B0BEC5",
                "#B0BEC5",
                "#B0BEC5",
                "#B0BEC5",
                "#B0BEC5",
                "#B0BEC5",
                "#B0BEC5",
                "#B0BEC5",
                "#B0BEC5",
                "#B0BEC5",
                "#B0BEC5",
                "#B0BEC5",
                "#B0BEC5",
                "#B0BEC5",
                "#B0BEC5",
                "#B0BEC5",
                "#B0BEC5",
                "#B0BEC5",
                "#B0BEC5",
                "#B0BEC5",
                "#B0BEC5",
                "#B0BEC5",
                "#B0BEC5",
                "#B0BEC5",
                "#B0BEC5"
               ]
              ]
             }
            ],
            "label": "Topic 11",
            "method": "update"
           },
           {
            "args": [
             {
              "marker.color": [
               [
                "#B0BEC5",
                "#B0BEC5",
                "#B0BEC5",
                "#B0BEC5",
                "#B0BEC5",
                "#B0BEC5",
                "#B0BEC5",
                "#B0BEC5",
                "#B0BEC5",
                "#B0BEC5",
                "#B0BEC5",
                "#B0BEC5",
                "red",
                "#B0BEC5",
                "#B0BEC5",
                "#B0BEC5",
                "#B0BEC5",
                "#B0BEC5",
                "#B0BEC5",
                "#B0BEC5",
                "#B0BEC5",
                "#B0BEC5",
                "#B0BEC5",
                "#B0BEC5",
                "#B0BEC5",
                "#B0BEC5",
                "#B0BEC5",
                "#B0BEC5",
                "#B0BEC5",
                "#B0BEC5",
                "#B0BEC5",
                "#B0BEC5",
                "#B0BEC5",
                "#B0BEC5",
                "#B0BEC5",
                "#B0BEC5",
                "#B0BEC5",
                "#B0BEC5",
                "#B0BEC5",
                "#B0BEC5",
                "#B0BEC5",
                "#B0BEC5",
                "#B0BEC5",
                "#B0BEC5",
                "#B0BEC5",
                "#B0BEC5",
                "#B0BEC5",
                "#B0BEC5",
                "#B0BEC5",
                "#B0BEC5"
               ]
              ]
             }
            ],
            "label": "Topic 12",
            "method": "update"
           },
           {
            "args": [
             {
              "marker.color": [
               [
                "#B0BEC5",
                "#B0BEC5",
                "#B0BEC5",
                "#B0BEC5",
                "#B0BEC5",
                "#B0BEC5",
                "#B0BEC5",
                "#B0BEC5",
                "#B0BEC5",
                "#B0BEC5",
                "#B0BEC5",
                "#B0BEC5",
                "#B0BEC5",
                "red",
                "#B0BEC5",
                "#B0BEC5",
                "#B0BEC5",
                "#B0BEC5",
                "#B0BEC5",
                "#B0BEC5",
                "#B0BEC5",
                "#B0BEC5",
                "#B0BEC5",
                "#B0BEC5",
                "#B0BEC5",
                "#B0BEC5",
                "#B0BEC5",
                "#B0BEC5",
                "#B0BEC5",
                "#B0BEC5",
                "#B0BEC5",
                "#B0BEC5",
                "#B0BEC5",
                "#B0BEC5",
                "#B0BEC5",
                "#B0BEC5",
                "#B0BEC5",
                "#B0BEC5",
                "#B0BEC5",
                "#B0BEC5",
                "#B0BEC5",
                "#B0BEC5",
                "#B0BEC5",
                "#B0BEC5",
                "#B0BEC5",
                "#B0BEC5",
                "#B0BEC5",
                "#B0BEC5",
                "#B0BEC5",
                "#B0BEC5"
               ]
              ]
             }
            ],
            "label": "Topic 13",
            "method": "update"
           },
           {
            "args": [
             {
              "marker.color": [
               [
                "#B0BEC5",
                "#B0BEC5",
                "#B0BEC5",
                "#B0BEC5",
                "#B0BEC5",
                "#B0BEC5",
                "#B0BEC5",
                "#B0BEC5",
                "#B0BEC5",
                "#B0BEC5",
                "#B0BEC5",
                "#B0BEC5",
                "#B0BEC5",
                "#B0BEC5",
                "red",
                "#B0BEC5",
                "#B0BEC5",
                "#B0BEC5",
                "#B0BEC5",
                "#B0BEC5",
                "#B0BEC5",
                "#B0BEC5",
                "#B0BEC5",
                "#B0BEC5",
                "#B0BEC5",
                "#B0BEC5",
                "#B0BEC5",
                "#B0BEC5",
                "#B0BEC5",
                "#B0BEC5",
                "#B0BEC5",
                "#B0BEC5",
                "#B0BEC5",
                "#B0BEC5",
                "#B0BEC5",
                "#B0BEC5",
                "#B0BEC5",
                "#B0BEC5",
                "#B0BEC5",
                "#B0BEC5",
                "#B0BEC5",
                "#B0BEC5",
                "#B0BEC5",
                "#B0BEC5",
                "#B0BEC5",
                "#B0BEC5",
                "#B0BEC5",
                "#B0BEC5",
                "#B0BEC5",
                "#B0BEC5"
               ]
              ]
             }
            ],
            "label": "Topic 14",
            "method": "update"
           },
           {
            "args": [
             {
              "marker.color": [
               [
                "#B0BEC5",
                "#B0BEC5",
                "#B0BEC5",
                "#B0BEC5",
                "#B0BEC5",
                "#B0BEC5",
                "#B0BEC5",
                "#B0BEC5",
                "#B0BEC5",
                "#B0BEC5",
                "#B0BEC5",
                "#B0BEC5",
                "#B0BEC5",
                "#B0BEC5",
                "#B0BEC5",
                "red",
                "#B0BEC5",
                "#B0BEC5",
                "#B0BEC5",
                "#B0BEC5",
                "#B0BEC5",
                "#B0BEC5",
                "#B0BEC5",
                "#B0BEC5",
                "#B0BEC5",
                "#B0BEC5",
                "#B0BEC5",
                "#B0BEC5",
                "#B0BEC5",
                "#B0BEC5",
                "#B0BEC5",
                "#B0BEC5",
                "#B0BEC5",
                "#B0BEC5",
                "#B0BEC5",
                "#B0BEC5",
                "#B0BEC5",
                "#B0BEC5",
                "#B0BEC5",
                "#B0BEC5",
                "#B0BEC5",
                "#B0BEC5",
                "#B0BEC5",
                "#B0BEC5",
                "#B0BEC5",
                "#B0BEC5",
                "#B0BEC5",
                "#B0BEC5",
                "#B0BEC5",
                "#B0BEC5"
               ]
              ]
             }
            ],
            "label": "Topic 15",
            "method": "update"
           },
           {
            "args": [
             {
              "marker.color": [
               [
                "#B0BEC5",
                "#B0BEC5",
                "#B0BEC5",
                "#B0BEC5",
                "#B0BEC5",
                "#B0BEC5",
                "#B0BEC5",
                "#B0BEC5",
                "#B0BEC5",
                "#B0BEC5",
                "#B0BEC5",
                "#B0BEC5",
                "#B0BEC5",
                "#B0BEC5",
                "#B0BEC5",
                "#B0BEC5",
                "red",
                "#B0BEC5",
                "#B0BEC5",
                "#B0BEC5",
                "#B0BEC5",
                "#B0BEC5",
                "#B0BEC5",
                "#B0BEC5",
                "#B0BEC5",
                "#B0BEC5",
                "#B0BEC5",
                "#B0BEC5",
                "#B0BEC5",
                "#B0BEC5",
                "#B0BEC5",
                "#B0BEC5",
                "#B0BEC5",
                "#B0BEC5",
                "#B0BEC5",
                "#B0BEC5",
                "#B0BEC5",
                "#B0BEC5",
                "#B0BEC5",
                "#B0BEC5",
                "#B0BEC5",
                "#B0BEC5",
                "#B0BEC5",
                "#B0BEC5",
                "#B0BEC5",
                "#B0BEC5",
                "#B0BEC5",
                "#B0BEC5",
                "#B0BEC5",
                "#B0BEC5"
               ]
              ]
             }
            ],
            "label": "Topic 16",
            "method": "update"
           },
           {
            "args": [
             {
              "marker.color": [
               [
                "#B0BEC5",
                "#B0BEC5",
                "#B0BEC5",
                "#B0BEC5",
                "#B0BEC5",
                "#B0BEC5",
                "#B0BEC5",
                "#B0BEC5",
                "#B0BEC5",
                "#B0BEC5",
                "#B0BEC5",
                "#B0BEC5",
                "#B0BEC5",
                "#B0BEC5",
                "#B0BEC5",
                "#B0BEC5",
                "#B0BEC5",
                "red",
                "#B0BEC5",
                "#B0BEC5",
                "#B0BEC5",
                "#B0BEC5",
                "#B0BEC5",
                "#B0BEC5",
                "#B0BEC5",
                "#B0BEC5",
                "#B0BEC5",
                "#B0BEC5",
                "#B0BEC5",
                "#B0BEC5",
                "#B0BEC5",
                "#B0BEC5",
                "#B0BEC5",
                "#B0BEC5",
                "#B0BEC5",
                "#B0BEC5",
                "#B0BEC5",
                "#B0BEC5",
                "#B0BEC5",
                "#B0BEC5",
                "#B0BEC5",
                "#B0BEC5",
                "#B0BEC5",
                "#B0BEC5",
                "#B0BEC5",
                "#B0BEC5",
                "#B0BEC5",
                "#B0BEC5",
                "#B0BEC5",
                "#B0BEC5"
               ]
              ]
             }
            ],
            "label": "Topic 17",
            "method": "update"
           },
           {
            "args": [
             {
              "marker.color": [
               [
                "#B0BEC5",
                "#B0BEC5",
                "#B0BEC5",
                "#B0BEC5",
                "#B0BEC5",
                "#B0BEC5",
                "#B0BEC5",
                "#B0BEC5",
                "#B0BEC5",
                "#B0BEC5",
                "#B0BEC5",
                "#B0BEC5",
                "#B0BEC5",
                "#B0BEC5",
                "#B0BEC5",
                "#B0BEC5",
                "#B0BEC5",
                "#B0BEC5",
                "red",
                "#B0BEC5",
                "#B0BEC5",
                "#B0BEC5",
                "#B0BEC5",
                "#B0BEC5",
                "#B0BEC5",
                "#B0BEC5",
                "#B0BEC5",
                "#B0BEC5",
                "#B0BEC5",
                "#B0BEC5",
                "#B0BEC5",
                "#B0BEC5",
                "#B0BEC5",
                "#B0BEC5",
                "#B0BEC5",
                "#B0BEC5",
                "#B0BEC5",
                "#B0BEC5",
                "#B0BEC5",
                "#B0BEC5",
                "#B0BEC5",
                "#B0BEC5",
                "#B0BEC5",
                "#B0BEC5",
                "#B0BEC5",
                "#B0BEC5",
                "#B0BEC5",
                "#B0BEC5",
                "#B0BEC5",
                "#B0BEC5"
               ]
              ]
             }
            ],
            "label": "Topic 18",
            "method": "update"
           },
           {
            "args": [
             {
              "marker.color": [
               [
                "#B0BEC5",
                "#B0BEC5",
                "#B0BEC5",
                "#B0BEC5",
                "#B0BEC5",
                "#B0BEC5",
                "#B0BEC5",
                "#B0BEC5",
                "#B0BEC5",
                "#B0BEC5",
                "#B0BEC5",
                "#B0BEC5",
                "#B0BEC5",
                "#B0BEC5",
                "#B0BEC5",
                "#B0BEC5",
                "#B0BEC5",
                "#B0BEC5",
                "#B0BEC5",
                "red",
                "#B0BEC5",
                "#B0BEC5",
                "#B0BEC5",
                "#B0BEC5",
                "#B0BEC5",
                "#B0BEC5",
                "#B0BEC5",
                "#B0BEC5",
                "#B0BEC5",
                "#B0BEC5",
                "#B0BEC5",
                "#B0BEC5",
                "#B0BEC5",
                "#B0BEC5",
                "#B0BEC5",
                "#B0BEC5",
                "#B0BEC5",
                "#B0BEC5",
                "#B0BEC5",
                "#B0BEC5",
                "#B0BEC5",
                "#B0BEC5",
                "#B0BEC5",
                "#B0BEC5",
                "#B0BEC5",
                "#B0BEC5",
                "#B0BEC5",
                "#B0BEC5",
                "#B0BEC5",
                "#B0BEC5"
               ]
              ]
             }
            ],
            "label": "Topic 19",
            "method": "update"
           },
           {
            "args": [
             {
              "marker.color": [
               [
                "#B0BEC5",
                "#B0BEC5",
                "#B0BEC5",
                "#B0BEC5",
                "#B0BEC5",
                "#B0BEC5",
                "#B0BEC5",
                "#B0BEC5",
                "#B0BEC5",
                "#B0BEC5",
                "#B0BEC5",
                "#B0BEC5",
                "#B0BEC5",
                "#B0BEC5",
                "#B0BEC5",
                "#B0BEC5",
                "#B0BEC5",
                "#B0BEC5",
                "#B0BEC5",
                "#B0BEC5",
                "red",
                "#B0BEC5",
                "#B0BEC5",
                "#B0BEC5",
                "#B0BEC5",
                "#B0BEC5",
                "#B0BEC5",
                "#B0BEC5",
                "#B0BEC5",
                "#B0BEC5",
                "#B0BEC5",
                "#B0BEC5",
                "#B0BEC5",
                "#B0BEC5",
                "#B0BEC5",
                "#B0BEC5",
                "#B0BEC5",
                "#B0BEC5",
                "#B0BEC5",
                "#B0BEC5",
                "#B0BEC5",
                "#B0BEC5",
                "#B0BEC5",
                "#B0BEC5",
                "#B0BEC5",
                "#B0BEC5",
                "#B0BEC5",
                "#B0BEC5",
                "#B0BEC5",
                "#B0BEC5"
               ]
              ]
             }
            ],
            "label": "Topic 20",
            "method": "update"
           },
           {
            "args": [
             {
              "marker.color": [
               [
                "#B0BEC5",
                "#B0BEC5",
                "#B0BEC5",
                "#B0BEC5",
                "#B0BEC5",
                "#B0BEC5",
                "#B0BEC5",
                "#B0BEC5",
                "#B0BEC5",
                "#B0BEC5",
                "#B0BEC5",
                "#B0BEC5",
                "#B0BEC5",
                "#B0BEC5",
                "#B0BEC5",
                "#B0BEC5",
                "#B0BEC5",
                "#B0BEC5",
                "#B0BEC5",
                "#B0BEC5",
                "#B0BEC5",
                "red",
                "#B0BEC5",
                "#B0BEC5",
                "#B0BEC5",
                "#B0BEC5",
                "#B0BEC5",
                "#B0BEC5",
                "#B0BEC5",
                "#B0BEC5",
                "#B0BEC5",
                "#B0BEC5",
                "#B0BEC5",
                "#B0BEC5",
                "#B0BEC5",
                "#B0BEC5",
                "#B0BEC5",
                "#B0BEC5",
                "#B0BEC5",
                "#B0BEC5",
                "#B0BEC5",
                "#B0BEC5",
                "#B0BEC5",
                "#B0BEC5",
                "#B0BEC5",
                "#B0BEC5",
                "#B0BEC5",
                "#B0BEC5",
                "#B0BEC5",
                "#B0BEC5"
               ]
              ]
             }
            ],
            "label": "Topic 21",
            "method": "update"
           },
           {
            "args": [
             {
              "marker.color": [
               [
                "#B0BEC5",
                "#B0BEC5",
                "#B0BEC5",
                "#B0BEC5",
                "#B0BEC5",
                "#B0BEC5",
                "#B0BEC5",
                "#B0BEC5",
                "#B0BEC5",
                "#B0BEC5",
                "#B0BEC5",
                "#B0BEC5",
                "#B0BEC5",
                "#B0BEC5",
                "#B0BEC5",
                "#B0BEC5",
                "#B0BEC5",
                "#B0BEC5",
                "#B0BEC5",
                "#B0BEC5",
                "#B0BEC5",
                "#B0BEC5",
                "red",
                "#B0BEC5",
                "#B0BEC5",
                "#B0BEC5",
                "#B0BEC5",
                "#B0BEC5",
                "#B0BEC5",
                "#B0BEC5",
                "#B0BEC5",
                "#B0BEC5",
                "#B0BEC5",
                "#B0BEC5",
                "#B0BEC5",
                "#B0BEC5",
                "#B0BEC5",
                "#B0BEC5",
                "#B0BEC5",
                "#B0BEC5",
                "#B0BEC5",
                "#B0BEC5",
                "#B0BEC5",
                "#B0BEC5",
                "#B0BEC5",
                "#B0BEC5",
                "#B0BEC5",
                "#B0BEC5",
                "#B0BEC5",
                "#B0BEC5"
               ]
              ]
             }
            ],
            "label": "Topic 22",
            "method": "update"
           },
           {
            "args": [
             {
              "marker.color": [
               [
                "#B0BEC5",
                "#B0BEC5",
                "#B0BEC5",
                "#B0BEC5",
                "#B0BEC5",
                "#B0BEC5",
                "#B0BEC5",
                "#B0BEC5",
                "#B0BEC5",
                "#B0BEC5",
                "#B0BEC5",
                "#B0BEC5",
                "#B0BEC5",
                "#B0BEC5",
                "#B0BEC5",
                "#B0BEC5",
                "#B0BEC5",
                "#B0BEC5",
                "#B0BEC5",
                "#B0BEC5",
                "#B0BEC5",
                "#B0BEC5",
                "#B0BEC5",
                "red",
                "#B0BEC5",
                "#B0BEC5",
                "#B0BEC5",
                "#B0BEC5",
                "#B0BEC5",
                "#B0BEC5",
                "#B0BEC5",
                "#B0BEC5",
                "#B0BEC5",
                "#B0BEC5",
                "#B0BEC5",
                "#B0BEC5",
                "#B0BEC5",
                "#B0BEC5",
                "#B0BEC5",
                "#B0BEC5",
                "#B0BEC5",
                "#B0BEC5",
                "#B0BEC5",
                "#B0BEC5",
                "#B0BEC5",
                "#B0BEC5",
                "#B0BEC5",
                "#B0BEC5",
                "#B0BEC5",
                "#B0BEC5"
               ]
              ]
             }
            ],
            "label": "Topic 23",
            "method": "update"
           },
           {
            "args": [
             {
              "marker.color": [
               [
                "#B0BEC5",
                "#B0BEC5",
                "#B0BEC5",
                "#B0BEC5",
                "#B0BEC5",
                "#B0BEC5",
                "#B0BEC5",
                "#B0BEC5",
                "#B0BEC5",
                "#B0BEC5",
                "#B0BEC5",
                "#B0BEC5",
                "#B0BEC5",
                "#B0BEC5",
                "#B0BEC5",
                "#B0BEC5",
                "#B0BEC5",
                "#B0BEC5",
                "#B0BEC5",
                "#B0BEC5",
                "#B0BEC5",
                "#B0BEC5",
                "#B0BEC5",
                "#B0BEC5",
                "red",
                "#B0BEC5",
                "#B0BEC5",
                "#B0BEC5",
                "#B0BEC5",
                "#B0BEC5",
                "#B0BEC5",
                "#B0BEC5",
                "#B0BEC5",
                "#B0BEC5",
                "#B0BEC5",
                "#B0BEC5",
                "#B0BEC5",
                "#B0BEC5",
                "#B0BEC5",
                "#B0BEC5",
                "#B0BEC5",
                "#B0BEC5",
                "#B0BEC5",
                "#B0BEC5",
                "#B0BEC5",
                "#B0BEC5",
                "#B0BEC5",
                "#B0BEC5",
                "#B0BEC5",
                "#B0BEC5"
               ]
              ]
             }
            ],
            "label": "Topic 24",
            "method": "update"
           },
           {
            "args": [
             {
              "marker.color": [
               [
                "#B0BEC5",
                "#B0BEC5",
                "#B0BEC5",
                "#B0BEC5",
                "#B0BEC5",
                "#B0BEC5",
                "#B0BEC5",
                "#B0BEC5",
                "#B0BEC5",
                "#B0BEC5",
                "#B0BEC5",
                "#B0BEC5",
                "#B0BEC5",
                "#B0BEC5",
                "#B0BEC5",
                "#B0BEC5",
                "#B0BEC5",
                "#B0BEC5",
                "#B0BEC5",
                "#B0BEC5",
                "#B0BEC5",
                "#B0BEC5",
                "#B0BEC5",
                "#B0BEC5",
                "#B0BEC5",
                "red",
                "#B0BEC5",
                "#B0BEC5",
                "#B0BEC5",
                "#B0BEC5",
                "#B0BEC5",
                "#B0BEC5",
                "#B0BEC5",
                "#B0BEC5",
                "#B0BEC5",
                "#B0BEC5",
                "#B0BEC5",
                "#B0BEC5",
                "#B0BEC5",
                "#B0BEC5",
                "#B0BEC5",
                "#B0BEC5",
                "#B0BEC5",
                "#B0BEC5",
                "#B0BEC5",
                "#B0BEC5",
                "#B0BEC5",
                "#B0BEC5",
                "#B0BEC5",
                "#B0BEC5"
               ]
              ]
             }
            ],
            "label": "Topic 25",
            "method": "update"
           },
           {
            "args": [
             {
              "marker.color": [
               [
                "#B0BEC5",
                "#B0BEC5",
                "#B0BEC5",
                "#B0BEC5",
                "#B0BEC5",
                "#B0BEC5",
                "#B0BEC5",
                "#B0BEC5",
                "#B0BEC5",
                "#B0BEC5",
                "#B0BEC5",
                "#B0BEC5",
                "#B0BEC5",
                "#B0BEC5",
                "#B0BEC5",
                "#B0BEC5",
                "#B0BEC5",
                "#B0BEC5",
                "#B0BEC5",
                "#B0BEC5",
                "#B0BEC5",
                "#B0BEC5",
                "#B0BEC5",
                "#B0BEC5",
                "#B0BEC5",
                "#B0BEC5",
                "red",
                "#B0BEC5",
                "#B0BEC5",
                "#B0BEC5",
                "#B0BEC5",
                "#B0BEC5",
                "#B0BEC5",
                "#B0BEC5",
                "#B0BEC5",
                "#B0BEC5",
                "#B0BEC5",
                "#B0BEC5",
                "#B0BEC5",
                "#B0BEC5",
                "#B0BEC5",
                "#B0BEC5",
                "#B0BEC5",
                "#B0BEC5",
                "#B0BEC5",
                "#B0BEC5",
                "#B0BEC5",
                "#B0BEC5",
                "#B0BEC5",
                "#B0BEC5"
               ]
              ]
             }
            ],
            "label": "Topic 26",
            "method": "update"
           },
           {
            "args": [
             {
              "marker.color": [
               [
                "#B0BEC5",
                "#B0BEC5",
                "#B0BEC5",
                "#B0BEC5",
                "#B0BEC5",
                "#B0BEC5",
                "#B0BEC5",
                "#B0BEC5",
                "#B0BEC5",
                "#B0BEC5",
                "#B0BEC5",
                "#B0BEC5",
                "#B0BEC5",
                "#B0BEC5",
                "#B0BEC5",
                "#B0BEC5",
                "#B0BEC5",
                "#B0BEC5",
                "#B0BEC5",
                "#B0BEC5",
                "#B0BEC5",
                "#B0BEC5",
                "#B0BEC5",
                "#B0BEC5",
                "#B0BEC5",
                "#B0BEC5",
                "#B0BEC5",
                "red",
                "#B0BEC5",
                "#B0BEC5",
                "#B0BEC5",
                "#B0BEC5",
                "#B0BEC5",
                "#B0BEC5",
                "#B0BEC5",
                "#B0BEC5",
                "#B0BEC5",
                "#B0BEC5",
                "#B0BEC5",
                "#B0BEC5",
                "#B0BEC5",
                "#B0BEC5",
                "#B0BEC5",
                "#B0BEC5",
                "#B0BEC5",
                "#B0BEC5",
                "#B0BEC5",
                "#B0BEC5",
                "#B0BEC5",
                "#B0BEC5"
               ]
              ]
             }
            ],
            "label": "Topic 27",
            "method": "update"
           },
           {
            "args": [
             {
              "marker.color": [
               [
                "#B0BEC5",
                "#B0BEC5",
                "#B0BEC5",
                "#B0BEC5",
                "#B0BEC5",
                "#B0BEC5",
                "#B0BEC5",
                "#B0BEC5",
                "#B0BEC5",
                "#B0BEC5",
                "#B0BEC5",
                "#B0BEC5",
                "#B0BEC5",
                "#B0BEC5",
                "#B0BEC5",
                "#B0BEC5",
                "#B0BEC5",
                "#B0BEC5",
                "#B0BEC5",
                "#B0BEC5",
                "#B0BEC5",
                "#B0BEC5",
                "#B0BEC5",
                "#B0BEC5",
                "#B0BEC5",
                "#B0BEC5",
                "#B0BEC5",
                "#B0BEC5",
                "red",
                "#B0BEC5",
                "#B0BEC5",
                "#B0BEC5",
                "#B0BEC5",
                "#B0BEC5",
                "#B0BEC5",
                "#B0BEC5",
                "#B0BEC5",
                "#B0BEC5",
                "#B0BEC5",
                "#B0BEC5",
                "#B0BEC5",
                "#B0BEC5",
                "#B0BEC5",
                "#B0BEC5",
                "#B0BEC5",
                "#B0BEC5",
                "#B0BEC5",
                "#B0BEC5",
                "#B0BEC5",
                "#B0BEC5"
               ]
              ]
             }
            ],
            "label": "Topic 28",
            "method": "update"
           },
           {
            "args": [
             {
              "marker.color": [
               [
                "#B0BEC5",
                "#B0BEC5",
                "#B0BEC5",
                "#B0BEC5",
                "#B0BEC5",
                "#B0BEC5",
                "#B0BEC5",
                "#B0BEC5",
                "#B0BEC5",
                "#B0BEC5",
                "#B0BEC5",
                "#B0BEC5",
                "#B0BEC5",
                "#B0BEC5",
                "#B0BEC5",
                "#B0BEC5",
                "#B0BEC5",
                "#B0BEC5",
                "#B0BEC5",
                "#B0BEC5",
                "#B0BEC5",
                "#B0BEC5",
                "#B0BEC5",
                "#B0BEC5",
                "#B0BEC5",
                "#B0BEC5",
                "#B0BEC5",
                "#B0BEC5",
                "#B0BEC5",
                "red",
                "#B0BEC5",
                "#B0BEC5",
                "#B0BEC5",
                "#B0BEC5",
                "#B0BEC5",
                "#B0BEC5",
                "#B0BEC5",
                "#B0BEC5",
                "#B0BEC5",
                "#B0BEC5",
                "#B0BEC5",
                "#B0BEC5",
                "#B0BEC5",
                "#B0BEC5",
                "#B0BEC5",
                "#B0BEC5",
                "#B0BEC5",
                "#B0BEC5",
                "#B0BEC5",
                "#B0BEC5"
               ]
              ]
             }
            ],
            "label": "Topic 29",
            "method": "update"
           },
           {
            "args": [
             {
              "marker.color": [
               [
                "#B0BEC5",
                "#B0BEC5",
                "#B0BEC5",
                "#B0BEC5",
                "#B0BEC5",
                "#B0BEC5",
                "#B0BEC5",
                "#B0BEC5",
                "#B0BEC5",
                "#B0BEC5",
                "#B0BEC5",
                "#B0BEC5",
                "#B0BEC5",
                "#B0BEC5",
                "#B0BEC5",
                "#B0BEC5",
                "#B0BEC5",
                "#B0BEC5",
                "#B0BEC5",
                "#B0BEC5",
                "#B0BEC5",
                "#B0BEC5",
                "#B0BEC5",
                "#B0BEC5",
                "#B0BEC5",
                "#B0BEC5",
                "#B0BEC5",
                "#B0BEC5",
                "#B0BEC5",
                "#B0BEC5",
                "red",
                "#B0BEC5",
                "#B0BEC5",
                "#B0BEC5",
                "#B0BEC5",
                "#B0BEC5",
                "#B0BEC5",
                "#B0BEC5",
                "#B0BEC5",
                "#B0BEC5",
                "#B0BEC5",
                "#B0BEC5",
                "#B0BEC5",
                "#B0BEC5",
                "#B0BEC5",
                "#B0BEC5",
                "#B0BEC5",
                "#B0BEC5",
                "#B0BEC5",
                "#B0BEC5"
               ]
              ]
             }
            ],
            "label": "Topic 30",
            "method": "update"
           },
           {
            "args": [
             {
              "marker.color": [
               [
                "#B0BEC5",
                "#B0BEC5",
                "#B0BEC5",
                "#B0BEC5",
                "#B0BEC5",
                "#B0BEC5",
                "#B0BEC5",
                "#B0BEC5",
                "#B0BEC5",
                "#B0BEC5",
                "#B0BEC5",
                "#B0BEC5",
                "#B0BEC5",
                "#B0BEC5",
                "#B0BEC5",
                "#B0BEC5",
                "#B0BEC5",
                "#B0BEC5",
                "#B0BEC5",
                "#B0BEC5",
                "#B0BEC5",
                "#B0BEC5",
                "#B0BEC5",
                "#B0BEC5",
                "#B0BEC5",
                "#B0BEC5",
                "#B0BEC5",
                "#B0BEC5",
                "#B0BEC5",
                "#B0BEC5",
                "#B0BEC5",
                "red",
                "#B0BEC5",
                "#B0BEC5",
                "#B0BEC5",
                "#B0BEC5",
                "#B0BEC5",
                "#B0BEC5",
                "#B0BEC5",
                "#B0BEC5",
                "#B0BEC5",
                "#B0BEC5",
                "#B0BEC5",
                "#B0BEC5",
                "#B0BEC5",
                "#B0BEC5",
                "#B0BEC5",
                "#B0BEC5",
                "#B0BEC5",
                "#B0BEC5"
               ]
              ]
             }
            ],
            "label": "Topic 31",
            "method": "update"
           },
           {
            "args": [
             {
              "marker.color": [
               [
                "#B0BEC5",
                "#B0BEC5",
                "#B0BEC5",
                "#B0BEC5",
                "#B0BEC5",
                "#B0BEC5",
                "#B0BEC5",
                "#B0BEC5",
                "#B0BEC5",
                "#B0BEC5",
                "#B0BEC5",
                "#B0BEC5",
                "#B0BEC5",
                "#B0BEC5",
                "#B0BEC5",
                "#B0BEC5",
                "#B0BEC5",
                "#B0BEC5",
                "#B0BEC5",
                "#B0BEC5",
                "#B0BEC5",
                "#B0BEC5",
                "#B0BEC5",
                "#B0BEC5",
                "#B0BEC5",
                "#B0BEC5",
                "#B0BEC5",
                "#B0BEC5",
                "#B0BEC5",
                "#B0BEC5",
                "#B0BEC5",
                "#B0BEC5",
                "red",
                "#B0BEC5",
                "#B0BEC5",
                "#B0BEC5",
                "#B0BEC5",
                "#B0BEC5",
                "#B0BEC5",
                "#B0BEC5",
                "#B0BEC5",
                "#B0BEC5",
                "#B0BEC5",
                "#B0BEC5",
                "#B0BEC5",
                "#B0BEC5",
                "#B0BEC5",
                "#B0BEC5",
                "#B0BEC5",
                "#B0BEC5"
               ]
              ]
             }
            ],
            "label": "Topic 32",
            "method": "update"
           },
           {
            "args": [
             {
              "marker.color": [
               [
                "#B0BEC5",
                "#B0BEC5",
                "#B0BEC5",
                "#B0BEC5",
                "#B0BEC5",
                "#B0BEC5",
                "#B0BEC5",
                "#B0BEC5",
                "#B0BEC5",
                "#B0BEC5",
                "#B0BEC5",
                "#B0BEC5",
                "#B0BEC5",
                "#B0BEC5",
                "#B0BEC5",
                "#B0BEC5",
                "#B0BEC5",
                "#B0BEC5",
                "#B0BEC5",
                "#B0BEC5",
                "#B0BEC5",
                "#B0BEC5",
                "#B0BEC5",
                "#B0BEC5",
                "#B0BEC5",
                "#B0BEC5",
                "#B0BEC5",
                "#B0BEC5",
                "#B0BEC5",
                "#B0BEC5",
                "#B0BEC5",
                "#B0BEC5",
                "#B0BEC5",
                "red",
                "#B0BEC5",
                "#B0BEC5",
                "#B0BEC5",
                "#B0BEC5",
                "#B0BEC5",
                "#B0BEC5",
                "#B0BEC5",
                "#B0BEC5",
                "#B0BEC5",
                "#B0BEC5",
                "#B0BEC5",
                "#B0BEC5",
                "#B0BEC5",
                "#B0BEC5",
                "#B0BEC5",
                "#B0BEC5"
               ]
              ]
             }
            ],
            "label": "Topic 33",
            "method": "update"
           },
           {
            "args": [
             {
              "marker.color": [
               [
                "#B0BEC5",
                "#B0BEC5",
                "#B0BEC5",
                "#B0BEC5",
                "#B0BEC5",
                "#B0BEC5",
                "#B0BEC5",
                "#B0BEC5",
                "#B0BEC5",
                "#B0BEC5",
                "#B0BEC5",
                "#B0BEC5",
                "#B0BEC5",
                "#B0BEC5",
                "#B0BEC5",
                "#B0BEC5",
                "#B0BEC5",
                "#B0BEC5",
                "#B0BEC5",
                "#B0BEC5",
                "#B0BEC5",
                "#B0BEC5",
                "#B0BEC5",
                "#B0BEC5",
                "#B0BEC5",
                "#B0BEC5",
                "#B0BEC5",
                "#B0BEC5",
                "#B0BEC5",
                "#B0BEC5",
                "#B0BEC5",
                "#B0BEC5",
                "#B0BEC5",
                "#B0BEC5",
                "red",
                "#B0BEC5",
                "#B0BEC5",
                "#B0BEC5",
                "#B0BEC5",
                "#B0BEC5",
                "#B0BEC5",
                "#B0BEC5",
                "#B0BEC5",
                "#B0BEC5",
                "#B0BEC5",
                "#B0BEC5",
                "#B0BEC5",
                "#B0BEC5",
                "#B0BEC5",
                "#B0BEC5"
               ]
              ]
             }
            ],
            "label": "Topic 34",
            "method": "update"
           },
           {
            "args": [
             {
              "marker.color": [
               [
                "#B0BEC5",
                "#B0BEC5",
                "#B0BEC5",
                "#B0BEC5",
                "#B0BEC5",
                "#B0BEC5",
                "#B0BEC5",
                "#B0BEC5",
                "#B0BEC5",
                "#B0BEC5",
                "#B0BEC5",
                "#B0BEC5",
                "#B0BEC5",
                "#B0BEC5",
                "#B0BEC5",
                "#B0BEC5",
                "#B0BEC5",
                "#B0BEC5",
                "#B0BEC5",
                "#B0BEC5",
                "#B0BEC5",
                "#B0BEC5",
                "#B0BEC5",
                "#B0BEC5",
                "#B0BEC5",
                "#B0BEC5",
                "#B0BEC5",
                "#B0BEC5",
                "#B0BEC5",
                "#B0BEC5",
                "#B0BEC5",
                "#B0BEC5",
                "#B0BEC5",
                "#B0BEC5",
                "#B0BEC5",
                "red",
                "#B0BEC5",
                "#B0BEC5",
                "#B0BEC5",
                "#B0BEC5",
                "#B0BEC5",
                "#B0BEC5",
                "#B0BEC5",
                "#B0BEC5",
                "#B0BEC5",
                "#B0BEC5",
                "#B0BEC5",
                "#B0BEC5",
                "#B0BEC5",
                "#B0BEC5"
               ]
              ]
             }
            ],
            "label": "Topic 35",
            "method": "update"
           },
           {
            "args": [
             {
              "marker.color": [
               [
                "#B0BEC5",
                "#B0BEC5",
                "#B0BEC5",
                "#B0BEC5",
                "#B0BEC5",
                "#B0BEC5",
                "#B0BEC5",
                "#B0BEC5",
                "#B0BEC5",
                "#B0BEC5",
                "#B0BEC5",
                "#B0BEC5",
                "#B0BEC5",
                "#B0BEC5",
                "#B0BEC5",
                "#B0BEC5",
                "#B0BEC5",
                "#B0BEC5",
                "#B0BEC5",
                "#B0BEC5",
                "#B0BEC5",
                "#B0BEC5",
                "#B0BEC5",
                "#B0BEC5",
                "#B0BEC5",
                "#B0BEC5",
                "#B0BEC5",
                "#B0BEC5",
                "#B0BEC5",
                "#B0BEC5",
                "#B0BEC5",
                "#B0BEC5",
                "#B0BEC5",
                "#B0BEC5",
                "#B0BEC5",
                "#B0BEC5",
                "red",
                "#B0BEC5",
                "#B0BEC5",
                "#B0BEC5",
                "#B0BEC5",
                "#B0BEC5",
                "#B0BEC5",
                "#B0BEC5",
                "#B0BEC5",
                "#B0BEC5",
                "#B0BEC5",
                "#B0BEC5",
                "#B0BEC5",
                "#B0BEC5"
               ]
              ]
             }
            ],
            "label": "Topic 36",
            "method": "update"
           },
           {
            "args": [
             {
              "marker.color": [
               [
                "#B0BEC5",
                "#B0BEC5",
                "#B0BEC5",
                "#B0BEC5",
                "#B0BEC5",
                "#B0BEC5",
                "#B0BEC5",
                "#B0BEC5",
                "#B0BEC5",
                "#B0BEC5",
                "#B0BEC5",
                "#B0BEC5",
                "#B0BEC5",
                "#B0BEC5",
                "#B0BEC5",
                "#B0BEC5",
                "#B0BEC5",
                "#B0BEC5",
                "#B0BEC5",
                "#B0BEC5",
                "#B0BEC5",
                "#B0BEC5",
                "#B0BEC5",
                "#B0BEC5",
                "#B0BEC5",
                "#B0BEC5",
                "#B0BEC5",
                "#B0BEC5",
                "#B0BEC5",
                "#B0BEC5",
                "#B0BEC5",
                "#B0BEC5",
                "#B0BEC5",
                "#B0BEC5",
                "#B0BEC5",
                "#B0BEC5",
                "#B0BEC5",
                "red",
                "#B0BEC5",
                "#B0BEC5",
                "#B0BEC5",
                "#B0BEC5",
                "#B0BEC5",
                "#B0BEC5",
                "#B0BEC5",
                "#B0BEC5",
                "#B0BEC5",
                "#B0BEC5",
                "#B0BEC5",
                "#B0BEC5"
               ]
              ]
             }
            ],
            "label": "Topic 37",
            "method": "update"
           },
           {
            "args": [
             {
              "marker.color": [
               [
                "#B0BEC5",
                "#B0BEC5",
                "#B0BEC5",
                "#B0BEC5",
                "#B0BEC5",
                "#B0BEC5",
                "#B0BEC5",
                "#B0BEC5",
                "#B0BEC5",
                "#B0BEC5",
                "#B0BEC5",
                "#B0BEC5",
                "#B0BEC5",
                "#B0BEC5",
                "#B0BEC5",
                "#B0BEC5",
                "#B0BEC5",
                "#B0BEC5",
                "#B0BEC5",
                "#B0BEC5",
                "#B0BEC5",
                "#B0BEC5",
                "#B0BEC5",
                "#B0BEC5",
                "#B0BEC5",
                "#B0BEC5",
                "#B0BEC5",
                "#B0BEC5",
                "#B0BEC5",
                "#B0BEC5",
                "#B0BEC5",
                "#B0BEC5",
                "#B0BEC5",
                "#B0BEC5",
                "#B0BEC5",
                "#B0BEC5",
                "#B0BEC5",
                "#B0BEC5",
                "red",
                "#B0BEC5",
                "#B0BEC5",
                "#B0BEC5",
                "#B0BEC5",
                "#B0BEC5",
                "#B0BEC5",
                "#B0BEC5",
                "#B0BEC5",
                "#B0BEC5",
                "#B0BEC5",
                "#B0BEC5"
               ]
              ]
             }
            ],
            "label": "Topic 38",
            "method": "update"
           },
           {
            "args": [
             {
              "marker.color": [
               [
                "#B0BEC5",
                "#B0BEC5",
                "#B0BEC5",
                "#B0BEC5",
                "#B0BEC5",
                "#B0BEC5",
                "#B0BEC5",
                "#B0BEC5",
                "#B0BEC5",
                "#B0BEC5",
                "#B0BEC5",
                "#B0BEC5",
                "#B0BEC5",
                "#B0BEC5",
                "#B0BEC5",
                "#B0BEC5",
                "#B0BEC5",
                "#B0BEC5",
                "#B0BEC5",
                "#B0BEC5",
                "#B0BEC5",
                "#B0BEC5",
                "#B0BEC5",
                "#B0BEC5",
                "#B0BEC5",
                "#B0BEC5",
                "#B0BEC5",
                "#B0BEC5",
                "#B0BEC5",
                "#B0BEC5",
                "#B0BEC5",
                "#B0BEC5",
                "#B0BEC5",
                "#B0BEC5",
                "#B0BEC5",
                "#B0BEC5",
                "#B0BEC5",
                "#B0BEC5",
                "#B0BEC5",
                "red",
                "#B0BEC5",
                "#B0BEC5",
                "#B0BEC5",
                "#B0BEC5",
                "#B0BEC5",
                "#B0BEC5",
                "#B0BEC5",
                "#B0BEC5",
                "#B0BEC5",
                "#B0BEC5"
               ]
              ]
             }
            ],
            "label": "Topic 39",
            "method": "update"
           },
           {
            "args": [
             {
              "marker.color": [
               [
                "#B0BEC5",
                "#B0BEC5",
                "#B0BEC5",
                "#B0BEC5",
                "#B0BEC5",
                "#B0BEC5",
                "#B0BEC5",
                "#B0BEC5",
                "#B0BEC5",
                "#B0BEC5",
                "#B0BEC5",
                "#B0BEC5",
                "#B0BEC5",
                "#B0BEC5",
                "#B0BEC5",
                "#B0BEC5",
                "#B0BEC5",
                "#B0BEC5",
                "#B0BEC5",
                "#B0BEC5",
                "#B0BEC5",
                "#B0BEC5",
                "#B0BEC5",
                "#B0BEC5",
                "#B0BEC5",
                "#B0BEC5",
                "#B0BEC5",
                "#B0BEC5",
                "#B0BEC5",
                "#B0BEC5",
                "#B0BEC5",
                "#B0BEC5",
                "#B0BEC5",
                "#B0BEC5",
                "#B0BEC5",
                "#B0BEC5",
                "#B0BEC5",
                "#B0BEC5",
                "#B0BEC5",
                "#B0BEC5",
                "red",
                "#B0BEC5",
                "#B0BEC5",
                "#B0BEC5",
                "#B0BEC5",
                "#B0BEC5",
                "#B0BEC5",
                "#B0BEC5",
                "#B0BEC5",
                "#B0BEC5"
               ]
              ]
             }
            ],
            "label": "Topic 40",
            "method": "update"
           },
           {
            "args": [
             {
              "marker.color": [
               [
                "#B0BEC5",
                "#B0BEC5",
                "#B0BEC5",
                "#B0BEC5",
                "#B0BEC5",
                "#B0BEC5",
                "#B0BEC5",
                "#B0BEC5",
                "#B0BEC5",
                "#B0BEC5",
                "#B0BEC5",
                "#B0BEC5",
                "#B0BEC5",
                "#B0BEC5",
                "#B0BEC5",
                "#B0BEC5",
                "#B0BEC5",
                "#B0BEC5",
                "#B0BEC5",
                "#B0BEC5",
                "#B0BEC5",
                "#B0BEC5",
                "#B0BEC5",
                "#B0BEC5",
                "#B0BEC5",
                "#B0BEC5",
                "#B0BEC5",
                "#B0BEC5",
                "#B0BEC5",
                "#B0BEC5",
                "#B0BEC5",
                "#B0BEC5",
                "#B0BEC5",
                "#B0BEC5",
                "#B0BEC5",
                "#B0BEC5",
                "#B0BEC5",
                "#B0BEC5",
                "#B0BEC5",
                "#B0BEC5",
                "#B0BEC5",
                "red",
                "#B0BEC5",
                "#B0BEC5",
                "#B0BEC5",
                "#B0BEC5",
                "#B0BEC5",
                "#B0BEC5",
                "#B0BEC5",
                "#B0BEC5"
               ]
              ]
             }
            ],
            "label": "Topic 41",
            "method": "update"
           },
           {
            "args": [
             {
              "marker.color": [
               [
                "#B0BEC5",
                "#B0BEC5",
                "#B0BEC5",
                "#B0BEC5",
                "#B0BEC5",
                "#B0BEC5",
                "#B0BEC5",
                "#B0BEC5",
                "#B0BEC5",
                "#B0BEC5",
                "#B0BEC5",
                "#B0BEC5",
                "#B0BEC5",
                "#B0BEC5",
                "#B0BEC5",
                "#B0BEC5",
                "#B0BEC5",
                "#B0BEC5",
                "#B0BEC5",
                "#B0BEC5",
                "#B0BEC5",
                "#B0BEC5",
                "#B0BEC5",
                "#B0BEC5",
                "#B0BEC5",
                "#B0BEC5",
                "#B0BEC5",
                "#B0BEC5",
                "#B0BEC5",
                "#B0BEC5",
                "#B0BEC5",
                "#B0BEC5",
                "#B0BEC5",
                "#B0BEC5",
                "#B0BEC5",
                "#B0BEC5",
                "#B0BEC5",
                "#B0BEC5",
                "#B0BEC5",
                "#B0BEC5",
                "#B0BEC5",
                "#B0BEC5",
                "red",
                "#B0BEC5",
                "#B0BEC5",
                "#B0BEC5",
                "#B0BEC5",
                "#B0BEC5",
                "#B0BEC5",
                "#B0BEC5"
               ]
              ]
             }
            ],
            "label": "Topic 42",
            "method": "update"
           },
           {
            "args": [
             {
              "marker.color": [
               [
                "#B0BEC5",
                "#B0BEC5",
                "#B0BEC5",
                "#B0BEC5",
                "#B0BEC5",
                "#B0BEC5",
                "#B0BEC5",
                "#B0BEC5",
                "#B0BEC5",
                "#B0BEC5",
                "#B0BEC5",
                "#B0BEC5",
                "#B0BEC5",
                "#B0BEC5",
                "#B0BEC5",
                "#B0BEC5",
                "#B0BEC5",
                "#B0BEC5",
                "#B0BEC5",
                "#B0BEC5",
                "#B0BEC5",
                "#B0BEC5",
                "#B0BEC5",
                "#B0BEC5",
                "#B0BEC5",
                "#B0BEC5",
                "#B0BEC5",
                "#B0BEC5",
                "#B0BEC5",
                "#B0BEC5",
                "#B0BEC5",
                "#B0BEC5",
                "#B0BEC5",
                "#B0BEC5",
                "#B0BEC5",
                "#B0BEC5",
                "#B0BEC5",
                "#B0BEC5",
                "#B0BEC5",
                "#B0BEC5",
                "#B0BEC5",
                "#B0BEC5",
                "#B0BEC5",
                "red",
                "#B0BEC5",
                "#B0BEC5",
                "#B0BEC5",
                "#B0BEC5",
                "#B0BEC5",
                "#B0BEC5"
               ]
              ]
             }
            ],
            "label": "Topic 43",
            "method": "update"
           },
           {
            "args": [
             {
              "marker.color": [
               [
                "#B0BEC5",
                "#B0BEC5",
                "#B0BEC5",
                "#B0BEC5",
                "#B0BEC5",
                "#B0BEC5",
                "#B0BEC5",
                "#B0BEC5",
                "#B0BEC5",
                "#B0BEC5",
                "#B0BEC5",
                "#B0BEC5",
                "#B0BEC5",
                "#B0BEC5",
                "#B0BEC5",
                "#B0BEC5",
                "#B0BEC5",
                "#B0BEC5",
                "#B0BEC5",
                "#B0BEC5",
                "#B0BEC5",
                "#B0BEC5",
                "#B0BEC5",
                "#B0BEC5",
                "#B0BEC5",
                "#B0BEC5",
                "#B0BEC5",
                "#B0BEC5",
                "#B0BEC5",
                "#B0BEC5",
                "#B0BEC5",
                "#B0BEC5",
                "#B0BEC5",
                "#B0BEC5",
                "#B0BEC5",
                "#B0BEC5",
                "#B0BEC5",
                "#B0BEC5",
                "#B0BEC5",
                "#B0BEC5",
                "#B0BEC5",
                "#B0BEC5",
                "#B0BEC5",
                "#B0BEC5",
                "red",
                "#B0BEC5",
                "#B0BEC5",
                "#B0BEC5",
                "#B0BEC5",
                "#B0BEC5"
               ]
              ]
             }
            ],
            "label": "Topic 44",
            "method": "update"
           },
           {
            "args": [
             {
              "marker.color": [
               [
                "#B0BEC5",
                "#B0BEC5",
                "#B0BEC5",
                "#B0BEC5",
                "#B0BEC5",
                "#B0BEC5",
                "#B0BEC5",
                "#B0BEC5",
                "#B0BEC5",
                "#B0BEC5",
                "#B0BEC5",
                "#B0BEC5",
                "#B0BEC5",
                "#B0BEC5",
                "#B0BEC5",
                "#B0BEC5",
                "#B0BEC5",
                "#B0BEC5",
                "#B0BEC5",
                "#B0BEC5",
                "#B0BEC5",
                "#B0BEC5",
                "#B0BEC5",
                "#B0BEC5",
                "#B0BEC5",
                "#B0BEC5",
                "#B0BEC5",
                "#B0BEC5",
                "#B0BEC5",
                "#B0BEC5",
                "#B0BEC5",
                "#B0BEC5",
                "#B0BEC5",
                "#B0BEC5",
                "#B0BEC5",
                "#B0BEC5",
                "#B0BEC5",
                "#B0BEC5",
                "#B0BEC5",
                "#B0BEC5",
                "#B0BEC5",
                "#B0BEC5",
                "#B0BEC5",
                "#B0BEC5",
                "#B0BEC5",
                "red",
                "#B0BEC5",
                "#B0BEC5",
                "#B0BEC5",
                "#B0BEC5"
               ]
              ]
             }
            ],
            "label": "Topic 45",
            "method": "update"
           },
           {
            "args": [
             {
              "marker.color": [
               [
                "#B0BEC5",
                "#B0BEC5",
                "#B0BEC5",
                "#B0BEC5",
                "#B0BEC5",
                "#B0BEC5",
                "#B0BEC5",
                "#B0BEC5",
                "#B0BEC5",
                "#B0BEC5",
                "#B0BEC5",
                "#B0BEC5",
                "#B0BEC5",
                "#B0BEC5",
                "#B0BEC5",
                "#B0BEC5",
                "#B0BEC5",
                "#B0BEC5",
                "#B0BEC5",
                "#B0BEC5",
                "#B0BEC5",
                "#B0BEC5",
                "#B0BEC5",
                "#B0BEC5",
                "#B0BEC5",
                "#B0BEC5",
                "#B0BEC5",
                "#B0BEC5",
                "#B0BEC5",
                "#B0BEC5",
                "#B0BEC5",
                "#B0BEC5",
                "#B0BEC5",
                "#B0BEC5",
                "#B0BEC5",
                "#B0BEC5",
                "#B0BEC5",
                "#B0BEC5",
                "#B0BEC5",
                "#B0BEC5",
                "#B0BEC5",
                "#B0BEC5",
                "#B0BEC5",
                "#B0BEC5",
                "#B0BEC5",
                "#B0BEC5",
                "red",
                "#B0BEC5",
                "#B0BEC5",
                "#B0BEC5"
               ]
              ]
             }
            ],
            "label": "Topic 46",
            "method": "update"
           },
           {
            "args": [
             {
              "marker.color": [
               [
                "#B0BEC5",
                "#B0BEC5",
                "#B0BEC5",
                "#B0BEC5",
                "#B0BEC5",
                "#B0BEC5",
                "#B0BEC5",
                "#B0BEC5",
                "#B0BEC5",
                "#B0BEC5",
                "#B0BEC5",
                "#B0BEC5",
                "#B0BEC5",
                "#B0BEC5",
                "#B0BEC5",
                "#B0BEC5",
                "#B0BEC5",
                "#B0BEC5",
                "#B0BEC5",
                "#B0BEC5",
                "#B0BEC5",
                "#B0BEC5",
                "#B0BEC5",
                "#B0BEC5",
                "#B0BEC5",
                "#B0BEC5",
                "#B0BEC5",
                "#B0BEC5",
                "#B0BEC5",
                "#B0BEC5",
                "#B0BEC5",
                "#B0BEC5",
                "#B0BEC5",
                "#B0BEC5",
                "#B0BEC5",
                "#B0BEC5",
                "#B0BEC5",
                "#B0BEC5",
                "#B0BEC5",
                "#B0BEC5",
                "#B0BEC5",
                "#B0BEC5",
                "#B0BEC5",
                "#B0BEC5",
                "#B0BEC5",
                "#B0BEC5",
                "#B0BEC5",
                "red",
                "#B0BEC5",
                "#B0BEC5"
               ]
              ]
             }
            ],
            "label": "Topic 47",
            "method": "update"
           },
           {
            "args": [
             {
              "marker.color": [
               [
                "#B0BEC5",
                "#B0BEC5",
                "#B0BEC5",
                "#B0BEC5",
                "#B0BEC5",
                "#B0BEC5",
                "#B0BEC5",
                "#B0BEC5",
                "#B0BEC5",
                "#B0BEC5",
                "#B0BEC5",
                "#B0BEC5",
                "#B0BEC5",
                "#B0BEC5",
                "#B0BEC5",
                "#B0BEC5",
                "#B0BEC5",
                "#B0BEC5",
                "#B0BEC5",
                "#B0BEC5",
                "#B0BEC5",
                "#B0BEC5",
                "#B0BEC5",
                "#B0BEC5",
                "#B0BEC5",
                "#B0BEC5",
                "#B0BEC5",
                "#B0BEC5",
                "#B0BEC5",
                "#B0BEC5",
                "#B0BEC5",
                "#B0BEC5",
                "#B0BEC5",
                "#B0BEC5",
                "#B0BEC5",
                "#B0BEC5",
                "#B0BEC5",
                "#B0BEC5",
                "#B0BEC5",
                "#B0BEC5",
                "#B0BEC5",
                "#B0BEC5",
                "#B0BEC5",
                "#B0BEC5",
                "#B0BEC5",
                "#B0BEC5",
                "#B0BEC5",
                "#B0BEC5",
                "red",
                "#B0BEC5"
               ]
              ]
             }
            ],
            "label": "Topic 48",
            "method": "update"
           },
           {
            "args": [
             {
              "marker.color": [
               [
                "#B0BEC5",
                "#B0BEC5",
                "#B0BEC5",
                "#B0BEC5",
                "#B0BEC5",
                "#B0BEC5",
                "#B0BEC5",
                "#B0BEC5",
                "#B0BEC5",
                "#B0BEC5",
                "#B0BEC5",
                "#B0BEC5",
                "#B0BEC5",
                "#B0BEC5",
                "#B0BEC5",
                "#B0BEC5",
                "#B0BEC5",
                "#B0BEC5",
                "#B0BEC5",
                "#B0BEC5",
                "#B0BEC5",
                "#B0BEC5",
                "#B0BEC5",
                "#B0BEC5",
                "#B0BEC5",
                "#B0BEC5",
                "#B0BEC5",
                "#B0BEC5",
                "#B0BEC5",
                "#B0BEC5",
                "#B0BEC5",
                "#B0BEC5",
                "#B0BEC5",
                "#B0BEC5",
                "#B0BEC5",
                "#B0BEC5",
                "#B0BEC5",
                "#B0BEC5",
                "#B0BEC5",
                "#B0BEC5",
                "#B0BEC5",
                "#B0BEC5",
                "#B0BEC5",
                "#B0BEC5",
                "#B0BEC5",
                "#B0BEC5",
                "#B0BEC5",
                "#B0BEC5",
                "#B0BEC5",
                "red"
               ]
              ]
             }
            ],
            "label": "Topic 49",
            "method": "update"
           }
          ]
         }
        ],
        "template": {
         "data": {
          "bar": [
           {
            "error_x": {
             "color": "rgb(36,36,36)"
            },
            "error_y": {
             "color": "rgb(36,36,36)"
            },
            "marker": {
             "line": {
              "color": "white",
              "width": 0.5
             },
             "pattern": {
              "fillmode": "overlay",
              "size": 10,
              "solidity": 0.2
             }
            },
            "type": "bar"
           }
          ],
          "barpolar": [
           {
            "marker": {
             "line": {
              "color": "white",
              "width": 0.5
             },
             "pattern": {
              "fillmode": "overlay",
              "size": 10,
              "solidity": 0.2
             }
            },
            "type": "barpolar"
           }
          ],
          "carpet": [
           {
            "aaxis": {
             "endlinecolor": "rgb(36,36,36)",
             "gridcolor": "white",
             "linecolor": "white",
             "minorgridcolor": "white",
             "startlinecolor": "rgb(36,36,36)"
            },
            "baxis": {
             "endlinecolor": "rgb(36,36,36)",
             "gridcolor": "white",
             "linecolor": "white",
             "minorgridcolor": "white",
             "startlinecolor": "rgb(36,36,36)"
            },
            "type": "carpet"
           }
          ],
          "choropleth": [
           {
            "colorbar": {
             "outlinewidth": 1,
             "tickcolor": "rgb(36,36,36)",
             "ticks": "outside"
            },
            "type": "choropleth"
           }
          ],
          "contour": [
           {
            "colorbar": {
             "outlinewidth": 1,
             "tickcolor": "rgb(36,36,36)",
             "ticks": "outside"
            },
            "colorscale": [
             [
              0,
              "#440154"
             ],
             [
              0.1111111111111111,
              "#482878"
             ],
             [
              0.2222222222222222,
              "#3e4989"
             ],
             [
              0.3333333333333333,
              "#31688e"
             ],
             [
              0.4444444444444444,
              "#26828e"
             ],
             [
              0.5555555555555556,
              "#1f9e89"
             ],
             [
              0.6666666666666666,
              "#35b779"
             ],
             [
              0.7777777777777778,
              "#6ece58"
             ],
             [
              0.8888888888888888,
              "#b5de2b"
             ],
             [
              1,
              "#fde725"
             ]
            ],
            "type": "contour"
           }
          ],
          "contourcarpet": [
           {
            "colorbar": {
             "outlinewidth": 1,
             "tickcolor": "rgb(36,36,36)",
             "ticks": "outside"
            },
            "type": "contourcarpet"
           }
          ],
          "heatmap": [
           {
            "colorbar": {
             "outlinewidth": 1,
             "tickcolor": "rgb(36,36,36)",
             "ticks": "outside"
            },
            "colorscale": [
             [
              0,
              "#440154"
             ],
             [
              0.1111111111111111,
              "#482878"
             ],
             [
              0.2222222222222222,
              "#3e4989"
             ],
             [
              0.3333333333333333,
              "#31688e"
             ],
             [
              0.4444444444444444,
              "#26828e"
             ],
             [
              0.5555555555555556,
              "#1f9e89"
             ],
             [
              0.6666666666666666,
              "#35b779"
             ],
             [
              0.7777777777777778,
              "#6ece58"
             ],
             [
              0.8888888888888888,
              "#b5de2b"
             ],
             [
              1,
              "#fde725"
             ]
            ],
            "type": "heatmap"
           }
          ],
          "heatmapgl": [
           {
            "colorbar": {
             "outlinewidth": 1,
             "tickcolor": "rgb(36,36,36)",
             "ticks": "outside"
            },
            "colorscale": [
             [
              0,
              "#440154"
             ],
             [
              0.1111111111111111,
              "#482878"
             ],
             [
              0.2222222222222222,
              "#3e4989"
             ],
             [
              0.3333333333333333,
              "#31688e"
             ],
             [
              0.4444444444444444,
              "#26828e"
             ],
             [
              0.5555555555555556,
              "#1f9e89"
             ],
             [
              0.6666666666666666,
              "#35b779"
             ],
             [
              0.7777777777777778,
              "#6ece58"
             ],
             [
              0.8888888888888888,
              "#b5de2b"
             ],
             [
              1,
              "#fde725"
             ]
            ],
            "type": "heatmapgl"
           }
          ],
          "histogram": [
           {
            "marker": {
             "line": {
              "color": "white",
              "width": 0.6
             }
            },
            "type": "histogram"
           }
          ],
          "histogram2d": [
           {
            "colorbar": {
             "outlinewidth": 1,
             "tickcolor": "rgb(36,36,36)",
             "ticks": "outside"
            },
            "colorscale": [
             [
              0,
              "#440154"
             ],
             [
              0.1111111111111111,
              "#482878"
             ],
             [
              0.2222222222222222,
              "#3e4989"
             ],
             [
              0.3333333333333333,
              "#31688e"
             ],
             [
              0.4444444444444444,
              "#26828e"
             ],
             [
              0.5555555555555556,
              "#1f9e89"
             ],
             [
              0.6666666666666666,
              "#35b779"
             ],
             [
              0.7777777777777778,
              "#6ece58"
             ],
             [
              0.8888888888888888,
              "#b5de2b"
             ],
             [
              1,
              "#fde725"
             ]
            ],
            "type": "histogram2d"
           }
          ],
          "histogram2dcontour": [
           {
            "colorbar": {
             "outlinewidth": 1,
             "tickcolor": "rgb(36,36,36)",
             "ticks": "outside"
            },
            "colorscale": [
             [
              0,
              "#440154"
             ],
             [
              0.1111111111111111,
              "#482878"
             ],
             [
              0.2222222222222222,
              "#3e4989"
             ],
             [
              0.3333333333333333,
              "#31688e"
             ],
             [
              0.4444444444444444,
              "#26828e"
             ],
             [
              0.5555555555555556,
              "#1f9e89"
             ],
             [
              0.6666666666666666,
              "#35b779"
             ],
             [
              0.7777777777777778,
              "#6ece58"
             ],
             [
              0.8888888888888888,
              "#b5de2b"
             ],
             [
              1,
              "#fde725"
             ]
            ],
            "type": "histogram2dcontour"
           }
          ],
          "mesh3d": [
           {
            "colorbar": {
             "outlinewidth": 1,
             "tickcolor": "rgb(36,36,36)",
             "ticks": "outside"
            },
            "type": "mesh3d"
           }
          ],
          "parcoords": [
           {
            "line": {
             "colorbar": {
              "outlinewidth": 1,
              "tickcolor": "rgb(36,36,36)",
              "ticks": "outside"
             }
            },
            "type": "parcoords"
           }
          ],
          "pie": [
           {
            "automargin": true,
            "type": "pie"
           }
          ],
          "scatter": [
           {
            "fillpattern": {
             "fillmode": "overlay",
             "size": 10,
             "solidity": 0.2
            },
            "type": "scatter"
           }
          ],
          "scatter3d": [
           {
            "line": {
             "colorbar": {
              "outlinewidth": 1,
              "tickcolor": "rgb(36,36,36)",
              "ticks": "outside"
             }
            },
            "marker": {
             "colorbar": {
              "outlinewidth": 1,
              "tickcolor": "rgb(36,36,36)",
              "ticks": "outside"
             }
            },
            "type": "scatter3d"
           }
          ],
          "scattercarpet": [
           {
            "marker": {
             "colorbar": {
              "outlinewidth": 1,
              "tickcolor": "rgb(36,36,36)",
              "ticks": "outside"
             }
            },
            "type": "scattercarpet"
           }
          ],
          "scattergeo": [
           {
            "marker": {
             "colorbar": {
              "outlinewidth": 1,
              "tickcolor": "rgb(36,36,36)",
              "ticks": "outside"
             }
            },
            "type": "scattergeo"
           }
          ],
          "scattergl": [
           {
            "marker": {
             "colorbar": {
              "outlinewidth": 1,
              "tickcolor": "rgb(36,36,36)",
              "ticks": "outside"
             }
            },
            "type": "scattergl"
           }
          ],
          "scattermapbox": [
           {
            "marker": {
             "colorbar": {
              "outlinewidth": 1,
              "tickcolor": "rgb(36,36,36)",
              "ticks": "outside"
             }
            },
            "type": "scattermapbox"
           }
          ],
          "scatterpolar": [
           {
            "marker": {
             "colorbar": {
              "outlinewidth": 1,
              "tickcolor": "rgb(36,36,36)",
              "ticks": "outside"
             }
            },
            "type": "scatterpolar"
           }
          ],
          "scatterpolargl": [
           {
            "marker": {
             "colorbar": {
              "outlinewidth": 1,
              "tickcolor": "rgb(36,36,36)",
              "ticks": "outside"
             }
            },
            "type": "scatterpolargl"
           }
          ],
          "scatterternary": [
           {
            "marker": {
             "colorbar": {
              "outlinewidth": 1,
              "tickcolor": "rgb(36,36,36)",
              "ticks": "outside"
             }
            },
            "type": "scatterternary"
           }
          ],
          "surface": [
           {
            "colorbar": {
             "outlinewidth": 1,
             "tickcolor": "rgb(36,36,36)",
             "ticks": "outside"
            },
            "colorscale": [
             [
              0,
              "#440154"
             ],
             [
              0.1111111111111111,
              "#482878"
             ],
             [
              0.2222222222222222,
              "#3e4989"
             ],
             [
              0.3333333333333333,
              "#31688e"
             ],
             [
              0.4444444444444444,
              "#26828e"
             ],
             [
              0.5555555555555556,
              "#1f9e89"
             ],
             [
              0.6666666666666666,
              "#35b779"
             ],
             [
              0.7777777777777778,
              "#6ece58"
             ],
             [
              0.8888888888888888,
              "#b5de2b"
             ],
             [
              1,
              "#fde725"
             ]
            ],
            "type": "surface"
           }
          ],
          "table": [
           {
            "cells": {
             "fill": {
              "color": "rgb(237,237,237)"
             },
             "line": {
              "color": "white"
             }
            },
            "header": {
             "fill": {
              "color": "rgb(217,217,217)"
             },
             "line": {
              "color": "white"
             }
            },
            "type": "table"
           }
          ]
         },
         "layout": {
          "annotationdefaults": {
           "arrowhead": 0,
           "arrowwidth": 1
          },
          "autotypenumbers": "strict",
          "coloraxis": {
           "colorbar": {
            "outlinewidth": 1,
            "tickcolor": "rgb(36,36,36)",
            "ticks": "outside"
           }
          },
          "colorscale": {
           "diverging": [
            [
             0,
             "rgb(103,0,31)"
            ],
            [
             0.1,
             "rgb(178,24,43)"
            ],
            [
             0.2,
             "rgb(214,96,77)"
            ],
            [
             0.3,
             "rgb(244,165,130)"
            ],
            [
             0.4,
             "rgb(253,219,199)"
            ],
            [
             0.5,
             "rgb(247,247,247)"
            ],
            [
             0.6,
             "rgb(209,229,240)"
            ],
            [
             0.7,
             "rgb(146,197,222)"
            ],
            [
             0.8,
             "rgb(67,147,195)"
            ],
            [
             0.9,
             "rgb(33,102,172)"
            ],
            [
             1,
             "rgb(5,48,97)"
            ]
           ],
           "sequential": [
            [
             0,
             "#440154"
            ],
            [
             0.1111111111111111,
             "#482878"
            ],
            [
             0.2222222222222222,
             "#3e4989"
            ],
            [
             0.3333333333333333,
             "#31688e"
            ],
            [
             0.4444444444444444,
             "#26828e"
            ],
            [
             0.5555555555555556,
             "#1f9e89"
            ],
            [
             0.6666666666666666,
             "#35b779"
            ],
            [
             0.7777777777777778,
             "#6ece58"
            ],
            [
             0.8888888888888888,
             "#b5de2b"
            ],
            [
             1,
             "#fde725"
            ]
           ],
           "sequentialminus": [
            [
             0,
             "#440154"
            ],
            [
             0.1111111111111111,
             "#482878"
            ],
            [
             0.2222222222222222,
             "#3e4989"
            ],
            [
             0.3333333333333333,
             "#31688e"
            ],
            [
             0.4444444444444444,
             "#26828e"
            ],
            [
             0.5555555555555556,
             "#1f9e89"
            ],
            [
             0.6666666666666666,
             "#35b779"
            ],
            [
             0.7777777777777778,
             "#6ece58"
            ],
            [
             0.8888888888888888,
             "#b5de2b"
            ],
            [
             1,
             "#fde725"
            ]
           ]
          },
          "colorway": [
           "#1F77B4",
           "#FF7F0E",
           "#2CA02C",
           "#D62728",
           "#9467BD",
           "#8C564B",
           "#E377C2",
           "#7F7F7F",
           "#BCBD22",
           "#17BECF"
          ],
          "font": {
           "color": "rgb(36,36,36)"
          },
          "geo": {
           "bgcolor": "white",
           "lakecolor": "white",
           "landcolor": "white",
           "showlakes": true,
           "showland": true,
           "subunitcolor": "white"
          },
          "hoverlabel": {
           "align": "left"
          },
          "hovermode": "closest",
          "mapbox": {
           "style": "light"
          },
          "paper_bgcolor": "white",
          "plot_bgcolor": "white",
          "polar": {
           "angularaxis": {
            "gridcolor": "rgb(232,232,232)",
            "linecolor": "rgb(36,36,36)",
            "showgrid": false,
            "showline": true,
            "ticks": "outside"
           },
           "bgcolor": "white",
           "radialaxis": {
            "gridcolor": "rgb(232,232,232)",
            "linecolor": "rgb(36,36,36)",
            "showgrid": false,
            "showline": true,
            "ticks": "outside"
           }
          },
          "scene": {
           "xaxis": {
            "backgroundcolor": "white",
            "gridcolor": "rgb(232,232,232)",
            "gridwidth": 2,
            "linecolor": "rgb(36,36,36)",
            "showbackground": true,
            "showgrid": false,
            "showline": true,
            "ticks": "outside",
            "zeroline": false,
            "zerolinecolor": "rgb(36,36,36)"
           },
           "yaxis": {
            "backgroundcolor": "white",
            "gridcolor": "rgb(232,232,232)",
            "gridwidth": 2,
            "linecolor": "rgb(36,36,36)",
            "showbackground": true,
            "showgrid": false,
            "showline": true,
            "ticks": "outside",
            "zeroline": false,
            "zerolinecolor": "rgb(36,36,36)"
           },
           "zaxis": {
            "backgroundcolor": "white",
            "gridcolor": "rgb(232,232,232)",
            "gridwidth": 2,
            "linecolor": "rgb(36,36,36)",
            "showbackground": true,
            "showgrid": false,
            "showline": true,
            "ticks": "outside",
            "zeroline": false,
            "zerolinecolor": "rgb(36,36,36)"
           }
          },
          "shapedefaults": {
           "fillcolor": "black",
           "line": {
            "width": 0
           },
           "opacity": 0.3
          },
          "ternary": {
           "aaxis": {
            "gridcolor": "rgb(232,232,232)",
            "linecolor": "rgb(36,36,36)",
            "showgrid": false,
            "showline": true,
            "ticks": "outside"
           },
           "baxis": {
            "gridcolor": "rgb(232,232,232)",
            "linecolor": "rgb(36,36,36)",
            "showgrid": false,
            "showline": true,
            "ticks": "outside"
           },
           "bgcolor": "white",
           "caxis": {
            "gridcolor": "rgb(232,232,232)",
            "linecolor": "rgb(36,36,36)",
            "showgrid": false,
            "showline": true,
            "ticks": "outside"
           }
          },
          "title": {
           "x": 0.05
          },
          "xaxis": {
           "automargin": true,
           "gridcolor": "rgb(232,232,232)",
           "linecolor": "rgb(36,36,36)",
           "showgrid": false,
           "showline": true,
           "ticks": "outside",
           "title": {
            "standoff": 15
           },
           "zeroline": false,
           "zerolinecolor": "rgb(36,36,36)"
          },
          "yaxis": {
           "automargin": true,
           "gridcolor": "rgb(232,232,232)",
           "linecolor": "rgb(36,36,36)",
           "showgrid": false,
           "showline": true,
           "ticks": "outside",
           "title": {
            "standoff": 15
           },
           "zeroline": false,
           "zerolinecolor": "rgb(36,36,36)"
          }
         }
        },
        "title": {
         "font": {
          "color": "Black",
          "size": 22
         },
         "text": "<b>Intertopic Distance Map",
         "x": 0.5,
         "xanchor": "center",
         "y": 0.95,
         "yanchor": "top"
        },
        "width": 650,
        "xaxis": {
         "anchor": "y",
         "domain": [
          0,
          1
         ],
         "range": [
          -3.819356846809387,
          17.256801891326905
         ],
         "title": {
          "text": ""
         },
         "visible": false
        },
        "yaxis": {
         "anchor": "x",
         "domain": [
          0,
          1
         ],
         "range": [
          -14.817484855651855,
          24.1573392868042
         ],
         "title": {
          "text": ""
         },
         "visible": false
        }
       }
      }
     },
     "metadata": {},
     "output_type": "display_data"
    }
   ],
   "source": [
    "topic_model.visualize_topics()"
   ]
  }
 ],
 "metadata": {
  "kernelspec": {
   "display_name": "Python 3.9.7 ('base')",
   "language": "python",
   "name": "python3"
  },
  "language_info": {
   "codemirror_mode": {
    "name": "ipython",
    "version": 3
   },
   "file_extension": ".py",
   "mimetype": "text/x-python",
   "name": "python",
   "nbconvert_exporter": "python",
   "pygments_lexer": "ipython3",
   "version": "3.9.7"
  },
  "orig_nbformat": 4,
  "vscode": {
   "interpreter": {
    "hash": "32fe028544ad451da7fd425bd970f9d43d891a9dcc481ea9112199e2f0c30cfa"
   }
  }
 },
 "nbformat": 4,
 "nbformat_minor": 2
}
