{
 "cells": [
  {
   "attachments": {},
   "cell_type": "markdown",
   "metadata": {},
   "source": [
    "# LDA\n",
    "by Esteban Ariza Acosta"
   ]
  },
  {
   "cell_type": "code",
   "execution_count": 18,
   "metadata": {},
   "outputs": [
    {
     "name": "stdout",
     "output_type": "stream",
     "text": [
      "Note: you may need to restart the kernel to use updated packages.Requirement already satisfied: pyldavis in c:\\users\\ariza\\anaconda3\\lib\\site-packages (3.3.1)\n",
      "Requirement already satisfied: numexpr in c:\\users\\ariza\\anaconda3\\lib\\site-packages (from pyldavis) (2.7.3)\n",
      "Requirement already satisfied: funcy in c:\\users\\ariza\\anaconda3\\lib\\site-packages (from pyldavis) (1.18)\n",
      "Requirement already satisfied: numpy>=1.20.0 in c:\\users\\ariza\\anaconda3\\lib\\site-packages (from pyldavis) (1.20.3)\n",
      "Requirement already satisfied: scikit-learn in c:\\users\\ariza\\anaconda3\\lib\\site-packages (from pyldavis) (0.24.2)\n",
      "Requirement already satisfied: gensim in c:\\users\\ariza\\anaconda3\\lib\\site-packages (from pyldavis) (4.3.0)\n",
      "Requirement already satisfied: scipy in c:\\users\\ariza\\anaconda3\\lib\\site-packages (from pyldavis) (1.7.1)\n",
      "Requirement already satisfied: setuptools in c:\\users\\ariza\\anaconda3\\lib\\site-packages (from pyldavis) (58.0.4)\n",
      "Requirement already satisfied: jinja2 in c:\\users\\ariza\\anaconda3\\lib\\site-packages (from pyldavis) (2.11.3)\n",
      "\n"
     ]
    },
    {
     "name": "stderr",
     "output_type": "stream",
     "text": [
      "\n",
      "[notice] A new release of pip available: 22.2.2 -> 23.0\n",
      "[notice] To update, run: python.exe -m pip install --upgrade pip\n"
     ]
    },
    {
     "name": "stdout",
     "output_type": "stream",
     "text": [
      "Requirement already satisfied: joblib in c:\\users\\ariza\\anaconda3\\lib\\site-packages (from pyldavis) (1.1.0)\n",
      "Requirement already satisfied: pandas>=1.2.0 in c:\\users\\ariza\\anaconda3\\lib\\site-packages (from pyldavis) (1.3.4)\n",
      "Requirement already satisfied: future in c:\\users\\ariza\\anaconda3\\lib\\site-packages (from pyldavis) (0.18.2)\n",
      "Requirement already satisfied: sklearn in c:\\users\\ariza\\anaconda3\\lib\\site-packages (from pyldavis) (0.0.post1)\n",
      "Requirement already satisfied: pytz>=2017.3 in c:\\users\\ariza\\anaconda3\\lib\\site-packages (from pandas>=1.2.0->pyldavis) (2021.3)\n",
      "Requirement already satisfied: python-dateutil>=2.7.3 in c:\\users\\ariza\\anaconda3\\lib\\site-packages (from pandas>=1.2.0->pyldavis) (2.8.2)\n",
      "Requirement already satisfied: Cython==0.29.32 in c:\\users\\ariza\\anaconda3\\lib\\site-packages (from gensim->pyldavis) (0.29.32)\n",
      "Requirement already satisfied: smart-open>=1.8.1 in c:\\users\\ariza\\anaconda3\\lib\\site-packages (from gensim->pyldavis) (6.3.0)\n",
      "Requirement already satisfied: FuzzyTM>=0.4.0 in c:\\users\\ariza\\anaconda3\\lib\\site-packages (from gensim->pyldavis) (2.0.5)\n",
      "Requirement already satisfied: MarkupSafe>=0.23 in c:\\users\\ariza\\anaconda3\\lib\\site-packages (from jinja2->pyldavis) (1.1.1)\n",
      "Requirement already satisfied: threadpoolctl>=2.0.0 in c:\\users\\ariza\\anaconda3\\lib\\site-packages (from scikit-learn->pyldavis) (2.2.0)\n",
      "Requirement already satisfied: pyfume in c:\\users\\ariza\\anaconda3\\lib\\site-packages (from FuzzyTM>=0.4.0->gensim->pyldavis) (0.2.25)\n",
      "Requirement already satisfied: six>=1.5 in c:\\users\\ariza\\anaconda3\\lib\\site-packages (from python-dateutil>=2.7.3->pandas>=1.2.0->pyldavis) (1.16.0)\n",
      "Requirement already satisfied: fst-pso in c:\\users\\ariza\\anaconda3\\lib\\site-packages (from pyfume->FuzzyTM>=0.4.0->gensim->pyldavis) (1.8.1)\n",
      "Requirement already satisfied: simpful in c:\\users\\ariza\\anaconda3\\lib\\site-packages (from pyfume->FuzzyTM>=0.4.0->gensim->pyldavis) (2.9.0)\n",
      "Requirement already satisfied: miniful in c:\\users\\ariza\\anaconda3\\lib\\site-packages (from fst-pso->pyfume->FuzzyTM>=0.4.0->gensim->pyldavis) (0.0.6)\n",
      "Requirement already satisfied: requests in c:\\users\\ariza\\anaconda3\\lib\\site-packages (from simpful->pyfume->FuzzyTM>=0.4.0->gensim->pyldavis) (2.26.0)\n",
      "Requirement already satisfied: certifi>=2017.4.17 in c:\\users\\ariza\\anaconda3\\lib\\site-packages (from requests->simpful->pyfume->FuzzyTM>=0.4.0->gensim->pyldavis) (2021.10.8)\n",
      "Requirement already satisfied: idna<4,>=2.5 in c:\\users\\ariza\\anaconda3\\lib\\site-packages (from requests->simpful->pyfume->FuzzyTM>=0.4.0->gensim->pyldavis) (3.2)\n",
      "Requirement already satisfied: urllib3<1.27,>=1.21.1 in c:\\users\\ariza\\anaconda3\\lib\\site-packages (from requests->simpful->pyfume->FuzzyTM>=0.4.0->gensim->pyldavis) (1.26.7)\n",
      "Requirement already satisfied: charset-normalizer~=2.0.0 in c:\\users\\ariza\\anaconda3\\lib\\site-packages (from requests->simpful->pyfume->FuzzyTM>=0.4.0->gensim->pyldavis) (2.0.4)\n",
      "Note: you may need to restart the kernel to use updated packages.\n"
     ]
    },
    {
     "name": "stderr",
     "output_type": "stream",
     "text": [
      "ERROR: Could not find a version that satisfies the requirement pyldavis.gensim (from versions: none)\n",
      "ERROR: No matching distribution found for pyldavis.gensim\n",
      "\n",
      "[notice] A new release of pip available: 22.2.2 -> 23.0\n",
      "[notice] To update, run: python.exe -m pip install --upgrade pip\n"
     ]
    },
    {
     "name": "stdout",
     "output_type": "stream",
     "text": [
      "Requirement already satisfied: spacy in c:\\users\\ariza\\anaconda3\\lib\\site-packages (3.5.0)\n",
      "Requirement already satisfied: wasabi<1.2.0,>=0.9.1 in c:\\users\\ariza\\anaconda3\\lib\\site-packages (from spacy) (1.1.1)\n",
      "Requirement already satisfied: thinc<8.2.0,>=8.1.0 in c:\\users\\ariza\\anaconda3\\lib\\site-packages (from spacy) (8.1.7)\n",
      "Requirement already satisfied: tqdm<5.0.0,>=4.38.0 in c:\\users\\ariza\\anaconda3\\lib\\site-packages (from spacy) (4.62.3)\n",
      "Requirement already satisfied: packaging>=20.0 in c:\\users\\ariza\\anaconda3\\lib\\site-packages (from spacy) (21.0)\n",
      "Requirement already satisfied: spacy-loggers<2.0.0,>=1.0.0 in c:\\users\\ariza\\anaconda3\\lib\\site-packages (from spacy) (1.0.4)\n",
      "Requirement already satisfied: requests<3.0.0,>=2.13.0 in c:\\users\\ariza\\anaconda3\\lib\\site-packages (from spacy) (2.26.0)\n",
      "Requirement already satisfied: smart-open<7.0.0,>=5.2.1 in c:\\users\\ariza\\anaconda3\\lib\\site-packages (from spacy) (6.3.0)\n",
      "Requirement already satisfied: cymem<2.1.0,>=2.0.2 in c:\\users\\ariza\\anaconda3\\lib\\site-packages (from spacy) (2.0.7)\n",
      "Requirement already satisfied: setuptools in c:\\users\\ariza\\anaconda3\\lib\\site-packages (from spacy) (58.0.4)\n",
      "Requirement already satisfied: preshed<3.1.0,>=3.0.2 in c:\\users\\ariza\\anaconda3\\lib\\site-packages (from spacy) (3.0.8)\n",
      "Requirement already satisfied: pydantic!=1.8,!=1.8.1,<1.11.0,>=1.7.4 in c:\\users\\ariza\\anaconda3\\lib\\site-packages (from spacy) (1.10.4)\n",
      "Requirement already satisfied: numpy>=1.15.0 in c:\\users\\ariza\\anaconda3\\lib\\site-packages (from spacy) (1.20.3)\n",
      "Requirement already satisfied: jinja2 in c:\\users\\ariza\\anaconda3\\lib\\site-packages (from spacy) (2.11.3)\n",
      "Requirement already satisfied: pathy>=0.10.0 in c:\\users\\ariza\\anaconda3\\lib\\site-packages (from spacy) (0.10.1)\n",
      "Requirement already satisfied: langcodes<4.0.0,>=3.2.0 in c:\\users\\ariza\\anaconda3\\lib\\site-packages (from spacy) (3.3.0)\n",
      "Requirement already satisfied: spacy-legacy<3.1.0,>=3.0.11 in c:\\users\\ariza\\anaconda3\\lib\\site-packages (from spacy) (3.0.12)\n",
      "Requirement already satisfied: typer<0.8.0,>=0.3.0 in c:\\users\\ariza\\anaconda3\\lib\\site-packages (from spacy) (0.7.0)\n",
      "Requirement already satisfied: murmurhash<1.1.0,>=0.28.0 in c:\\users\\ariza\\anaconda3\\lib\\site-packages (from spacy) (1.0.9)\n",
      "Requirement already satisfied: catalogue<2.1.0,>=2.0.6 in c:\\users\\ariza\\anaconda3\\lib\\site-packages (from spacy) (2.0.8)\n",
      "Requirement already satisfied: srsly<3.0.0,>=2.4.3 in c:\\users\\ariza\\anaconda3\\lib\\site-packages (from spacy) (2.4.5)\n",
      "Requirement already satisfied: pyparsing>=2.0.2 in c:\\users\\ariza\\anaconda3\\lib\\site-packages (from packaging>=20.0->spacy) (3.0.4)\n",
      "Requirement already satisfied: typing-extensions>=4.2.0 in c:\\users\\ariza\\anaconda3\\lib\\site-packages (from pydantic!=1.8,!=1.8.1,<1.11.0,>=1.7.4->spacy) (4.4.0)\n",
      "Requirement already satisfied: charset-normalizer~=2.0.0 in c:\\users\\ariza\\anaconda3\\lib\\site-packages (from requests<3.0.0,>=2.13.0->spacy) (2.0.4)\n",
      "Requirement already satisfied: idna<4,>=2.5 in c:\\users\\ariza\\anaconda3\\lib\\site-packages (from requests<3.0.0,>=2.13.0->spacy) (3.2)\n",
      "Requirement already satisfied: urllib3<1.27,>=1.21.1 in c:\\users\\ariza\\anaconda3\\lib\\site-packages (from requests<3.0.0,>=2.13.0->spacy) (1.26.7)\n",
      "Requirement already satisfied: certifi>=2017.4.17 in c:\\users\\ariza\\anaconda3\\lib\\site-packages (from requests<3.0.0,>=2.13.0->spacy) (2021.10.8)\n",
      "Requirement already satisfied: confection<1.0.0,>=0.0.1 in c:\\users\\ariza\\anaconda3\\lib\\site-packages (from thinc<8.2.0,>=8.1.0->spacy) (0.0.4)\n",
      "Requirement already satisfied: blis<0.8.0,>=0.7.8 in c:\\users\\ariza\\anaconda3\\lib\\site-packages (from thinc<8.2.0,>=8.1.0->spacy) (0.7.9)\n",
      "Requirement already satisfied: colorama in c:\\users\\ariza\\anaconda3\\lib\\site-packages (from tqdm<5.0.0,>=4.38.0->spacy) (0.4.6)\n",
      "Requirement already satisfied: click<9.0.0,>=7.1.1 in c:\\users\\ariza\\anaconda3\\lib\\site-packages (from typer<0.8.0,>=0.3.0->spacy) (8.0.3)\n",
      "Requirement already satisfied: MarkupSafe>=0.23 in c:\\users\\ariza\\anaconda3\\lib\\site-packages (from jinja2->spacy) (1.1.1)\n",
      "Note: you may need to restart the kernel to use updated packages.\n"
     ]
    },
    {
     "name": "stderr",
     "output_type": "stream",
     "text": [
      "\n",
      "[notice] A new release of pip available: 22.2.2 -> 23.0\n",
      "[notice] To update, run: python.exe -m pip install --upgrade pip\n"
     ]
    }
   ],
   "source": [
    "%pip install pyldavis\n",
    "%pip install pyldavis.gensim\n",
    "%pip install spacy"
   ]
  },
  {
   "cell_type": "code",
   "execution_count": 1,
   "metadata": {},
   "outputs": [],
   "source": [
    "import gensim\n",
    "import gensim.corpora as corpora\n",
    "from gensim.corpora import Dictionary\n",
    "from gensim.models.coherencemodel import CoherenceModel\n",
    "from gensim.models.ldamodel import LdaModel\n",
    "\n",
    "from pprint import pprint\n",
    "\n",
    "import spacy\n",
    "\n",
    "import pickle\n",
    "import re\n",
    "import pyLDAvis\n",
    "import pyLDAvis.gensim_models as gensimvis\n",
    "\n",
    "import matplotlib.pyplot as plt\n",
    "import pandas as pd\n",
    "\n",
    "from nltk.corpus import stopwords\n",
    "\n",
    "import string"
   ]
  },
  {
   "cell_type": "code",
   "execution_count": 28,
   "metadata": {},
   "outputs": [],
   "source": [
    "df = pd.read_csv(\"../data/exploratory_analysis/tripadvisor_hotels_clean.csv\")\n",
    "reviews = df[\"REVIEW_TEXT\"].values.tolist()\n",
    "hotels = df['HOTEL_NAME'].values.tolist()\n",
    "\n",
    "#Eliminate puntiation marks\n",
    "reviews = [r.translate(str.maketrans('','',string.punctuation)) for r in reviews]\n",
    "\n",
    "#Lower case\n",
    "reviews = [r.lower() for r in reviews]\n",
    "\n",
    "#Split words\n",
    "reviews = [r.split(' ') for r in reviews]\n",
    "\n",
    "#Blank spaces\n",
    "reviews = [list(filter(lambda r: not (not r), review)) for review in reviews]"
   ]
  },
  {
   "cell_type": "code",
   "execution_count": 29,
   "metadata": {},
   "outputs": [],
   "source": [
    "# Eliminate common words\n",
    "sw = list(set(stopwords.words('english')))\n",
    "reviews = [list(filter(lambda r: r not in sw, review)) for review in reviews]"
   ]
  },
  {
   "cell_type": "code",
   "execution_count": 58,
   "metadata": {},
   "outputs": [
    {
     "name": "stdout",
     "output_type": "stream",
     "text": [
      "[[(0, 1), (1, 1), (2, 2), (3, 1), (4, 1), (5, 1), (6, 1), (7, 1), (8, 1), (9, 1), (10, 1), (11, 1), (12, 1), (13, 1), (14, 1), (15, 1), (16, 1), (17, 1), (18, 1), (19, 1), (20, 1), (21, 1), (22, 1), (23, 1), (24, 1), (25, 1), (26, 1), (27, 1), (28, 1), (29, 1), (30, 2), (31, 1), (32, 2), (33, 2), (34, 1), (35, 1), (36, 1), (37, 1), (38, 1)], [(31, 1), (32, 1), (39, 1), (40, 1), (41, 1), (42, 1), (43, 1), (44, 1), (45, 1), (46, 1), (47, 1), (48, 1), (49, 1), (50, 1), (51, 1), (52, 1), (53, 1), (54, 1), (55, 1), (56, 1), (57, 1), (58, 1), (59, 1), (60, 1), (61, 1), (62, 1), (63, 1), (64, 1), (65, 1), (66, 1), (67, 1)]]\n"
     ]
    }
   ],
   "source": [
    "id2word = Dictionary(reviews)\n",
    "# Term Document Frequency\n",
    "corpus = [id2word.doc2bow(text) for text in reviews]\n",
    "print(corpus[:2])"
   ]
  },
  {
   "cell_type": "code",
   "execution_count": 31,
   "metadata": {},
   "outputs": [
    {
     "data": {
      "text/plain": [
       "[[('5', 1),\n",
       "  ('area', 1),\n",
       "  ('beautiful', 2),\n",
       "  ('book', 1),\n",
       "  ('breakfast', 1),\n",
       "  ('class', 1),\n",
       "  ('comes', 1),\n",
       "  ('doubt', 1),\n",
       "  ('ever', 1),\n",
       "  ('experience', 1),\n",
       "  ('gardens', 1),\n",
       "  ('gives', 1),\n",
       "  ('helpful', 1),\n",
       "  ('high', 1),\n",
       "  ('highly', 1),\n",
       "  ('hotels', 1),\n",
       "  ('immaculate', 1),\n",
       "  ('loved', 1),\n",
       "  ('lovely', 1),\n",
       "  ('many', 1),\n",
       "  ('nights', 1),\n",
       "  ('none', 1),\n",
       "  ('one', 1),\n",
       "  ('place', 1),\n",
       "  ('really', 1),\n",
       "  ('recommend', 1),\n",
       "  ('restaurant', 1),\n",
       "  ('rooms', 1),\n",
       "  ('second', 1),\n",
       "  ('something', 1),\n",
       "  ('special', 2),\n",
       "  ('staff', 1),\n",
       "  ('stay', 2),\n",
       "  ('stayed', 2),\n",
       "  ('surround', 1),\n",
       "  ('unique', 1),\n",
       "  ('visit', 1),\n",
       "  ('without', 1),\n",
       "  ('would', 1)]]"
      ]
     },
     "execution_count": 31,
     "metadata": {},
     "output_type": "execute_result"
    }
   ],
   "source": [
    "[[(id2word[i], freq) for i, freq in doc] for doc in corpus[:1]]"
   ]
  },
  {
   "cell_type": "code",
   "execution_count": 33,
   "metadata": {},
   "outputs": [],
   "source": [
    "CLUSTERS = 6\n",
    "# Build LDA model\n",
    "lda_model = LdaModel(corpus=corpus,\n",
    "                   id2word=id2word,\n",
    "                   num_topics=CLUSTERS,\n",
    "                   random_state=0,\n",
    "                   chunksize=100,\n",
    "                   alpha='auto',\n",
    "                   per_word_topics=True)\n",
    "\n",
    "# pprint(lda_model.print_topics())\n",
    "doc_lda = lda_model[corpus]"
   ]
  },
  {
   "cell_type": "code",
   "execution_count": 34,
   "metadata": {},
   "outputs": [],
   "source": [
    "class_data = []\n",
    "for i in range(len(doc_lda)):\n",
    "    act_class_data = [hotels[i]]\n",
    "    topics = doc_lda[i][0]\n",
    "    for topic in topics:\n",
    "        act_class_data.append(topic[1])\n",
    "    class_data.append(act_class_data)\n",
    "\n",
    "cdf_columns =[str(i+1) for i in range(CLUSTERS)]\n",
    "cdf_columns.insert(0, \"HOTEL\")\n",
    "cdf = pd.DataFrame(data=class_data, columns=cdf_columns)"
   ]
  },
  {
   "cell_type": "code",
   "execution_count": 63,
   "metadata": {},
   "outputs": [
    {
     "data": {
      "text/plain": [
       "[(0, 0.12048311),\n",
       " (1, 0.2094629),\n",
       " (2, 0.031570066),\n",
       " (4, 0.19278856),\n",
       " (5, 0.4373676)]"
      ]
     },
     "execution_count": 63,
     "metadata": {},
     "output_type": "execute_result"
    }
   ],
   "source": [
    "cdf[\"CLUSTER\"] = cdf[\"1\"] + cdf[\"2\"] + cdf[\"3\"] + cdf[\"4\"] + cdf[\"5\"] + cdf[\"6\"]\n",
    "doc_lda[2][0]"
   ]
  },
  {
   "cell_type": "code",
   "execution_count": 50,
   "metadata": {},
   "outputs": [],
   "source": [
    "gcdf = cdf.groupby('HOTEL').mean()\n",
    "gcdf.to_csv(f\"lda_prob_{CLUSTERS}.csv\")"
   ]
  },
  {
   "cell_type": "code",
   "execution_count": 56,
   "metadata": {},
   "outputs": [
    {
     "data": {
      "text/html": [
       "<div>\n",
       "<style scoped>\n",
       "    .dataframe tbody tr th:only-of-type {\n",
       "        vertical-align: middle;\n",
       "    }\n",
       "\n",
       "    .dataframe tbody tr th {\n",
       "        vertical-align: top;\n",
       "    }\n",
       "\n",
       "    .dataframe thead th {\n",
       "        text-align: right;\n",
       "    }\n",
       "</style>\n",
       "<table border=\"1\" class=\"dataframe\">\n",
       "  <thead>\n",
       "    <tr style=\"text-align: right;\">\n",
       "      <th></th>\n",
       "      <th>HOTEL</th>\n",
       "      <th>1</th>\n",
       "      <th>2</th>\n",
       "      <th>3</th>\n",
       "      <th>4</th>\n",
       "      <th>5</th>\n",
       "      <th>6</th>\n",
       "      <th>CLUSTER</th>\n",
       "    </tr>\n",
       "  </thead>\n",
       "  <tbody>\n",
       "    <tr>\n",
       "      <th>0</th>\n",
       "      <td>3HB Faro</td>\n",
       "      <td>0.201637</td>\n",
       "      <td>0.192898</td>\n",
       "      <td>0.045412</td>\n",
       "      <td>0.033769</td>\n",
       "      <td>0.139302</td>\n",
       "      <td>0.475833</td>\n",
       "      <td>6</td>\n",
       "    </tr>\n",
       "    <tr>\n",
       "      <th>221</th>\n",
       "      <td>Mamaison Hotel Le Regina Warsaw</td>\n",
       "      <td>0.178916</td>\n",
       "      <td>0.182875</td>\n",
       "      <td>0.059620</td>\n",
       "      <td>0.028977</td>\n",
       "      <td>0.123459</td>\n",
       "      <td>0.455662</td>\n",
       "      <td>6</td>\n",
       "    </tr>\n",
       "    <tr>\n",
       "      <th>220</th>\n",
       "      <td>Maison Albar Hotels - Le Monumental Palace</td>\n",
       "      <td>0.167725</td>\n",
       "      <td>0.179119</td>\n",
       "      <td>0.058224</td>\n",
       "      <td>0.029964</td>\n",
       "      <td>0.110177</td>\n",
       "      <td>0.490919</td>\n",
       "      <td>6</td>\n",
       "    </tr>\n",
       "    <tr>\n",
       "      <th>219</th>\n",
       "      <td>Maalot Roma - Small Luxury Hotels Of The World</td>\n",
       "      <td>0.178298</td>\n",
       "      <td>0.185120</td>\n",
       "      <td>0.051825</td>\n",
       "      <td>0.038756</td>\n",
       "      <td>0.177205</td>\n",
       "      <td>0.499778</td>\n",
       "      <td>6</td>\n",
       "    </tr>\n",
       "    <tr>\n",
       "      <th>218</th>\n",
       "      <td>MYRIAD by SANA</td>\n",
       "      <td>0.182311</td>\n",
       "      <td>0.197988</td>\n",
       "      <td>0.061070</td>\n",
       "      <td>0.035530</td>\n",
       "      <td>0.139505</td>\n",
       "      <td>0.445517</td>\n",
       "      <td>6</td>\n",
       "    </tr>\n",
       "    <tr>\n",
       "      <th>...</th>\n",
       "      <td>...</td>\n",
       "      <td>...</td>\n",
       "      <td>...</td>\n",
       "      <td>...</td>\n",
       "      <td>...</td>\n",
       "      <td>...</td>\n",
       "      <td>...</td>\n",
       "      <td>...</td>\n",
       "    </tr>\n",
       "    <tr>\n",
       "      <th>105</th>\n",
       "      <td>Grandior Hotel Prague</td>\n",
       "      <td>0.205038</td>\n",
       "      <td>0.183712</td>\n",
       "      <td>0.043876</td>\n",
       "      <td>0.033977</td>\n",
       "      <td>0.119716</td>\n",
       "      <td>0.450365</td>\n",
       "      <td>6</td>\n",
       "    </tr>\n",
       "    <tr>\n",
       "      <th>104</th>\n",
       "      <td>Grandhotel Pupp</td>\n",
       "      <td>0.186114</td>\n",
       "      <td>0.229052</td>\n",
       "      <td>0.070596</td>\n",
       "      <td>0.033357</td>\n",
       "      <td>0.105375</td>\n",
       "      <td>0.409530</td>\n",
       "      <td>6</td>\n",
       "    </tr>\n",
       "    <tr>\n",
       "      <th>103</th>\n",
       "      <td>Grand-Hotel du Cap-Ferrat, A Four Seasons Hotel</td>\n",
       "      <td>0.154359</td>\n",
       "      <td>0.222501</td>\n",
       "      <td>0.059298</td>\n",
       "      <td>0.035983</td>\n",
       "      <td>0.110198</td>\n",
       "      <td>0.450105</td>\n",
       "      <td>6</td>\n",
       "    </tr>\n",
       "    <tr>\n",
       "      <th>121</th>\n",
       "      <td>Hotel Can Cera Adults only</td>\n",
       "      <td>0.170289</td>\n",
       "      <td>0.174703</td>\n",
       "      <td>0.064522</td>\n",
       "      <td>0.030396</td>\n",
       "      <td>0.120219</td>\n",
       "      <td>0.475100</td>\n",
       "      <td>6</td>\n",
       "    </tr>\n",
       "    <tr>\n",
       "      <th>326</th>\n",
       "      <td>Wine Residence Cattunar</td>\n",
       "      <td>0.159192</td>\n",
       "      <td>0.216386</td>\n",
       "      <td>0.048433</td>\n",
       "      <td>0.025714</td>\n",
       "      <td>0.092885</td>\n",
       "      <td>0.457391</td>\n",
       "      <td>6</td>\n",
       "    </tr>\n",
       "  </tbody>\n",
       "</table>\n",
       "<p>327 rows × 8 columns</p>\n",
       "</div>"
      ],
      "text/plain": [
       "                                               HOTEL         1         2  \\\n",
       "0                                           3HB Faro  0.201637  0.192898   \n",
       "221                  Mamaison Hotel Le Regina Warsaw  0.178916  0.182875   \n",
       "220       Maison Albar Hotels - Le Monumental Palace  0.167725  0.179119   \n",
       "219   Maalot Roma - Small Luxury Hotels Of The World  0.178298  0.185120   \n",
       "218                                   MYRIAD by SANA  0.182311  0.197988   \n",
       "..                                               ...       ...       ...   \n",
       "105                            Grandior Hotel Prague  0.205038  0.183712   \n",
       "104                                  Grandhotel Pupp  0.186114  0.229052   \n",
       "103  Grand-Hotel du Cap-Ferrat, A Four Seasons Hotel  0.154359  0.222501   \n",
       "121                       Hotel Can Cera Adults only  0.170289  0.174703   \n",
       "326                          Wine Residence Cattunar  0.159192  0.216386   \n",
       "\n",
       "            3         4         5         6  CLUSTER  \n",
       "0    0.045412  0.033769  0.139302  0.475833        6  \n",
       "221  0.059620  0.028977  0.123459  0.455662        6  \n",
       "220  0.058224  0.029964  0.110177  0.490919        6  \n",
       "219  0.051825  0.038756  0.177205  0.499778        6  \n",
       "218  0.061070  0.035530  0.139505  0.445517        6  \n",
       "..        ...       ...       ...       ...      ...  \n",
       "105  0.043876  0.033977  0.119716  0.450365        6  \n",
       "104  0.070596  0.033357  0.105375  0.409530        6  \n",
       "103  0.059298  0.035983  0.110198  0.450105        6  \n",
       "121  0.064522  0.030396  0.120219  0.475100        6  \n",
       "326  0.048433  0.025714  0.092885  0.457391        6  \n",
       "\n",
       "[327 rows x 8 columns]"
      ]
     },
     "execution_count": 56,
     "metadata": {},
     "output_type": "execute_result"
    }
   ],
   "source": [
    "# Import hotel cluster\n",
    "def cluster_map(row):\n",
    "    values = [i for i in row[1:]]\n",
    "    max_value = max(values)\n",
    "    return values.index(max_value)+1\n",
    "\n",
    "\n",
    "gcdf = pd.read_csv(\"lda/lda_prob_6.csv\")\n",
    "\n",
    "gcdf[\"CLUSTER\"] = gcdf.apply(cluster_map, axis=1)\n",
    "\n",
    "gcdf.sort_values(by=\"CLUSTER\")"
   ]
  },
  {
   "cell_type": "code",
   "execution_count": 26,
   "metadata": {},
   "outputs": [
    {
     "name": "stdout",
     "output_type": "stream",
     "text": [
      "\n",
      "Coherence Score:  0.3697462750071752\n"
     ]
    }
   ],
   "source": [
    "# Compute Coherence Score\n",
    "coherence_model_lda = CoherenceModel(model=lda_model, texts=reviews, dictionary=id2word, coherence='c_v')\n",
    "coherence_lda = coherence_model_lda.get_coherence()\n",
    "print('\\nCoherence Score: ', coherence_lda)"
   ]
  },
  {
   "cell_type": "code",
   "execution_count": 43,
   "metadata": {},
   "outputs": [
    {
     "name": "stderr",
     "output_type": "stream",
     "text": [
      "c:\\Users\\ariza\\anaconda3\\lib\\site-packages\\pyLDAvis\\_prepare.py:246: FutureWarning: In a future version of pandas all arguments of DataFrame.drop except for the argument 'labels' will be keyword-only\n",
      "  default_term_info = default_term_info.sort_values(\n"
     ]
    },
    {
     "data": {
      "text/html": [
       "\n",
       "<link rel=\"stylesheet\" type=\"text/css\" href=\"https://cdn.jsdelivr.net/gh/bmabey/pyLDAvis@3.3.1/pyLDAvis/js/ldavis.v1.0.0.css\">\n",
       "\n",
       "\n",
       "<div id=\"ldavis_el763223283660410086237347188\"></div>\n",
       "<script type=\"text/javascript\">\n",
       "\n",
       "var ldavis_el763223283660410086237347188_data = {\"mdsDat\": {\"x\": [-0.11316932498736013, -0.26513514171975827, -0.37168357308638067, 0.26297123127184463, 0.37232546906565306, 0.11469133945600143], \"y\": [0.34860790785823415, -0.21316455473308943, 0.09133378803463638, 0.26573305430439825, -0.09746993046204495, -0.3950402650021344], \"topics\": [1, 2, 3, 4, 5, 6], \"cluster\": [1, 1, 1, 1, 1, 1], \"Freq\": [42.57010003655725, 20.38716142271508, 19.439502622346588, 9.136454136025277, 5.896191075632251, 2.5705907067235474]}, \"tinfo\": {\"Term\": [\"room\", \"hotel\", \"staff\", \"great\", \"views\", \"pool\", \"stay\", \"city\", \"service\", \"spa\", \"river\", \"walking\", \"modern\", \"walk\", \"breakfast\", \"rooms\", \"old\", \"food\", \"us\", \"side\", \"excellent\", \"friendly\", \"restaurant\", \"beautiful\", \"large\", \"location\", \"one\", \"really\", \"amazing\", \"well\", \"excellent\", \"recommend\", \"friendly\", \"definitely\", \"highly\", \"delicious\", \"extremely\", \"professional\", \"super\", \"perfect\", \"wonderful\", \"incredible\", \"attentive\", \"fabulous\", \"outstanding\", \"restaurants\", \"everyone\", \"helpful\", \"seen\", \"class\", \"recommended\", \"lunch\", \"return\", \"options\", \"michelin\", \"designed\", \"knowledgeable\", \"wines\", \"unforgettable\", \"happy\", \"staff\", \"great\", \"service\", \"stay\", \"food\", \"amazing\", \"restaurant\", \"best\", \"beautiful\", \"location\", \"rooms\", \"fantastic\", \"place\", \"bar\", \"well\", \"quality\", \"visit\", \"special\", \"top\", \"everything\", \"experience\", \"hotel\", \"breakfast\", \"clean\", \"every\", \"wine\", \"good\", \"would\", \"comfortable\", \"stayed\", \"nice\", \"also\", \"view\", \"pool\", \"massage\", \"thank\", \"beach\", \"got\", \"imagine\", \"nothing\", \"big\", \"dont\", \"swimming\", \"size\", \"outdoor\", \"pools\", \"sauna\", \"victoria\", \"making\", \"chance\", \"holiday\", \"interesting\", \"hand\", \"ok\", \"kids\", \"heaven\", \"wellness\", \"books\", \"work\", \"unfortunately\", \"bad\", \"worn\", \"money\", \"people\", \"things\", \"it\\u2019s\", \"going\", \"sea\", \"something\", \"anything\", \"never\", \"went\", \"know\", \"reception\", \"possible\", \"different\", \"get\", \"bit\", \"spa\", \"like\", \"lot\", \"quite\", \"small\", \"little\", \"even\", \"really\", \"still\", \"one\", \"however\", \"much\", \"time\", \"us\", \"area\", \"outside\", \"guests\", \"nice\", \"also\", \"could\", \"bed\", \"bathroom\", \"shower\", \"floor\", \"water\", \"desk\", \"coffee\", \"complimentary\", \"bath\", \"offered\", \"hot\", \"left\", \"tea\", \"given\", \"taxi\", \"window\", \"pastries\", \"windows\", \"separate\", \"chair\", \"double\", \"ice\", \"tv\", \"didn\\u2019t\", \"machine\", \"checked\", \"returned\", \"glass\", \"linen\", \"mini\", \"room\", \"free\", \"balcony\", \"arrived\", \"afternoon\", \"large\", \"two\", \"booked\", \"fruit\", \"check\", \"husband\", \"needed\", \"night\", \"suite\", \"2\", \"included\", \"morning\", \"next\", \"last\", \"huge\", \"front\", \"day\", \"nights\", \"3\", \"us\", \"first\", \"provided\", \"could\", \"view\", \"tour\", \"walking\", \"senses\", \"distance\", \"valley\", \"tours\", \"within\", \"easy\", \"tram\", \"lost\", \"across\", \"stop\", \"awesome\", \"furnishings\", \"heart\", \"john\", \"memorable\", \"museum\", \"shopping\", \"ideal\", \"road\", \"attractions\", \"sites\", \"blessed\", \"fitness\", \"christmas\", \"bridge\", \"hill\", \"opposite\", \"romantic\", \"david\", \"river\", \"walk\", \"station\", \"train\", \"everywhere\", \"sun\", \"st\", \"town\", \"minute\", \"views\", \"grounds\", \"spectacular\", \"main\", \"access\", \"away\", \"minutes\", \"makes\", \"property\", \"setting\", \"guide\", \"city\", \"history\", \"centre\", \"amenities\", \"tour\", \"located\", \"close\", \"around\", \"see\", \"part\", \"many\", \"right\", \"design\", \"car\", \"building\", \"detail\", \"experiences\", \"years\", \"house\", \"parking\", \"historical\", \"perfectly\", \"since\", \"plus\", \"heritage\", \"expected\", \"fireworks\", \"unesco\", \"slow\", \"drive\", \"visual\", \"true\", \"brought\", \"delivered\", \"ago\", \"\\u2013\", \"buildings\", \"art\", \"lack\", \"dinners\", \"furniture\", \"mins\", \"chateau\", \"light\", \"opera\", \"modern\", \"new\", \"supply\", \"20\", \"interior\", \"style\", \"old\", \"unique\", \"attention\", \"eden\", \"hotels\", \"offers\", \"birthday\", \"impressed\", \"bottle\", \"touches\", \"6\", \"public\", \"wedding\", \"anniversary\", \"prices\", \"guided\", \"la\", \"relaxation\", \"facility\", \"hospitality\", \"carte\", \"trained\", \"knowledge\", \"round\", \"celebrate\", \"perhaps\", \"event\", \"low\", \"requested\", \"common\", \"rated\", \"third\", \"elegance\", \"guy\", \"understated\", \"side\", \"activities\", \"surprised\", \"others\", \"note\", \"furnished\", \"following\", \"yeatman\"], \"Freq\": [57459.0, 115813.0, 50037.0, 42162.0, 12556.0, 17851.0, 32019.0, 12804.0, 30662.0, 18253.0, 9786.0, 9727.0, 8292.0, 9646.0, 32391.0, 30122.0, 8612.0, 22866.0, 19755.0, 4695.0, 20121.0, 19711.0, 20269.0, 20861.0, 10406.0, 21096.0, 24459.0, 16608.0, 18374.0, 20539.0, 20120.380602427616, 10925.612662281781, 19709.192526035156, 7070.248486630297, 6906.9815017948395, 5980.434654013616, 5110.880220209611, 4743.69149827137, 4402.200906149729, 13310.177390281804, 13464.449620605841, 3907.277097780045, 3624.7588455877467, 3744.3152833496047, 3511.954200767993, 7165.390473839554, 3453.9550517147045, 14805.172842110158, 2992.443516476116, 2919.105463814611, 2854.9673170829124, 2855.7447652796086, 4370.583861332867, 2500.370351494317, 2476.792869639659, 2299.8594868272353, 2154.944656542833, 2145.9366070740894, 2091.9402628640905, 3118.0270697370656, 49939.71156165058, 42131.541400059265, 30589.702147867094, 31897.736137380885, 22845.992484588103, 18356.098039934954, 20225.319950495003, 15731.045124210585, 20770.694644763313, 20945.494289194274, 29770.664052059303, 9226.893465945857, 14152.667790807609, 12117.238459927836, 20331.501252114173, 7723.227247489159, 7624.275948200115, 8090.812772769044, 8170.783781907966, 13069.491209962249, 13154.689387245018, 111616.99360073385, 31749.493681547403, 11729.93958100481, 11868.591668238794, 13849.285864357013, 26684.357114192808, 16635.391847715826, 13283.109675323116, 16497.499004813897, 18184.30428308585, 13096.39529467696, 12176.18461901814, 17850.484914189674, 4206.168533267734, 4141.313841680821, 3879.714993507246, 3866.7359837150943, 3294.918231003009, 3120.6927053831273, 5802.819870104696, 3214.3545296020015, 2975.4030249904276, 2761.3122503956724, 2676.409739487242, 2646.3094077060287, 2396.591692028376, 2716.192902347354, 2147.645664193309, 2128.385597300083, 2023.7440205710031, 1966.1932300115757, 1936.3699143789834, 1869.4791345087508, 1795.5017173372128, 1833.9225249657084, 1786.0837560128641, 1810.8189079877695, 2716.9732102115377, 1596.1648933454305, 1536.1510295692208, 1583.9647220955987, 1457.0501850152775, 4274.892439094573, 3613.1118309769813, 3494.288359623692, 2744.552969313719, 3327.7068340652468, 2142.788282022945, 1998.512041896733, 4943.2763755752485, 5044.926021171563, 2515.5135099917134, 6669.398477715444, 2746.636663625407, 3292.5755442242234, 10032.325936391, 5400.016056318291, 15775.877672542489, 10184.532008658449, 4663.1875810743795, 4675.616084941762, 5871.637812530783, 5632.566215345585, 7808.696544999264, 10874.192509357492, 3338.8881775350924, 14211.187024875211, 3754.9546781880495, 6884.7336699735915, 8547.914333502422, 10406.080669211962, 6428.140137778548, 3831.3766551208923, 3668.331689332529, 5558.356841229233, 5037.521030799883, 3979.5599200363104, 8710.038715537068, 8297.471380164847, 6126.415561369911, 5627.254531026194, 5354.9374640898, 4792.026141908803, 4724.090713556968, 3920.7230865199904, 3830.663820551439, 3419.9551759629985, 2972.7980721123467, 2918.520565164065, 2357.567686618963, 2347.1072737727936, 2119.475001309434, 2026.80292046724, 2017.1087739120326, 1882.3787237024865, 1861.0118122220406, 1894.6158207742378, 1820.6470260973208, 1749.0526855462972, 1714.7580659561463, 1701.5146606178396, 1662.9269323248893, 1651.520735414571, 1660.8050359818774, 3253.3447493481845, 1704.13756285855, 1624.396739384844, 56867.66185942841, 9232.576285044841, 5042.776418054334, 4767.851953534019, 2801.5160737265987, 10190.088594638011, 8961.710304541455, 4855.610926204935, 2821.1993289221987, 4766.122156884993, 2522.9069181801456, 2110.785294989844, 9283.908280809339, 4454.115036598857, 7864.931805210843, 3162.963808452028, 4320.75369265793, 5996.284042921605, 3493.8085263279177, 4398.332270320353, 4941.449189464912, 10992.992202789872, 6568.253820729447, 5119.318238545904, 9159.659565392472, 5658.215275800451, 3765.586479535468, 5452.048920457277, 5885.648042559582, 4218.1098758630715, 9726.733030956928, 4033.781008242956, 3376.8723615807157, 3249.2898273075293, 3145.580181475903, 2806.861759311609, 3992.8180282553067, 1825.8345255961551, 1823.473856613482, 5753.895702161483, 1499.0474554627801, 1479.1844031479927, 1550.4748856157382, 1308.5326538048032, 1465.555771558422, 1236.8563062604865, 1215.7512863977634, 1212.849703936875, 1174.6219322758475, 1119.5110051291354, 1047.6272825425294, 1047.4174492016864, 1384.1320946554936, 978.6901819581727, 946.1275593144012, 906.1705502135221, 977.2821914614779, 821.6317700610313, 799.0234128362762, 801.1178832041226, 9727.251380766273, 9576.366634501519, 2683.899948355817, 1933.5076510675397, 1455.5514622045603, 1217.6502342342048, 2174.2825422509222, 5309.864823508478, 3173.1401665626704, 12003.633032110569, 2751.492096242109, 2619.6923507998604, 3953.2429333940377, 1694.8907948288947, 4056.5894534107156, 3994.280715894824, 2146.696042658324, 5748.864267392849, 1934.3742013077576, 2006.4973446142294, 9115.838114253893, 2403.2235353817696, 2400.222479625829, 2946.734030426309, 4357.238312985195, 3280.031553093943, 3063.402421491593, 3843.158919412381, 2863.583837771213, 2815.0545660204434, 2860.7100867618087, 2503.1175506723753, 4359.642412614162, 3512.6636970301793, 3567.869251996404, 2630.1440229171835, 2531.924387118298, 2483.330507925844, 2269.7831031523756, 2168.112468587261, 2155.574240128333, 1895.511782338495, 1847.033034647535, 1747.500831740577, 1717.8915252250351, 1505.5333971328425, 1547.8608817376, 1587.6239707923553, 1323.3551337353465, 1232.289968879675, 1491.6061116411295, 1009.7156198060222, 1009.8882037398558, 1008.3707569519602, 953.6317338672806, 930.0928377545596, 890.2364309916547, 864.4496376396322, 865.1575377280486, 846.0442920000088, 989.9882449713436, 818.7212976637352, 1607.7131713005274, 1640.9697440631915, 1532.3977918760602, 8024.4072881422735, 4412.829993388851, 1527.0074618927415, 1926.6540602636894, 1245.1323439429427, 1891.5942516907212, 6572.220117553895, 2354.3116090196986, 1577.3912053234756, 1292.257276625689, 1455.730410537891, 2286.8561928537233, 2146.4412189060727, 1405.3373120946226, 1374.224569473388, 1335.2063024655365, 1445.2412934671286, 1159.3705597588853, 1136.6396945978956, 1128.9946279383232, 1090.8248247021459, 992.6915463696432, 939.6189369349644, 939.1456469074437, 914.7234862556252, 880.2157028524265, 814.95142885184, 807.1178860487405, 811.0967829418985, 770.2132690667149, 693.794566839239, 614.7271201926097, 596.8228252329407, 556.6978599049962, 540.7718974987755, 537.1439170007613, 533.8666552820133, 508.43981550705695, 502.0975315224031, 447.5226955880563, 416.9332398114458, 4680.712293248632, 1901.2949676952894, 1083.656407540018, 1073.5502327373388, 947.3049100812576, 693.0845329900192, 569.3839099933881, 878.5491093463326], \"Total\": [57459.0, 115813.0, 50037.0, 42162.0, 12556.0, 17851.0, 32019.0, 12804.0, 30662.0, 18253.0, 9786.0, 9727.0, 8292.0, 9646.0, 32391.0, 30122.0, 8612.0, 22866.0, 19755.0, 4695.0, 20121.0, 19711.0, 20269.0, 20861.0, 10406.0, 21096.0, 24459.0, 16608.0, 18374.0, 20539.0, 20121.211895589342, 10926.439747298635, 19711.479105738894, 7071.075153017022, 6907.809001323138, 5981.280247513793, 5111.708136109478, 4744.544195646465, 4403.028557499043, 13312.683342657778, 13467.16948299918, 3908.109333575577, 3625.58586327415, 3745.1842602207066, 3512.782368475085, 7167.105944752834, 3454.7836115625323, 14808.79218003398, 2993.281081598374, 2919.935389253167, 2855.794762964124, 2856.5750144588615, 4371.936292408593, 2501.1998115436313, 2477.6279928643476, 2300.689958795903, 2155.7786792501306, 2146.7708601017403, 2092.797405271918, 3119.361717094373, 50037.248377502685, 42162.35526348818, 30662.072772568943, 32019.45497731717, 22866.759870863756, 18374.15684243934, 20269.790251651542, 15746.60220796903, 20861.550920310812, 21096.777525386075, 30122.69258954365, 9234.474548152215, 14230.69229808762, 12165.320827364074, 20539.732217851786, 7728.1501051704945, 7628.394427056859, 8100.217094651123, 8181.758272012542, 13154.051896360177, 13246.362643082619, 115813.84196003561, 32391.40606941147, 11847.139911598204, 11991.444825669825, 14348.878436459807, 29026.558459927353, 18090.47595220536, 14117.176433379876, 19163.052328616366, 24131.318673220754, 18558.441369814947, 19157.40461634903, 17851.32636848839, 4207.013762255931, 4142.153790493176, 3880.553814296583, 3867.574028480032, 3295.7927671692214, 3121.5311591475433, 5804.379349049943, 3215.2294433351617, 2976.2423840690562, 2762.151474430661, 2677.2567008651818, 2647.1555276928348, 2397.4295727659814, 2717.157700835557, 2148.4843593364244, 2129.2365642014697, 2024.5830754139774, 1967.0405874846665, 1937.2267270347186, 1870.3211943818733, 1796.341184347005, 1834.7852763119056, 1786.9244922909054, 1811.693019976726, 2718.3191799155843, 1597.0033864255104, 1536.9885902564347, 1584.8607809549242, 1457.888880654521, 4281.376463553576, 3619.375929976931, 3499.4074098259525, 2749.3817720138354, 3344.167429171053, 2146.077498679597, 2000.831610003672, 5000.589124938899, 5128.961329538266, 2527.739123130946, 6863.317962040303, 2769.1800591715405, 3341.0761736903687, 10584.654636334817, 5698.671431481642, 18253.875682069178, 11673.184451575138, 5048.29951808527, 5319.394169684615, 7049.926649737199, 6713.366627429191, 10289.431184876767, 16608.58241409961, 3552.7648620775294, 24459.84107175878, 4178.808925783359, 10291.085673746453, 14303.010042004105, 19755.823796158325, 12787.569977276817, 4760.70617214427, 4482.155352918043, 24131.318673220754, 18558.441369814947, 13446.916425970896, 8710.871713002762, 8298.298807679294, 6127.243122503777, 5628.082828425078, 5355.766710222925, 4792.858233499335, 4724.918273262723, 3921.55610237129, 3831.49463888127, 3420.7868707834177, 2973.62635770154, 2919.351264156278, 2358.395495127916, 2347.93705312468, 2120.305740317111, 2027.631586187225, 2017.9518471817764, 1883.2066040595512, 1861.8397676766197, 1895.460666163797, 1821.4747156099538, 1749.891106519152, 1715.5848995562833, 1702.3453406212052, 1663.7552896949, 1652.3475405235495, 1661.6369555515655, 3254.9760410257973, 1704.9952396522926, 1625.227282398358, 57459.7470289474, 9268.40185728188, 5048.396320526999, 4775.611960581482, 2803.8492589729594, 10406.756566964532, 9133.895856147454, 4945.2980640944115, 2844.7082454721867, 4866.550152989793, 2543.9500385886804, 2117.917966492887, 9762.551290327376, 4578.763913227686, 8312.998640110274, 3224.17759701738, 4518.648785130921, 6502.589816559534, 3640.80055169374, 4718.704487085987, 5452.481655464239, 13998.187269302105, 9117.767902805006, 6847.740414979919, 19755.823796158325, 9293.1117051148, 4351.705965525861, 13446.916425970896, 19157.40461634903, 9033.980473231086, 9727.576871479278, 4034.736002975572, 3377.708540889103, 3250.162554993419, 3146.431090455301, 2807.6986616051795, 3994.0998142737685, 1826.6715260855829, 1824.3346204127579, 5756.917697267771, 1499.886992392046, 1480.025104064758, 1551.3912261679975, 1309.3690598067465, 1466.492956794828, 1237.697988143371, 1216.5871503284154, 1213.6846730269958, 1175.4609172494418, 1120.3490842823996, 1048.4624609438554, 1048.2555292541733, 1385.2897556584242, 979.5308713850493, 946.9649912842694, 907.0217245925243, 978.250210157485, 822.4703153542488, 799.8620832705419, 801.9875645590676, 9786.097330558694, 9646.27692653979, 2690.633685712365, 1942.7745017265158, 1459.1691105197815, 1219.0215463414934, 2191.7625282061977, 5405.059029784475, 3227.769168446007, 12556.61147728374, 2797.5238397170397, 2667.66835479827, 4087.4826406707953, 1709.1393403873637, 4215.561025769739, 4167.045999506144, 2221.364910297699, 6503.941495760552, 2022.8741814744637, 2114.8839855952724, 12804.820435184438, 2676.532478821114, 2729.0835724278413, 4374.505577048704, 9033.980473231086, 5676.393342645618, 5005.991459624657, 8743.955783615735, 4607.110462501474, 4502.690728141475, 8632.139226371573, 4484.477715061284, 4360.467359324944, 3513.6712611760536, 3568.970122304179, 2630.9697954018616, 2532.7590135880164, 2484.153658860464, 2270.6063197416934, 2168.941874279696, 2156.4220148439917, 1896.3350816973493, 1847.8576957142784, 1748.3272087697273, 1718.7456470416907, 1506.358952550478, 1548.794059134575, 1588.5932573603784, 1324.183752965259, 1233.1171539344687, 1492.8081806910575, 1010.5411595079427, 1010.7160260743784, 1009.1992699349673, 954.4552694903667, 930.9187247757181, 891.0613332966383, 865.2730360365844, 865.984856572079, 846.8775935170211, 990.9803795699504, 819.5456910061063, 1612.5851358275381, 1651.0223021181835, 1541.2621921695877, 8292.369920947654, 4586.888105126943, 1548.6646465222889, 2027.2207268552615, 1270.559930707345, 2056.190782318011, 8612.1240250277, 3512.010595681581, 2463.538569166181, 1635.652147629073, 9698.388197738257, 2287.686279382754, 2147.2657911033343, 1406.1645787870982, 1375.051577177224, 1336.0370991602379, 1446.1680066687557, 1160.1973874688147, 1137.4641106984052, 1129.8191799846336, 1091.653153504354, 993.5316708597768, 940.4437523224509, 939.9754483006825, 915.5610987427591, 881.0418305640467, 815.7767712155786, 807.949665720158, 811.9386187676749, 771.0433593144944, 694.6181757138484, 615.5555751555602, 597.649794668927, 557.5267021513027, 541.598122520117, 537.9720549066507, 534.6965459497944, 509.2674597551809, 502.924726497551, 448.3528679594816, 417.7732670272724, 4695.167080825641, 1918.4538805675218, 1107.0786282872223, 1103.3356576023014, 978.6091898008553, 704.1180343977923, 578.8592474061206, 7314.590763944887], \"Category\": [\"Default\", \"Default\", \"Default\", \"Default\", \"Default\", \"Default\", \"Default\", \"Default\", \"Default\", \"Default\", \"Default\", \"Default\", \"Default\", \"Default\", \"Default\", \"Default\", \"Default\", \"Default\", \"Default\", \"Default\", \"Default\", \"Default\", \"Default\", \"Default\", \"Default\", \"Default\", \"Default\", \"Default\", \"Default\", \"Default\", \"Topic1\", \"Topic1\", \"Topic1\", \"Topic1\", \"Topic1\", \"Topic1\", \"Topic1\", \"Topic1\", \"Topic1\", \"Topic1\", \"Topic1\", \"Topic1\", \"Topic1\", \"Topic1\", \"Topic1\", \"Topic1\", \"Topic1\", \"Topic1\", \"Topic1\", \"Topic1\", \"Topic1\", \"Topic1\", \"Topic1\", \"Topic1\", \"Topic1\", \"Topic1\", \"Topic1\", \"Topic1\", \"Topic1\", \"Topic1\", \"Topic1\", \"Topic1\", \"Topic1\", \"Topic1\", \"Topic1\", \"Topic1\", \"Topic1\", \"Topic1\", \"Topic1\", \"Topic1\", \"Topic1\", \"Topic1\", \"Topic1\", \"Topic1\", \"Topic1\", \"Topic1\", \"Topic1\", \"Topic1\", \"Topic1\", \"Topic1\", \"Topic1\", \"Topic1\", \"Topic1\", \"Topic1\", \"Topic1\", \"Topic1\", \"Topic1\", \"Topic1\", \"Topic1\", \"Topic1\", \"Topic1\", \"Topic1\", \"Topic1\", \"Topic2\", \"Topic2\", \"Topic2\", \"Topic2\", \"Topic2\", \"Topic2\", \"Topic2\", \"Topic2\", \"Topic2\", \"Topic2\", \"Topic2\", \"Topic2\", \"Topic2\", \"Topic2\", \"Topic2\", \"Topic2\", \"Topic2\", \"Topic2\", \"Topic2\", \"Topic2\", \"Topic2\", \"Topic2\", \"Topic2\", \"Topic2\", \"Topic2\", \"Topic2\", \"Topic2\", \"Topic2\", \"Topic2\", \"Topic2\", \"Topic2\", \"Topic2\", \"Topic2\", \"Topic2\", \"Topic2\", \"Topic2\", \"Topic2\", \"Topic2\", \"Topic2\", \"Topic2\", \"Topic2\", \"Topic2\", \"Topic2\", \"Topic2\", \"Topic2\", \"Topic2\", \"Topic2\", \"Topic2\", \"Topic2\", \"Topic2\", \"Topic2\", \"Topic2\", \"Topic2\", \"Topic2\", \"Topic2\", \"Topic2\", \"Topic2\", \"Topic2\", \"Topic2\", \"Topic2\", \"Topic2\", \"Topic2\", \"Topic2\", \"Topic2\", \"Topic2\", \"Topic3\", \"Topic3\", \"Topic3\", \"Topic3\", \"Topic3\", \"Topic3\", \"Topic3\", \"Topic3\", \"Topic3\", \"Topic3\", \"Topic3\", \"Topic3\", \"Topic3\", \"Topic3\", \"Topic3\", \"Topic3\", \"Topic3\", \"Topic3\", \"Topic3\", \"Topic3\", \"Topic3\", \"Topic3\", \"Topic3\", \"Topic3\", \"Topic3\", \"Topic3\", \"Topic3\", \"Topic3\", \"Topic3\", \"Topic3\", \"Topic3\", \"Topic3\", \"Topic3\", \"Topic3\", \"Topic3\", \"Topic3\", \"Topic3\", \"Topic3\", \"Topic3\", \"Topic3\", \"Topic3\", \"Topic3\", \"Topic3\", \"Topic3\", \"Topic3\", \"Topic3\", \"Topic3\", \"Topic3\", \"Topic3\", \"Topic3\", \"Topic3\", \"Topic3\", \"Topic3\", \"Topic3\", \"Topic3\", \"Topic3\", \"Topic3\", \"Topic3\", \"Topic3\", \"Topic3\", \"Topic4\", \"Topic4\", \"Topic4\", \"Topic4\", \"Topic4\", \"Topic4\", \"Topic4\", \"Topic4\", \"Topic4\", \"Topic4\", \"Topic4\", \"Topic4\", \"Topic4\", \"Topic4\", \"Topic4\", \"Topic4\", \"Topic4\", \"Topic4\", \"Topic4\", \"Topic4\", \"Topic4\", \"Topic4\", \"Topic4\", \"Topic4\", \"Topic4\", \"Topic4\", \"Topic4\", \"Topic4\", \"Topic4\", \"Topic4\", \"Topic4\", \"Topic4\", \"Topic4\", \"Topic4\", \"Topic4\", \"Topic4\", \"Topic4\", \"Topic4\", \"Topic4\", \"Topic4\", \"Topic4\", \"Topic4\", \"Topic4\", \"Topic4\", \"Topic4\", \"Topic4\", \"Topic4\", \"Topic4\", \"Topic4\", \"Topic4\", \"Topic4\", \"Topic4\", \"Topic4\", \"Topic4\", \"Topic4\", \"Topic4\", \"Topic4\", \"Topic4\", \"Topic4\", \"Topic4\", \"Topic4\", \"Topic4\", \"Topic5\", \"Topic5\", \"Topic5\", \"Topic5\", \"Topic5\", \"Topic5\", \"Topic5\", \"Topic5\", \"Topic5\", \"Topic5\", \"Topic5\", \"Topic5\", \"Topic5\", \"Topic5\", \"Topic5\", \"Topic5\", \"Topic5\", \"Topic5\", \"Topic5\", \"Topic5\", \"Topic5\", \"Topic5\", \"Topic5\", \"Topic5\", \"Topic5\", \"Topic5\", \"Topic5\", \"Topic5\", \"Topic5\", \"Topic5\", \"Topic5\", \"Topic5\", \"Topic5\", \"Topic5\", \"Topic5\", \"Topic5\", \"Topic5\", \"Topic5\", \"Topic5\", \"Topic5\", \"Topic5\", \"Topic5\", \"Topic5\", \"Topic5\", \"Topic6\", \"Topic6\", \"Topic6\", \"Topic6\", \"Topic6\", \"Topic6\", \"Topic6\", \"Topic6\", \"Topic6\", \"Topic6\", \"Topic6\", \"Topic6\", \"Topic6\", \"Topic6\", \"Topic6\", \"Topic6\", \"Topic6\", \"Topic6\", \"Topic6\", \"Topic6\", \"Topic6\", \"Topic6\", \"Topic6\", \"Topic6\", \"Topic6\", \"Topic6\", \"Topic6\", \"Topic6\", \"Topic6\", \"Topic6\", \"Topic6\", \"Topic6\", \"Topic6\", \"Topic6\", \"Topic6\", \"Topic6\", \"Topic6\", \"Topic6\"], \"logprob\": [30.0, 29.0, 28.0, 27.0, 26.0, 25.0, 24.0, 23.0, 22.0, 21.0, 20.0, 19.0, 18.0, 17.0, 16.0, 15.0, 14.0, 13.0, 12.0, 11.0, 10.0, 9.0, 8.0, 7.0, 6.0, 5.0, 4.0, 3.0, 2.0, 1.0, -4.4696, -5.0802, -4.4903, -5.5154, -5.5388, -5.6829, -5.84, -5.9145, -5.9892, -4.8828, -4.8713, -6.1085, -6.1836, -6.1511, -6.2152, -5.5021, -6.2318, -4.7764, -6.3753, -6.4001, -6.4223, -6.422, -5.9964, -6.5549, -6.5644, -6.6385, -6.7036, -6.7078, -6.7333, -6.3341, -3.5605, -3.7305, -4.0507, -4.0088, -4.3426, -4.5614, -4.4644, -4.7157, -4.4378, -4.4294, -4.0778, -5.2492, -4.8214, -4.9767, -4.4592, -5.4271, -5.44, -5.3806, -5.3708, -4.9011, -4.8946, -2.7563, -4.0135, -5.0092, -4.9974, -4.8431, -4.1873, -4.6598, -4.8849, -4.6681, -4.5708, -4.899, -4.9719, -3.8531, -5.2985, -5.3141, -5.3793, -5.3827, -5.5427, -5.597, -4.9768, -5.5675, -5.6447, -5.7194, -5.7506, -5.7619, -5.861, -5.7359, -5.9707, -5.9797, -6.0301, -6.059, -6.0743, -6.1094, -6.1498, -6.1286, -6.1551, -6.1413, -5.7356, -6.2675, -6.3058, -6.2752, -6.3587, -5.2823, -5.4505, -5.484, -5.7255, -5.5328, -5.973, -6.0427, -5.1371, -5.1167, -5.8126, -4.8376, -5.7247, -5.5434, -4.4293, -5.0487, -3.9766, -4.4142, -5.1954, -5.1927, -4.965, -5.0065, -4.6799, -4.3487, -5.5295, -4.0811, -5.412, -4.8058, -4.5894, -4.3927, -4.8744, -5.3919, -5.4354, -5.0198, -5.1182, -5.3539, -4.523, -4.5715, -4.8749, -4.9599, -5.0095, -5.1205, -5.1348, -5.3212, -5.3445, -5.4579, -5.598, -5.6164, -5.8299, -5.8343, -5.9363, -5.981, -5.9858, -6.055, -6.0664, -6.0485, -6.0883, -6.1284, -6.1482, -6.156, -6.1789, -6.1858, -6.1802, -5.5078, -6.1544, -6.2024, -2.6468, -4.4648, -5.0695, -5.1256, -5.6573, -4.3661, -4.4945, -5.1074, -5.6503, -5.126, -5.7621, -5.9404, -4.4592, -5.1937, -4.6251, -5.536, -5.2241, -4.8964, -5.4365, -5.2063, -5.0898, -4.2902, -4.8053, -5.0545, -4.4727, -4.9544, -5.3616, -4.9915, -4.915, -5.2481, -3.6576, -4.5378, -4.7155, -4.754, -4.7865, -4.9004, -4.548, -5.3304, -5.3317, -4.1826, -5.5276, -5.541, -5.4939, -5.6636, -5.5502, -5.7199, -5.7371, -5.7395, -5.7715, -5.8196, -5.8859, -5.8861, -5.6074, -5.954, -5.9878, -6.031, -5.9554, -6.1289, -6.1568, -6.1542, -3.6575, -3.6732, -4.9452, -5.2731, -5.5571, -5.7355, -5.1558, -4.2629, -4.7777, -3.4473, -4.9203, -4.9694, -4.5579, -5.4048, -4.5321, -4.5476, -5.1685, -4.1835, -5.2727, -5.2361, -3.7225, -5.0557, -5.0569, -4.8518, -4.4606, -4.7446, -4.8129, -4.5862, -4.8804, -4.8975, -4.8814, -5.0149, -4.0221, -4.2381, -4.2225, -4.5275, -4.5655, -4.5849, -4.6748, -4.7206, -4.7264, -4.855, -4.8809, -4.9363, -4.9534, -5.0854, -5.0576, -5.0323, -5.2143, -5.2856, -5.0946, -5.4848, -5.4847, -5.4862, -5.542, -5.567, -5.6108, -5.6402, -5.6393, -5.6617, -5.5046, -5.6945, -5.0197, -4.9992, -5.0677, -3.412, -4.01, -5.0712, -4.8387, -5.2753, -4.8571, -3.6116, -4.6383, -5.0387, -5.2381, -5.119, -3.8371, -3.9005, -4.3241, -4.3464, -4.3752, -4.2961, -4.5165, -4.5363, -4.543, -4.5774, -4.6717, -4.7266, -4.7271, -4.7535, -4.7919, -4.869, -4.8786, -4.8737, -4.9254, -5.0299, -5.1509, -5.1805, -5.2501, -5.2791, -5.2858, -5.2919, -5.3407, -5.3533, -5.4684, -5.5392, -3.1209, -4.0218, -4.584, -4.5934, -4.7185, -5.0309, -5.2275, -4.7938], \"loglift\": [30.0, 29.0, 28.0, 27.0, 26.0, 25.0, 24.0, 23.0, 22.0, 21.0, 20.0, 19.0, 18.0, 17.0, 16.0, 15.0, 14.0, 13.0, 12.0, 11.0, 10.0, 9.0, 8.0, 7.0, 6.0, 5.0, 4.0, 3.0, 2.0, 1.0, 0.854, 0.8539, 0.8539, 0.8539, 0.8539, 0.8539, 0.8539, 0.8538, 0.8538, 0.8538, 0.8538, 0.8538, 0.8538, 0.8538, 0.8538, 0.8538, 0.8538, 0.8538, 0.8537, 0.8537, 0.8537, 0.8537, 0.8537, 0.8537, 0.8537, 0.8537, 0.8536, 0.8536, 0.8536, 0.8536, 0.8521, 0.8533, 0.8517, 0.8502, 0.8531, 0.853, 0.8518, 0.853, 0.8497, 0.8468, 0.8423, 0.8532, 0.8485, 0.8501, 0.8438, 0.8534, 0.8535, 0.8529, 0.8527, 0.8476, 0.8471, 0.8171, 0.834, 0.8441, 0.8437, 0.8186, 0.7699, 0.7702, 0.7931, 0.7042, 0.5711, 0.5054, 0.4008, 1.5902, 1.5901, 1.5901, 1.59, 1.59, 1.59, 1.59, 1.59, 1.59, 1.59, 1.59, 1.5899, 1.5899, 1.5899, 1.5899, 1.5899, 1.5899, 1.5899, 1.5898, 1.5898, 1.5898, 1.5898, 1.5898, 1.5898, 1.5898, 1.5898, 1.5897, 1.5897, 1.5897, 1.5897, 1.5887, 1.5885, 1.5888, 1.5885, 1.5853, 1.5887, 1.5891, 1.5787, 1.5737, 1.5854, 1.5616, 1.5821, 1.5756, 1.5367, 1.5364, 1.4444, 1.4538, 1.5109, 1.4613, 1.4074, 1.4147, 1.3144, 1.1667, 1.5282, 1.0473, 1.4833, 1.1883, 1.0755, 0.9492, 0.9025, 1.3731, 1.3899, 0.1221, 0.2863, 0.3727, 1.6378, 1.6378, 1.6377, 1.6377, 1.6377, 1.6377, 1.6377, 1.6377, 1.6376, 1.6376, 1.6376, 1.6376, 1.6375, 1.6375, 1.6375, 1.6375, 1.6374, 1.6374, 1.6374, 1.6374, 1.6374, 1.6374, 1.6374, 1.6374, 1.6374, 1.6374, 1.6374, 1.6374, 1.6374, 1.6374, 1.6275, 1.634, 1.6367, 1.6362, 1.637, 1.6168, 1.6188, 1.6196, 1.6296, 1.617, 1.6296, 1.6345, 1.5876, 1.6103, 1.5825, 1.6187, 1.5931, 1.5568, 1.5967, 1.5676, 1.5395, 1.3962, 1.3099, 1.347, 0.8692, 1.1417, 1.4932, 0.7351, 0.4577, 0.8763, 2.3928, 2.3927, 2.3927, 2.3926, 2.3926, 2.3926, 2.3926, 2.3924, 2.3924, 2.3924, 2.3923, 2.3923, 2.3923, 2.3923, 2.3923, 2.3922, 2.3922, 2.3922, 2.3922, 2.3921, 2.3921, 2.3921, 2.3921, 2.392, 2.392, 2.392, 2.3919, 2.3919, 2.3918, 2.3918, 2.3869, 2.3856, 2.3904, 2.3881, 2.3904, 2.3918, 2.3849, 2.3751, 2.3758, 2.3479, 2.3763, 2.3747, 2.3595, 2.3845, 2.3545, 2.3506, 2.3587, 2.2695, 2.3482, 2.3403, 2.0531, 2.2852, 2.2645, 1.9978, 1.6637, 1.8444, 1.9018, 1.5708, 1.9174, 1.9232, 1.2885, 1.8098, 2.8307, 2.8306, 2.8306, 2.8305, 2.8305, 2.8305, 2.8305, 2.8305, 2.8305, 2.8304, 2.8304, 2.8304, 2.8304, 2.8303, 2.8303, 2.8303, 2.8302, 2.8302, 2.8301, 2.83, 2.83, 2.83, 2.83, 2.83, 2.8299, 2.8299, 2.8299, 2.8299, 2.8299, 2.8299, 2.8278, 2.8248, 2.8251, 2.798, 2.7922, 2.8168, 2.78, 2.8106, 2.7474, 2.5605, 2.4309, 2.385, 2.5952, 0.9344, 3.6607, 3.6607, 3.6604, 3.6604, 3.6604, 3.6604, 3.6603, 3.6603, 3.6603, 3.6603, 3.6602, 3.6602, 3.6602, 3.6601, 3.6601, 3.66, 3.66, 3.66, 3.66, 3.6598, 3.6597, 3.6596, 3.6595, 3.6595, 3.6595, 3.6595, 3.6594, 3.6594, 3.6592, 3.659, 3.658, 3.6521, 3.6397, 3.6337, 3.6285, 3.6452, 3.6445, 1.5417]}, \"token.table\": {\"Topic\": [1, 2, 3, 4, 5, 2, 3, 5, 1, 2, 3, 6, 1, 2, 4, 3, 4, 2, 6, 2, 3, 5, 1, 2, 3, 4, 5, 1, 2, 2, 3, 4, 5, 6, 2, 5, 1, 2, 3, 4, 5, 1, 2, 3, 4, 5, 2, 3, 5, 1, 5, 1, 4, 1, 2, 3, 4, 5, 4, 2, 1, 2, 3, 1, 2, 3, 3, 3, 2, 1, 2, 3, 4, 3, 1, 2, 2, 3, 6, 1, 2, 3, 4, 5, 4, 2, 3, 2, 6, 1, 2, 3, 4, 4, 5, 5, 5, 5, 6, 6, 1, 4, 3, 2, 1, 2, 4, 5, 6, 2, 3, 3, 4, 1, 4, 1, 1, 2, 3, 1, 4, 3, 1, 2, 3, 4, 6, 3, 1, 2, 3, 4, 5, 4, 1, 2, 3, 4, 1, 1, 5, 5, 1, 3, 5, 3, 1, 2, 5, 5, 4, 2, 3, 5, 1, 4, 1, 2, 3, 4, 5, 6, 6, 1, 2, 3, 4, 5, 6, 1, 2, 3, 4, 5, 1, 1, 2, 3, 4, 1, 4, 1, 5, 1, 2, 4, 5, 5, 1, 1, 6, 1, 2, 5, 1, 2, 3, 4, 4, 3, 3, 6, 1, 2, 2, 3, 1, 2, 3, 1, 2, 3, 5, 2, 3, 4, 6, 4, 5, 1, 2, 3, 4, 3, 2, 3, 2, 4, 1, 2, 3, 2, 1, 2, 3, 1, 4, 1, 2, 3, 4, 5, 3, 4, 6, 6, 2, 1, 4, 4, 2, 1, 3, 4, 5, 1, 4, 5, 1, 4, 2, 6, 3, 1, 2, 3, 4, 5, 1, 2, 3, 4, 5, 5, 1, 2, 3, 1, 2, 3, 1, 3, 3, 4, 2, 6, 1, 3, 1, 2, 1, 5, 2, 4, 5, 4, 2, 1, 2, 3, 5, 6, 1, 6, 5, 1, 3, 4, 1, 2, 3, 3, 1, 2, 5, 1, 2, 3, 4, 5, 3, 1, 2, 3, 4, 1, 4, 5, 1, 4, 4, 1, 2, 6, 1, 3, 1, 2, 3, 4, 1, 2, 4, 2, 1, 2, 4, 5, 2, 4, 1, 3, 5, 1, 3, 4, 3, 4, 5, 1, 4, 5, 2, 1, 2, 3, 1, 2, 3, 4, 2, 3, 5, 1, 2, 3, 5, 1, 2, 5, 2, 3, 5, 1, 2, 3, 1, 2, 3, 1, 3, 4, 2, 4, 6, 2, 3, 6, 2, 1, 2, 4, 5, 1, 2, 3, 4, 5, 4, 5, 4, 1, 1, 2, 6, 2, 1, 2, 3, 4, 1, 5, 2, 3, 4, 5, 3, 1, 2, 5, 1, 2, 4, 5, 6, 1, 2, 4, 5, 2, 2, 2, 5, 6, 1, 1, 2, 4, 5, 1, 3, 6, 1, 2, 1, 2, 3, 4, 6, 1, 2, 3, 4, 1, 2, 5, 1, 1, 6, 6, 1, 2, 1, 5, 1, 3, 3, 1, 2, 3, 4, 5, 1, 4, 4, 4, 1, 2, 3, 4, 1, 2, 3, 4, 5, 6, 2, 1, 2, 1, 2, 3, 4, 1, 4, 3, 1, 2, 3, 4, 5, 1, 4, 4, 3, 2, 6, 5, 4, 2, 5, 1, 2, 3, 4, 5, 2, 3, 5, 1, 2, 1, 4, 1, 4, 1, 3, 4, 1, 2, 3, 4, 3, 4, 1, 2, 3, 4, 1, 2, 3, 4, 5, 1, 2, 3, 5, 4, 1, 5, 1, 2, 3, 1, 4, 1, 1, 5, 3, 6, 2, 3, 3, 2, 1, 2, 6, 1, 2, 3, 4, 1, 4, 5, 6, 1, 3, 4, 4, 1, 4, 5, 3, 4, 6, 4, 5, 3, 1, 2, 3, 4, 6, 5, 1, 2, 1, 2, 4, 5, 1, 2, 3, 4, 4, 2, 1, 2, 3, 4, 1, 2, 4, 1, 4, 5, 1, 3, 4, 4, 3, 6, 1, 2, 3, 4, 5, 2, 1, 2, 3, 4, 3, 3, 1, 2, 3, 6, 1, 4, 1, 2, 4, 1, 2, 2, 1, 2, 3, 5, 1, 2, 3, 4, 5, 6, 5], \"Freq\": [0.014314930767078946, 0.039215692689644845, 0.9461086595216462, 0.00024058707171561254, 0.00012029353585780627, 0.01183886869449591, 0.03748975086590371, 0.9505624989289008, 0.1688148104258111, 0.0835312037747093, 0.7475458603544352, 0.9991923437226038, 0.0011701796060388586, 0.007021077636233152, 0.9917272161179327, 0.00034740812795520747, 0.999493184127132, 0.008340049329341626, 0.990902110942402, 0.0007133051085394631, 0.9993404570637878, 0.9995230059438932, 0.7056627083619461, 0.27146676273117626, 0.014171448709467915, 0.008567529828157408, 0.00010776767079443282, 0.9990118271768855, 0.0009252125224453614, 0.008458098715000919, 0.31729300044381825, 0.6736761327866948, 0.0006857917877027772, 0.9992749459390088, 0.9990845756361932, 0.0009995843678201033, 0.31452418302671975, 0.5026756460705506, 0.15225723131601773, 0.029012548956467685, 0.0014858178710859462, 0.07033429893966021, 0.40004776860314056, 0.08954757084512838, 0.4395035948375841, 0.000457458854892099, 0.0014657807329780778, 0.9984060764056393, 0.9985287464377539, 0.35923935231894527, 0.6401361114203127, 0.999838408661043, 0.9995589151151496, 0.027279880257219526, 0.003795461601004456, 0.001897730800502228, 0.9623867322046924, 0.00474432700125557, 0.999307373866874, 0.9993568005236332, 0.000594248115545499, 0.000396165410363666, 0.9989310822319837, 0.996027985776143, 0.0009864104835614193, 0.0029592314506842574, 0.9998709018469579, 0.9998434850673138, 0.9998572847271071, 0.9956594348782261, 0.0015818574623745346, 0.0012942470146700739, 0.0014380522385223043, 0.9998999281551282, 0.9990091698664278, 0.0009525864565505319, 0.9997623606303112, 0.000172283708535294, 0.999410510283087, 0.024918088664585513, 0.9475892872448012, 0.025444527157499293, 0.0005264384929137784, 0.0015793154787413354, 0.9990689632597397, 0.01799689297722801, 0.9819428348024632, 0.9996174738385122, 0.9992352452848475, 0.9801673916830019, 0.0038899206700071893, 0.01583753415645784, 9.261715880969498e-05, 0.9988735390070361, 0.9992915655278967, 0.9997281786423159, 0.9988089110625957, 0.999808957319522, 0.9990478140062493, 0.9991100496136412, 0.12018686540559305, 0.8794160883336076, 0.9997569634801605, 0.9994192452721037, 0.0012402445958139446, 0.0006201222979069723, 0.0006201222979069723, 0.9971566550344114, 0.0006201222979069723, 0.0205484371590344, 0.9793385149995795, 0.9997896686290105, 0.9989809641400146, 0.2880165339817105, 0.7119193936489352, 0.9996796541263858, 0.9901123889417794, 0.0009284941413776278, 0.00894730718054805, 0.38793514045379707, 0.6118668049484967, 0.9998056530907805, 0.9409105328309507, 7.083569470985099e-05, 0.05886446230388617, 0.00014167138941970198, 0.9981931126388724, 0.9998581934424058, 0.29820963208005286, 0.2959786373263367, 0.405446113242007, 0.00037183245895268434, 7.436649179053687e-05, 0.9987686036508427, 0.04393426007013703, 0.1653785561989711, 0.785315969026043, 0.00535783659391915, 0.9998479505600272, 0.9997859576109437, 0.9988116619079157, 0.9998928189832808, 0.9997001078770892, 0.9998209349291125, 0.999631392422841, 0.9997971383285372, 0.013768018928221841, 0.9856105724050983, 0.0005986095186183409, 0.9989637303859032, 0.9997902303053903, 0.9996176187868302, 0.9997393784245888, 0.9990940407155118, 0.000250369306351906, 0.9997246402631607, 0.0067251463068995635, 0.1901382274041604, 0.0012227538739817388, 0.01100478486583565, 0.7898990025922034, 0.0012227538739817388, 0.9981613023801973, 0.05461915142850833, 0.7589340809701451, 0.18533580386862167, 0.00029156130655787367, 0.0008746839196736209, 0.9989127501176722, 0.9897889847762373, 0.003002140319483069, 0.003752675399353836, 0.003419104252744606, 8.339278665230747e-05, 0.9997731807109685, 0.9935341674922453, 0.006081776218484936, 0.0002280666081931851, 7.60222027310617e-05, 0.00205596457488834, 0.9978281403458078, 0.9999397702486496, 0.9997617084892878, 0.9931028127838302, 0.006265871034668028, 0.00015098484420886813, 0.00045295453262660443, 0.9997003214344735, 0.9998614678125937, 0.9996837911999991, 0.9993871531419044, 0.9991905821914133, 0.0007580290533586099, 0.9994873048938354, 0.36941340090752645, 0.020660464018131396, 0.6088380490343095, 0.0010760658342776769, 0.9994580350649912, 0.999807602613876, 0.015547821064151902, 0.9829677983891592, 0.9990921376276747, 0.0008746320035259342, 0.0037762713074964097, 0.996180370917553, 0.9998742303545262, 5.0731860081918215e-05, 5.0731860081918215e-05, 0.0856490731210426, 0.0036680545233851217, 0.9061928700022943, 0.004401665428062146, 0.008085187659088843, 0.9916658428821576, 0.01420216428422069, 0.9842099848964938, 0.9991032396312863, 0.9990106972951616, 0.020028995492422597, 0.9477871829244505, 0.024280433214870792, 0.007841540688071112, 0.9996009036428668, 0.00030722192341693937, 0.9993929168753037, 0.9984062700718984, 0.0014548725246949338, 0.9192960314891835, 0.07944448540751226, 0.001240243484245638, 0.999851579187417, 0.9992800387146668, 0.0006878173626394507, 2.371784009101554e-05, 0.01608565380610004, 0.9833696360129158, 0.01450195160185215, 0.8183562842399029, 0.016063700235897767, 0.14970476192065835, 0.0013386416863248138, 0.051066630952620054, 0.9485153860273687, 0.9994648677285579, 0.9992129682116508, 0.9993667612481291, 0.9995634629075203, 0.00032057840375481725, 0.9997181392030136, 0.9995720064238339, 0.9997439237455779, 0.00013505490357927427, 6.752745178963713e-05, 0.999566167895189, 0.9998828859739778, 0.9987219934690496, 0.9998042985829829, 0.10199764141111546, 0.8978034150582801, 0.9997120022284794, 0.9988175015897035, 0.9997893623387087, 0.9637621730787255, 0.022924720871587805, 0.008418682805950324, 0.003928718642776818, 0.0009757037508434734, 0.7734274857908136, 0.07042407316292837, 0.0035057371706289377, 0.002474638002796897, 0.1501280388363451, 0.9997329701162101, 0.0019144211046932041, 0.8985814060153727, 0.09954989744404662, 0.048318346830996464, 0.019284954217634553, 0.9320354796610634, 0.007861789617179548, 0.9917647602072001, 0.9994907645876752, 0.9996078838158905, 0.9997594608565445, 0.9991718047768614, 0.01891955333243114, 0.9810253637783558, 0.9997161457162812, 0.9994709883002479, 0.019676364251532803, 0.9798829397263336, 0.9984547641378454, 0.000571525337228303, 0.000571525337228303, 0.9996638532817059, 0.9998100670685625, 0.003956104452588307, 0.9953558802712181, 0.00039561044525883074, 0.00039561044525883074, 0.9988439781702962, 0.9996387944376547, 0.9995281458127028, 0.9988627323392496, 0.02046747213018824, 0.9791715540216815, 0.00028827425535476396, 0.03131179485977774, 0.008789275750113049, 0.9596790459654685, 0.9998796773240032, 0.0006056853373313294, 0.005451168035981965, 0.9939296385607116, 0.11736300455829232, 0.8725125557855528, 0.006681981281421023, 0.0033409906407105114, 8.566642668488491e-05, 0.9994162800991189, 0.09816237315380416, 0.8390723034527752, 0.06196592903183996, 0.0008937393610361532, 0.4141714391667334, 0.5778316973487391, 0.007927569018504043, 0.9928056536026206, 0.007157491224349282, 0.9992684344210625, 0.07606521733196296, 0.9236773656743316, 0.9990552880260795, 0.9997987049330226, 0.9995460331819359, 0.019816597921185817, 0.011498519781428808, 0.0014678961423100607, 0.9670989084252782, 0.028811115050621266, 0.0049519103993255304, 0.9665228752138103, 0.9997745576623261, 0.6258008424489548, 0.029888303841508767, 0.3314358034517697, 0.012743075281263427, 0.9997590304398273, 0.9994360594021664, 0.9997465346427485, 0.9992448549125099, 0.9993341542612025, 0.006506041449708234, 0.010223779420970082, 0.9830318819011536, 0.04031632960613117, 0.9584727407552851, 0.0009599126096697897, 0.0320776813547654, 0.00012059278704799022, 0.9676365232730736, 0.9993902960189106, 0.04337579867790525, 0.00022130509529543496, 0.9562593167715745, 0.3253301066709676, 0.6690256225894898, 0.005635945695016763, 0.9995173791468561, 0.0023608090960574946, 0.9967336003554743, 0.00047216181921149895, 0.006799198884474525, 0.9884835319399287, 0.003999528755573249, 0.00039995287555732496, 0.005450318260882913, 0.032483896834862164, 0.9620901794110519, 0.0776613648171324, 0.9220941454327245, 0.00015378488082600476, 0.7535435690955143, 0.23032309486542393, 0.016078690321659678, 0.026120221284025528, 0.022842389593481147, 0.9509809192191883, 0.27846727697673657, 0.7203517428842874, 0.001096759657253787, 0.024524601087063103, 0.0071530086503934056, 0.9676998845603649, 0.9998298401904505, 0.9997699737478127, 0.9997000115842198, 0.9992936002725938, 0.03204784315668425, 0.0008128076162927164, 0.20389859631571572, 0.7631102363251047, 0.3755543616596149, 0.5809931453891561, 0.03691765606124889, 0.0017988669620099126, 0.00470158410525318, 0.0051905509916769215, 0.9939905149061306, 0.9994281673812796, 0.9995203055996991, 0.0072507400126857946, 0.01903319253330021, 0.9734118467030679, 0.9995306012812385, 0.05650422233028503, 0.80471254924655, 0.018274599787118206, 0.1203602951496406, 0.9997772795485123, 0.9995657448035536, 0.31003683892280365, 0.04841549490341776, 0.6251817346473441, 0.016434617536022544, 0.9995283102601751, 0.0009342789717398429, 0.998510651046957, 0.00023356974293496072, 0.9997984371303132, 7.511633637342699e-05, 7.511633637342699e-05, 0.999823300375243, 0.9990974411117635, 0.9945405117010322, 0.004989216161292538, 0.0004918945511133487, 0.9998128446619797, 0.9999256991631316, 0.9995634832631682, 0.9919903875163046, 0.007944589925503714, 0.9994016840401576, 0.9998853007530283, 0.047970911208744756, 0.04858592289090815, 0.8839255401893384, 0.01952662090868777, 0.13443003838824585, 0.8654077343079213, 0.9989679450395704, 0.9993335914675041, 0.0005175882902848655, 0.06598495783605574, 0.8790474724826114, 0.049817703209557744, 0.005075765987388903, 0.9986973060606608, 0.34476151288739715, 0.654721741379245, 0.00042146884216063223, 6.020983459437603e-05, 0.026517786441864873, 0.9716874603340485, 0.0016027233563764482, 0.9999597538348441, 0.9997217016522227, 0.9989622619373241, 0.9988956340591915, 0.9977902952573526, 0.002170718071264451, 0.9997061652542787, 0.00013952633150792444, 0.9997858403357298, 0.0002287316038288103, 0.9996166698450961, 0.4062903454466383, 0.011149570401938482, 0.02341409784407081, 0.5581474943210404, 0.0011149570401938482, 0.0059267753059113245, 0.9939610931137837, 0.9996884147206464, 0.998922210105251, 0.007727148533673828, 0.002540909202514367, 0.9897015378670343, 1.7403487688454568e-05, 0.988324662926523, 0.00979328123218314, 0.0003651731984881849, 0.0005975561429806662, 0.0009295317779699252, 0.9986468214765224, 0.9998208194430981, 0.004784449444855115, 0.9951654845298639, 0.0206203000282348, 0.3192890667529831, 0.038418874789448, 0.6216477819038365, 0.9995720142668025, 0.9998175833623243, 0.99954895813743, 0.9976494487798157, 0.0020220420341401954, 0.000163067905979048, 6.52271623916192e-05, 9.78407435874288e-05, 0.043502458435579615, 0.9560653933455794, 0.999435872395679, 0.9997971155250538, 0.0029817895207976523, 0.9969826247752721, 0.9995358432003354, 0.9988022679402735, 0.9995831240823249, 0.9991060508312324, 0.020567589877747903, 0.8329164673250737, 0.14567527451342824, 0.0007092272371637207, 0.00014184544743274416, 0.9985659890281268, 0.00046596639711998447, 0.0009319327942399689, 0.13569720990447867, 0.8642548177041, 0.9988621175774154, 0.0011110813321217078, 0.017618381953462187, 0.9821310791078921, 0.007300060930001785, 0.0004562538081251116, 0.9918957788639926, 0.9980564803090489, 0.0013589875983383126, 0.00039970223480538606, 0.00019985111740269303, 0.0022299579581794523, 0.9975345266256084, 0.9962068380800607, 0.0019050917650913443, 0.00178016771492142, 0.00012492405016992423, 0.8608753823296132, 0.005009640340888821, 0.133277306569063, 0.0007827563032638782, 5.2183753550925216e-05, 0.0028147092161208663, 0.9398314072627572, 0.002251767372896693, 0.055168300635968975, 0.9994086271855511, 0.0797591358789759, 0.920148079774527, 0.01769036393555855, 0.009391180854679231, 0.9727516169009602, 0.000820330045027656, 0.999161994843685, 0.9997663977224742, 0.013560069345650787, 0.9860107567051786, 0.02077539879491996, 0.9791535779866625, 0.9995825662332791, 0.9993841735688006, 0.9998323033058988, 0.9997214515559939, 0.0016577443504295622, 0.9982383896836681, 0.9975112100117487, 0.3748162089138007, 0.5976364398051051, 0.02719707242444851, 0.000279661413104869, 0.9986850904591813, 0.0004888924687108953, 0.0007333387030663428, 0.9992237497290384, 0.05069747508942668, 0.46690382080175047, 0.48229017241186034, 0.9998629906573805, 0.017021090702809303, 0.9824129525208414, 0.00037002371093063704, 0.004632549990748709, 0.9954835202342227, 0.9988245979168622, 0.9996323772084947, 0.9994644854364901, 0.9996590669710169, 0.0032844692420933262, 0.015327523129768856, 0.9811804449213463, 0.00021896461613955508, 0.9981490748970734, 0.9996265517572672, 0.9996189763663176, 0.9993717067640312, 0.3203293296960198, 0.005979480820992369, 0.0031321090014721936, 0.6702713263150494, 0.009313709309139528, 0.526730755820141, 0.46366074604194607, 0.0003037079122545498, 0.9996423086618752, 0.999573929464896, 0.635576699654239, 0.05674046259232571, 0.30724412402799367, 0.00046979223857491386, 0.043642347379417676, 0.00031855728014173486, 0.9559903977053463, 0.9994239381433565, 0.00039326755173531866, 0.9994586171877198, 0.0065310171457620275, 0.000622001632929717, 0.9927146061558282, 0.9999406973096282, 0.9998568439843615, 0.9995919777212837, 0.9898863229740046, 0.0016066421728379967, 0.007935838611290711, 0.0005355473909459989, 4.8686126449636265e-05, 0.9994826349435055, 0.006044108740198041, 0.9836299546548103, 0.010138504983558005, 0.00019497124968380778, 0.9996885103824938, 0.9993592821642883, 0.9651625429350882, 0.01582005179047332, 0.01811988310803112, 0.0008363022972937439, 0.9996409211080386, 0.9997511621832024, 0.9997646511389657, 7.425465323373186e-05, 7.425465323373186e-05, 0.00036787438627095085, 0.9995147074981735, 0.9994568728274004, 0.9195446291158565, 0.04284022167506996, 0.0375335619579, 0.9995355927938075, 0.23145519067794512, 0.1784105279590776, 0.1544857445162894, 0.2421188084410164, 0.0734149069072986, 0.12017076940691893, 0.9990130988331559], \"Term\": [\"2\", \"2\", \"2\", \"2\", \"2\", \"20\", \"20\", \"20\", \"3\", \"3\", \"3\", \"6\", \"access\", \"access\", \"access\", \"across\", \"across\", \"activities\", \"activities\", \"afternoon\", \"afternoon\", \"ago\", \"also\", \"also\", \"also\", \"also\", \"also\", \"amazing\", \"amazing\", \"amenities\", \"amenities\", \"amenities\", \"amenities\", \"anniversary\", \"anything\", \"anything\", \"area\", \"area\", \"area\", \"area\", \"area\", \"around\", \"around\", \"around\", \"around\", \"around\", \"arrived\", \"arrived\", \"art\", \"attention\", \"attention\", \"attentive\", \"attractions\", \"away\", \"away\", \"away\", \"away\", \"away\", \"awesome\", \"bad\", \"balcony\", \"balcony\", \"balcony\", \"bar\", \"bar\", \"bar\", \"bath\", \"bathroom\", \"beach\", \"beautiful\", \"beautiful\", \"beautiful\", \"beautiful\", \"bed\", \"best\", \"best\", \"big\", \"big\", \"birthday\", \"bit\", \"bit\", \"bit\", \"bit\", \"bit\", \"blessed\", \"booked\", \"booked\", \"books\", \"bottle\", \"breakfast\", \"breakfast\", \"breakfast\", \"breakfast\", \"bridge\", \"brought\", \"building\", \"buildings\", \"car\", \"carte\", \"celebrate\", \"centre\", \"centre\", \"chair\", \"chance\", \"chateau\", \"chateau\", \"chateau\", \"chateau\", \"chateau\", \"check\", \"check\", \"checked\", \"christmas\", \"city\", \"city\", \"class\", \"clean\", \"clean\", \"clean\", \"close\", \"close\", \"coffee\", \"comfortable\", \"comfortable\", \"comfortable\", \"comfortable\", \"common\", \"complimentary\", \"could\", \"could\", \"could\", \"could\", \"could\", \"david\", \"day\", \"day\", \"day\", \"day\", \"definitely\", \"delicious\", \"delivered\", \"design\", \"designed\", \"desk\", \"detail\", \"didn\\u2019t\", \"different\", \"different\", \"different\", \"dinners\", \"distance\", \"dont\", \"double\", \"drive\", \"easy\", \"easy\", \"eden\", \"eden\", \"eden\", \"eden\", \"eden\", \"eden\", \"elegance\", \"even\", \"even\", \"even\", \"even\", \"even\", \"event\", \"every\", \"every\", \"every\", \"every\", \"every\", \"everyone\", \"everything\", \"everything\", \"everything\", \"everything\", \"everywhere\", \"everywhere\", \"excellent\", \"expected\", \"experience\", \"experience\", \"experience\", \"experience\", \"experiences\", \"extremely\", \"fabulous\", \"facility\", \"fantastic\", \"fantastic\", \"fireworks\", \"first\", \"first\", \"first\", \"first\", \"fitness\", \"floor\", \"following\", \"following\", \"food\", \"food\", \"free\", \"free\", \"friendly\", \"friendly\", \"friendly\", \"front\", \"front\", \"front\", \"front\", \"fruit\", \"fruit\", \"furnished\", \"furnished\", \"furnishings\", \"furniture\", \"get\", \"get\", \"get\", \"get\", \"given\", \"glass\", \"glass\", \"going\", \"going\", \"good\", \"good\", \"good\", \"got\", \"great\", \"great\", \"great\", \"grounds\", \"grounds\", \"guests\", \"guests\", \"guests\", \"guests\", \"guests\", \"guide\", \"guide\", \"guided\", \"guy\", \"hand\", \"happy\", \"happy\", \"heart\", \"heaven\", \"helpful\", \"helpful\", \"helpful\", \"heritage\", \"highly\", \"hill\", \"historical\", \"history\", \"history\", \"holiday\", \"hospitality\", \"hot\", \"hotel\", \"hotel\", \"hotel\", \"hotel\", \"hotel\", \"hotels\", \"hotels\", \"hotels\", \"hotels\", \"hotels\", \"house\", \"however\", \"however\", \"however\", \"huge\", \"huge\", \"huge\", \"husband\", \"husband\", \"ice\", \"ideal\", \"imagine\", \"impressed\", \"included\", \"included\", \"incredible\", \"interesting\", \"interior\", \"interior\", \"it\\u2019s\", \"it\\u2019s\", \"it\\u2019s\", \"john\", \"kids\", \"know\", \"know\", \"know\", \"know\", \"knowledge\", \"knowledgeable\", \"la\", \"lack\", \"large\", \"large\", \"large\", \"last\", \"last\", \"last\", \"left\", \"light\", \"light\", \"light\", \"like\", \"like\", \"like\", \"like\", \"like\", \"linen\", \"little\", \"little\", \"little\", \"little\", \"located\", \"located\", \"located\", \"location\", \"location\", \"lost\", \"lot\", \"lot\", \"low\", \"lunch\", \"machine\", \"main\", \"main\", \"main\", \"main\", \"makes\", \"makes\", \"makes\", \"making\", \"many\", \"many\", \"many\", \"many\", \"massage\", \"memorable\", \"michelin\", \"mini\", \"mins\", \"minute\", \"minute\", \"minute\", \"minutes\", \"minutes\", \"minutes\", \"modern\", \"modern\", \"modern\", \"money\", \"morning\", \"morning\", \"morning\", \"much\", \"much\", \"much\", \"museum\", \"needed\", \"needed\", \"needed\", \"never\", \"never\", \"never\", \"never\", \"new\", \"new\", \"new\", \"next\", \"next\", \"next\", \"nice\", \"nice\", \"nice\", \"night\", \"night\", \"night\", \"nights\", \"nights\", \"nights\", \"note\", \"note\", \"note\", \"nothing\", \"offered\", \"offers\", \"ok\", \"old\", \"old\", \"old\", \"old\", \"one\", \"one\", \"one\", \"one\", \"one\", \"opera\", \"opera\", \"opposite\", \"options\", \"others\", \"others\", \"others\", \"outdoor\", \"outside\", \"outside\", \"outside\", \"outside\", \"outstanding\", \"parking\", \"part\", \"part\", \"part\", \"part\", \"pastries\", \"people\", \"people\", \"people\", \"perfect\", \"perfect\", \"perfect\", \"perfectly\", \"perhaps\", \"place\", \"place\", \"place\", \"plus\", \"pool\", \"pools\", \"possible\", \"possible\", \"prices\", \"professional\", \"property\", \"property\", \"property\", \"property\", \"provided\", \"provided\", \"public\", \"quality\", \"quality\", \"quite\", \"quite\", \"quite\", \"quite\", \"rated\", \"really\", \"really\", \"really\", \"really\", \"reception\", \"reception\", \"reception\", \"recommend\", \"recommended\", \"relaxation\", \"requested\", \"restaurant\", \"restaurant\", \"restaurants\", \"restaurants\", \"return\", \"return\", \"returned\", \"right\", \"right\", \"right\", \"right\", \"right\", \"river\", \"river\", \"road\", \"romantic\", \"room\", \"room\", \"room\", \"room\", \"rooms\", \"rooms\", \"rooms\", \"rooms\", \"rooms\", \"round\", \"sauna\", \"sea\", \"sea\", \"see\", \"see\", \"see\", \"see\", \"seen\", \"senses\", \"separate\", \"service\", \"service\", \"service\", \"service\", \"service\", \"setting\", \"setting\", \"shopping\", \"shower\", \"side\", \"side\", \"since\", \"sites\", \"size\", \"slow\", \"small\", \"small\", \"small\", \"small\", \"small\", \"something\", \"something\", \"something\", \"spa\", \"spa\", \"special\", \"special\", \"spectacular\", \"spectacular\", \"st\", \"st\", \"st\", \"staff\", \"staff\", \"staff\", \"staff\", \"station\", \"station\", \"stay\", \"stay\", \"stay\", \"stay\", \"stayed\", \"stayed\", \"stayed\", \"stayed\", \"stayed\", \"still\", \"still\", \"still\", \"still\", \"stop\", \"style\", \"style\", \"suite\", \"suite\", \"suite\", \"sun\", \"sun\", \"super\", \"supply\", \"supply\", \"surprised\", \"surprised\", \"swimming\", \"taxi\", \"tea\", \"thank\", \"things\", \"things\", \"third\", \"time\", \"time\", \"time\", \"time\", \"top\", \"top\", \"top\", \"touches\", \"tour\", \"tour\", \"tour\", \"tours\", \"town\", \"town\", \"town\", \"train\", \"train\", \"trained\", \"tram\", \"true\", \"tv\", \"two\", \"two\", \"two\", \"two\", \"understated\", \"unesco\", \"unforgettable\", \"unfortunately\", \"unique\", \"unique\", \"unique\", \"unique\", \"us\", \"us\", \"us\", \"us\", \"valley\", \"victoria\", \"view\", \"view\", \"view\", \"view\", \"views\", \"views\", \"views\", \"visit\", \"visit\", \"visual\", \"walk\", \"walk\", \"walk\", \"walking\", \"water\", \"wedding\", \"well\", \"well\", \"well\", \"well\", \"well\", \"wellness\", \"went\", \"went\", \"went\", \"went\", \"window\", \"windows\", \"wine\", \"wine\", \"wine\", \"wine\", \"wines\", \"within\", \"wonderful\", \"wonderful\", \"wonderful\", \"work\", \"work\", \"worn\", \"would\", \"would\", \"would\", \"years\", \"yeatman\", \"yeatman\", \"yeatman\", \"yeatman\", \"yeatman\", \"yeatman\", \"\\u2013\"]}, \"R\": 30, \"lambda.step\": 0.01, \"plot.opts\": {\"xlab\": \"PC1\", \"ylab\": \"PC2\"}, \"topic.order\": [6, 2, 1, 5, 3, 4]};\n",
       "\n",
       "function LDAvis_load_lib(url, callback){\n",
       "  var s = document.createElement('script');\n",
       "  s.src = url;\n",
       "  s.async = true;\n",
       "  s.onreadystatechange = s.onload = callback;\n",
       "  s.onerror = function(){console.warn(\"failed to load library \" + url);};\n",
       "  document.getElementsByTagName(\"head\")[0].appendChild(s);\n",
       "}\n",
       "\n",
       "if(typeof(LDAvis) !== \"undefined\"){\n",
       "   // already loaded: just create the visualization\n",
       "   !function(LDAvis){\n",
       "       new LDAvis(\"#\" + \"ldavis_el763223283660410086237347188\", ldavis_el763223283660410086237347188_data);\n",
       "   }(LDAvis);\n",
       "}else if(typeof define === \"function\" && define.amd){\n",
       "   // require.js is available: use it to load d3/LDAvis\n",
       "   require.config({paths: {d3: \"https://d3js.org/d3.v5\"}});\n",
       "   require([\"d3\"], function(d3){\n",
       "      window.d3 = d3;\n",
       "      LDAvis_load_lib(\"https://cdn.jsdelivr.net/gh/bmabey/pyLDAvis@3.3.1/pyLDAvis/js/ldavis.v3.0.0.js\", function(){\n",
       "        new LDAvis(\"#\" + \"ldavis_el763223283660410086237347188\", ldavis_el763223283660410086237347188_data);\n",
       "      });\n",
       "    });\n",
       "}else{\n",
       "    // require.js not available: dynamically load d3 & LDAvis\n",
       "    LDAvis_load_lib(\"https://d3js.org/d3.v5.js\", function(){\n",
       "         LDAvis_load_lib(\"https://cdn.jsdelivr.net/gh/bmabey/pyLDAvis@3.3.1/pyLDAvis/js/ldavis.v3.0.0.js\", function(){\n",
       "                 new LDAvis(\"#\" + \"ldavis_el763223283660410086237347188\", ldavis_el763223283660410086237347188_data);\n",
       "            })\n",
       "         });\n",
       "}\n",
       "</script>"
      ],
      "text/plain": [
       "<IPython.core.display.HTML object>"
      ]
     },
     "execution_count": 43,
     "metadata": {},
     "output_type": "execute_result"
    }
   ],
   "source": [
    "#Creating Topic Distance Visualization \n",
    "pyLDAvis.enable_notebook()\n",
    "prepare_data = gensimvis.prepare(lda_model, corpus, id2word, mds='mmds') #R=60\n",
    "# html = pyLDAvis.prepared_data_to_html(prepare_data)\n",
    "pyLDAvis.display(prepare_data)"
   ]
  },
  {
   "cell_type": "code",
   "execution_count": null,
   "metadata": {},
   "outputs": [],
   "source": [
    "#write string to file\n",
    "text_file = open(f\"lda_{str(CLUSTERS)}.html\", \"w\")\n",
    "text_file.write(html)\n",
    "text_file.close()"
   ]
  },
  {
   "attachments": {},
   "cell_type": "markdown",
   "metadata": {},
   "source": [
    "## Examples"
   ]
  },
  {
   "cell_type": "code",
   "execution_count": 36,
   "metadata": {},
   "outputs": [],
   "source": [
    "sum_df = pd.read_csv(\"../data/review_summarizer/summarized_reviews_by_year_and_hotel-small.csv\");\n",
    "in_df = pd.read_csv(\"../data/exploratory_analysis/tripadvisor_hotels_clean.csv\")"
   ]
  },
  {
   "cell_type": "code",
   "execution_count": 77,
   "metadata": {},
   "outputs": [],
   "source": [
    "REVIEW_CONCATCHAR1 = \"\\n\"\n",
    "\n",
    "def fromDateToYear(value): #Clean CSV (yyyy-mm-dd)\n",
    "    return value.split(\"-\")[0]\n",
    "\n",
    "def concatReviewsByYearAndHotel(df):\n",
    "    df = df.copy()\n",
    "    df[\"REVIEW_DATE\"] = df[\"REVIEW_DATE\"].map(fromDateToYear).astype(int)\n",
    "    df['REVIEW_TEXT'] = df[['HOTEL_NAME','REVIEW_TEXT','REVIEW_DATE']].groupby([\"HOTEL_NAME\",\"REVIEW_DATE\"])[\"REVIEW_TEXT\"].transform(lambda x: REVIEW_CONCATCHAR1.join(x))\n",
    "    return df[['HOTEL_NAME','REVIEW_DATE','REVIEW_TEXT']].drop_duplicates()\n",
    "\n",
    "# Group by NAME and YEAR\n",
    "iny_df = concatReviewsByYearAndHotel(in_df.dropna())"
   ]
  },
  {
   "cell_type": "code",
   "execution_count": 54,
   "metadata": {},
   "outputs": [
    {
     "data": {
      "text/html": [
       "<div>\n",
       "<style scoped>\n",
       "    .dataframe tbody tr th:only-of-type {\n",
       "        vertical-align: middle;\n",
       "    }\n",
       "\n",
       "    .dataframe tbody tr th {\n",
       "        vertical-align: top;\n",
       "    }\n",
       "\n",
       "    .dataframe thead th {\n",
       "        text-align: right;\n",
       "    }\n",
       "</style>\n",
       "<table border=\"1\" class=\"dataframe\">\n",
       "  <thead>\n",
       "    <tr style=\"text-align: right;\">\n",
       "      <th></th>\n",
       "      <th>HOTEL_NAME</th>\n",
       "      <th>REVIEW_DATE</th>\n",
       "      <th>REVIEW_TEXT</th>\n",
       "      <th>REVIEW_SUMMARY</th>\n",
       "    </tr>\n",
       "  </thead>\n",
       "  <tbody>\n",
       "    <tr>\n",
       "      <th>0</th>\n",
       "      <td>Corpo Santo Lisbon Historical Hotel</td>\n",
       "      <td>2022</td>\n",
       "      <td>we loved the place and loved it again this tim...</td>\n",
       "      <td>the staff at the Corpo Santo Historical Hotel ...</td>\n",
       "    </tr>\n",
       "    <tr>\n",
       "      <th>1</th>\n",
       "      <td>Kimpton De Witt Amsterdam</td>\n",
       "      <td>2019</td>\n",
       "      <td>the hotel is unique in style and comfortable. ...</td>\n",
       "      <td>the hotel is located in the heart of the city,...</td>\n",
       "    </tr>\n",
       "    <tr>\n",
       "      <th>2</th>\n",
       "      <td>Corinthia Budapest</td>\n",
       "      <td>2019</td>\n",
       "      <td>hotel moments Budapest was a great place to st...</td>\n",
       "      <td>the corinthia hotel in the heart of the city i...</td>\n",
       "    </tr>\n",
       "    <tr>\n",
       "      <th>3</th>\n",
       "      <td>Grandior Hotel Prague</td>\n",
       "      <td>2019</td>\n",
       "      <td>the room was excellent and the buffet breakfas...</td>\n",
       "      <td>the hotel is located in the heart of the old c...</td>\n",
       "    </tr>\n",
       "    <tr>\n",
       "      <th>4</th>\n",
       "      <td>Hilton Budapest</td>\n",
       "      <td>2019</td>\n",
       "      <td>the hotel is built into the rocks in the ruins...</td>\n",
       "      <td>the hotel is located in the heart of the castl...</td>\n",
       "    </tr>\n",
       "    <tr>\n",
       "      <th>...</th>\n",
       "      <td>...</td>\n",
       "      <td>...</td>\n",
       "      <td>...</td>\n",
       "      <td>...</td>\n",
       "    </tr>\n",
       "    <tr>\n",
       "      <th>2627</th>\n",
       "      <td>The Guesthouse Vienna</td>\n",
       "      <td>2015</td>\n",
       "      <td>The best location to be in old Vienna. You can...</td>\n",
       "      <td>this is one of the most beautiful cities in th...</td>\n",
       "    </tr>\n",
       "    <tr>\n",
       "      <th>2628</th>\n",
       "      <td>Andreus Resort</td>\n",
       "      <td>2021</td>\n",
       "      <td>If you need the \"perfection\" during a Holiday,...</td>\n",
       "      <td>Andreus Resort is a luxury resort, with easy m...</td>\n",
       "    </tr>\n",
       "    <tr>\n",
       "      <th>2629</th>\n",
       "      <td>Mystery Hotel Budapest</td>\n",
       "      <td>2018</td>\n",
       "      <td>The hotel is fabolous and has a very unique de...</td>\n",
       "      <td>the hotel is fabolous and has a very unique de...</td>\n",
       "    </tr>\n",
       "    <tr>\n",
       "      <th>2630</th>\n",
       "      <td>Olissippo Lapa Palace</td>\n",
       "      <td>2014</td>\n",
       "      <td>Huge bedrooms, really comfortable, wonderful g...</td>\n",
       "      <td>Lisbon is a wonderful city to visit. no hesits...</td>\n",
       "    </tr>\n",
       "    <tr>\n",
       "      <th>2631</th>\n",
       "      <td>Hotel Park</td>\n",
       "      <td>2014</td>\n",
       "      <td>Great location of hotel, but the think that i ...</td>\n",
       "      <td>great location of hotel, but the think that i ...</td>\n",
       "    </tr>\n",
       "  </tbody>\n",
       "</table>\n",
       "<p>2632 rows × 4 columns</p>\n",
       "</div>"
      ],
      "text/plain": [
       "                               HOTEL_NAME  REVIEW_DATE  \\\n",
       "0     Corpo Santo Lisbon Historical Hotel         2022   \n",
       "1               Kimpton De Witt Amsterdam         2019   \n",
       "2                      Corinthia Budapest         2019   \n",
       "3                   Grandior Hotel Prague         2019   \n",
       "4                         Hilton Budapest         2019   \n",
       "...                                   ...          ...   \n",
       "2627                The Guesthouse Vienna         2015   \n",
       "2628                       Andreus Resort         2021   \n",
       "2629               Mystery Hotel Budapest         2018   \n",
       "2630                Olissippo Lapa Palace         2014   \n",
       "2631                           Hotel Park         2014   \n",
       "\n",
       "                                            REVIEW_TEXT  \\\n",
       "0     we loved the place and loved it again this tim...   \n",
       "1     the hotel is unique in style and comfortable. ...   \n",
       "2     hotel moments Budapest was a great place to st...   \n",
       "3     the room was excellent and the buffet breakfas...   \n",
       "4     the hotel is built into the rocks in the ruins...   \n",
       "...                                                 ...   \n",
       "2627  The best location to be in old Vienna. You can...   \n",
       "2628  If you need the \"perfection\" during a Holiday,...   \n",
       "2629  The hotel is fabolous and has a very unique de...   \n",
       "2630  Huge bedrooms, really comfortable, wonderful g...   \n",
       "2631  Great location of hotel, but the think that i ...   \n",
       "\n",
       "                                         REVIEW_SUMMARY  \n",
       "0     the staff at the Corpo Santo Historical Hotel ...  \n",
       "1     the hotel is located in the heart of the city,...  \n",
       "2     the corinthia hotel in the heart of the city i...  \n",
       "3     the hotel is located in the heart of the old c...  \n",
       "4     the hotel is located in the heart of the castl...  \n",
       "...                                                 ...  \n",
       "2627  this is one of the most beautiful cities in th...  \n",
       "2628  Andreus Resort is a luxury resort, with easy m...  \n",
       "2629  the hotel is fabolous and has a very unique de...  \n",
       "2630  Lisbon is a wonderful city to visit. no hesits...  \n",
       "2631  great location of hotel, but the think that i ...  \n",
       "\n",
       "[2632 rows x 4 columns]"
      ]
     },
     "execution_count": 54,
     "metadata": {},
     "output_type": "execute_result"
    }
   ],
   "source": [
    "sum_df"
   ]
  },
  {
   "cell_type": "code",
   "execution_count": 98,
   "metadata": {},
   "outputs": [
    {
     "name": "stdout",
     "output_type": "stream",
     "text": [
      "IN:\n",
      "We spent a long weekend at the Fontenay for my birthday and consider it really first class.  Beautiful suite, very fair family offer for an additional connecting room. Service is great, top concierge and we loved the pool at the rooftop.   Only the service at the rooftop bar was not that good...\n",
      "Stayed for two nights on a recent business trip to Hamburg  An all round first class experience, beginning at the check in and continuing throughout our stay. Rooms are very well equipped, and very comfortable. Buffet breakfast on ground floor is superb, dare I say, one of the best I have experienced. Bar area on 6th floor also great. Highly recommended for business or pleasure.\n",
      "Really a top of the line hotel with a great location, staff that give you the feeling that they care and take time for you.  A short walk to the city.  The spa area is relaxing and a good intro to the day.    A great choice  \n",
      "Wonderful weekend break - visited the 6th floor bar for a super chicken Caesar salad in sunshine. Great views across the lake with all the yachts busy on the Saturday. Can see the fountain from here as well - good first place to orientate from.\n",
      "We have stayed at The Fontenay for a weekend visit to Hamburg. We have been extremely impressed by the professional staff and smooth operations in spite of the hotel being almost brand new. The room was beautiful and equipped with modern technology (even the shower is controlled electronically). All the staff was very friendly and helpful. The concierge organised excellent dinner for two evenings on short notice.  A minor hassle was the front desk experience. We arrived in the afternoon and immediately asked if we could have dinner in the hotel, preferably in their own Michelin star restaurant. Unfortunately we were told, that both restaurants are booked out and we should resort to room service, without any further recommendations. That's when we simply went to the concierge on…\n",
      "Just after arriving two employees came directly to our car for picking up our luggage and parking our car in the garage. We were also brought directly to the checkin wich is a kind of cosy lounge area. The first impression have been very luxurious but in the same way also cosy and warm.  THE ROOMS are quite big and have all of the amenities of a modern hotel room including a large balcony, a flatscreen TV, a lounge area, a separated walk-in closet and a large bathroom. It is very modern designed and nearly all of the features are available with the smart home tablet at the wall.  THE SPA AREA is large and features an in and outdoor infinity pool wich could be a little bit warmer. Also the saunas are quiet big and you have a direct view over Hamburg and also the Elbphilharmonie. …\n",
      "Amazing design hotel with tremendous customer service, spacious design room, excellent food and a beautiful location. We’ve seen many gorgeous hotels across the globe, but this is definitely a standout. \n",
      "New and modern luxury hotel located next to the Alster lake (Aussen Alster). Wonderful location in an affluent area which is also popular with the locals for lake-side walking or jogging. City-center is a ca 10-15 minute pleasant lake-side walk from the hotel. Friendly and professional service throughout the hotel, from doormen, to check-in and at restaurants and bars. You get the feeling that the staff enjoy working there. Fantastic views over the lake and sorrounding area from a large rooftop bar and the pool area. Nice park and lake view from the ground level Parkview restaurant where a high-standard breakfast is served. Spacious and light rooms with floor to ceiling windows and balconies. We had a deluxe room (lowest category for two), which is still >40 square meters, with…\n",
      "The Fontenay has only been open little more than a year, and it is surprising how they have already managed to get everything so finely tuned already. From the Doorman to the Reception to the Breakfast, everything was seamless and staff were so friendly and efficient and very well trained. The location is fantastic with only a short walk to the center and have great views from the room. The manicured park and access directly to the water increased the feeling of a city resort hotel. Breakfast choices were outstanding and delicious. The spa with rooftop infinity pool is wonderful. We can recommend this hotel completely and will be back ourselves very soon!\n",
      "Everything was beyond expectations so first and foremost, a huge thank you to Ms. Barbara for her professionalism and immediate reaction .  Honestly if you are looking for a high class hotel-resort then look no further. It has all the amenities you could wish for and even more ,It’s a reason by itself to visit Hamburg …  This trip has left me with such an unforgettable experience that really i do hope to be back soon for more!\n",
      "Nice hotel, but disaster how they handle when things goes wrong. My Lamborghini got damaged by the tall valet Guy in the garage he open the door hard to the Wall and door scratched big time and they took photos and just Shake their shoulders. Nobody care and nobody call or email to clear the cost for new paint. So dont bring your car to this hotel 🤮🤮🤮 Its not the money its just the princip, no excuse nothing... 🤷🏻‍♂️🤮\n",
      "The professionalism and friendly service of staff at this hotel was very impressive. Reception staff were very welcoming and engaging on arrival and departure. Concierge and porters were extremely helpful and knowledgeable.  Nothing seemed to difficult. The breakfast staff were also engaging, prompt with coffee and juice and breakfast food a high standard.  As this is a new hotel everything is modern, clean and spick.  Rooms are very comfortable, light and bright with long walls of floor to ceiling windows.  The location of hotel has the advantage on being on the lake and in a green area.  The hotel is very quiet such that you could leave the doors open at night for fresh air and no noise. But it is a short walk to Hamburg sights such as Rathaus.  It is a short walk to a…\n",
      "If you can afford some 400 Euro per night this is the place to stay. But look out for special offers. We were invited to a concert at the new Elbphilharmonie and the invitation included a night at The Fontenay. It was a very pleasant experience. A new five star plus hotel with a great location. Pity, our stay was too short to enjoy all the amenities the hotel offers. Highly recommended for the young, rich and beautiful.\n",
      "The Fontenay Bar is remarkable both in terms of drinks, service and design.  Offering classic drinks as well as new creations - both of outstanding taste. The service by the bar tenders is one of its kind: Super friendly (but discrete), highly knowledgeable, full of great recommendations (but by no means in a snobby way like one too often sees in high end bars), and with a personal note. Oh - and did I mention the taste of the drinks is absolutely fantastic?  The fantastic views across the Alster are astonishing - both during day and night. And on top of all, one actually feels cozy and comfortable, which is a rare thing for an upper scale bar.   Absolutely perfect!  Currently maybe the best bar in Hamburg.\n",
      "We stayed twice in The Fontenay and booked a family room (two connecting rooms) and a separate twin room as we travel with 4 children. It turned out to be an excellent choice. From the first contact on the phone while reserving the rooms until the moment we left the property. Everything is simply perfect. Very friendly staff, beautiful design, the rooms are spacious and equipped with the latest design furniture and colour combinations. We had dinner at the Parkside restaurant as the Lakeside (Michelin*) was closed. The spa offers a rooftop in/outdoor pool, spacious sauna and steam room, and sun deck. Last but not least, the building is designed by Hamburg architect Jan Störmer and is a piece of art by itself. So if you are travelling with or without children and consider a…\n",
      "From reception to service quality and friendliness, from location to atmosphere, from cuisine to wine list, a perfect (fair price value) restaurant. The room : Quiet but not sterile .Despite 80% ocupation and several families with kids everything seemed stressfree. Like an elegant family home.  Definitly a new haunt for me and my adult family members and friends.\n",
      "2 course lunch for € 27,.  starter: bread with some dips and fresh olive oil -> quite nice but not special  1st course: Chicken Bouillon -> way too salty..simply not edible.   2nd course: Chicken with vegetable -> too dry and hardly any sauce on the plate  Service overall friendly.\n",
      "I read a review that it lacks a bit of personality. The person was right. It seems a bit cold and although it’s new, the decor is very 90’s. We had a junior suite which was lovely and spacious but we missed out in a meal at the Lakeside restaurant  as they got our booking wrong. The location next to the lake was great but we could not even have a light snack in the lounge as too packed.  The hotel would suit business type conferences but it has no charm or warmth. Yes the shower is amazing but the housekeeping is very average. Having come from the Lutetia in Paris we noticed  a massive difference in everything.  \n",
      "OUT:\n",
      "the rooftop bar was not that good, but the service was great. the hotel is almost brand new and has been very clean.the staff were very friendly and.two employees came directly to our car for picking up our luggage.\n"
     ]
    }
   ],
   "source": [
    "sum_sample = sum_df.sample(1).iloc[0]\n",
    "\n",
    "sum_in_sample = iny_df[(iny_df[\"REVIEW_DATE\"]==sum_sample[\"REVIEW_DATE\"]) & (iny_df[\"HOTEL_NAME\"]==sum_sample[\"HOTEL_NAME\"])].iloc[0]\n",
    "\n",
    "print(\"IN:\")\n",
    "print(sum_in_sample[\"REVIEW_TEXT\"])\n",
    "print(\"OUT:\")\n",
    "print(sum_sample[\"REVIEW_SUMMARY\"])"
   ]
  }
 ],
 "metadata": {
  "kernelspec": {
   "display_name": "base",
   "language": "python",
   "name": "python3"
  },
  "language_info": {
   "codemirror_mode": {
    "name": "ipython",
    "version": 3
   },
   "file_extension": ".py",
   "mimetype": "text/x-python",
   "name": "python",
   "nbconvert_exporter": "python",
   "pygments_lexer": "ipython3",
   "version": "3.9.7"
  },
  "orig_nbformat": 4,
  "vscode": {
   "interpreter": {
    "hash": "32fe028544ad451da7fd425bd970f9d43d891a9dcc481ea9112199e2f0c30cfa"
   }
  }
 },
 "nbformat": 4,
 "nbformat_minor": 2
}
