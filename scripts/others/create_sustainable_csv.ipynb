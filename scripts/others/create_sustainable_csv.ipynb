{
 "cells": [
  {
   "cell_type": "code",
   "execution_count": 2,
   "metadata": {},
   "outputs": [],
   "source": [
    "import pandas as  pd"
   ]
  },
  {
   "cell_type": "code",
   "execution_count": 13,
   "metadata": {},
   "outputs": [
    {
     "data": {
      "text/html": [
       "<div>\n",
       "<style scoped>\n",
       "    .dataframe tbody tr th:only-of-type {\n",
       "        vertical-align: middle;\n",
       "    }\n",
       "\n",
       "    .dataframe tbody tr th {\n",
       "        vertical-align: top;\n",
       "    }\n",
       "\n",
       "    .dataframe thead th {\n",
       "        text-align: right;\n",
       "    }\n",
       "</style>\n",
       "<table border=\"1\" class=\"dataframe\">\n",
       "  <thead>\n",
       "    <tr style=\"text-align: right;\">\n",
       "      <th></th>\n",
       "      <th>Country</th>\n",
       "      <th>Name</th>\n",
       "      <th>Tripadvisor</th>\n",
       "    </tr>\n",
       "  </thead>\n",
       "  <tbody>\n",
       "    <tr>\n",
       "      <th>0</th>\n",
       "      <td>Germany</td>\n",
       "      <td>9</td>\n",
       "      <td>https://www.tripadvisor.com/Hotel_Review-g1986...</td>\n",
       "    </tr>\n",
       "    <tr>\n",
       "      <th>1</th>\n",
       "      <td>Germany</td>\n",
       "      <td>Fairmont Hamburg</td>\n",
       "      <td>https://www.tripadvisor.com/Hotel_Review-g1873...</td>\n",
       "    </tr>\n",
       "    <tr>\n",
       "      <th>2</th>\n",
       "      <td>Germany</td>\n",
       "      <td>Fontenay Hamburg</td>\n",
       "      <td>https://www.tripadvisor.com/Hotel_Review-g1873...</td>\n",
       "    </tr>\n",
       "    <tr>\n",
       "      <th>3</th>\n",
       "      <td>Germany</td>\n",
       "      <td>�schberghof</td>\n",
       "      <td>https://www.tripadvisor.com/Restaurant_Review-...</td>\n",
       "    </tr>\n",
       "    <tr>\n",
       "      <th>4</th>\n",
       "      <td>Germany</td>\n",
       "      <td>B�low Dresden</td>\n",
       "      <td>https://www.tripadvisor.com/Hotel_Review-g1873...</td>\n",
       "    </tr>\n",
       "  </tbody>\n",
       "</table>\n",
       "</div>"
      ],
      "text/plain": [
       "   Country              Name  \\\n",
       "0  Germany                 9   \n",
       "1  Germany  Fairmont Hamburg   \n",
       "2  Germany  Fontenay Hamburg   \n",
       "3  Germany       �schberghof   \n",
       "4  Germany     B�low Dresden   \n",
       "\n",
       "                                         Tripadvisor  \n",
       "0  https://www.tripadvisor.com/Hotel_Review-g1986...  \n",
       "1  https://www.tripadvisor.com/Hotel_Review-g1873...  \n",
       "2  https://www.tripadvisor.com/Hotel_Review-g1873...  \n",
       "3  https://www.tripadvisor.com/Restaurant_Review-...  \n",
       "4  https://www.tripadvisor.com/Hotel_Review-g1873...  "
      ]
     },
     "execution_count": 13,
     "metadata": {},
     "output_type": "execute_result"
    }
   ],
   "source": [
    "df = pd.read_csv(\"../data/tripadvisor_hotels_all.csv\")\n",
    "df.head()"
   ]
  },
  {
   "cell_type": "code",
   "execution_count": 14,
   "metadata": {},
   "outputs": [
    {
     "data": {
      "text/html": [
       "<div>\n",
       "<style scoped>\n",
       "    .dataframe tbody tr th:only-of-type {\n",
       "        vertical-align: middle;\n",
       "    }\n",
       "\n",
       "    .dataframe tbody tr th {\n",
       "        vertical-align: top;\n",
       "    }\n",
       "\n",
       "    .dataframe thead th {\n",
       "        text-align: right;\n",
       "    }\n",
       "</style>\n",
       "<table border=\"1\" class=\"dataframe\">\n",
       "  <thead>\n",
       "    <tr style=\"text-align: right;\">\n",
       "      <th></th>\n",
       "      <th>Country</th>\n",
       "      <th>Name</th>\n",
       "      <th>Tripadvisor</th>\n",
       "    </tr>\n",
       "  </thead>\n",
       "  <tbody>\n",
       "    <tr>\n",
       "      <th>0</th>\n",
       "      <td>Germany</td>\n",
       "      <td>Fairmont Hamburg</td>\n",
       "      <td>https://www.tripadvisor.com/Hotel_Review-g1873...</td>\n",
       "    </tr>\n",
       "    <tr>\n",
       "      <th>1</th>\n",
       "      <td>Germany</td>\n",
       "      <td>Fontenay Hamburg</td>\n",
       "      <td>https://www.tripadvisor.com/Hotel_Review-g1873...</td>\n",
       "    </tr>\n",
       "    <tr>\n",
       "      <th>2</th>\n",
       "      <td>Germany</td>\n",
       "      <td>�schberghof</td>\n",
       "      <td>https://www.tripadvisor.com/Restaurant_Review-...</td>\n",
       "    </tr>\n",
       "    <tr>\n",
       "      <th>3</th>\n",
       "      <td>Germany</td>\n",
       "      <td>Breidenbacher Hof D�sseldorf</td>\n",
       "      <td>https://www.tripadvisor.com/Hotel_Review-g1873...</td>\n",
       "    </tr>\n",
       "    <tr>\n",
       "      <th>4</th>\n",
       "      <td>Germany</td>\n",
       "      <td>Excelsior K�ln</td>\n",
       "      <td>https://www.tripadvisor.com/Hotel_Review-g1873...</td>\n",
       "    </tr>\n",
       "  </tbody>\n",
       "</table>\n",
       "</div>"
      ],
      "text/plain": [
       "   Country                          Name  \\\n",
       "0  Germany              Fairmont Hamburg   \n",
       "1  Germany              Fontenay Hamburg   \n",
       "2  Germany                   �schberghof   \n",
       "3  Germany  Breidenbacher Hof D�sseldorf   \n",
       "4  Germany                Excelsior K�ln   \n",
       "\n",
       "                                         Tripadvisor  \n",
       "0  https://www.tripadvisor.com/Hotel_Review-g1873...  \n",
       "1  https://www.tripadvisor.com/Hotel_Review-g1873...  \n",
       "2  https://www.tripadvisor.com/Restaurant_Review-...  \n",
       "3  https://www.tripadvisor.com/Hotel_Review-g1873...  \n",
       "4  https://www.tripadvisor.com/Hotel_Review-g1873...  "
      ]
     },
     "execution_count": 14,
     "metadata": {},
     "output_type": "execute_result"
    }
   ],
   "source": [
    "df_sustainable = pd.read_csv(\"../data/tripadvisor_hotels_sostenibles.csv\")\n",
    "df_sustainable.head()"
   ]
  },
  {
   "cell_type": "code",
   "execution_count": 23,
   "metadata": {},
   "outputs": [
    {
     "data": {
      "text/plain": [
       "['Fairmont Hamburg',\n",
       " 'Fontenay Hamburg',\n",
       " '�schberghof',\n",
       " 'Breidenbacher Hof D�sseldorf',\n",
       " 'Excelsior K�ln',\n",
       " 'Europ�ischer Hof Heidelberg',\n",
       " 'Brenners Park Hotel',\n",
       " 'Hotel Der Birkenhof Spa & Genuss Resort',\n",
       " nan,\n",
       " 'Bulgari Hotel Paris',\n",
       " 'HOTEL Domaine des Etangs',\n",
       " 'Le Birstol Paris',\n",
       " nan,\n",
       " 'Hotel Lefay Resort & SPA Dolomiti',\n",
       " nan,\n",
       " 'Hotel Abadia Retuerta LeDomaine',\n",
       " 'Hotel Summum Prime Boutique Hotel Mallorca',\n",
       " 'Hotel Arantza Hotela',\n",
       " nan,\n",
       " 'Hotel Parc Broekhuizen',\n",
       " 'Sofitel Legend The Grand Amsterdam',\n",
       " 'Hotel De L�Europe Amsterdam',\n",
       " 'Grand Hotel Huis ter Duin',\n",
       " 'Hotel Waterrijk Oesterdam',\n",
       " nan,\n",
       " 'Balthazar Design Hotel Krakau',\n",
       " 'Hotel Unicus Palace',\n",
       " 'Hotel Bristol, A Luxury Collection Hotel, Warsaw',\n",
       " 'Hotel Testa',\n",
       " nan,\n",
       " 'Hotel Chateau Mcely',\n",
       " nan,\n",
       " 'Hotel Sans Souci Wien',\n",
       " 'Hotel Astoria Resort',\n",
       " nan,\n",
       " 'DoubleTree by Hilton Zagreb',\n",
       " nan,\n",
       " 'Avalon Resort and Spa',\n",
       " nan,\n",
       " 'Hotel Six Senses Douro Valley',\n",
       " 'Corpo Santo Lisbon Historical Hotel',\n",
       " 'Hotel S�o Louren�o do Barrocal',\n",
       " 'The Yeatman Hotel']"
      ]
     },
     "execution_count": 23,
     "metadata": {},
     "output_type": "execute_result"
    }
   ],
   "source": [
    "names = df_sustainable['Name'].tolist()\n",
    "names"
   ]
  },
  {
   "cell_type": "code",
   "execution_count": 29,
   "metadata": {},
   "outputs": [
    {
     "data": {
      "text/html": [
       "<div>\n",
       "<style scoped>\n",
       "    .dataframe tbody tr th:only-of-type {\n",
       "        vertical-align: middle;\n",
       "    }\n",
       "\n",
       "    .dataframe tbody tr th {\n",
       "        vertical-align: top;\n",
       "    }\n",
       "\n",
       "    .dataframe thead th {\n",
       "        text-align: right;\n",
       "    }\n",
       "</style>\n",
       "<table border=\"1\" class=\"dataframe\">\n",
       "  <thead>\n",
       "    <tr style=\"text-align: right;\">\n",
       "      <th></th>\n",
       "      <th>Country</th>\n",
       "      <th>Name</th>\n",
       "      <th>Tripadvisor</th>\n",
       "    </tr>\n",
       "  </thead>\n",
       "  <tbody>\n",
       "    <tr>\n",
       "      <th>0</th>\n",
       "      <td>Germany</td>\n",
       "      <td>9</td>\n",
       "      <td>https://www.tripadvisor.com/Hotel_Review-g1986...</td>\n",
       "    </tr>\n",
       "    <tr>\n",
       "      <th>4</th>\n",
       "      <td>Germany</td>\n",
       "      <td>B�low Dresden</td>\n",
       "      <td>https://www.tripadvisor.com/Hotel_Review-g1873...</td>\n",
       "    </tr>\n",
       "    <tr>\n",
       "      <th>5</th>\n",
       "      <td>Germany</td>\n",
       "      <td>Adlon Kempinski Berlin</td>\n",
       "      <td>https://www.tripadvisor.com/Hotel_Review-g1873...</td>\n",
       "    </tr>\n",
       "    <tr>\n",
       "      <th>6</th>\n",
       "      <td>Germany</td>\n",
       "      <td>Hotel Romantik ROEWERS Privathotel</td>\n",
       "      <td>https://www.tripadvisor.com/Hotel_Review-g6161...</td>\n",
       "    </tr>\n",
       "    <tr>\n",
       "      <th>8</th>\n",
       "      <td>Germany</td>\n",
       "      <td>Regent Berlin</td>\n",
       "      <td>https://www.tripadvisor.com/Hotel_Review-g1873...</td>\n",
       "    </tr>\n",
       "  </tbody>\n",
       "</table>\n",
       "</div>"
      ],
      "text/plain": [
       "   Country                                Name  \\\n",
       "0  Germany                                   9   \n",
       "4  Germany                       B�low Dresden   \n",
       "5  Germany              Adlon Kempinski Berlin   \n",
       "6  Germany  Hotel Romantik ROEWERS Privathotel   \n",
       "8  Germany                       Regent Berlin   \n",
       "\n",
       "                                         Tripadvisor  \n",
       "0  https://www.tripadvisor.com/Hotel_Review-g1986...  \n",
       "4  https://www.tripadvisor.com/Hotel_Review-g1873...  \n",
       "5  https://www.tripadvisor.com/Hotel_Review-g1873...  \n",
       "6  https://www.tripadvisor.com/Hotel_Review-g6161...  \n",
       "8  https://www.tripadvisor.com/Hotel_Review-g1873...  "
      ]
     },
     "execution_count": 29,
     "metadata": {},
     "output_type": "execute_result"
    }
   ],
   "source": [
    "not_sustainable = df.query('Name not in @names')\n",
    "not_sustainable.head()\n",
    "\n"
   ]
  },
  {
   "cell_type": "code",
   "execution_count": 30,
   "metadata": {},
   "outputs": [],
   "source": [
    "DATA_PATH = '../data/web_scraping/outputs/tripadvisor_hotels_sustainables_v2.csv'\n",
    "DATA = pd.read_csv(DATA_PATH)"
   ]
  }
 ],
 "metadata": {
  "kernelspec": {
   "display_name": "Python 3.10.1 64-bit",
   "language": "python",
   "name": "python3"
  },
  "language_info": {
   "codemirror_mode": {
    "name": "ipython",
    "version": 3
   },
   "file_extension": ".py",
   "mimetype": "text/x-python",
   "name": "python",
   "nbconvert_exporter": "python",
   "pygments_lexer": "ipython3",
   "version": "3.10.7"
  },
  "orig_nbformat": 4,
  "vscode": {
   "interpreter": {
    "hash": "369f2c481f4da34e4445cda3fffd2e751bd1c4d706f27375911949ba6bb62e1c"
   }
  }
 },
 "nbformat": 4,
 "nbformat_minor": 2
}
