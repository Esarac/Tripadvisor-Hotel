{
 "cells": [
  {
   "cell_type": "markdown",
   "metadata": {},
   "source": [
    "# JUPYTER NOTEBOOK EXPORTER\n",
    "* Esteban Ariza\n",
    "* Johan Giraldo\n",
    "* Mateo Valdes"
   ]
  },
  {
   "cell_type": "markdown",
   "metadata": {},
   "source": [
    "## Prerequisites"
   ]
  },
  {
   "cell_type": "markdown",
   "metadata": {},
   "source": [
    "### Widows"
   ]
  },
  {
   "cell_type": "markdown",
   "metadata": {},
   "source": [
    "With chocolatey"
   ]
  },
  {
   "cell_type": "code",
   "execution_count": 1,
   "metadata": {},
   "outputs": [],
   "source": [
    "# !choco install pandoc\n",
    "# !choco install miktex.install"
   ]
  },
  {
   "cell_type": "code",
   "execution_count": 2,
   "metadata": {},
   "outputs": [
    {
     "name": "stdout",
     "output_type": "stream",
     "text": [
      "Requirement already satisfied: pip in c:\\users\\ariza\\.virtualenvs\\back-ld0gydsh\\lib\\site-packages (22.2.2)\n",
      "Collecting pip\n",
      "  Using cached pip-22.3-py3-none-any.whl (2.1 MB)\n"
     ]
    },
    {
     "name": "stderr",
     "output_type": "stream",
     "text": [
      "ERROR: To modify pip, please run the following command:\n",
      "C:\\Users\\ariza\\.virtualenvs\\Back-lD0gYDsH\\Scripts\\python.exe -m pip install --upgrade pip\n",
      "\n",
      "[notice] A new release of pip available: 22.2.2 -> 22.3\n",
      "[notice] To update, run: python.exe -m pip install --upgrade pip\n"
     ]
    },
    {
     "name": "stdout",
     "output_type": "stream",
     "text": [
      "Collecting jupyter\n",
      "  Using cached jupyter-1.0.0-py2.py3-none-any.whl (2.7 kB)\n",
      "Collecting jupyter-console\n",
      "  Using cached jupyter_console-6.4.4-py3-none-any.whl (22 kB)\n",
      "Requirement already satisfied: ipykernel in c:\\users\\ariza\\.virtualenvs\\back-ld0gydsh\\lib\\site-packages (from jupyter) (6.16.0)\n",
      "Collecting notebook\n",
      "  Downloading notebook-6.5.1-py3-none-any.whl (439 kB)\n",
      "     -------------------------------------- 439.1/439.1 kB 4.6 MB/s eta 0:00:00\n",
      "Collecting nbconvert\n",
      "  Downloading nbconvert-7.2.2-py3-none-any.whl (271 kB)\n",
      "     ------------------------------------- 271.6/271.6 kB 17.4 MB/s eta 0:00:00\n",
      "Collecting ipywidgets\n",
      "  Using cached ipywidgets-8.0.2-py3-none-any.whl (134 kB)\n",
      "Collecting qtconsole\n",
      "  Using cached qtconsole-5.3.2-py3-none-any.whl (120 kB)\n",
      "Requirement already satisfied: psutil in c:\\users\\ariza\\.virtualenvs\\back-ld0gydsh\\lib\\site-packages (from ipykernel->jupyter) (5.9.2)\n",
      "Requirement already satisfied: tornado>=6.1 in c:\\users\\ariza\\.virtualenvs\\back-ld0gydsh\\lib\\site-packages (from ipykernel->jupyter) (6.2)\n",
      "Requirement already satisfied: ipython>=7.23.1 in c:\\users\\ariza\\.virtualenvs\\back-ld0gydsh\\lib\\site-packages (from ipykernel->jupyter) (8.5.0)\n",
      "Requirement already satisfied: pyzmq>=17 in c:\\users\\ariza\\.virtualenvs\\back-ld0gydsh\\lib\\site-packages (from ipykernel->jupyter) (24.0.1)\n",
      "Requirement already satisfied: traitlets>=5.1.0 in c:\\users\\ariza\\.virtualenvs\\back-ld0gydsh\\lib\\site-packages (from ipykernel->jupyter) (5.4.0)\n",
      "Requirement already satisfied: nest-asyncio in c:\\users\\ariza\\.virtualenvs\\back-ld0gydsh\\lib\\site-packages (from ipykernel->jupyter) (1.5.6)\n",
      "Requirement already satisfied: packaging in c:\\users\\ariza\\.virtualenvs\\back-ld0gydsh\\lib\\site-packages (from ipykernel->jupyter) (21.3)\n",
      "Requirement already satisfied: matplotlib-inline>=0.1 in c:\\users\\ariza\\.virtualenvs\\back-ld0gydsh\\lib\\site-packages (from ipykernel->jupyter) (0.1.6)\n",
      "Requirement already satisfied: debugpy>=1.0 in c:\\users\\ariza\\.virtualenvs\\back-ld0gydsh\\lib\\site-packages (from ipykernel->jupyter) (1.6.3)\n",
      "Requirement already satisfied: jupyter-client>=6.1.12 in c:\\users\\ariza\\.virtualenvs\\back-ld0gydsh\\lib\\site-packages (from ipykernel->jupyter) (7.4.2)\n",
      "Collecting widgetsnbextension~=4.0\n",
      "  Using cached widgetsnbextension-4.0.3-py3-none-any.whl (2.0 MB)\n",
      "Collecting jupyterlab-widgets~=3.0\n",
      "  Using cached jupyterlab_widgets-3.0.3-py3-none-any.whl (384 kB)\n",
      "Requirement already satisfied: prompt-toolkit!=3.0.0,!=3.0.1,<3.1.0,>=2.0.0 in c:\\users\\ariza\\.virtualenvs\\back-ld0gydsh\\lib\\site-packages (from jupyter-console->jupyter) (3.0.31)\n",
      "Requirement already satisfied: pygments in c:\\users\\ariza\\.virtualenvs\\back-ld0gydsh\\lib\\site-packages (from jupyter-console->jupyter) (2.13.0)\n",
      "Collecting defusedxml\n",
      "  Using cached defusedxml-0.7.1-py2.py3-none-any.whl (25 kB)\n",
      "Collecting nbclient>=0.5.0\n",
      "  Downloading nbclient-0.7.0-py3-none-any.whl (71 kB)\n",
      "     ---------------------------------------- 71.9/71.9 kB 4.1 MB/s eta 0:00:00\n",
      "Collecting markupsafe>=2.0\n",
      "  Using cached MarkupSafe-2.1.1-cp310-cp310-win_amd64.whl (17 kB)\n",
      "Collecting jinja2>=3.0\n",
      "  Using cached Jinja2-3.1.2-py3-none-any.whl (133 kB)\n",
      "Collecting jupyterlab-pygments\n",
      "  Using cached jupyterlab_pygments-0.2.2-py2.py3-none-any.whl (21 kB)\n",
      "Collecting nbformat>=5.1\n",
      "  Downloading nbformat-5.7.0-py3-none-any.whl (77 kB)\n",
      "     ---------------------------------------- 77.1/77.1 kB ? eta 0:00:00\n",
      "Collecting pandocfilters>=1.4.1\n",
      "  Using cached pandocfilters-1.5.0-py2.py3-none-any.whl (8.7 kB)\n",
      "Collecting beautifulsoup4\n",
      "  Using cached beautifulsoup4-4.11.1-py3-none-any.whl (128 kB)\n",
      "Requirement already satisfied: jupyter-core>=4.7 in c:\\users\\ariza\\.virtualenvs\\back-ld0gydsh\\lib\\site-packages (from nbconvert->jupyter) (4.11.1)\n",
      "Collecting bleach\n",
      "  Using cached bleach-5.0.1-py3-none-any.whl (160 kB)\n",
      "Collecting mistune<3,>=2.0.3\n",
      "  Using cached mistune-2.0.4-py2.py3-none-any.whl (24 kB)\n",
      "Collecting tinycss2\n",
      "  Downloading tinycss2-1.2.1-py3-none-any.whl (21 kB)\n",
      "Collecting argon2-cffi\n",
      "  Using cached argon2_cffi-21.3.0-py3-none-any.whl (14 kB)\n",
      "Collecting Send2Trash>=1.8.0\n",
      "  Using cached Send2Trash-1.8.0-py3-none-any.whl (18 kB)\n",
      "Collecting prometheus-client\n",
      "  Downloading prometheus_client-0.15.0-py3-none-any.whl (60 kB)\n",
      "     ---------------------------------------- 60.1/60.1 kB ? eta 0:00:00\n",
      "Collecting nbclassic==0.4.5\n",
      "  Downloading nbclassic-0.4.5-py3-none-any.whl (9.8 MB)\n",
      "     ---------------------------------------- 9.8/9.8 MB 24.1 MB/s eta 0:00:00\n",
      "Collecting terminado>=0.8.3\n",
      "  Using cached terminado-0.16.0-py3-none-any.whl (16 kB)\n",
      "Collecting ipython-genutils\n",
      "  Using cached ipython_genutils-0.2.0-py2.py3-none-any.whl (26 kB)\n",
      "Collecting jupyter-server>=1.8\n",
      "  Downloading jupyter_server-1.21.0-py3-none-any.whl (346 kB)\n",
      "     ------------------------------------- 346.5/346.5 kB 21.0 MB/s eta 0:00:00\n",
      "Collecting notebook-shim>=0.1.0\n",
      "  Downloading notebook_shim-0.2.0-py3-none-any.whl (13 kB)\n",
      "Collecting qtpy>=2.0.1\n",
      "  Using cached QtPy-2.2.1-py3-none-any.whl (82 kB)\n",
      "Requirement already satisfied: decorator in c:\\users\\ariza\\.virtualenvs\\back-ld0gydsh\\lib\\site-packages (from ipython>=7.23.1->ipykernel->jupyter) (5.1.1)\n",
      "Requirement already satisfied: stack-data in c:\\users\\ariza\\.virtualenvs\\back-ld0gydsh\\lib\\site-packages (from ipython>=7.23.1->ipykernel->jupyter) (0.5.1)\n",
      "Requirement already satisfied: backcall in c:\\users\\ariza\\.virtualenvs\\back-ld0gydsh\\lib\\site-packages (from ipython>=7.23.1->ipykernel->jupyter) (0.2.0)\n",
      "Requirement already satisfied: jedi>=0.16 in c:\\users\\ariza\\.virtualenvs\\back-ld0gydsh\\lib\\site-packages (from ipython>=7.23.1->ipykernel->jupyter) (0.18.1)\n",
      "Requirement already satisfied: pickleshare in c:\\users\\ariza\\.virtualenvs\\back-ld0gydsh\\lib\\site-packages (from ipython>=7.23.1->ipykernel->jupyter) (0.7.5)\n",
      "Requirement already satisfied: colorama in c:\\users\\ariza\\.virtualenvs\\back-ld0gydsh\\lib\\site-packages (from ipython>=7.23.1->ipykernel->jupyter) (0.4.5)\n",
      "Requirement already satisfied: entrypoints in c:\\users\\ariza\\.virtualenvs\\back-ld0gydsh\\lib\\site-packages (from jupyter-client>=6.1.12->ipykernel->jupyter) (0.4)\n",
      "Requirement already satisfied: python-dateutil>=2.8.2 in c:\\users\\ariza\\.virtualenvs\\back-ld0gydsh\\lib\\site-packages (from jupyter-client>=6.1.12->ipykernel->jupyter) (2.8.2)\n",
      "Requirement already satisfied: pywin32>=1.0 in c:\\users\\ariza\\.virtualenvs\\back-ld0gydsh\\lib\\site-packages (from jupyter-core>=4.7->nbconvert->jupyter) (304)\n",
      "Collecting fastjsonschema\n",
      "  Using cached fastjsonschema-2.16.2-py3-none-any.whl (22 kB)\n",
      "Collecting jsonschema>=2.6\n",
      "  Using cached jsonschema-4.16.0-py3-none-any.whl (83 kB)\n",
      "Requirement already satisfied: wcwidth in c:\\users\\ariza\\.virtualenvs\\back-ld0gydsh\\lib\\site-packages (from prompt-toolkit!=3.0.0,!=3.0.1,<3.1.0,>=2.0.0->jupyter-console->jupyter) (0.2.5)\n",
      "Collecting pywinpty>=1.1.0\n",
      "  Using cached pywinpty-2.0.8-cp310-none-win_amd64.whl (1.4 MB)\n",
      "Collecting argon2-cffi-bindings\n",
      "  Using cached argon2_cffi_bindings-21.2.0-cp36-abi3-win_amd64.whl (30 kB)\n",
      "Collecting soupsieve>1.2\n",
      "  Using cached soupsieve-2.3.2.post1-py3-none-any.whl (37 kB)\n",
      "Collecting webencodings\n",
      "  Using cached webencodings-0.5.1-py2.py3-none-any.whl (11 kB)\n",
      "Requirement already satisfied: six>=1.9.0 in c:\\users\\ariza\\.virtualenvs\\back-ld0gydsh\\lib\\site-packages (from bleach->nbconvert->jupyter) (1.16.0)\n",
      "Requirement already satisfied: pyparsing!=3.0.5,>=2.0.2 in c:\\users\\ariza\\.virtualenvs\\back-ld0gydsh\\lib\\site-packages (from packaging->ipykernel->jupyter) (3.0.9)\n",
      "Requirement already satisfied: parso<0.9.0,>=0.8.0 in c:\\users\\ariza\\.virtualenvs\\back-ld0gydsh\\lib\\site-packages (from jedi>=0.16->ipython>=7.23.1->ipykernel->jupyter) (0.8.3)\n",
      "Collecting pyrsistent!=0.17.0,!=0.17.1,!=0.17.2,>=0.14.0\n",
      "  Using cached pyrsistent-0.18.1-cp310-cp310-win_amd64.whl (61 kB)\n",
      "Collecting attrs>=17.4.0\n",
      "  Using cached attrs-22.1.0-py2.py3-none-any.whl (58 kB)\n",
      "Collecting anyio<4,>=3.1.0\n",
      "  Downloading anyio-3.6.2-py3-none-any.whl (80 kB)\n",
      "     ---------------------------------------- 80.6/80.6 kB ? eta 0:00:00\n",
      "Collecting websocket-client\n",
      "  Downloading websocket_client-1.4.1-py3-none-any.whl (55 kB)\n",
      "     ---------------------------------------- 55.0/55.0 kB ? eta 0:00:00\n",
      "Collecting cffi>=1.0.1\n",
      "  Using cached cffi-1.15.1-cp310-cp310-win_amd64.whl (179 kB)\n",
      "Requirement already satisfied: asttokens in c:\\users\\ariza\\.virtualenvs\\back-ld0gydsh\\lib\\site-packages (from stack-data->ipython>=7.23.1->ipykernel->jupyter) (2.0.8)\n",
      "Requirement already satisfied: executing in c:\\users\\ariza\\.virtualenvs\\back-ld0gydsh\\lib\\site-packages (from stack-data->ipython>=7.23.1->ipykernel->jupyter) (1.1.1)\n",
      "Requirement already satisfied: pure-eval in c:\\users\\ariza\\.virtualenvs\\back-ld0gydsh\\lib\\site-packages (from stack-data->ipython>=7.23.1->ipykernel->jupyter) (0.2.2)\n",
      "Requirement already satisfied: idna>=2.8 in c:\\users\\ariza\\.virtualenvs\\back-ld0gydsh\\lib\\site-packages (from anyio<4,>=3.1.0->jupyter-server>=1.8->nbclassic==0.4.5->notebook->jupyter) (3.4)\n",
      "Collecting sniffio>=1.1\n",
      "  Downloading sniffio-1.3.0-py3-none-any.whl (10 kB)\n",
      "Collecting pycparser\n",
      "  Using cached pycparser-2.21-py2.py3-none-any.whl (118 kB)\n",
      "Installing collected packages: webencodings, Send2Trash, mistune, ipython-genutils, fastjsonschema, widgetsnbextension, websocket-client, tinycss2, soupsieve, sniffio, pywinpty, pyrsistent, pycparser, prometheus-client, pandocfilters, markupsafe, jupyterlab-widgets, jupyterlab-pygments, defusedxml, bleach, attrs, terminado, qtpy, jsonschema, jinja2, cffi, beautifulsoup4, anyio, nbformat, argon2-cffi-bindings, nbclient, argon2-cffi, qtconsole, nbconvert, jupyter-console, ipywidgets, jupyter-server, notebook-shim, nbclassic, notebook, jupyter\n",
      "Successfully installed Send2Trash-1.8.0 anyio-3.6.2 argon2-cffi-21.3.0 argon2-cffi-bindings-21.2.0 attrs-22.1.0 beautifulsoup4-4.11.1 bleach-5.0.1 cffi-1.15.1 defusedxml-0.7.1 fastjsonschema-2.16.2 ipython-genutils-0.2.0 ipywidgets-8.0.2 jinja2-3.1.2 jsonschema-4.16.0 jupyter-1.0.0 jupyter-console-6.4.4 jupyter-server-1.21.0 jupyterlab-pygments-0.2.2 jupyterlab-widgets-3.0.3 markupsafe-2.1.1 mistune-2.0.4 nbclassic-0.4.5 nbclient-0.7.0 nbconvert-7.2.2 nbformat-5.7.0 notebook-6.5.1 notebook-shim-0.2.0 pandocfilters-1.5.0 prometheus-client-0.15.0 pycparser-2.21 pyrsistent-0.18.1 pywinpty-2.0.8 qtconsole-5.3.2 qtpy-2.2.1 sniffio-1.3.0 soupsieve-2.3.2.post1 terminado-0.16.0 tinycss2-1.2.1 webencodings-0.5.1 websocket-client-1.4.1 widgetsnbextension-4.0.3\n"
     ]
    },
    {
     "name": "stderr",
     "output_type": "stream",
     "text": [
      "\n",
      "[notice] A new release of pip available: 22.2.2 -> 22.3\n",
      "[notice] To update, run: python.exe -m pip install --upgrade pip\n"
     ]
    },
    {
     "name": "stdout",
     "output_type": "stream",
     "text": [
      "Requirement already satisfied: nbconvert[webpdf] in c:\\users\\ariza\\.virtualenvs\\back-ld0gydsh\\lib\\site-packages (7.2.2)\n",
      "Requirement already satisfied: beautifulsoup4 in c:\\users\\ariza\\.virtualenvs\\back-ld0gydsh\\lib\\site-packages (from nbconvert[webpdf]) (4.11.1)\n",
      "Requirement already satisfied: mistune<3,>=2.0.3 in c:\\users\\ariza\\.virtualenvs\\back-ld0gydsh\\lib\\site-packages (from nbconvert[webpdf]) (2.0.4)\n",
      "Requirement already satisfied: bleach in c:\\users\\ariza\\.virtualenvs\\back-ld0gydsh\\lib\\site-packages (from nbconvert[webpdf]) (5.0.1)\n",
      "Requirement already satisfied: markupsafe>=2.0 in c:\\users\\ariza\\.virtualenvs\\back-ld0gydsh\\lib\\site-packages (from nbconvert[webpdf]) (2.1.1)\n",
      "Requirement already satisfied: jupyter-core>=4.7 in c:\\users\\ariza\\.virtualenvs\\back-ld0gydsh\\lib\\site-packages (from nbconvert[webpdf]) (4.11.1)\n",
      "Requirement already satisfied: defusedxml in c:\\users\\ariza\\.virtualenvs\\back-ld0gydsh\\lib\\site-packages (from nbconvert[webpdf]) (0.7.1)\n",
      "Requirement already satisfied: pandocfilters>=1.4.1 in c:\\users\\ariza\\.virtualenvs\\back-ld0gydsh\\lib\\site-packages (from nbconvert[webpdf]) (1.5.0)\n",
      "Requirement already satisfied: nbformat>=5.1 in c:\\users\\ariza\\.virtualenvs\\back-ld0gydsh\\lib\\site-packages (from nbconvert[webpdf]) (5.7.0)\n",
      "Requirement already satisfied: tinycss2 in c:\\users\\ariza\\.virtualenvs\\back-ld0gydsh\\lib\\site-packages (from nbconvert[webpdf]) (1.2.1)\n",
      "Requirement already satisfied: nbclient>=0.5.0 in c:\\users\\ariza\\.virtualenvs\\back-ld0gydsh\\lib\\site-packages (from nbconvert[webpdf]) (0.7.0)\n",
      "Requirement already satisfied: packaging in c:\\users\\ariza\\.virtualenvs\\back-ld0gydsh\\lib\\site-packages (from nbconvert[webpdf]) (21.3)\n",
      "Requirement already satisfied: jinja2>=3.0 in c:\\users\\ariza\\.virtualenvs\\back-ld0gydsh\\lib\\site-packages (from nbconvert[webpdf]) (3.1.2)\n",
      "Requirement already satisfied: pygments>=2.4.1 in c:\\users\\ariza\\.virtualenvs\\back-ld0gydsh\\lib\\site-packages (from nbconvert[webpdf]) (2.13.0)\n",
      "Requirement already satisfied: jupyterlab-pygments in c:\\users\\ariza\\.virtualenvs\\back-ld0gydsh\\lib\\site-packages (from nbconvert[webpdf]) (0.2.2)\n",
      "Requirement already satisfied: traitlets>=5.0 in c:\\users\\ariza\\.virtualenvs\\back-ld0gydsh\\lib\\site-packages (from nbconvert[webpdf]) (5.4.0)\n",
      "Collecting pyppeteer<1.1,>=1\n",
      "  Using cached pyppeteer-1.0.2-py3-none-any.whl (83 kB)\n",
      "Requirement already satisfied: pywin32>=1.0 in c:\\users\\ariza\\.virtualenvs\\back-ld0gydsh\\lib\\site-packages (from jupyter-core>=4.7->nbconvert[webpdf]) (304)\n",
      "Requirement already satisfied: jupyter-client>=6.1.5 in c:\\users\\ariza\\.virtualenvs\\back-ld0gydsh\\lib\\site-packages (from nbclient>=0.5.0->nbconvert[webpdf]) (7.4.2)\n",
      "Requirement already satisfied: nest-asyncio in c:\\users\\ariza\\.virtualenvs\\back-ld0gydsh\\lib\\site-packages (from nbclient>=0.5.0->nbconvert[webpdf]) (1.5.6)\n",
      "Requirement already satisfied: jsonschema>=2.6 in c:\\users\\ariza\\.virtualenvs\\back-ld0gydsh\\lib\\site-packages (from nbformat>=5.1->nbconvert[webpdf]) (4.16.0)\n",
      "Requirement already satisfied: fastjsonschema in c:\\users\\ariza\\.virtualenvs\\back-ld0gydsh\\lib\\site-packages (from nbformat>=5.1->nbconvert[webpdf]) (2.16.2)\n",
      "Requirement already satisfied: tqdm<5.0.0,>=4.42.1 in c:\\users\\ariza\\.virtualenvs\\back-ld0gydsh\\lib\\site-packages (from pyppeteer<1.1,>=1->nbconvert[webpdf]) (4.64.1)\n",
      "Requirement already satisfied: certifi>=2021 in c:\\users\\ariza\\.virtualenvs\\back-ld0gydsh\\lib\\site-packages (from pyppeteer<1.1,>=1->nbconvert[webpdf]) (2022.9.24)\n",
      "Collecting websockets<11.0,>=10.0\n",
      "  Using cached websockets-10.3-cp310-cp310-win_amd64.whl (98 kB)\n",
      "Requirement already satisfied: urllib3<2.0.0,>=1.25.8 in c:\\users\\ariza\\.virtualenvs\\back-ld0gydsh\\lib\\site-packages (from pyppeteer<1.1,>=1->nbconvert[webpdf]) (1.26.12)\n",
      "Collecting importlib-metadata>=1.4\n",
      "  Using cached importlib_metadata-5.0.0-py3-none-any.whl (21 kB)\n",
      "Collecting pyee<9.0.0,>=8.1.0\n",
      "  Using cached pyee-8.2.2-py2.py3-none-any.whl (12 kB)\n",
      "Collecting appdirs<2.0.0,>=1.4.3\n",
      "  Using cached appdirs-1.4.4-py2.py3-none-any.whl (9.6 kB)\n",
      "Requirement already satisfied: soupsieve>1.2 in c:\\users\\ariza\\.virtualenvs\\back-ld0gydsh\\lib\\site-packages (from beautifulsoup4->nbconvert[webpdf]) (2.3.2.post1)\n",
      "Requirement already satisfied: webencodings in c:\\users\\ariza\\.virtualenvs\\back-ld0gydsh\\lib\\site-packages (from bleach->nbconvert[webpdf]) (0.5.1)\n",
      "Requirement already satisfied: six>=1.9.0 in c:\\users\\ariza\\.virtualenvs\\back-ld0gydsh\\lib\\site-packages (from bleach->nbconvert[webpdf]) (1.16.0)\n",
      "Requirement already satisfied: pyparsing!=3.0.5,>=2.0.2 in c:\\users\\ariza\\.virtualenvs\\back-ld0gydsh\\lib\\site-packages (from packaging->nbconvert[webpdf]) (3.0.9)\n",
      "Collecting zipp>=0.5\n",
      "  Downloading zipp-3.9.0-py3-none-any.whl (5.8 kB)\n",
      "Requirement already satisfied: attrs>=17.4.0 in c:\\users\\ariza\\.virtualenvs\\back-ld0gydsh\\lib\\site-packages (from jsonschema>=2.6->nbformat>=5.1->nbconvert[webpdf]) (22.1.0)\n",
      "Requirement already satisfied: pyrsistent!=0.17.0,!=0.17.1,!=0.17.2,>=0.14.0 in c:\\users\\ariza\\.virtualenvs\\back-ld0gydsh\\lib\\site-packages (from jsonschema>=2.6->nbformat>=5.1->nbconvert[webpdf]) (0.18.1)\n",
      "Requirement already satisfied: entrypoints in c:\\users\\ariza\\.virtualenvs\\back-ld0gydsh\\lib\\site-packages (from jupyter-client>=6.1.5->nbclient>=0.5.0->nbconvert[webpdf]) (0.4)\n",
      "Requirement already satisfied: pyzmq>=23.0 in c:\\users\\ariza\\.virtualenvs\\back-ld0gydsh\\lib\\site-packages (from jupyter-client>=6.1.5->nbclient>=0.5.0->nbconvert[webpdf]) (24.0.1)\n",
      "Requirement already satisfied: python-dateutil>=2.8.2 in c:\\users\\ariza\\.virtualenvs\\back-ld0gydsh\\lib\\site-packages (from jupyter-client>=6.1.5->nbclient>=0.5.0->nbconvert[webpdf]) (2.8.2)\n",
      "Requirement already satisfied: tornado>=6.2 in c:\\users\\ariza\\.virtualenvs\\back-ld0gydsh\\lib\\site-packages (from jupyter-client>=6.1.5->nbclient>=0.5.0->nbconvert[webpdf]) (6.2)\n",
      "Requirement already satisfied: colorama in c:\\users\\ariza\\.virtualenvs\\back-ld0gydsh\\lib\\site-packages (from tqdm<5.0.0,>=4.42.1->pyppeteer<1.1,>=1->nbconvert[webpdf]) (0.4.5)\n",
      "Installing collected packages: pyee, appdirs, zipp, websockets, importlib-metadata, pyppeteer\n",
      "Successfully installed appdirs-1.4.4 importlib-metadata-5.0.0 pyee-8.2.2 pyppeteer-1.0.2 websockets-10.3 zipp-3.9.0\n",
      "Note: you may need to restart the kernel to use updated packages.\n"
     ]
    },
    {
     "name": "stderr",
     "output_type": "stream",
     "text": [
      "\n",
      "[notice] A new release of pip available: 22.2.2 -> 22.3\n",
      "[notice] To update, run: python.exe -m pip install --upgrade pip\n"
     ]
    }
   ],
   "source": [
    "# !pip3 install --upgrade pip\n",
    "# !pip3 install jupyter\n",
    "# %pip install nbconvert[webpdf]"
   ]
  },
  {
   "cell_type": "markdown",
   "metadata": {},
   "source": [
    "### Linux"
   ]
  },
  {
   "cell_type": "code",
   "execution_count": 4,
   "metadata": {},
   "outputs": [
    {
     "name": "stderr",
     "output_type": "stream",
     "text": [
      "UsageError: Line magic function `%sudo` not found.\n"
     ]
    }
   ],
   "source": [
    "%sudo apt-get install pandoc\n",
    "%sudo apt-get install texlive-xetex texlive-fonts-recommended texlive-plain-generic\n",
    "\n",
    "%pip install nbconvert[webpdf]\n",
    "%export PATH=/Library/TeX/texbin:$PATH"
   ]
  },
  {
   "cell_type": "markdown",
   "metadata": {},
   "source": [
    "## Export"
   ]
  },
  {
   "cell_type": "code",
   "execution_count": 5,
   "metadata": {},
   "outputs": [],
   "source": [
    "INPUT_PATH = '../exploratory_analysis.ipynb'\n",
    "OUTPUT_FOLDER_PATH = '../../docs/'"
   ]
  },
  {
   "cell_type": "markdown",
   "metadata": {},
   "source": [
    "### Html"
   ]
  },
  {
   "cell_type": "code",
   "execution_count": 4,
   "metadata": {},
   "outputs": [
    {
     "name": "stderr",
     "output_type": "stream",
     "text": [
      "[NbConvertApp] Converting notebook ../exploratory_analysis.ipynb to html\n",
      "[NbConvertApp] Writing 1071002 bytes to ..\\..\\docs\\exploratory_analysis.html\n"
     ]
    }
   ],
   "source": [
    "!jupyter nbconvert $INPUT_PATH --to html --output-dir $OUTPUT_FOLDER_PATH"
   ]
  },
  {
   "cell_type": "markdown",
   "metadata": {},
   "source": [
    "### Pdf"
   ]
  },
  {
   "cell_type": "code",
   "execution_count": 8,
   "metadata": {},
   "outputs": [
    {
     "name": "stderr",
     "output_type": "stream",
     "text": [
      "[NbConvertApp] Converting notebook ../exploratory_analysis.ipynb to pdf\n",
      "[NbConvertApp] Support files will be in exploratory_analysis_files\\\n",
      "[NbConvertApp] Making directory .\\exploratory_analysis_files\n",
      "[NbConvertApp] Making directory .\\exploratory_analysis_files\n",
      "[NbConvertApp] Making directory .\\exploratory_analysis_files\n",
      "[NbConvertApp] Making directory .\\exploratory_analysis_files\n",
      "[NbConvertApp] Making directory .\\exploratory_analysis_files\n",
      "[NbConvertApp] Making directory .\\exploratory_analysis_files\n",
      "[NbConvertApp] Making directory .\\exploratory_analysis_files\n",
      "[NbConvertApp] Making directory .\\exploratory_analysis_files\n",
      "[NbConvertApp] Making directory .\\exploratory_analysis_files\n",
      "[NbConvertApp] Making directory .\\exploratory_analysis_files\n",
      "[NbConvertApp] Making directory .\\exploratory_analysis_files\n",
      "[NbConvertApp] Writing 133337 bytes to notebook.tex\n",
      "[NbConvertApp] Building PDF\n",
      "Traceback (most recent call last):\n",
      "  File \"C:\\Users\\ariza\\anaconda3\\Scripts\\jupyter-nbconvert-script.py\", line 10, in <module>\n",
      "    sys.exit(main())\n",
      "  File \"C:\\Users\\ariza\\anaconda3\\lib\\site-packages\\jupyter_core\\application.py\", line 264, in launch_instance\n",
      "    return super(JupyterApp, cls).launch_instance(argv=argv, **kwargs)\n",
      "  File \"C:\\Users\\ariza\\anaconda3\\lib\\site-packages\\traitlets\\config\\application.py\", line 846, in launch_instance\n",
      "    app.start()\n",
      "  File \"C:\\Users\\ariza\\anaconda3\\lib\\site-packages\\nbconvert\\nbconvertapp.py\", line 346, in start\n",
      "    self.convert_notebooks()\n",
      "  File \"C:\\Users\\ariza\\anaconda3\\lib\\site-packages\\nbconvert\\nbconvertapp.py\", line 518, in convert_notebooks\n",
      "    self.convert_single_notebook(notebook_filename)\n",
      "  File \"C:\\Users\\ariza\\anaconda3\\lib\\site-packages\\nbconvert\\nbconvertapp.py\", line 483, in convert_single_notebook\n",
      "    output, resources = self.export_single_notebook(notebook_filename, resources, input_buffer=input_buffer)\n",
      "  File \"C:\\Users\\ariza\\anaconda3\\lib\\site-packages\\nbconvert\\nbconvertapp.py\", line 412, in export_single_notebook\n",
      "    output, resources = self.exporter.from_filename(notebook_filename, resources=resources)\n",
      "  File \"C:\\Users\\ariza\\anaconda3\\lib\\site-packages\\nbconvert\\exporters\\exporter.py\", line 181, in from_filename\n",
      "    return self.from_file(f, resources=resources, **kw)\n",
      "  File \"C:\\Users\\ariza\\anaconda3\\lib\\site-packages\\nbconvert\\exporters\\exporter.py\", line 199, in from_file\n",
      "    return self.from_notebook_node(nbformat.read(file_stream, as_version=4), resources=resources, **kw)\n",
      "  File \"C:\\Users\\ariza\\anaconda3\\lib\\site-packages\\nbconvert\\exporters\\pdf.py\", line 183, in from_notebook_node\n",
      "    self.run_latex(tex_file)\n",
      "  File \"C:\\Users\\ariza\\anaconda3\\lib\\site-packages\\nbconvert\\exporters\\pdf.py\", line 153, in run_latex\n",
      "    return self.run_command(self.latex_command, filename,\n",
      "  File \"C:\\Users\\ariza\\anaconda3\\lib\\site-packages\\nbconvert\\exporters\\pdf.py\", line 110, in run_command\n",
      "    raise OSError(\"{formatter} not found on PATH, if you have not installed \"\n",
      "OSError: xelatex not found on PATH, if you have not installed xelatex you may need to do so. Find further instructions at https://nbconvert.readthedocs.io/en/latest/install.html#installing-tex.\n"
     ]
    }
   ],
   "source": [
    "!jupyter nbconvert $INPUT_PATH --to pdf --output-dir $OUTPUT_FOLDER_PATH"
   ]
  }
 ],
 "metadata": {
  "kernelspec": {
   "display_name": "Python 3.9.7 ('base')",
   "language": "python",
   "name": "python3"
  },
  "language_info": {
   "codemirror_mode": {
    "name": "ipython",
    "version": 3
   },
   "file_extension": ".py",
   "mimetype": "text/x-python",
   "name": "python",
   "nbconvert_exporter": "python",
   "pygments_lexer": "ipython3",
   "version": "3.9.7"
  },
  "orig_nbformat": 4,
  "vscode": {
   "interpreter": {
    "hash": "32fe028544ad451da7fd425bd970f9d43d891a9dcc481ea9112199e2f0c30cfa"
   }
  }
 },
 "nbformat": 4,
 "nbformat_minor": 2
}
